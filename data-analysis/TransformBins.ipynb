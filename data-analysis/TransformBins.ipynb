{
 "cells": [
  {
   "cell_type": "code",
   "execution_count": 1,
   "metadata": {},
   "outputs": [
    {
     "name": "stdout",
     "output_type": "stream",
     "text": [
      "Using matplotlib backend: Qt5Agg\n"
     ]
    }
   ],
   "source": [
    "import numpy as np\n",
    "import pandas as pd\n",
    "pd.set_option(\"display.precision\", 20)\n",
    "import logging, sys, math\n",
    "from importlib import reload\n",
    "import matplotlib.pyplot as plt\n",
    "%matplotlib auto\n",
    "import seaborn as sns\n",
    "sns.set(style=\"darkgrid\")\n"
   ]
  },
  {
   "cell_type": "code",
   "execution_count": 8,
   "metadata": {},
   "outputs": [
    {
     "name": "stderr",
     "output_type": "stream",
     "text": [
      "WARNING:root:Bin loaded\n",
      "WARNING:root:BinTransformer loaded\n"
     ]
    }
   ],
   "source": [
    "if sys.modules.get( 'library', False ) != False :\n",
    "    del sys.modules['library'] \n",
    "    \n",
    "if sys.modules.get( 'library.Bin', False ) != False :\n",
    "    del sys.modules['library.Bin'] \n",
    "if sys.modules.get( 'Bin', False ) != False :\n",
    "    del sys.modules['Bin'] \n",
    "from library.Bin import *  \n",
    "logging.warning( \"Bin loaded\" )\n",
    "\n",
    "if sys.modules.get( 'library.BinTransformer', False ) != False :\n",
    "    del sys.modules['library.BinTransformer'] \n",
    "if sys.modules.get( 'BinTransformer', False ) != False :\n",
    "    del sys.modules['BinTransformer'] \n",
    "from library.BinTransformer import *\n",
    "\n",
    "logging.warning( \"BinTransformer loaded\" )\n",
    "\n",
    "binTransformer = BinTransformer()"
   ]
  },
  {
   "cell_type": "code",
   "execution_count": 12,
   "metadata": {},
   "outputs": [
    {
     "name": "stdout",
     "output_type": "stream",
     "text": [
      "processed 2000th positive bin\n",
      "processed 4000th positive bin\n",
      "processed 6000th positive bin\n",
      "processed 8000th positive bin\n",
      "processed 10000th positive bin\n",
      "processed 12000th positive bin\n",
      "processed 14000th positive bin\n",
      "processed 16000th positive bin\n",
      "processed 18000th positive bin\n",
      "processed 20000th positive bin\n",
      "processed 22000th positive bin\n",
      "processed 24000th positive bin\n",
      "processed 26000th positive bin\n",
      "processed 28000th positive bin\n",
      "processed 30000th positive bin\n",
      "processed 32000th positive bin\n",
      "processed 34000th positive bin\n",
      "processed 36000th positive bin\n",
      "processed 38000th positive bin\n",
      "processed 40000th positive bin\n"
     ]
    }
   ],
   "source": [
    "binTransformer.createPositiveBins(fromId=1, toId=40000)"
   ]
  },
  {
   "cell_type": "code",
   "execution_count": 10,
   "metadata": {},
   "outputs": [],
   "source": [
    "b = binTransformer.readPositiveBinById(3)"
   ]
  },
  {
   "cell_type": "code",
   "execution_count": 11,
   "metadata": {},
   "outputs": [
    {
     "data": {
      "text/plain": [
       "Bin(binId=3, ttf=1.4669954798, data=array([ 2,  4,  1, ...,  3,  3, 10], dtype=int16), quakeIndex=-1, trIndexStart=8191)"
      ]
     },
     "execution_count": 11,
     "metadata": {},
     "output_type": "execute_result"
    }
   ],
   "source": [
    "b"
   ]
  },
  {
   "cell_type": "code",
   "execution_count": null,
   "metadata": {},
   "outputs": [],
   "source": []
  }
 ],
 "metadata": {
  "kernelspec": {
   "display_name": "Python 3",
   "language": "python",
   "name": "python3"
  },
  "language_info": {
   "codemirror_mode": {
    "name": "ipython",
    "version": 3
   },
   "file_extension": ".py",
   "mimetype": "text/x-python",
   "name": "python",
   "nbconvert_exporter": "python",
   "pygments_lexer": "ipython3",
   "version": "3.6.3"
  }
 },
 "nbformat": 4,
 "nbformat_minor": 2
}
