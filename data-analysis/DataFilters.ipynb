{
 "cells": [
  {
   "cell_type": "code",
   "execution_count": 1,
   "metadata": {},
   "outputs": [],
   "source": [
    "import numpy as np\n",
    "import pandas as pd\n",
    "        "
   ]
  },
  {
   "cell_type": "code",
   "execution_count": 2,
   "metadata": {},
   "outputs": [],
   "source": [
    "class DataFilters:\n",
    "    \n",
    "    def getPositionalDataInNP( df, start, step ):\n",
    "        return df[start::step].values\n",
    "    \n",
    "    def getPositionalDataFromChunks( chunks:pd.DataFrame, start, step ):\n",
    "        \"\"\"Assumes that positions are preserved across chunks\"\"\"\n",
    "        data = pd.DataFrame()\n",
    "        for chunk in chunks:\n",
    "            data.append(chunk.get_chunk())\n",
    "            "
   ]
  },
  {
   "cell_type": "code",
   "execution_count": null,
   "metadata": {},
   "outputs": [],
   "source": []
  }
 ],
 "metadata": {
  "kernelspec": {
   "display_name": "Python 3",
   "language": "python",
   "name": "python3"
  },
  "language_info": {
   "codemirror_mode": {
    "name": "ipython",
    "version": 3
   },
   "file_extension": ".py",
   "mimetype": "text/x-python",
   "name": "python",
   "nbconvert_exporter": "python",
   "pygments_lexer": "ipython3",
   "version": "3.6.6"
  }
 },
 "nbformat": 4,
 "nbformat_minor": 2
}
