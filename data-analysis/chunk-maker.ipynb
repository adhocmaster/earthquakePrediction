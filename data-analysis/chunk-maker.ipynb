{
 "cells": [
  {
   "cell_type": "code",
   "execution_count": 14,
   "metadata": {},
   "outputs": [],
   "source": [
    "import numpy as np\n",
    "import pandas as pd\n",
    "import logging, sys, math\n",
    "from importlib import reload"
   ]
  },
  {
   "cell_type": "code",
   "execution_count": 15,
   "metadata": {},
   "outputs": [
    {
     "name": "stderr",
     "output_type": "stream",
     "text": [
      "WARNING:root:DataFilters loaded\n"
     ]
    }
   ],
   "source": [
    "if sys.modules.get( 'library', False ) != False :\n",
    "    del sys.modules['library'] \n",
    "if sys.modules.get( 'library.DataFilters', False ) != False :\n",
    "    del sys.modules['library.DataFilters'] \n",
    "if sys.modules.get( 'DataFilter', False ) != False :\n",
    "    del sys.modules['DataFilter'] \n",
    "\n",
    "from library.DataFilters import *\n",
    "logging.warning( \"DataFilters loaded\" )\n",
    "dfFilter = DataFilter()"
   ]
  },
  {
   "cell_type": "code",
   "execution_count": 16,
   "metadata": {},
   "outputs": [],
   "source": [
    "chunks100m = dfFilter.createChunkIterator()\n",
    "dfFilter.savePositionalDFFromChunks( chunks100m, 0, 10 )"
   ]
  },
  {
   "cell_type": "code",
   "execution_count": 17,
   "metadata": {},
   "outputs": [],
   "source": [
    "chunks100m = dfFilter.createChunkIterator()\n",
    "dfFilter.savePositionalDFFromChunks( chunks100m, 0, 10 )\n",
    "\n",
    "chunks100m = dfFilter.createChunkIterator()\n",
    "dfFilter.savePositionalDFFromChunks( chunks100m, 3, 10 )\n",
    "\n",
    "chunks100m = dfFilter.createChunkIterator()\n",
    "dfFilter.savePositionalDFFromChunks( chunks100m, 6, 10 )\n",
    "\n",
    "chunks100m = dfFilter.createChunkIterator()\n",
    "dfFilter.savePositionalDFFromChunks( chunks100m, 9, 10 )\n",
    "\n",
    "chunks100m = dfFilter.createChunkIterator()\n",
    "dfFilter.savePositionalDFFromChunks( chunks100m, 12, 10 )"
   ]
  },
  {
   "cell_type": "code",
   "execution_count": null,
   "metadata": {},
   "outputs": [],
   "source": []
  }
 ],
 "metadata": {
  "kernelspec": {
   "display_name": "Python 3",
   "language": "python",
   "name": "python3"
  },
  "language_info": {
   "codemirror_mode": {
    "name": "ipython",
    "version": 3
   },
   "file_extension": ".py",
   "mimetype": "text/x-python",
   "name": "python",
   "nbconvert_exporter": "python",
   "pygments_lexer": "ipython3",
   "version": "3.6.3"
  }
 },
 "nbformat": 4,
 "nbformat_minor": 2
}
