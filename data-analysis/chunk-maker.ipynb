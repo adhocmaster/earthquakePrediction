{
 "cells": [
  {
   "cell_type": "code",
   "execution_count": 13,
   "metadata": {},
   "outputs": [],
   "source": [
    "import numpy as np\n",
    "import pandas as pd\n",
    "import logging, sys, math\n",
    "from importlib import reload\n"
   ]
  },
  {
   "cell_type": "code",
   "execution_count": 14,
   "metadata": {},
   "outputs": [
    {
     "name": "stderr",
     "output_type": "stream",
     "text": [
      "WARNING:root:DataFilters loaded\n"
     ]
    }
   ],
   "source": [
    "if sys.modules.get( 'library', False ) != False :\n",
    "    del sys.modules['library'] \n",
    "if sys.modules.get( 'library.DataFilters', False ) != False :\n",
    "    del sys.modules['library.DataFilters'] \n",
    "if sys.modules.get( 'DataFilter', False ) != False :\n",
    "    del sys.modules['DataFilter'] \n",
    "\n",
    "from library.DataFilters import *\n",
    "logging.warning( \"DataFilters loaded\" )\n",
    "dfFilter = DataFilter()"
   ]
  },
  {
   "cell_type": "code",
   "execution_count": 11,
   "metadata": {},
   "outputs": [],
   "source": [
    "chunks100m = pd.read_csv('C:/earthquake/train.csv', \n",
    "                        chunksize=100 * 1000000, \n",
    "                        dtype = {'acoustic_data': np.int16, 'time_to_failure':np.float64 } )\n",
    "dfFilter.savePositionalDFFromChunks( chunks100m, 0, 10 )\n",
    "\n",
    "chunks100m = pd.read_csv('C:/earthquake/train.csv', \n",
    "                        chunksize=100 * 1000000, \n",
    "                        dtype = {'acoustic_data': np.int16, 'time_to_failure':np.float64 } )\n",
    "dfFilter.savePositionalDFFromChunks( chunks100m, 3, 10 )\n",
    "\n",
    "chunks100m = pd.read_csv('C:/earthquake/train.csv', \n",
    "                        chunksize=100 * 1000000, \n",
    "                        dtype = {'acoustic_data': np.int16, 'time_to_failure':np.float64 } )\n",
    "dfFilter.savePositionalDFFromChunks( chunks100m, 6, 10 )\n",
    "\n",
    "chunks100m = pd.read_csv('C:/earthquake/train.csv', \n",
    "                        chunksize=100 * 1000000, \n",
    "                        dtype = {'acoustic_data': np.int16, 'time_to_failure':np.float64 } )\n",
    "dfFilter.savePositionalDFFromChunks( chunks100m, 9, 10 )\n",
    "\n",
    "chunks100m = pd.read_csv('C:/earthquake/train.csv', \n",
    "                        chunksize=100 * 1000000, \n",
    "                        dtype = {'acoustic_data': np.int16, 'time_to_failure':np.float64 } )\n",
    "dfFilter.savePositionalDFFromChunks( chunks100m, 12, 10 )"
   ]
  },
  {
   "cell_type": "code",
   "execution_count": 12,
   "metadata": {},
   "outputs": [
    {
     "data": {
      "text/plain": [
       "pandas.io.parsers.TextFileReader"
      ]
     },
     "execution_count": 12,
     "metadata": {},
     "output_type": "execute_result"
    }
   ],
   "source": []
  },
  {
   "cell_type": "code",
   "execution_count": null,
   "metadata": {},
   "outputs": [],
   "source": []
  }
 ],
 "metadata": {
  "kernelspec": {
   "display_name": "Python 3",
   "language": "python",
   "name": "python3"
  },
  "language_info": {
   "codemirror_mode": {
    "name": "ipython",
    "version": 3
   },
   "file_extension": ".py",
   "mimetype": "text/x-python",
   "name": "python",
   "nbconvert_exporter": "python",
   "pygments_lexer": "ipython3",
   "version": "3.6.6"
  }
 },
 "nbformat": 4,
 "nbformat_minor": 2
}
