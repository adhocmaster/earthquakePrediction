{
 "cells": [
  {
   "cell_type": "code",
   "execution_count": 13,
   "metadata": {},
   "outputs": [],
   "source": [
    "import numpy as np\n",
    "import pandas as pd\n",
    "import logging, sys, math\n",
    "from importlib import reload\n",
    "import library\n",
    "import library.DataFilters\n",
    "from  library.DataFilters import DataFilter"
   ]
  },
  {
   "cell_type": "code",
   "execution_count": 19,
   "metadata": {},
   "outputs": [
    {
     "name": "stderr",
     "output_type": "stream",
     "text": [
      "WARNING:root:DataFilters loaded\n"
     ]
    }
   ],
   "source": [
    "if sys.modules.get( 'library', False ) != False :\n",
    "    del sys.modules['library'] \n",
    "if sys.modules.get( 'library.DataFilters', False ) != False :\n",
    "    del sys.modules['library.DataFilters'] \n",
    "if sys.modules.get( 'DataFilter', False ) != False :\n",
    "    del sys.modules['DataFilter'] \n",
    "\n",
    "from library.DataFilters import *\n",
    "logging.warning( \"DataFilters loaded\" )\n",
    "dfFilter = DataFilter()"
   ]
  },
  {
   "cell_type": "code",
   "execution_count": 20,
   "metadata": {},
   "outputs": [],
   "source": [
    "files = ['every_10_from_0.csv', 'every_10_from_6.csv', 'every_10_from_9.csv', 'every_10_from_12.csv', 'every_100_from_0']"
   ]
  },
  {
   "cell_type": "code",
   "execution_count": 21,
   "metadata": {},
   "outputs": [],
   "source": [
    "#a loop to do all"
   ]
  },
  {
   "cell_type": "code",
   "execution_count": 22,
   "metadata": {},
   "outputs": [],
   "source": [
    "df = dfFilter.loadCSVFromHDD('every_10_from_0.csv')"
   ]
  },
  {
   "cell_type": "code",
   "execution_count": 23,
   "metadata": {},
   "outputs": [
    {
     "data": {
      "text/plain": [
       "(62914548, 3)"
      ]
     },
     "execution_count": 23,
     "metadata": {},
     "output_type": "execute_result"
    }
   ],
   "source": [
    "df.shape"
   ]
  },
  {
   "cell_type": "code",
   "execution_count": 26,
   "metadata": {},
   "outputs": [
    {
     "data": {
      "text/html": [
       "<div>\n",
       "<style scoped>\n",
       "    .dataframe tbody tr th:only-of-type {\n",
       "        vertical-align: middle;\n",
       "    }\n",
       "\n",
       "    .dataframe tbody tr th {\n",
       "        vertical-align: top;\n",
       "    }\n",
       "\n",
       "    .dataframe thead th {\n",
       "        text-align: right;\n",
       "    }\n",
       "</style>\n",
       "<table border=\"1\" class=\"dataframe\">\n",
       "  <thead>\n",
       "    <tr style=\"text-align: right;\">\n",
       "      <th></th>\n",
       "      <th>Unnamed: 0</th>\n",
       "      <th>acoustic_data</th>\n",
       "      <th>time_to_failure</th>\n",
       "    </tr>\n",
       "  </thead>\n",
       "  <tbody>\n",
       "    <tr>\n",
       "      <th>62914538</th>\n",
       "      <td>629145380</td>\n",
       "      <td>8</td>\n",
       "      <td>9.759796</td>\n",
       "    </tr>\n",
       "    <tr>\n",
       "      <th>62914539</th>\n",
       "      <td>629145390</td>\n",
       "      <td>5</td>\n",
       "      <td>9.759796</td>\n",
       "    </tr>\n",
       "    <tr>\n",
       "      <th>62914540</th>\n",
       "      <td>629145400</td>\n",
       "      <td>7</td>\n",
       "      <td>9.759796</td>\n",
       "    </tr>\n",
       "    <tr>\n",
       "      <th>62914541</th>\n",
       "      <td>629145410</td>\n",
       "      <td>7</td>\n",
       "      <td>9.759796</td>\n",
       "    </tr>\n",
       "    <tr>\n",
       "      <th>62914542</th>\n",
       "      <td>629145420</td>\n",
       "      <td>10</td>\n",
       "      <td>9.759796</td>\n",
       "    </tr>\n",
       "    <tr>\n",
       "      <th>62914543</th>\n",
       "      <td>629145430</td>\n",
       "      <td>6</td>\n",
       "      <td>9.759796</td>\n",
       "    </tr>\n",
       "    <tr>\n",
       "      <th>62914544</th>\n",
       "      <td>629145440</td>\n",
       "      <td>6</td>\n",
       "      <td>9.759796</td>\n",
       "    </tr>\n",
       "    <tr>\n",
       "      <th>62914545</th>\n",
       "      <td>629145450</td>\n",
       "      <td>3</td>\n",
       "      <td>9.759796</td>\n",
       "    </tr>\n",
       "    <tr>\n",
       "      <th>62914546</th>\n",
       "      <td>629145460</td>\n",
       "      <td>8</td>\n",
       "      <td>9.759796</td>\n",
       "    </tr>\n",
       "    <tr>\n",
       "      <th>62914547</th>\n",
       "      <td>629145470</td>\n",
       "      <td>6</td>\n",
       "      <td>9.759796</td>\n",
       "    </tr>\n",
       "  </tbody>\n",
       "</table>\n",
       "</div>"
      ],
      "text/plain": [
       "          Unnamed: 0  acoustic_data  time_to_failure\n",
       "62914538   629145380              8         9.759796\n",
       "62914539   629145390              5         9.759796\n",
       "62914540   629145400              7         9.759796\n",
       "62914541   629145410              7         9.759796\n",
       "62914542   629145420             10         9.759796\n",
       "62914543   629145430              6         9.759796\n",
       "62914544   629145440              6         9.759796\n",
       "62914545   629145450              3         9.759796\n",
       "62914546   629145460              8         9.759796\n",
       "62914547   629145470              6         9.759796"
      ]
     },
     "execution_count": 26,
     "metadata": {},
     "output_type": "execute_result"
    }
   ],
   "source": [
    "df.tail(10)"
   ]
  },
  {
   "cell_type": "code",
   "execution_count": 25,
   "metadata": {},
   "outputs": [],
   "source": [
    "?pd.read_csv"
   ]
  },
  {
   "cell_type": "code",
   "execution_count": 27,
   "metadata": {},
   "outputs": [],
   "source": [
    "df9To10 = df[ (df.time_to_failure >= 9) & (df.time_to_failure <10 )]"
   ]
  },
  {
   "cell_type": "code",
   "execution_count": 28,
   "metadata": {},
   "outputs": [
    {
     "data": {
      "text/plain": [
       "(3208804, 3)"
      ]
     },
     "execution_count": 28,
     "metadata": {},
     "output_type": "execute_result"
    }
   ],
   "source": [
    "df9To10.shape"
   ]
  },
  {
   "cell_type": "code",
   "execution_count": 29,
   "metadata": {},
   "outputs": [],
   "source": [
    "df0To1 = df[ (df.time_to_failure >= 0) & (df.time_to_failure <1 )]"
   ]
  },
  {
   "cell_type": "code",
   "execution_count": 30,
   "metadata": {},
   "outputs": [
    {
     "data": {
      "text/plain": [
       "(6159564, 3)"
      ]
     },
     "execution_count": 30,
     "metadata": {},
     "output_type": "execute_result"
    }
   ],
   "source": [
    "df0To1.shape"
   ]
  },
  {
   "cell_type": "code",
   "execution_count": 31,
   "metadata": {},
   "outputs": [],
   "source": [
    "df1To2 = df[ (df.time_to_failure >= 1) & (df.time_to_failure <2 )]"
   ]
  },
  {
   "cell_type": "code",
   "execution_count": 32,
   "metadata": {},
   "outputs": [
    {
     "data": {
      "text/plain": [
       "(5955583, 3)"
      ]
     },
     "execution_count": 32,
     "metadata": {},
     "output_type": "execute_result"
    }
   ],
   "source": [
    "df1To2.shape"
   ]
  },
  {
   "cell_type": "code",
   "execution_count": 33,
   "metadata": {},
   "outputs": [],
   "source": [
    "df2To3 = df[ (df.time_to_failure >= 2) & (df.time_to_failure <3 )]"
   ]
  },
  {
   "cell_type": "code",
   "execution_count": 34,
   "metadata": {},
   "outputs": [
    {
     "data": {
      "text/plain": [
       "(5774126, 3)"
      ]
     },
     "execution_count": 34,
     "metadata": {},
     "output_type": "execute_result"
    }
   ],
   "source": [
    "df2To3.shape"
   ]
  },
  {
   "cell_type": "code",
   "execution_count": 35,
   "metadata": {},
   "outputs": [
    {
     "data": {
      "text/plain": [
       "(4354047, 3)"
      ]
     },
     "execution_count": 35,
     "metadata": {},
     "output_type": "execute_result"
    }
   ],
   "source": [
    "df8To9 = df[ (df.time_to_failure >= 8) & (df.time_to_failure <9 )]\n",
    "df8To9.shape"
   ]
  },
  {
   "cell_type": "code",
   "execution_count": 37,
   "metadata": {},
   "outputs": [
    {
     "data": {
      "text/plain": [
       "(3079375, 3)"
      ]
     },
     "execution_count": 37,
     "metadata": {},
     "output_type": "execute_result"
    }
   ],
   "source": [
    "df10To11 = df[ (df.time_to_failure >= 10) & (df.time_to_failure <11 )]\n",
    "df10To11.shape"
   ]
  },
  {
   "cell_type": "code",
   "execution_count": 38,
   "metadata": {},
   "outputs": [],
   "source": [
    "df['cat'] = round(df.time_to_failure)"
   ]
  },
  {
   "cell_type": "code",
   "execution_count": 45,
   "metadata": {},
   "outputs": [
    {
     "data": {
      "text/html": [
       "<div>\n",
       "<style scoped>\n",
       "    .dataframe tbody tr th:only-of-type {\n",
       "        vertical-align: middle;\n",
       "    }\n",
       "\n",
       "    .dataframe tbody tr th {\n",
       "        vertical-align: top;\n",
       "    }\n",
       "\n",
       "    .dataframe thead th {\n",
       "        text-align: right;\n",
       "    }\n",
       "</style>\n",
       "<table border=\"1\" class=\"dataframe\">\n",
       "  <thead>\n",
       "    <tr style=\"text-align: right;\">\n",
       "      <th></th>\n",
       "      <th>Unnamed: 0</th>\n",
       "      <th>acoustic_data</th>\n",
       "      <th>time_to_failure</th>\n",
       "    </tr>\n",
       "    <tr>\n",
       "      <th>cat</th>\n",
       "      <th></th>\n",
       "      <th></th>\n",
       "      <th></th>\n",
       "    </tr>\n",
       "  </thead>\n",
       "  <tbody>\n",
       "    <tr>\n",
       "      <th>0.0</th>\n",
       "      <td>3079373</td>\n",
       "      <td>3079373</td>\n",
       "      <td>3079373</td>\n",
       "    </tr>\n",
       "    <tr>\n",
       "      <th>1.0</th>\n",
       "      <td>6148094</td>\n",
       "      <td>6148094</td>\n",
       "      <td>6148094</td>\n",
       "    </tr>\n",
       "    <tr>\n",
       "      <th>2.0</th>\n",
       "      <td>5774947</td>\n",
       "      <td>5774947</td>\n",
       "      <td>5774947</td>\n",
       "    </tr>\n",
       "    <tr>\n",
       "      <th>3.0</th>\n",
       "      <td>5773312</td>\n",
       "      <td>5773312</td>\n",
       "      <td>5773312</td>\n",
       "    </tr>\n",
       "    <tr>\n",
       "      <th>4.0</th>\n",
       "      <td>5774541</td>\n",
       "      <td>5774541</td>\n",
       "      <td>5774541</td>\n",
       "    </tr>\n",
       "    <tr>\n",
       "      <th>5.0</th>\n",
       "      <td>5775359</td>\n",
       "      <td>5775359</td>\n",
       "      <td>5775359</td>\n",
       "    </tr>\n",
       "    <tr>\n",
       "      <th>6.0</th>\n",
       "      <td>5774130</td>\n",
       "      <td>5774130</td>\n",
       "      <td>5774130</td>\n",
       "    </tr>\n",
       "    <tr>\n",
       "      <th>7.0</th>\n",
       "      <td>5604556</td>\n",
       "      <td>5604556</td>\n",
       "      <td>5604556</td>\n",
       "    </tr>\n",
       "    <tr>\n",
       "      <th>8.0</th>\n",
       "      <td>4990566</td>\n",
       "      <td>4990566</td>\n",
       "      <td>4990566</td>\n",
       "    </tr>\n",
       "    <tr>\n",
       "      <th>9.0</th>\n",
       "      <td>3739235</td>\n",
       "      <td>3739235</td>\n",
       "      <td>3739235</td>\n",
       "    </tr>\n",
       "    <tr>\n",
       "      <th>10.0</th>\n",
       "      <td>3031451</td>\n",
       "      <td>3031451</td>\n",
       "      <td>3031451</td>\n",
       "    </tr>\n",
       "    <tr>\n",
       "      <th>11.0</th>\n",
       "      <td>2868839</td>\n",
       "      <td>2868839</td>\n",
       "      <td>2868839</td>\n",
       "    </tr>\n",
       "    <tr>\n",
       "      <th>12.0</th>\n",
       "      <td>1601944</td>\n",
       "      <td>1601944</td>\n",
       "      <td>1601944</td>\n",
       "    </tr>\n",
       "    <tr>\n",
       "      <th>13.0</th>\n",
       "      <td>1230029</td>\n",
       "      <td>1230029</td>\n",
       "      <td>1230029</td>\n",
       "    </tr>\n",
       "    <tr>\n",
       "      <th>14.0</th>\n",
       "      <td>1032192</td>\n",
       "      <td>1032192</td>\n",
       "      <td>1032192</td>\n",
       "    </tr>\n",
       "    <tr>\n",
       "      <th>15.0</th>\n",
       "      <td>482099</td>\n",
       "      <td>482099</td>\n",
       "      <td>482099</td>\n",
       "    </tr>\n",
       "    <tr>\n",
       "      <th>16.0</th>\n",
       "      <td>233881</td>\n",
       "      <td>233881</td>\n",
       "      <td>233881</td>\n",
       "    </tr>\n",
       "  </tbody>\n",
       "</table>\n",
       "</div>"
      ],
      "text/plain": [
       "      Unnamed: 0  acoustic_data  time_to_failure\n",
       "cat                                             \n",
       "0.0      3079373        3079373          3079373\n",
       "1.0      6148094        6148094          6148094\n",
       "2.0      5774947        5774947          5774947\n",
       "3.0      5773312        5773312          5773312\n",
       "4.0      5774541        5774541          5774541\n",
       "5.0      5775359        5775359          5775359\n",
       "6.0      5774130        5774130          5774130\n",
       "7.0      5604556        5604556          5604556\n",
       "8.0      4990566        4990566          4990566\n",
       "9.0      3739235        3739235          3739235\n",
       "10.0     3031451        3031451          3031451\n",
       "11.0     2868839        2868839          2868839\n",
       "12.0     1601944        1601944          1601944\n",
       "13.0     1230029        1230029          1230029\n",
       "14.0     1032192        1032192          1032192\n",
       "15.0      482099         482099           482099\n",
       "16.0      233881         233881           233881"
      ]
     },
     "execution_count": 45,
     "metadata": {},
     "output_type": "execute_result"
    }
   ],
   "source": [
    "df.groupby(['cat']).count()"
   ]
  },
  {
   "cell_type": "code",
   "execution_count": null,
   "metadata": {},
   "outputs": [],
   "source": [
    "df.groupby(['cat'])"
   ]
  }
 ],
 "metadata": {
  "kernelspec": {
   "display_name": "Python 3",
   "language": "python",
   "name": "python3"
  },
  "language_info": {
   "codemirror_mode": {
    "name": "ipython",
    "version": 3
   },
   "file_extension": ".py",
   "mimetype": "text/x-python",
   "name": "python",
   "nbconvert_exporter": "python",
   "pygments_lexer": "ipython3",
   "version": "3.6.6"
  }
 },
 "nbformat": 4,
 "nbformat_minor": 2
}
