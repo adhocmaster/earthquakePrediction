{
 "cells": [
  {
   "cell_type": "code",
   "execution_count": 60,
   "metadata": {},
   "outputs": [
    {
     "name": "stdout",
     "output_type": "stream",
     "text": [
      "Using matplotlib backend: Qt5Agg\n"
     ]
    }
   ],
   "source": [
    "import numpy as np\n",
    "import pandas as pd\n",
    "pd.set_option(\"display.precision\", 20)\n",
    "import logging, sys, math\n",
    "from importlib import reload\n",
    "import matplotlib.pyplot as plt\n",
    "%matplotlib auto\n",
    "import seaborn as sns\n",
    "sns.set(style=\"darkgrid\")\n",
    "\n"
   ]
  },
  {
   "cell_type": "code",
   "execution_count": 63,
   "metadata": {},
   "outputs": [
    {
     "name": "stderr",
     "output_type": "stream",
     "text": [
      "WARNING:root:Bin loaded\n",
      "WARNING:root:BinManager loaded\n",
      "WARNING:root:BinProcessor loaded\n"
     ]
    }
   ],
   "source": [
    "if sys.modules.get( 'library', False ) != False :\n",
    "    del sys.modules['library'] \n",
    "if sys.modules.get( 'library.Bin', False ) != False :\n",
    "    del sys.modules['library.Bin'] \n",
    "if sys.modules.get( 'library.BinManager', False ) != False :\n",
    "    del sys.modules['library.BinManager'] \n",
    "if sys.modules.get( 'library.BinProcessor', False ) != False :\n",
    "    del sys.modules['library.BinProcessor'] \n",
    "    \n",
    "if sys.modules.get( 'BinManager', False ) != False :\n",
    "    del sys.modules['BinManager'] \n",
    "    \n",
    "if sys.modules.get( 'Bin', False ) != False :\n",
    "    del sys.modules['Bin'] \n",
    "if sys.modules.get( 'BinProcessor', False ) != False :\n",
    "    del sys.modules['BinProcessor'] \n",
    "\n",
    "from library.Bin import *\n",
    "from library.BinManager import *\n",
    "from library.BinProcessor import *\n",
    "logging.warning( \"Bin loaded\" )\n",
    "logging.warning( \"BinManager loaded\" )\n",
    "logging.warning( \"BinProcessor loaded\" )\n",
    "binManager = BinManager()\n",
    "binProcessor = BinProcessor()"
   ]
  },
  {
   "cell_type": "code",
   "execution_count": 3,
   "metadata": {},
   "outputs": [],
   "source": [
    "# Analysing bins with 8192 data points\n",
    "bins8192Ids = [1381,\n",
    "    12227,\n",
    "    25554,\n",
    "    33877,\n",
    "    45807,\n",
    "    53377,\n",
    "    60011,\n",
    "    75149,\n",
    "    82579,\n",
    "    91636,\n",
    "    102375,\n",
    "    112736,\n",
    "    121033,\n",
    "    129083,\n",
    "    142947,\n",
    "    151837] \n",
    "bins8192 = [binManager.readRawBinById(binId) for binId in bins8192Ids]\n",
    "for aBin in bins8192:\n",
    "    binProcessor.plot(aBin)"
   ]
  },
  {
   "cell_type": "code",
   "execution_count": 32,
   "metadata": {},
   "outputs": [],
   "source": [
    "aBin = bins8192[0]"
   ]
  },
  {
   "cell_type": "code",
   "execution_count": 54,
   "metadata": {},
   "outputs": [],
   "source": [
    "res = binProcessor.getBinStats(aBin)"
   ]
  },
  {
   "cell_type": "code",
   "execution_count": 55,
   "metadata": {},
   "outputs": [
    {
     "data": {
      "text/plain": [
       "{'mean': 4.5997314453125,\n",
       " 'var': 8.331646857426405,\n",
       " 'median': 5.0,\n",
       " 'skewness': 0.13604275846181801,\n",
       " 'kurtosis': 0.7609727271784923,\n",
       " 'max': 20,\n",
       " 'min': -9,\n",
       " 'dif_max_min': 29,\n",
       " 'dif_median_mean': 0.4002685546875}"
      ]
     },
     "execution_count": 55,
     "metadata": {},
     "output_type": "execute_result"
    }
   ],
   "source": [
    "res"
   ]
  },
  {
   "cell_type": "code",
   "execution_count": 58,
   "metadata": {},
   "outputs": [
    {
     "ename": "AttributeError",
     "evalue": "'Bin' object has no attribute 'trIndexStart'",
     "output_type": "error",
     "traceback": [
      "\u001b[0;31m---------------------------------------------------------------------------\u001b[0m",
      "\u001b[0;31mAttributeError\u001b[0m                            Traceback (most recent call last)",
      "\u001b[0;32m<ipython-input-58-ca2746781467>\u001b[0m in \u001b[0;36m<module>\u001b[0;34m()\u001b[0m\n\u001b[0;32m----> 1\u001b[0;31m \u001b[0maBin\u001b[0m \u001b[0;34m=\u001b[0m \u001b[0mbinProcessor\u001b[0m\u001b[0;34m.\u001b[0m\u001b[0mmakeAllPositive\u001b[0m\u001b[0;34m(\u001b[0m\u001b[0maBin\u001b[0m\u001b[0;34m)\u001b[0m\u001b[0;34m\u001b[0m\u001b[0m\n\u001b[0m",
      "\u001b[0;32m~/muktadir/earthquakePrediction/data-analysis/library/BinProcessor.py\u001b[0m in \u001b[0;36mmakeAllPositive\u001b[0;34m(self, aBin)\u001b[0m\n\u001b[1;32m     32\u001b[0m                    \u001b[0mdata\u001b[0m \u001b[0;34m=\u001b[0m \u001b[0mdata\u001b[0m\u001b[0;34m,\u001b[0m\u001b[0;34m\u001b[0m\u001b[0m\n\u001b[1;32m     33\u001b[0m                    \u001b[0mquakeIndex\u001b[0m \u001b[0;34m=\u001b[0m \u001b[0maBin\u001b[0m\u001b[0;34m.\u001b[0m\u001b[0mquakeIndex\u001b[0m\u001b[0;34m,\u001b[0m\u001b[0;34m\u001b[0m\u001b[0m\n\u001b[0;32m---> 34\u001b[0;31m                    \u001b[0mtrIndexStart\u001b[0m \u001b[0;34m=\u001b[0m \u001b[0maBin\u001b[0m\u001b[0;34m.\u001b[0m\u001b[0mtrIndexStart\u001b[0m\u001b[0;34m\u001b[0m\u001b[0m\n\u001b[0m\u001b[1;32m     35\u001b[0m                   )\n\u001b[1;32m     36\u001b[0m \u001b[0;34m\u001b[0m\u001b[0m\n",
      "\u001b[0;31mAttributeError\u001b[0m: 'Bin' object has no attribute 'trIndexStart'"
     ]
    }
   ],
   "source": [
    "aBin = binProcessor.makeAllPositive(aBin)"
   ]
  },
  {
   "cell_type": "code",
   "execution_count": 51,
   "metadata": {},
   "outputs": [],
   "source": [
    "binProcessor.getBinStats(aBin)"
   ]
  },
  {
   "cell_type": "code",
   "execution_count": 59,
   "metadata": {},
   "outputs": [
    {
     "data": {
      "text/plain": [
       "DescribeResult(nobs=8192, minmax=(0, 20), mean=4.7315673828125, variance=7.1012961390312155, skewness=0.5428765128582518, kurtosis=0.510468200174734)"
      ]
     },
     "execution_count": 59,
     "metadata": {},
     "output_type": "execute_result"
    }
   ],
   "source": [
    "stats.describe(d2)"
   ]
  },
  {
   "cell_type": "code",
   "execution_count": 65,
   "metadata": {},
   "outputs": [],
   "source": [
    "binProcessor.plot(aBin)"
   ]
  },
  {
   "cell_type": "code",
   "execution_count": null,
   "metadata": {},
   "outputs": [],
   "source": []
  }
 ],
 "metadata": {
  "kernelspec": {
   "display_name": "Python 3",
   "language": "python",
   "name": "python3"
  },
  "language_info": {
   "codemirror_mode": {
    "name": "ipython",
    "version": 3
   },
   "file_extension": ".py",
   "mimetype": "text/x-python",
   "name": "python",
   "nbconvert_exporter": "python",
   "pygments_lexer": "ipython3",
   "version": "3.6.3"
  }
 },
 "nbformat": 4,
 "nbformat_minor": 2
}
