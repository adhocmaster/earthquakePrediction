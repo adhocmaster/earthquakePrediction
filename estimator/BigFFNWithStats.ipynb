{
 "cells": [
  {
   "cell_type": "code",
   "execution_count": 1,
   "metadata": {},
   "outputs": [
    {
     "name": "stdout",
     "output_type": "stream",
     "text": [
      "current working dirF:\\myProjects\\tfKeras\\UCSC\\CMPS242\\earthquake\n"
     ]
    }
   ],
   "source": [
    "exec(open(\"inc_notebook.py\").read())"
   ]
  },
  {
   "cell_type": "code",
   "execution_count": 2,
   "metadata": {},
   "outputs": [
    {
     "name": "stderr",
     "output_type": "stream",
     "text": [
      "Using TensorFlow backend.\n",
      "WARNING:root:Limiting GPU to 0.8. Increase it in initKeras.py. Next is available GPUs\n",
      "WARNING:root:['/job:localhost/replica:0/task:0/device:GPU:0']\n"
     ]
    }
   ],
   "source": [
    "import logging, sys, math,os\n",
    "exec(open(\"estimator/initKeras.py\").read())\n"
   ]
  },
  {
   "cell_type": "code",
   "execution_count": 3,
   "metadata": {},
   "outputs": [],
   "source": [
    "from matplotlib import pyplot as plt\n",
    "%matplotlib inline\n",
    "import seaborn as sns\n",
    "sns.set(style=\"darkgrid\")"
   ]
  },
  {
   "cell_type": "code",
   "execution_count": 4,
   "metadata": {},
   "outputs": [
    {
     "name": "stderr",
     "output_type": "stream",
     "text": [
      "WARNING:root:MultipleBinDataGenerator loaded\n",
      "D:\\ProgramData\\Anaconda3\\envs\\tf\\lib\\site-packages\\sklearn\\base.py:251: UserWarning: Trying to unpickle estimator RobustScaler from version 0.20.2 when using version 0.20.0. This might lead to breaking code or invalid results. Use at your own risk.\n",
      "  UserWarning)\n",
      "WARNING:root:shuffling: False\n"
     ]
    }
   ],
   "source": [
    "if sys.modules.get( 'library.MultipleBinDataGenerator', False ) != False :\n",
    "    del sys.modules['library.MultipleBinDataGenerator'] \n",
    "if sys.modules.get( 'MultipleBinDataGenerator', False ) != False :\n",
    "    del sys.modules['MultipleBinDataGenerator'] \n",
    "from library.MultipleBinDataGenerator import *\n",
    "\n",
    "logging.warning( \"MultipleBinDataGenerator loaded\" )\n",
    "\n",
    "trainGenerator = MultipleBinDataGenerator(batch_size=16, windowSize = 36, stride = 6)"
   ]
  },
  {
   "cell_type": "code",
   "execution_count": 5,
   "metadata": {},
   "outputs": [
    {
     "name": "stderr",
     "output_type": "stream",
     "text": [
      "WARNING:root:LivePlotKeras loaded\n"
     ]
    }
   ],
   "source": [
    "\n",
    "if sys.modules.get( 'library.LivePlotKeras', False ) != False :\n",
    "    del sys.modules['library.LivePlotKeras'] \n",
    "if sys.modules.get( 'LivePlotKeras', False ) != False :\n",
    "    del sys.modules['LivePlotKeras'] \n",
    "from library.LivePlotKeras import *\n",
    "\n",
    "logging.warning( \"LivePlotKeras loaded\" )\n",
    "\n",
    "livePlotKeras = LivePlotKeras()"
   ]
  },
  {
   "cell_type": "code",
   "execution_count": 6,
   "metadata": {},
   "outputs": [
    {
     "name": "stderr",
     "output_type": "stream",
     "text": [
      "WARNING:root:EstimatorIO loaded\n"
     ]
    }
   ],
   "source": [
    "if sys.modules.get( 'estimator.EstimatorIO', False ) != False :\n",
    "    del sys.modules['estimator.EstimatorIO'] \n",
    "if sys.modules.get( 'EstimatorIO', False ) != False :\n",
    "    del sys.modules['EstimatorIO'] \n",
    "from estimator.EstimatorIO import *\n",
    "\n",
    "logging.warning( \"EstimatorIO loaded\" )\n",
    "\n",
    "estimatorIO = EstimatorIO()"
   ]
  },
  {
   "cell_type": "code",
   "execution_count": 7,
   "metadata": {},
   "outputs": [
    {
     "data": {
      "text/plain": [
       "1599"
      ]
     },
     "execution_count": 7,
     "metadata": {},
     "output_type": "execute_result"
    }
   ],
   "source": [
    "trainGenerator.__len__()"
   ]
  },
  {
   "cell_type": "code",
   "execution_count": 8,
   "metadata": {},
   "outputs": [],
   "source": [
    "model_input = layers.Input( shape = ( 15 + 6 * 27 + 2 + 15+ 3 * 27,  ) )"
   ]
  },
  {
   "cell_type": "code",
   "execution_count": 13,
   "metadata": {},
   "outputs": [
    {
     "name": "stdout",
     "output_type": "stream",
     "text": [
      "_________________________________________________________________\n",
      "Layer (type)                 Output Shape              Param #   \n",
      "=================================================================\n",
      "input_1 (InputLayer)         (None, 275)               0         \n",
      "_________________________________________________________________\n",
      "dense_7 (Dense)              (None, 256)               70656     \n",
      "_________________________________________________________________\n",
      "leaky_re_lu_6 (LeakyReLU)    (None, 256)               0         \n",
      "_________________________________________________________________\n",
      "dense_8 (Dense)              (None, 1024)              263168    \n",
      "_________________________________________________________________\n",
      "leaky_re_lu_7 (LeakyReLU)    (None, 1024)              0         \n",
      "_________________________________________________________________\n",
      "dropout_6 (Dropout)          (None, 1024)              0         \n",
      "_________________________________________________________________\n",
      "dense_9 (Dense)              (None, 512)               524800    \n",
      "_________________________________________________________________\n",
      "leaky_re_lu_8 (LeakyReLU)    (None, 512)               0         \n",
      "_________________________________________________________________\n",
      "dense_10 (Dense)             (None, 512)               262656    \n",
      "_________________________________________________________________\n",
      "leaky_re_lu_9 (LeakyReLU)    (None, 512)               0         \n",
      "_________________________________________________________________\n",
      "dropout_7 (Dropout)          (None, 512)               0         \n",
      "_________________________________________________________________\n",
      "dense_11 (Dense)             (None, 128)               65664     \n",
      "_________________________________________________________________\n",
      "leaky_re_lu_10 (LeakyReLU)   (None, 128)               0         \n",
      "_________________________________________________________________\n",
      "dropout_8 (Dropout)          (None, 128)               0         \n",
      "_________________________________________________________________\n",
      "dense_12 (Dense)             (None, 1)                 129       \n",
      "=================================================================\n",
      "Total params: 1,187,073\n",
      "Trainable params: 1,187,073\n",
      "Non-trainable params: 0\n",
      "_________________________________________________________________\n"
     ]
    }
   ],
   "source": [
    "x = layers.Dense(256)(model_input)\n",
    "x = layers.LeakyReLU(alpha=0.1)(x)\n",
    "\n",
    "x = layers.Dense(1024)(x)\n",
    "x = layers.LeakyReLU(alpha=0.1)(x)\n",
    "x = layers.Dropout(0.3)(x)\n",
    "\n",
    "x = layers.Dense(512)(x)\n",
    "x = layers.LeakyReLU(alpha=0.1)(x)\n",
    "\n",
    "x = layers.Dense(512)(x)\n",
    "x = layers.LeakyReLU(alpha=0.1)(x)\n",
    "x = layers.Dropout(0.3)(x)\n",
    "\n",
    "x = layers.Dense(128)(x)\n",
    "x = layers.LeakyReLU(alpha=0.1)(x)\n",
    "x = layers.Dropout(0.2)(x)\n",
    "\n",
    "x = layers.Dense(1, activation=activations.relu)(x)\n",
    "\n",
    "model = models.Model(model_input, x, name = \"BigFFN\")\n",
    "model.summary()"
   ]
  },
  {
   "cell_type": "code",
   "execution_count": 14,
   "metadata": {},
   "outputs": [],
   "source": [
    "model.compile(optimizer=optimizers.Adam(lr=0.001),\n",
    "             loss = losses.MSE,\n",
    "             metrics = [metrics.MSE, metrics.MAE])"
   ]
  },
  {
   "cell_type": "code",
   "execution_count": 15,
   "metadata": {},
   "outputs": [
    {
     "ename": "ValueError",
     "evalue": "list.remove(x): x not in list",
     "output_type": "error",
     "traceback": [
      "\u001b[1;31m---------------------------------------------------------------------------\u001b[0m",
      "\u001b[1;31mValueError\u001b[0m                                Traceback (most recent call last)",
      "\u001b[1;32m<ipython-input-15-556da0614de7>\u001b[0m in \u001b[0;36m<module>\u001b[1;34m()\u001b[0m\n\u001b[1;32m----> 1\u001b[1;33m \u001b[0msys\u001b[0m\u001b[1;33m.\u001b[0m\u001b[0mpath\u001b[0m\u001b[1;33m.\u001b[0m\u001b[0mremove\u001b[0m\u001b[1;33m(\u001b[0m\u001b[0mstr\u001b[0m\u001b[1;33m(\u001b[0m\u001b[0mprojectFolder\u001b[0m\u001b[1;33m)\u001b[0m\u001b[1;33m)\u001b[0m\u001b[1;33m\u001b[0m\u001b[0m\n\u001b[0m\u001b[0;32m      2\u001b[0m \u001b[0mos\u001b[0m\u001b[1;33m.\u001b[0m\u001b[0mchdir\u001b[0m\u001b[1;33m(\u001b[0m\u001b[0mcurrentFolder\u001b[0m\u001b[1;33m)\u001b[0m\u001b[1;33m\u001b[0m\u001b[0m\n",
      "\u001b[1;31mValueError\u001b[0m: list.remove(x): x not in list"
     ]
    }
   ],
   "source": [
    "sys.path.remove(str(projectFolder))\n",
    "os.chdir(currentFolder)"
   ]
  },
  {
   "cell_type": "code",
   "execution_count": null,
   "metadata": {},
   "outputs": [
    {
     "data": {
      "image/png": "[encoded data removed]",
      "text/plain": [
       "<Figure size 1440x720 with 1 Axes>"
      ]
     },
     "metadata": {},
     "output_type": "display_data"
    },
    {
     "name": "stdout",
     "output_type": "stream",
     "text": [
      "Epoch 10/50\n",
      "1559/1599 [============================>.] - ETA: 0s - loss: 45.9034 - mean_squared_error: 45.9034 - mean_absolute_error: 5.6872"
     ]
    }
   ],
   "source": [
    "np.seterr(invalid='ignore')\n",
    "np.warnings.filterwarnings('ignore')\n",
    "history = model.fit_generator( generator=trainGenerator,\n",
    "                    use_multiprocessing=False, \n",
    "                    workers=2, \n",
    "                    initial_epoch = 0,\n",
    "                    epochs=50,\n",
    "                    max_q_size = 10,\n",
    "                    steps_per_epoch = trainGenerator.__len__(),\n",
    "                    callbacks = [livePlotKeras]\n",
    "                   )"
   ]
  },
  {
   "cell_type": "code",
   "execution_count": null,
   "metadata": {},
   "outputs": [],
   "source": [
    "estimatorIO.save(model, model.name)"
   ]
  },
  {
   "cell_type": "code",
   "execution_count": null,
   "metadata": {},
   "outputs": [],
   "source": []
  }
 ],
 "metadata": {
  "kernelspec": {
   "display_name": "Python 3",
   "language": "python",
   "name": "python3"
  },
  "language_info": {
   "codemirror_mode": {
    "name": "ipython",
    "version": 3
   },
   "file_extension": ".py",
   "mimetype": "text/x-python",
   "name": "python",
   "nbconvert_exporter": "python",
   "pygments_lexer": "ipython3",
   "version": "3.6.6"
  }
 },
 "nbformat": 4,
 "nbformat_minor": 2
}
