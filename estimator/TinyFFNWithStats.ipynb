{
 "cells": [
  {
   "cell_type": "code",
   "execution_count": 1,
   "metadata": {},
   "outputs": [
    {
     "name": "stdout",
     "output_type": "stream",
     "text": [
      "current working dirF:\\myProjects\\tfKeras\\UCSC\\CMPS242\\earthquake\n"
     ]
    }
   ],
   "source": [
    "exec(open(\"inc_notebook.py\").read())"
   ]
  },
  {
   "cell_type": "code",
   "execution_count": 2,
   "metadata": {},
   "outputs": [
    {
     "name": "stderr",
     "output_type": "stream",
     "text": [
      "Using TensorFlow backend.\n",
      "WARNING:root:Limiting GPU to 0.8. Increase it in initKeras.py. Next is available GPUs\n",
      "WARNING:root:['/job:localhost/replica:0/task:0/device:GPU:0']\n"
     ]
    }
   ],
   "source": [
    "import logging, sys, math,os\n",
    "exec(open(\"estimator/initKeras.py\").read())\n"
   ]
  },
  {
   "cell_type": "code",
   "execution_count": 5,
   "metadata": {},
   "outputs": [],
   "source": [
    "from matplotlib import pyplot as plt\n",
    "%matplotlib inline\n",
    "import seaborn as sns\n",
    "sns.set(style=\"darkgrid\")"
   ]
  },
  {
   "cell_type": "code",
   "execution_count": 6,
   "metadata": {},
   "outputs": [
    {
     "name": "stderr",
     "output_type": "stream",
     "text": [
      "WARNING:root:MultipleBinDataGenerator loaded\n",
      "D:\\ProgramData\\Anaconda3\\envs\\tf\\lib\\site-packages\\sklearn\\base.py:251: UserWarning: Trying to unpickle estimator RobustScaler from version 0.20.2 when using version 0.20.0. This might lead to breaking code or invalid results. Use at your own risk.\n",
      "  UserWarning)\n",
      "WARNING:root:shuffling: False\n"
     ]
    }
   ],
   "source": [
    "if sys.modules.get( 'library.MultipleBinDataGenerator', False ) != False :\n",
    "    del sys.modules['library.MultipleBinDataGenerator'] \n",
    "if sys.modules.get( 'MultipleBinDataGenerator', False ) != False :\n",
    "    del sys.modules['MultipleBinDataGenerator'] \n",
    "from library.MultipleBinDataGenerator import *\n",
    "\n",
    "logging.warning( \"MultipleBinDataGenerator loaded\" )\n",
    "\n",
    "trainGenerator = MultipleBinDataGenerator(batch_size=16, windowSize = 36, stride = 6)"
   ]
  },
  {
   "cell_type": "code",
   "execution_count": 7,
   "metadata": {},
   "outputs": [],
   "source": [
    "aBatch = trainGenerator.__getitem__(0)"
   ]
  },
  {
   "cell_type": "code",
   "execution_count": 8,
   "metadata": {},
   "outputs": [
    {
     "name": "stderr",
     "output_type": "stream",
     "text": [
      "WARNING:root:LivePlotKeras loaded\n"
     ]
    }
   ],
   "source": [
    "\n",
    "if sys.modules.get( 'library.LivePlotKeras', False ) != False :\n",
    "    del sys.modules['library.LivePlotKeras'] \n",
    "if sys.modules.get( 'LivePlotKeras', False ) != False :\n",
    "    del sys.modules['LivePlotKeras'] \n",
    "from library.LivePlotKeras import *\n",
    "\n",
    "logging.warning( \"LivePlotKeras loaded\" )\n",
    "\n",
    "livePlotKeras = LivePlotKeras()"
   ]
  },
  {
   "cell_type": "code",
   "execution_count": 9,
   "metadata": {},
   "outputs": [
    {
     "data": {
      "text/plain": [
       "1599"
      ]
     },
     "execution_count": 9,
     "metadata": {},
     "output_type": "execute_result"
    }
   ],
   "source": [
    "trainGenerator.__len__()"
   ]
  },
  {
   "cell_type": "code",
   "execution_count": 10,
   "metadata": {},
   "outputs": [],
   "source": [
    "model_input = layers.Input( shape = ( 15 + 6 * 27 + 2 + 15+ 3 * 27,  ) )"
   ]
  },
  {
   "cell_type": "code",
   "execution_count": 11,
   "metadata": {},
   "outputs": [
    {
     "name": "stdout",
     "output_type": "stream",
     "text": [
      "_________________________________________________________________\n",
      "Layer (type)                 Output Shape              Param #   \n",
      "=================================================================\n",
      "input_1 (InputLayer)         (None, 275)               0         \n",
      "_________________________________________________________________\n",
      "dense_1 (Dense)              (None, 64)                17664     \n",
      "_________________________________________________________________\n",
      "leaky_re_lu_1 (LeakyReLU)    (None, 64)                0         \n",
      "_________________________________________________________________\n",
      "dropout_1 (Dropout)          (None, 64)                0         \n",
      "_________________________________________________________________\n",
      "dense_2 (Dense)              (None, 32)                2080      \n",
      "_________________________________________________________________\n",
      "leaky_re_lu_2 (LeakyReLU)    (None, 32)                0         \n",
      "_________________________________________________________________\n",
      "dropout_2 (Dropout)          (None, 32)                0         \n",
      "_________________________________________________________________\n",
      "dense_3 (Dense)              (None, 16)                528       \n",
      "_________________________________________________________________\n",
      "leaky_re_lu_3 (LeakyReLU)    (None, 16)                0         \n",
      "_________________________________________________________________\n",
      "dropout_3 (Dropout)          (None, 16)                0         \n",
      "_________________________________________________________________\n",
      "dense_4 (Dense)              (None, 1)                 17        \n",
      "=================================================================\n",
      "Total params: 20,289\n",
      "Trainable params: 20,289\n",
      "Non-trainable params: 0\n",
      "_________________________________________________________________\n"
     ]
    }
   ],
   "source": [
    "x = layers.Dense(64)(model_input)\n",
    "x = layers.LeakyReLU(alpha=0.1)(x)\n",
    "x = layers.Dropout(0.2)(x)\n",
    "\n",
    "x = layers.Dense(32)(x)\n",
    "x = layers.LeakyReLU(alpha=0.1)(x)\n",
    "x = layers.Dropout(0.2)(x)\n",
    "\n",
    "x = layers.Dense(16)(x)\n",
    "x = layers.LeakyReLU(alpha=0.1)(x)\n",
    "x = layers.Dropout(0.2)(x)\n",
    "\n",
    "x = layers.Dense(1, activation=activations.relu)(x)\n",
    "\n",
    "model = models.Model(model_input, x, name = \"TinyFFN\")\n",
    "model.summary()"
   ]
  },
  {
   "cell_type": "code",
   "execution_count": 12,
   "metadata": {},
   "outputs": [],
   "source": [
    "model.compile(optimizer=optimizers.Adam(lr=0.001),\n",
    "             loss = losses.MSE,\n",
    "             metrics = [metrics.MSE, metrics.MAE])"
   ]
  },
  {
   "cell_type": "code",
   "execution_count": 13,
   "metadata": {},
   "outputs": [],
   "source": [
    "sys.path.remove(str(projectFolder))\n",
    "os.chdir(currentFolder)"
   ]
  },
  {
   "cell_type": "code",
   "execution_count": 14,
   "metadata": {},
   "outputs": [
    {
     "name": "stderr",
     "output_type": "stream",
     "text": [
      "WARNING:root:Batch exception[Errno 2] No such file or directory: 'C:/earthquake/one-stats-embedding/em_17121.dill'\n",
      "WARNING:root:Batch exception[Errno 2] No such file or directory: 'C:/earthquake/one-stats-embedding/em_25089.dill'\n",
      "WARNING:root:Batch exception[Errno 2] No such file or directory: 'C:/earthquake/one-stats-embedding/em_20257.dill'\n",
      "WARNING:root:Batch exception[Errno 2] No such file or directory: 'C:/earthquake/one-stats-embedding/em_12673.dill'\n",
      "WARNING:root:Batch exception[Errno 2] No such file or directory: 'C:/earthquake/one-stats-embedding/em_9825.dill'\n",
      "WARNING:root:Batch exception[Errno 2] No such file or directory: 'C:/earthquake/one-stats-embedding/em_24721.dill'\n",
      "WARNING:root:Batch exception[Errno 2] No such file or directory: 'C:/earthquake/one-stats-embedding/em_12369.dill'\n",
      "WARNING:root:Batch exception[Errno 2] No such file or directory: 'C:/earthquake/one-stats-embedding/em_9985.dill'\n",
      "WARNING:root:Batch exception[Errno 2] No such file or directory: 'C:/earthquake/one-stats-embedding/em_24017.dill'\n",
      "WARNING:root:Batch exception[Errno 2] No such file or directory: 'C:/earthquake/one-stats-embedding/em_17985.dill'\n",
      "WARNING:root:Batch exception[Errno 2] No such file or directory: 'C:/earthquake/one-stats-embedding/em_11969.dill'\n"
     ]
    },
    {
     "data": {
      "image/png": "[encoded data removed]",
      "text/plain": [
       "<Figure size 1440x720 with 1 Axes>"
      ]
     },
     "metadata": {},
     "output_type": "display_data"
    },
    {
     "name": "stderr",
     "output_type": "stream",
     "text": [
      "WARNING:root:Batch exception[Errno 2] No such file or directory: 'C:/earthquake/one-stats-embedding/em_9409.dill'\n"
     ]
    },
    {
     "name": "stdout",
     "output_type": "stream",
     "text": [
      "Epoch 4/12\n",
      "\r",
      "   1/1599 [..............................] - ETA: 7s - loss: 0.3222 - mean_squared_error: 0.3222 - mean_absolute_error: 0.5669"
     ]
    },
    {
     "name": "stderr",
     "output_type": "stream",
     "text": [
      "WARNING:root:Batch exception[Errno 2] No such file or directory: 'C:/earthquake/one-stats-embedding/em_10417.dill'\n",
      "WARNING:root:Batch exception[Errno 2] No such file or directory: 'C:/earthquake/one-stats-embedding/em_5217.dill'\n",
      "WARNING:root:Batch exception[Errno 2] No such file or directory: 'C:/earthquake/one-stats-embedding/em_20849.dill'\n",
      "WARNING:root:Batch exception[Errno 2] No such file or directory: 'C:/earthquake/one-stats-embedding/em_12737.dill'\n",
      "WARNING:root:Batch exception[Errno 2] No such file or directory: 'C:/earthquake/one-stats-embedding/em_25217.dill'\n",
      "WARNING:root:Batch exception[Errno 2] No such file or directory: 'C:/earthquake/one-stats-embedding/em_24657.dill'\n",
      "WARNING:root:Batch exception[Errno 2] No such file or directory: 'C:/earthquake/one-stats-embedding/em_11713.dill'\n",
      "WARNING:root:Batch exception[Errno 2] No such file or directory: 'C:/earthquake/one-stats-embedding/em_19457.dill'\n",
      "WARNING:root:Batch exception[Errno 2] No such file or directory: 'C:/earthquake/one-stats-embedding/em_5121.dill'\n",
      "WARNING:root:Batch exception[Errno 2] No such file or directory: 'C:/earthquake/one-stats-embedding/em_22801.dill'\n"
     ]
    },
    {
     "name": "stdout",
     "output_type": "stream",
     "text": [
      "\b\b\b\b\b\b\b\b\b\b\b\b\b\b\b\b\b\b\b\b\b\b\b\b\b\b\b\b\b\b\b\b\b\b\b\b\b\b\b\b\b\b\b\b\b\b\b\b\b\b\b\b\b\b\b\b\b\b\b\b\b\b\b\b\b\b\b\b\b\b\b\b\b\b\b\b\b\b\b\b\b\b\b\b\b\b\b\b\b\b\b\b\b\b\b\b\b\b\b\b\b\b\b\b\b\b\b\b\b\b\b\b\b\b\b\b\b\b\b\b\b\b\b\b\b\b\r",
      "  11/1599 [..............................] - ETA: 8s - loss: nan - mean_squared_error: nan - mean_absolute_error: nan         "
     ]
    },
    {
     "name": "stderr",
     "output_type": "stream",
     "text": [
      "WARNING:root:Batch exception[Errno 2] No such file or directory: 'C:/earthquake/one-stats-embedding/em_5489.dill'\n",
      "WARNING:root:Batch exception[Errno 2] No such file or directory: 'C:/earthquake/one-stats-embedding/em_8161.dill'\n",
      "WARNING:root:Batch exception[Errno 2] No such file or directory: 'C:/earthquake/one-stats-embedding/em_8177.dill'\n",
      "WARNING:root:Batch exception[Errno 2] No such file or directory: 'C:/earthquake/one-stats-embedding/em_10257.dill'\n",
      "WARNING:root:Batch exception[Errno 2] No such file or directory: 'C:/earthquake/one-stats-embedding/em_4145.dill'\n",
      "WARNING:root:Batch exception[Errno 2] No such file or directory: 'C:/earthquake/one-stats-embedding/em_20609.dill'\n",
      "WARNING:root:Batch exception[Errno 2] No such file or directory: 'C:/earthquake/one-stats-embedding/em_1329.dill'\n",
      "WARNING:root:Batch exception[Errno 2] No such file or directory: 'C:/earthquake/one-stats-embedding/em_24305.dill'\n",
      "WARNING:root:Batch exception[Errno 2] No such file or directory: 'C:/earthquake/one-stats-embedding/em_6689.dill'\n",
      "WARNING:root:Batch exception[Errno 2] No such file or directory: 'C:/earthquake/one-stats-embedding/em_4337.dill'\n"
     ]
    },
    {
     "name": "stdout",
     "output_type": "stream",
     "text": [
      "\b\b\b\b\b\b\b\b\b\b\b\b\b\b\b\b\b\b\b\b\b\b\b\b\b\b\b\b\b\b\b\b\b\b\b\b\b\b\b\b\b\b\b\b\b\b\b\b\b\b\b\b\b\b\b\b\b\b\b\b\b\b\b\b\b\b\b\b\b\b\b\b\b\b\b\b\b\b\b\b\b\b\b\b\b\b\b\b\b\b\b\b\b\b\b\b\b\b\b\b\b\b\b\b\b\b\b\b\b\b\b\b\b\b\b\b\b\r",
      "  21/1599 [..............................] - ETA: 8s - loss: nan - mean_squared_error: nan - mean_absolute_error: nan"
     ]
    },
    {
     "name": "stderr",
     "output_type": "stream",
     "text": [
      "WARNING:root:Batch exception[Errno 2] No such file or directory: 'C:/earthquake/one-stats-embedding/em_19697.dill'\n",
      "WARNING:root:Batch exception[Errno 2] No such file or directory: 'C:/earthquake/one-stats-embedding/em_21969.dill'\n",
      "WARNING:root:Batch exception[Errno 2] No such file or directory: 'C:/earthquake/one-stats-embedding/em_11313.dill'\n",
      "WARNING:root:Batch exception[Errno 2] No such file or directory: 'C:/earthquake/one-stats-embedding/em_2385.dill'\n",
      "WARNING:root:Batch exception[Errno 2] No such file or directory: 'C:/earthquake/one-stats-embedding/em_5697.dill'\n",
      "WARNING:root:Batch exception[Errno 2] No such file or directory: 'C:/earthquake/one-stats-embedding/em_4257.dill'\n",
      "WARNING:root:Batch exception[Errno 2] No such file or directory: 'C:/earthquake/one-stats-embedding/em_24065.dill'\n",
      "WARNING:root:Batch exception[Errno 2] No such file or directory: 'C:/earthquake/one-stats-embedding/em_12849.dill'\n",
      "WARNING:root:Batch exception[Errno 2] No such file or directory: 'C:/earthquake/one-stats-embedding/em_3473.dill'\n",
      "WARNING:root:Batch exception[Errno 2] No such file or directory: 'C:/earthquake/one-stats-embedding/em_6433.dill'\n"
     ]
    },
    {
     "name": "stdout",
     "output_type": "stream",
     "text": [
      "\b\b\b\b\b\b\b\b\b\b\b\b\b\b\b\b\b\b\b\b\b\b\b\b\b\b\b\b\b\b\b\b\b\b\b\b\b\b\b\b\b\b\b\b\b\b\b\b\b\b\b\b\b\b\b\b\b\b\b\b\b\b\b\b\b\b\b\b\b\b\b\b\b\b\b\b\b\b\b\b\b\b\b\b\b\b\b\b\b\b\b\b\b\b\b\b\b\b\b\b\b\b\b\b\b\b\b\b\b\b\b\b\b\b\b\b\b\r",
      "  31/1599 [..............................] - ETA: 8s - loss: nan - mean_squared_error: nan - mean_absolute_error: nan"
     ]
    },
    {
     "name": "stderr",
     "output_type": "stream",
     "text": [
      "WARNING:root:Batch exception[Errno 2] No such file or directory: 'C:/earthquake/one-stats-embedding/em_12353.dill'\n",
      "WARNING:root:Batch exception[Errno 2] No such file or directory: 'C:/earthquake/one-stats-embedding/em_14001.dill'\n",
      "WARNING:root:Batch exception[Errno 2] No such file or directory: 'C:/earthquake/one-stats-embedding/em_21681.dill'\n",
      "WARNING:root:Batch exception[Errno 2] No such file or directory: 'C:/earthquake/one-stats-embedding/em_9105.dill'\n",
      "WARNING:root:Batch exception[Errno 2] No such file or directory: 'C:/earthquake/one-stats-embedding/em_13937.dill'\n",
      "WARNING:root:Batch exception[Errno 2] No such file or directory: 'C:/earthquake/one-stats-embedding/em_21985.dill'\n",
      "WARNING:root:Batch exception[Errno 2] No such file or directory: 'C:/earthquake/one-stats-embedding/em_20225.dill'\n",
      "WARNING:root:Batch exception[Errno 2] No such file or directory: 'C:/earthquake/one-stats-embedding/em_22065.dill'\n",
      "WARNING:root:Batch exception[Errno 2] No such file or directory: 'C:/earthquake/one-stats-embedding/em_17889.dill'\n",
      "WARNING:root:Batch exception[Errno 2] No such file or directory: 'C:/earthquake/one-stats-embedding/em_23345.dill'\n"
     ]
    },
    {
     "name": "stdout",
     "output_type": "stream",
     "text": [
      "\b\b\b\b\b\b\b\b\b\b\b\b\b\b\b\b\b\b\b\b\b\b\b\b\b\b\b\b\b\b\b\b\b\b\b\b\b\b\b\b\b\b\b\b\b\b\b\b\b\b\b\b\b\b\b\b\b\b\b\b\b\b\b\b\b\b\b\b\b\b\b\b\b\b\b\b\b\b\b\b\b\b\b\b\b\b\b\b\b\b\b\b\b\b\b\b\b\b\b\b\b\b\b\b\b\b\b\b\b\b\b\b\b\b\b\b\b\r",
      "  42/1599 [..............................] - ETA: 8s - loss: nan - mean_squared_error: nan - mean_absolute_error: nan"
     ]
    },
    {
     "name": "stderr",
     "output_type": "stream",
     "text": [
      "WARNING:root:Batch exception[Errno 2] No such file or directory: 'C:/earthquake/one-stats-embedding/em_22113.dill'\n",
      "WARNING:root:Batch exception[Errno 2] No such file or directory: 'C:/earthquake/one-stats-embedding/em_8497.dill'\n",
      "WARNING:root:Batch exception[Errno 2] No such file or directory: 'C:/earthquake/one-stats-embedding/em_12401.dill'\n",
      "WARNING:root:Batch exception[Errno 2] No such file or directory: 'C:/earthquake/one-stats-embedding/em_1409.dill'\n",
      "WARNING:root:Batch exception[Errno 2] No such file or directory: 'C:/earthquake/one-stats-embedding/em_2993.dill'\n",
      "WARNING:root:Batch exception[Errno 2] No such file or directory: 'C:/earthquake/one-stats-embedding/em_24033.dill'\n",
      "WARNING:root:Batch exception[Errno 2] No such file or directory: 'C:/earthquake/one-stats-embedding/em_1713.dill'\n",
      "WARNING:root:Batch exception[Errno 2] No such file or directory: 'C:/earthquake/one-stats-embedding/em_9953.dill'\n",
      "WARNING:root:Batch exception[Errno 2] No such file or directory: 'C:/earthquake/one-stats-embedding/em_21617.dill'\n"
     ]
    },
    {
     "name": "stdout",
     "output_type": "stream",
     "text": [
      "\b\b\b\b\b\b\b\b\b\b\b\b\b\b\b\b\b\b\b\b\b\b\b\b\b\b\b\b\b\b\b\b\b\b\b\b\b\b\b\b\b\b\b\b\b\b\b\b\b\b\b\b\b\b\b\b\b\b\b\b\b\b\b\b\b\b\b\b\b\b\b\b\b\b\b\b\b\b\b\b\b\b\b\b\b\b\b\b\b\b\b\b\b\b\b\b\b\b\b\b\b\b\b\b\b\b\b\b\b\b\b\b\b\b\b\b\b\r",
      "  52/1599 [..............................] - ETA: 8s - loss: nan - mean_squared_error: nan - mean_absolute_error: nan"
     ]
    },
    {
     "name": "stderr",
     "output_type": "stream",
     "text": [
      "WARNING:root:Batch exception[Errno 2] No such file or directory: 'C:/earthquake/one-stats-embedding/em_6033.dill'\n",
      "WARNING:root:Batch exception[Errno 2] No such file or directory: 'C:/earthquake/one-stats-embedding/em_18513.dill'\n",
      "WARNING:root:Batch exception[Errno 2] No such file or directory: 'C:/earthquake/one-stats-embedding/em_6081.dill'\n",
      "WARNING:root:Batch exception[Errno 2] No such file or directory: 'C:/earthquake/one-stats-embedding/em_15841.dill'\n",
      "WARNING:root:Batch exception[Errno 2] No such file or directory: 'C:/earthquake/one-stats-embedding/em_9969.dill'\n",
      "WARNING:root:Batch exception[Errno 2] No such file or directory: 'C:/earthquake/one-stats-embedding/em_16113.dill'\n",
      "WARNING:root:Batch exception[Errno 2] No such file or directory: 'C:/earthquake/one-stats-embedding/em_6097.dill'\n",
      "WARNING:root:Batch exception[Errno 2] No such file or directory: 'C:/earthquake/one-stats-embedding/em_21697.dill'\n",
      "WARNING:root:Batch exception[Errno 2] No such file or directory: 'C:/earthquake/one-stats-embedding/em_14145.dill'\n",
      "WARNING:root:Batch exception[Errno 2] No such file or directory: 'C:/earthquake/one-stats-embedding/em_4033.dill'\n"
     ]
    },
    {
     "name": "stdout",
     "output_type": "stream",
     "text": [
      "\b\b\b\b\b\b\b\b\b\b\b\b\b\b\b\b\b\b\b\b\b\b\b\b\b\b\b\b\b\b\b\b\b\b\b\b\b\b\b\b\b\b\b\b\b\b\b\b\b\b\b\b\b\b\b\b\b\b\b\b\b\b\b\b\b\b\b\b\b\b\b\b\b\b\b\b\b\b\b\b\b\b\b\b\b\b\b\b\b\b\b\b\b\b\b\b\b\b\b\b\b\b\b\b\b\b\b\b\b\b\b\b\b\b\b\b\b\r",
      "  62/1599 [>.............................] - ETA: 7s - loss: nan - mean_squared_error: nan - mean_absolute_error: nan"
     ]
    },
    {
     "name": "stderr",
     "output_type": "stream",
     "text": [
      "WARNING:root:Batch exception[Errno 2] No such file or directory: 'C:/earthquake/one-stats-embedding/em_16833.dill'\n",
      "WARNING:root:Batch exception[Errno 2] No such file or directory: 'C:/earthquake/one-stats-embedding/em_10785.dill'\n",
      "WARNING:root:Batch exception[Errno 2] No such file or directory: 'C:/earthquake/one-stats-embedding/em_24257.dill'\n",
      "WARNING:root:Batch exception[Errno 2] No such file or directory: 'C:/earthquake/one-stats-embedding/em_23553.dill'\n",
      "WARNING:root:Batch exception[Errno 2] No such file or directory: 'C:/earthquake/one-stats-embedding/em_8993.dill'\n",
      "WARNING:root:Batch exception[Errno 2] No such file or directory: 'C:/earthquake/one-stats-embedding/em_929.dill'\n",
      "WARNING:root:Batch exception[Errno 2] No such file or directory: 'C:/earthquake/one-stats-embedding/em_22657.dill'\n",
      "WARNING:root:Batch exception[Errno 2] No such file or directory: 'C:/earthquake/one-stats-embedding/em_625.dill'\n",
      "WARNING:root:Batch exception[Errno 2] No such file or directory: 'C:/earthquake/one-stats-embedding/em_5185.dill'\n",
      "WARNING:root:Batch exception[Errno 2] No such file or directory: 'C:/earthquake/one-stats-embedding/em_12689.dill'\n"
     ]
    },
    {
     "name": "stdout",
     "output_type": "stream",
     "text": [
      "\b\b\b\b\b\b\b\b\b\b\b\b\b\b\b\b\b\b\b\b\b\b\b\b\b\b\b\b\b\b\b\b\b\b\b\b\b\b\b\b\b\b\b\b\b\b\b\b\b\b\b\b\b\b\b\b\b\b\b\b\b\b\b\b\b\b\b\b\b\b\b\b\b\b\b\b\b\b\b\b\b\b\b\b\b\b\b\b\b\b\b\b\b\b\b\b\b\b\b\b\b\b\b\b\b\b\b\b\b\b\b\b\b\b\b\b\b\r",
      "  72/1599 [>.............................] - ETA: 7s - loss: nan - mean_squared_error: nan - mean_absolute_error: nan"
     ]
    },
    {
     "name": "stderr",
     "output_type": "stream",
     "text": [
      "WARNING:root:Batch exception[Errno 2] No such file or directory: 'C:/earthquake/one-stats-embedding/em_17521.dill'\n",
      "WARNING:root:Batch exception[Errno 2] No such file or directory: 'C:/earthquake/one-stats-embedding/em_7857.dill'\n",
      "WARNING:root:Batch exception[Errno 2] No such file or directory: 'C:/earthquake/one-stats-embedding/em_5505.dill'\n",
      "WARNING:root:Batch exception[Errno 2] No such file or directory: 'C:/earthquake/one-stats-embedding/em_7841.dill'\n",
      "WARNING:root:Batch exception[Errno 2] No such file or directory: 'C:/earthquake/one-stats-embedding/em_20737.dill'\n",
      "WARNING:root:Batch exception[Errno 2] No such file or directory: 'C:/earthquake/one-stats-embedding/em_20977.dill'\n",
      "WARNING:root:Batch exception[Errno 2] No such file or directory: 'C:/earthquake/one-stats-embedding/em_7681.dill'\n",
      "WARNING:root:Batch exception[Errno 2] No such file or directory: 'C:/earthquake/one-stats-embedding/em_23281.dill'\n",
      "WARNING:root:Batch exception[Errno 2] No such file or directory: 'C:/earthquake/one-stats-embedding/em_8433.dill'\n",
      "WARNING:root:Batch exception[Errno 2] No such file or directory: 'C:/earthquake/one-stats-embedding/em_22257.dill'\n"
     ]
    },
    {
     "name": "stdout",
     "output_type": "stream",
     "text": [
      "\b\b\b\b\b\b\b\b\b\b\b\b\b\b\b\b\b\b\b\b\b\b\b\b\b\b\b\b\b\b\b\b\b\b\b\b\b\b\b\b\b\b\b\b\b\b\b\b\b\b\b\b\b\b\b\b\b\b\b\b\b\b\b\b\b\b\b\b\b\b\b\b\b\b\b\b\b\b\b\b\b\b\b\b\b\b\b\b\b\b\b\b\b\b\b\b\b\b\b\b\b\b\b\b\b\b\b\b\b\b\b\b\b\b\b\b\b\r",
      "  82/1599 [>.............................] - ETA: 7s - loss: nan - mean_squared_error: nan - mean_absolute_error: nan"
     ]
    },
    {
     "name": "stderr",
     "output_type": "stream",
     "text": [
      "WARNING:root:Batch exception[Errno 2] No such file or directory: 'C:/earthquake/one-stats-embedding/em_13809.dill'\n",
      "WARNING:root:Batch exception[Errno 2] No such file or directory: 'C:/earthquake/one-stats-embedding/em_18529.dill'\n",
      "WARNING:root:Batch exception[Errno 2] No such file or directory: 'C:/earthquake/one-stats-embedding/em_22033.dill'\n",
      "WARNING:root:Batch exception[Errno 2] No such file or directory: 'C:/earthquake/one-stats-embedding/em_18945.dill'\n",
      "WARNING:root:Batch exception[Errno 2] No such file or directory: 'C:/earthquake/one-stats-embedding/em_22433.dill'\n",
      "WARNING:root:Batch exception[Errno 2] No such file or directory: 'C:/earthquake/one-stats-embedding/em_9009.dill'\n",
      "WARNING:root:Batch exception[Errno 2] No such file or directory: 'C:/earthquake/one-stats-embedding/em_14577.dill'\n",
      "WARNING:root:Batch exception[Errno 2] No such file or directory: 'C:/earthquake/one-stats-embedding/em_21153.dill'\n",
      "WARNING:root:Batch exception[Errno 2] No such file or directory: 'C:/earthquake/one-stats-embedding/em_10593.dill'\n",
      "WARNING:root:Batch exception[Errno 2] No such file or directory: 'C:/earthquake/one-stats-embedding/em_7745.dill'\n"
     ]
    },
    {
     "name": "stdout",
     "output_type": "stream",
     "text": [
      "\b\b\b\b\b\b\b\b\b\b\b\b\b\b\b\b\b\b\b\b\b\b\b\b\b\b\b\b\b\b\b\b\b\b\b\b\b\b\b\b\b\b\b\b\b\b\b\b\b\b\b\b\b\b\b\b\b\b\b\b\b\b\b\b\b\b\b\b\b\b\b\b\b\b\b\b\b\b\b\b\b\b\b\b\b\b\b\b\b\b\b\b\b\b\b\b\b\b\b\b\b\b\b\b\b\b\b\b\b\b\b\b\b\b\b\b\b\r",
      "  92/1599 [>.............................] - ETA: 7s - loss: nan - mean_squared_error: nan - mean_absolute_error: nan"
     ]
    },
    {
     "name": "stderr",
     "output_type": "stream",
     "text": [
      "WARNING:root:Batch exception[Errno 2] No such file or directory: 'C:/earthquake/one-stats-embedding/em_16593.dill'\n",
      "WARNING:root:Batch exception[Errno 2] No such file or directory: 'C:/earthquake/one-stats-embedding/em_20129.dill'\n",
      "WARNING:root:Batch exception[Errno 2] No such file or directory: 'C:/earthquake/one-stats-embedding/em_12833.dill'\n",
      "WARNING:root:Batch exception[Errno 2] No such file or directory: 'C:/earthquake/one-stats-embedding/em_12785.dill'\n",
      "WARNING:root:Batch exception[Errno 2] No such file or directory: 'C:/earthquake/one-stats-embedding/em_11201.dill'\n",
      "WARNING:root:Batch exception[Errno 2] No such file or directory: 'C:/earthquake/one-stats-embedding/em_20401.dill'\n",
      "WARNING:root:Batch exception[Errno 2] No such file or directory: 'C:/earthquake/one-stats-embedding/em_24049.dill'\n",
      "WARNING:root:Batch exception[Errno 2] No such file or directory: 'C:/earthquake/one-stats-embedding/em_14785.dill'\n",
      "WARNING:root:Batch exception[Errno 2] No such file or directory: 'C:/earthquake/one-stats-embedding/em_18833.dill'\n"
     ]
    },
    {
     "name": "stdout",
     "output_type": "stream",
     "text": [
      "\b\b\b\b\b\b\b\b\b\b\b\b\b\b\b\b\b\b\b\b\b\b\b\b\b\b\b\b\b\b\b\b\b\b\b\b\b\b\b\b\b\b\b\b\b\b\b\b\b\b\b\b\b\b\b\b\b\b\b\b\b\b\b\b\b\b\b\b\b\b\b\b\b\b\b\b\b\b\b\b\b\b\b\b\b\b\b\b\b\b\b\b\b\b\b\b\b\b\b\b\b\b\b\b\b\b\b\b\b\b\b\b\b\b\b\b\b\r",
      " 101/1599 [>.............................] - ETA: 7s - loss: nan - mean_squared_error: nan - mean_absolute_error: nan"
     ]
    },
    {
     "name": "stderr",
     "output_type": "stream",
     "text": [
      "WARNING:root:Batch exception[Errno 2] No such file or directory: 'C:/earthquake/one-stats-embedding/em_17505.dill'\n",
      "WARNING:root:Batch exception[Errno 2] No such file or directory: 'C:/earthquake/one-stats-embedding/em_6513.dill'\n",
      "WARNING:root:Batch exception[Errno 2] No such file or directory: 'C:/earthquake/one-stats-embedding/em_9265.dill'\n",
      "WARNING:root:Batch exception[Errno 2] No such file or directory: 'C:/earthquake/one-stats-embedding/em_18737.dill'\n",
      "WARNING:root:Batch exception[Errno 2] No such file or directory: 'C:/earthquake/one-stats-embedding/em_23089.dill'\n",
      "WARNING:root:Batch exception[Errno 2] No such file or directory: 'C:/earthquake/one-stats-embedding/em_15393.dill'\n",
      "WARNING:root:Batch exception[Errno 2] No such file or directory: 'C:/earthquake/one-stats-embedding/em_6369.dill'\n",
      "WARNING:root:Batch exception[Errno 2] No such file or directory: 'C:/earthquake/one-stats-embedding/em_3313.dill'\n",
      "WARNING:root:Batch exception[Errno 2] No such file or directory: 'C:/earthquake/one-stats-embedding/em_11825.dill'\n"
     ]
    },
    {
     "name": "stdout",
     "output_type": "stream",
     "text": [
      "\b\b\b\b\b\b\b\b\b\b\b\b\b\b\b\b\b\b\b\b\b\b\b\b\b\b\b\b\b\b\b\b\b\b\b\b\b\b\b\b\b\b\b\b\b\b\b\b\b\b\b\b\b\b\b\b\b\b\b\b\b\b\b\b\b\b\b\b\b\b\b\b\b\b\b\b\b\b\b\b\b\b\b\b\b\b\b\b\b\b\b\b\b\b\b\b\b\b\b\b\b\b\b\b\b\b\b\b\b\b\b\b\b\b\b\b\b\r",
      " 111/1599 [=>............................] - ETA: 7s - loss: nan - mean_squared_error: nan - mean_absolute_error: nan"
     ]
    },
    {
     "name": "stderr",
     "output_type": "stream",
     "text": [
      "WARNING:root:Batch exception[Errno 2] No such file or directory: 'C:/earthquake/one-stats-embedding/em_18801.dill'\n",
      "WARNING:root:Batch exception[Errno 2] No such file or directory: 'C:/earthquake/one-stats-embedding/em_20081.dill'\n",
      "WARNING:root:Batch exception[Errno 2] No such file or directory: 'C:/earthquake/one-stats-embedding/em_11857.dill'\n",
      "WARNING:root:Batch exception[Errno 2] No such file or directory: 'C:/earthquake/one-stats-embedding/em_4097.dill'\n",
      "WARNING:root:Batch exception[Errno 2] No such file or directory: 'C:/earthquake/one-stats-embedding/em_4417.dill'\n",
      "WARNING:root:Batch exception[Errno 2] No such file or directory: 'C:/earthquake/one-stats-embedding/em_17057.dill'\n",
      "WARNING:root:Batch exception[Errno 2] No such file or directory: 'C:/earthquake/one-stats-embedding/em_6385.dill'\n",
      "WARNING:root:Batch exception[Errno 2] No such file or directory: 'C:/earthquake/one-stats-embedding/em_24241.dill'\n",
      "WARNING:root:Batch exception[Errno 2] No such file or directory: 'C:/earthquake/one-stats-embedding/em_3345.dill'\n",
      "WARNING:root:Batch exception[Errno 2] No such file or directory: 'C:/earthquake/one-stats-embedding/em_23537.dill'\n",
      "WARNING:root:Batch exception[Errno 2] No such file or directory: 'C:/earthquake/one-stats-embedding/em_2433.dill'\n"
     ]
    },
    {
     "name": "stdout",
     "output_type": "stream",
     "text": [
      "\b\b\b\b\b\b\b\b\b\b\b\b\b\b\b\b\b\b\b\b\b\b\b\b\b\b\b\b\b\b\b\b\b\b\b\b\b\b\b\b\b\b\b\b\b\b\b\b\b\b\b\b\b\b\b\b\b\b\b\b\b\b\b\b\b\b\b\b\b\b\b\b\b\b\b\b\b\b\b\b\b\b\b\b\b\b\b\b\b\b\b\b\b\b\b\b\b\b\b\b\b\b\b\b\b\b\b\b\b\b\b\b\b\b\b\b\b\r",
      " 122/1599 [=>............................] - ETA: 7s - loss: nan - mean_squared_error: nan - mean_absolute_error: nan"
     ]
    },
    {
     "name": "stderr",
     "output_type": "stream",
     "text": [
      "WARNING:root:Batch exception[Errno 2] No such file or directory: 'C:/earthquake/one-stats-embedding/em_17633.dill'\n",
      "WARNING:root:Batch exception[Errno 2] No such file or directory: 'C:/earthquake/one-stats-embedding/em_5681.dill'\n",
      "WARNING:root:Batch exception[Errno 2] No such file or directory: 'C:/earthquake/one-stats-embedding/em_20641.dill'\n",
      "WARNING:root:Batch exception[Errno 2] No such file or directory: 'C:/earthquake/one-stats-embedding/em_1825.dill'\n",
      "WARNING:root:Batch exception[Errno 2] No such file or directory: 'C:/earthquake/one-stats-embedding/em_4129.dill'\n",
      "WARNING:root:Batch exception[Errno 2] No such file or directory: 'C:/earthquake/one-stats-embedding/em_12289.dill'\n",
      "WARNING:root:Batch exception[Errno 2] No such file or directory: 'C:/earthquake/one-stats-embedding/em_4849.dill'\n",
      "WARNING:root:Batch exception[Errno 2] No such file or directory: 'C:/earthquake/one-stats-embedding/em_20833.dill'\n",
      "WARNING:root:Batch exception[Errno 2] No such file or directory: 'C:/earthquake/one-stats-embedding/em_18545.dill'\n",
      "WARNING:root:Batch exception[Errno 2] No such file or directory: 'C:/earthquake/one-stats-embedding/em_12865.dill'\n",
      "WARNING:root:Batch exception[Errno 2] No such file or directory: 'C:/earthquake/one-stats-embedding/em_6625.dill'\n"
     ]
    },
    {
     "name": "stdout",
     "output_type": "stream",
     "text": [
      "\b\b\b\b\b\b\b\b\b\b\b\b\b\b\b\b\b\b\b\b\b\b\b\b\b\b\b\b\b\b\b\b\b\b\b\b\b\b\b\b\b\b\b\b\b\b\b\b\b\b\b\b\b\b\b\b\b\b\b\b\b\b\b\b\b\b\b\b\b\b\b\b\b\b\b\b\b\b\b\b\b\b\b\b\b\b\b\b\b\b\b\b\b\b\b\b\b\b\b\b\b\b\b\b\b\b\b\b\b\b\b\b\b\b\b\b\b\r",
      " 133/1599 [=>............................] - ETA: 7s - loss: nan - mean_squared_error: nan - mean_absolute_error: nan"
     ]
    },
    {
     "name": "stderr",
     "output_type": "stream",
     "text": [
      "WARNING:root:Batch exception[Errno 2] No such file or directory: 'C:/earthquake/one-stats-embedding/em_17041.dill'\n",
      "WARNING:root:Batch exception[Errno 2] No such file or directory: 'C:/earthquake/one-stats-embedding/em_19521.dill'\n",
      "WARNING:root:Batch exception[Errno 2] No such file or directory: 'C:/earthquake/one-stats-embedding/em_18929.dill'\n",
      "WARNING:root:Batch exception[Errno 2] No such file or directory: 'C:/earthquake/one-stats-embedding/em_19185.dill'\n",
      "WARNING:root:Batch exception[Errno 2] No such file or directory: 'C:/earthquake/one-stats-embedding/em_16753.dill'\n",
      "WARNING:root:Batch exception[Errno 2] No such file or directory: 'C:/earthquake/one-stats-embedding/em_593.dill'\n",
      "WARNING:root:Batch exception[Errno 2] No such file or directory: 'C:/earthquake/one-stats-embedding/em_8465.dill'\n",
      "WARNING:root:Batch exception[Errno 2] No such file or directory: 'C:/earthquake/one-stats-embedding/em_19601.dill'\n",
      "WARNING:root:Batch exception[Errno 2] No such file or directory: 'C:/earthquake/one-stats-embedding/em_1457.dill'\n",
      "WARNING:root:Batch exception[Errno 2] No such file or directory: 'C:/earthquake/one-stats-embedding/em_3105.dill'\n",
      "WARNING:root:Batch exception[Errno 2] No such file or directory: 'C:/earthquake/one-stats-embedding/em_14529.dill'\n"
     ]
    },
    {
     "name": "stdout",
     "output_type": "stream",
     "text": [
      "\b\b\b\b\b\b\b\b\b\b\b\b\b\b\b\b\b\b\b\b\b\b\b\b\b\b\b\b\b\b\b\b\b\b\b\b\b\b\b\b\b\b\b\b\b\b\b\b\b\b\b\b\b\b\b\b\b\b\b\b\b\b\b\b\b\b\b\b\b\b\b\b\b\b\b\b\b\b\b\b\b\b\b\b\b\b\b\b\b\b\b\b\b\b\b\b\b\b\b\b\b\b\b\b\b\b\b\b\b\b\b\b\b\b\b\b\b\r",
      " 144/1599 [=>............................] - ETA: 7s - loss: nan - mean_squared_error: nan - mean_absolute_error: nan"
     ]
    },
    {
     "name": "stderr",
     "output_type": "stream",
     "text": [
      "WARNING:root:Batch exception[Errno 2] No such file or directory: 'C:/earthquake/one-stats-embedding/em_23953.dill'\n",
      "WARNING:root:Batch exception[Errno 2] No such file or directory: 'C:/earthquake/one-stats-embedding/em_14289.dill'\n",
      "WARNING:root:Batch exception[Errno 2] No such file or directory: 'C:/earthquake/one-stats-embedding/em_15329.dill'\n",
      "WARNING:root:Batch exception[Errno 2] No such file or directory: 'C:/earthquake/one-stats-embedding/em_18081.dill'\n",
      "WARNING:root:Batch exception[Errno 2] No such file or directory: 'C:/earthquake/one-stats-embedding/em_18673.dill'\n",
      "WARNING:root:Batch exception[Errno 2] No such file or directory: 'C:/earthquake/one-stats-embedding/em_4065.dill'\n",
      "WARNING:root:Batch exception[Errno 2] No such file or directory: 'C:/earthquake/one-stats-embedding/em_24225.dill'\n",
      "WARNING:root:Batch exception[Errno 2] No such file or directory: 'C:/earthquake/one-stats-embedding/em_13633.dill'\n",
      "WARNING:root:Batch exception[Errno 2] No such file or directory: 'C:/earthquake/one-stats-embedding/em_6321.dill'\n",
      "WARNING:root:Batch exception[Errno 2] No such file or directory: 'C:/earthquake/one-stats-embedding/em_4609.dill'\n",
      "WARNING:root:Batch exception[Errno 2] No such file or directory: 'C:/earthquake/one-stats-embedding/em_3265.dill'\n",
      "WARNING:root:Batch exception[Errno 2] No such file or directory: 'C:/earthquake/one-stats-embedding/em_19281.dill'\n"
     ]
    },
    {
     "name": "stdout",
     "output_type": "stream",
     "text": [
      "\b\b\b\b\b\b\b\b\b\b\b\b\b\b\b\b\b\b\b\b\b\b\b\b\b\b\b\b\b\b\b\b\b\b\b\b\b\b\b\b\b\b\b\b\b\b\b\b\b\b\b\b\b\b\b\b\b\b\b\b\b\b\b\b\b\b\b\b\b\b\b\b\b\b\b\b\b\b\b\b\b\b\b\b\b\b\b\b\b\b\b\b\b\b\b\b\b\b\b\b\b\b\b\b\b\b\b\b\b\b\b\b\b\b\b\b\b\r",
      " 156/1599 [=>............................] - ETA: 7s - loss: nan - mean_squared_error: nan - mean_absolute_error: nan"
     ]
    },
    {
     "name": "stderr",
     "output_type": "stream",
     "text": [
      "WARNING:root:Batch exception[Errno 2] No such file or directory: 'C:/earthquake/one-stats-embedding/em_11409.dill'\n",
      "WARNING:root:Batch exception[Errno 2] No such file or directory: 'C:/earthquake/one-stats-embedding/em_1841.dill'\n",
      "WARNING:root:Batch exception[Errno 2] No such file or directory: 'C:/earthquake/one-stats-embedding/em_4673.dill'\n",
      "WARNING:root:Batch exception[Errno 2] No such file or directory: 'C:/earthquake/one-stats-embedding/em_5825.dill'\n",
      "WARNING:root:Batch exception[Errno 2] No such file or directory: 'C:/earthquake/one-stats-embedding/em_12513.dill'\n",
      "WARNING:root:Batch exception[Errno 2] No such file or directory: 'C:/earthquake/one-stats-embedding/em_22689.dill'\n",
      "WARNING:root:Batch exception[Errno 2] No such file or directory: 'C:/earthquake/one-stats-embedding/em_8289.dill'\n",
      "WARNING:root:Batch exception[Errno 2] No such file or directory: 'C:/earthquake/one-stats-embedding/em_2353.dill'\n",
      "WARNING:root:Batch exception[Errno 2] No such file or directory: 'C:/earthquake/one-stats-embedding/em_4545.dill'\n",
      "WARNING:root:Batch exception[Errno 2] No such file or directory: 'C:/earthquake/one-stats-embedding/em_11617.dill'\n",
      "WARNING:root:Batch exception[Errno 2] No such file or directory: 'C:/earthquake/one-stats-embedding/em_4369.dill'\n",
      "WARNING:root:Batch exception[Errno 2] No such file or directory: 'C:/earthquake/one-stats-embedding/em_12337.dill'\n"
     ]
    },
    {
     "name": "stdout",
     "output_type": "stream",
     "text": [
      "\b\b\b\b\b\b\b\b\b\b\b\b\b\b\b\b\b\b\b\b\b\b\b\b\b\b\b\b\b\b\b\b\b\b\b\b\b\b\b\b\b\b\b\b\b\b\b\b\b\b\b\b\b\b\b\b\b\b\b\b\b\b\b\b\b\b\b\b\b\b\b\b\b\b\b\b\b\b\b\b\b\b\b\b\b\b\b\b\b\b\b\b\b\b\b\b\b\b\b\b\b\b\b\b\b\b\b\b\b\b\b\b\b\b\b\b\b\r",
      " 168/1599 [==>...........................] - ETA: 7s - loss: nan - mean_squared_error: nan - mean_absolute_error: nan"
     ]
    },
    {
     "name": "stderr",
     "output_type": "stream",
     "text": [
      "WARNING:root:Batch exception[Errno 2] No such file or directory: 'C:/earthquake/one-stats-embedding/em_17873.dill'\n",
      "WARNING:root:Batch exception[Errno 2] No such file or directory: 'C:/earthquake/one-stats-embedding/em_10705.dill'\n",
      "WARNING:root:Batch exception[Errno 2] No such file or directory: 'C:/earthquake/one-stats-embedding/em_24705.dill'\n",
      "WARNING:root:Batch exception[Errno 2] No such file or directory: 'C:/earthquake/one-stats-embedding/em_12993.dill'\n",
      "WARNING:root:Batch exception[Errno 2] No such file or directory: 'C:/earthquake/one-stats-embedding/em_7009.dill'\n",
      "WARNING:root:Batch exception[Errno 2] No such file or directory: 'C:/earthquake/one-stats-embedding/em_12177.dill'\n",
      "WARNING:root:Batch exception[Errno 2] No such file or directory: 'C:/earthquake/one-stats-embedding/em_6657.dill'\n",
      "WARNING:root:Batch exception[Errno 2] No such file or directory: 'C:/earthquake/one-stats-embedding/em_7201.dill'\n",
      "WARNING:root:Batch exception[Errno 2] No such file or directory: 'C:/earthquake/one-stats-embedding/em_21137.dill'\n",
      "WARNING:root:Batch exception[Errno 2] No such file or directory: 'C:/earthquake/one-stats-embedding/em_22977.dill'\n",
      "WARNING:root:Batch exception[Errno 2] No such file or directory: 'C:/earthquake/one-stats-embedding/em_3761.dill'\n"
     ]
    },
    {
     "name": "stdout",
     "output_type": "stream",
     "text": [
      "\b\b\b\b\b\b\b\b\b\b\b\b\b\b\b\b\b\b\b\b\b\b\b\b\b\b\b\b\b\b\b\b\b\b\b\b\b\b\b\b\b\b\b\b\b\b\b\b\b\b\b\b\b\b\b\b\b\b\b\b\b\b\b\b\b\b\b\b\b\b\b\b\b\b\b\b\b\b\b\b\b\b\b\b\b\b\b\b\b\b\b\b\b\b\b\b\b\b\b\b\b\b\b\b\b\b\b\b\b\b\b\b\b\b\b\b\b\r",
      " 179/1599 [==>...........................] - ETA: 7s - loss: nan - mean_squared_error: nan - mean_absolute_error: nan"
     ]
    },
    {
     "name": "stderr",
     "output_type": "stream",
     "text": [
      "WARNING:root:Batch exception[Errno 2] No such file or directory: 'C:/earthquake/one-stats-embedding/em_22881.dill'\n",
      "WARNING:root:Batch exception[Errno 2] No such file or directory: 'C:/earthquake/one-stats-embedding/em_23569.dill'\n",
      "WARNING:root:Batch exception[Errno 2] No such file or directory: 'C:/earthquake/one-stats-embedding/em_12241.dill'\n",
      "WARNING:root:Batch exception[Errno 2] No such file or directory: 'C:/earthquake/one-stats-embedding/em_15825.dill'\n",
      "WARNING:root:Batch exception[Errno 2] No such file or directory: 'C:/earthquake/one-stats-embedding/em_17713.dill'\n",
      "WARNING:root:Batch exception[Errno 2] No such file or directory: 'C:/earthquake/one-stats-embedding/em_23361.dill'\n",
      "WARNING:root:Batch exception[Errno 2] No such file or directory: 'C:/earthquake/one-stats-embedding/em_19073.dill'\n",
      "WARNING:root:Batch exception[Errno 2] No such file or directory: 'C:/earthquake/one-stats-embedding/em_5425.dill'\n",
      "WARNING:root:Batch exception[Errno 2] No such file or directory: 'C:/earthquake/one-stats-embedding/em_1681.dill'\n",
      "WARNING:root:Batch exception[Errno 2] No such file or directory: 'C:/earthquake/one-stats-embedding/em_20801.dill'\n",
      "WARNING:root:Batch exception[Errno 2] No such file or directory: 'C:/earthquake/one-stats-embedding/em_6881.dill'\n"
     ]
    },
    {
     "name": "stdout",
     "output_type": "stream",
     "text": [
      "\b\b\b\b\b\b\b\b\b\b\b\b\b\b\b\b\b\b\b\b\b\b\b\b\b\b\b\b\b\b\b\b\b\b\b\b\b\b\b\b\b\b\b\b\b\b\b\b\b\b\b\b\b\b\b\b\b\b\b\b\b\b\b\b\b\b\b\b\b\b\b\b\b\b\b\b\b\b\b\b\b\b\b\b\b\b\b\b\b\b\b\b\b\b\b\b\b\b\b\b\b\b\b\b\b\b\b\b\b\b\b\b\b\b\b\b\b\r",
      " 190/1599 [==>...........................] - ETA: 7s - loss: nan - mean_squared_error: nan - mean_absolute_error: nan"
     ]
    },
    {
     "name": "stderr",
     "output_type": "stream",
     "text": [
      "WARNING:root:Batch exception[Errno 2] No such file or directory: 'C:/earthquake/one-stats-embedding/em_15457.dill'\n",
      "WARNING:root:Batch exception[Errno 2] No such file or directory: 'C:/earthquake/one-stats-embedding/em_9057.dill'\n",
      "WARNING:root:Batch exception[Errno 2] No such file or directory: 'C:/earthquake/one-stats-embedding/em_8449.dill'\n",
      "WARNING:root:Batch exception[Errno 2] No such file or directory: 'C:/earthquake/one-stats-embedding/em_6065.dill'\n",
      "WARNING:root:Batch exception[Errno 2] No such file or directory: 'C:/earthquake/one-stats-embedding/em_24497.dill'\n",
      "WARNING:root:Batch exception[Errno 2] No such file or directory: 'C:/earthquake/one-stats-embedding/em_20673.dill'\n",
      "WARNING:root:Batch exception[Errno 2] No such file or directory: 'C:/earthquake/one-stats-embedding/em_21089.dill'\n",
      "WARNING:root:Batch exception[Errno 2] No such file or directory: 'C:/earthquake/one-stats-embedding/em_24001.dill'\n",
      "WARNING:root:Batch exception[Errno 2] No such file or directory: 'C:/earthquake/one-stats-embedding/em_16689.dill'\n",
      "WARNING:root:Batch exception[Errno 2] No such file or directory: 'C:/earthquake/one-stats-embedding/em_20161.dill'\n",
      "WARNING:root:Batch exception[Errno 2] No such file or directory: 'C:/earthquake/one-stats-embedding/em_19233.dill'\n"
     ]
    },
    {
     "name": "stdout",
     "output_type": "stream",
     "text": [
      "\b\b\b\b\b\b\b\b\b\b\b\b\b\b\b\b\b\b\b\b\b\b\b\b\b\b\b\b\b\b\b\b\b\b\b\b\b\b\b\b\b\b\b\b\b\b\b\b\b\b\b\b\b\b\b\b\b\b\b\b\b\b\b\b\b\b\b\b\b\b\b\b\b\b\b\b\b\b\b\b\b\b\b\b\b\b\b\b\b\b\b\b\b\b\b\b\b\b\b\b\b\b\b\b\b\b\b\b\b\b\b\b\b\b\b\b\b\r",
      " 201/1599 [==>...........................] - ETA: 6s - loss: nan - mean_squared_error: nan - mean_absolute_error: nan"
     ]
    },
    {
     "name": "stderr",
     "output_type": "stream",
     "text": [
      "WARNING:root:Batch exception[Errno 2] No such file or directory: 'C:/earthquake/one-stats-embedding/em_18897.dill'\n",
      "WARNING:root:Batch exception[Errno 2] No such file or directory: 'C:/earthquake/one-stats-embedding/em_5057.dill'\n",
      "WARNING:root:Batch exception[Errno 2] No such file or directory: 'C:/earthquake/one-stats-embedding/em_13761.dill'\n",
      "WARNING:root:Batch exception[Errno 2] No such file or directory: 'C:/earthquake/one-stats-embedding/em_4817.dill'\n",
      "WARNING:root:Batch exception[Errno 2] No such file or directory: 'C:/earthquake/one-stats-embedding/em_18097.dill'\n",
      "WARNING:root:Batch exception[Errno 2] No such file or directory: 'C:/earthquake/one-stats-embedding/em_1169.dill'\n",
      "WARNING:root:Batch exception[Errno 2] No such file or directory: 'C:/earthquake/one-stats-embedding/em_3281.dill'\n",
      "WARNING:root:Batch exception[Errno 2] No such file or directory: 'C:/earthquake/one-stats-embedding/em_2321.dill'\n",
      "WARNING:root:Batch exception[Errno 2] No such file or directory: 'C:/earthquake/one-stats-embedding/em_8817.dill'\n",
      "WARNING:root:Batch exception[Errno 2] No such file or directory: 'C:/earthquake/one-stats-embedding/em_1889.dill'\n",
      "WARNING:root:Batch exception[Errno 2] No such file or directory: 'C:/earthquake/one-stats-embedding/em_2721.dill'\n"
     ]
    },
    {
     "name": "stdout",
     "output_type": "stream",
     "text": [
      "\b\b\b\b\b\b\b\b\b\b\b\b\b\b\b\b\b\b\b\b\b\b\b\b\b\b\b\b\b\b\b\b\b\b\b\b\b\b\b\b\b\b\b\b\b\b\b\b\b\b\b\b\b\b\b\b\b\b\b\b\b\b\b\b\b\b\b\b\b\b\b\b\b\b\b\b\b\b\b\b\b\b\b\b\b\b\b\b\b\b\b\b\b\b\b\b\b\b\b\b\b\b\b\b\b\b\b\b\b\b\b\b\b\b\b\b\b\r",
      " 212/1599 [==>...........................] - ETA: 6s - loss: nan - mean_squared_error: nan - mean_absolute_error: nan"
     ]
    },
    {
     "name": "stderr",
     "output_type": "stream",
     "text": [
      "WARNING:root:Batch exception[Errno 2] No such file or directory: 'C:/earthquake/one-stats-embedding/em_21393.dill'\n",
      "WARNING:root:Batch exception[Errno 2] No such file or directory: 'C:/earthquake/one-stats-embedding/em_15345.dill'\n",
      "WARNING:root:Batch exception[Errno 2] No such file or directory: 'C:/earthquake/one-stats-embedding/em_3873.dill'\n",
      "WARNING:root:Batch exception[Errno 2] No such file or directory: 'C:/earthquake/one-stats-embedding/em_1633.dill'\n",
      "WARNING:root:Batch exception[Errno 2] No such file or directory: 'C:/earthquake/one-stats-embedding/em_17201.dill'\n",
      "WARNING:root:Batch exception[Errno 2] No such file or directory: 'C:/earthquake/one-stats-embedding/em_9025.dill'\n",
      "WARNING:root:Batch exception[Errno 2] No such file or directory: 'C:/earthquake/one-stats-embedding/em_2929.dill'\n",
      "WARNING:root:Batch exception[Errno 2] No such file or directory: 'C:/earthquake/one-stats-embedding/em_20433.dill'\n",
      "WARNING:root:Batch exception[Errno 2] No such file or directory: 'C:/earthquake/one-stats-embedding/em_19217.dill'\n",
      "WARNING:root:Batch exception[Errno 2] No such file or directory: 'C:/earthquake/one-stats-embedding/em_4625.dill'\n",
      "WARNING:root:Batch exception[Errno 2] No such file or directory: 'C:/earthquake/one-stats-embedding/em_23409.dill'\n",
      "WARNING:root:Batch exception[Errno 2] No such file or directory: 'C:/earthquake/one-stats-embedding/em_12657.dill'\n"
     ]
    },
    {
     "name": "stdout",
     "output_type": "stream",
     "text": [
      "\b\b\b\b\b\b\b\b\b\b\b\b\b\b\b\b\b\b\b\b\b\b\b\b\b\b\b\b\b\b\b\b\b\b\b\b\b\b\b\b\b\b\b\b\b\b\b\b\b\b\b\b\b\b\b\b\b\b\b\b\b\b\b\b\b\b\b\b\b\b\b\b\b\b\b\b\b\b\b\b\b\b\b\b\b\b\b\b\b\b\b\b\b\b\b\b\b\b\b\b\b\b\b\b\b\b\b\b\b\b\b\b\b\b\b\b\b\r",
      " 224/1599 [===>..........................] - ETA: 6s - loss: nan - mean_squared_error: nan - mean_absolute_error: nan"
     ]
    },
    {
     "name": "stderr",
     "output_type": "stream",
     "text": [
      "WARNING:root:Batch exception[Errno 2] No such file or directory: 'C:/earthquake/one-stats-embedding/em_5745.dill'\n",
      "WARNING:root:Batch exception[Errno 2] No such file or directory: 'C:/earthquake/one-stats-embedding/em_17009.dill'\n",
      "WARNING:root:Batch exception[Errno 2] No such file or directory: 'C:/earthquake/one-stats-embedding/em_2913.dill'\n",
      "WARNING:root:Batch exception[Errno 2] No such file or directory: 'C:/earthquake/one-stats-embedding/em_14273.dill'\n",
      "WARNING:root:Batch exception[Errno 2] No such file or directory: 'C:/earthquake/one-stats-embedding/em_15233.dill'\n",
      "WARNING:root:Batch exception[Errno 2] No such file or directory: 'C:/earthquake/one-stats-embedding/em_13345.dill'\n",
      "WARNING:root:Batch exception[Errno 2] No such file or directory: 'C:/earthquake/one-stats-embedding/em_19025.dill'\n",
      "WARNING:root:Batch exception[Errno 2] No such file or directory: 'C:/earthquake/one-stats-embedding/em_11841.dill'\n",
      "WARNING:root:Batch exception[Errno 2] No such file or directory: 'C:/earthquake/one-stats-embedding/em_417.dill'\n",
      "WARNING:root:Batch exception[Errno 2] No such file or directory: 'C:/earthquake/one-stats-embedding/em_19905.dill'\n",
      "WARNING:root:Batch exception[Errno 2] No such file or directory: 'C:/earthquake/one-stats-embedding/em_25297.dill'\n"
     ]
    },
    {
     "name": "stdout",
     "output_type": "stream",
     "text": [
      "\b\b\b\b\b\b\b\b\b\b\b\b\b\b\b\b\b\b\b\b\b\b\b\b\b\b\b\b\b\b\b\b\b\b\b\b\b\b\b\b\b\b\b\b\b\b\b\b\b\b\b\b\b\b\b\b\b\b\b\b\b\b\b\b\b\b\b\b\b\b\b\b\b\b\b\b\b\b\b\b\b\b\b\b\b\b\b\b\b\b\b\b\b\b\b\b\b\b\b\b\b\b\b\b\b\b\b\b\b\b\b\b\b\b\b\b\b\r",
      " 236/1599 [===>..........................] - ETA: 6s - loss: nan - mean_squared_error: nan - mean_absolute_error: nan"
     ]
    },
    {
     "name": "stderr",
     "output_type": "stream",
     "text": [
      "WARNING:root:Batch exception[Errno 2] No such file or directory: 'C:/earthquake/one-stats-embedding/em_12801.dill'\n",
      "WARNING:root:Batch exception[Errno 2] No such file or directory: 'C:/earthquake/one-stats-embedding/em_18017.dill'\n",
      "WARNING:root:Batch exception[Errno 2] No such file or directory: 'C:/earthquake/one-stats-embedding/em_3457.dill'\n",
      "WARNING:root:Batch exception[Errno 2] No such file or directory: 'C:/earthquake/one-stats-embedding/em_14241.dill'\n",
      "WARNING:root:Batch exception[Errno 2] No such file or directory: 'C:/earthquake/one-stats-embedding/em_11137.dill'\n",
      "WARNING:root:Batch exception[Errno 2] No such file or directory: 'C:/earthquake/one-stats-embedding/em_21569.dill'\n",
      "WARNING:root:Batch exception[Errno 2] No such file or directory: 'C:/earthquake/one-stats-embedding/em_12161.dill'\n",
      "WARNING:root:Batch exception[Errno 2] No such file or directory: 'C:/earthquake/one-stats-embedding/em_13617.dill'\n",
      "WARNING:root:Batch exception[Errno 2] No such file or directory: 'C:/earthquake/one-stats-embedding/em_12577.dill'\n",
      "WARNING:root:Batch exception[Errno 2] No such file or directory: 'C:/earthquake/one-stats-embedding/em_17073.dill'\n",
      "WARNING:root:Batch exception[Errno 2] No such file or directory: 'C:/earthquake/one-stats-embedding/em_18657.dill'\n"
     ]
    },
    {
     "name": "stdout",
     "output_type": "stream",
     "text": [
      "\b\b\b\b\b\b\b\b\b\b\b\b\b\b\b\b\b\b\b\b\b\b\b\b\b\b\b\b\b\b\b\b\b\b\b\b\b\b\b\b\b\b\b\b\b\b\b\b\b\b\b\b\b\b\b\b\b\b\b\b\b\b\b\b\b\b\b\b\b\b\b\b\b\b\b\b\b\b\b\b\b\b\b\b\b\b\b\b\b\b\b\b\b\b\b\b\b\b\b\b\b\b\b\b\b\b\b\b\b\b\b\b\b\b\b\b\b\r",
      " 247/1599 [===>..........................] - ETA: 6s - loss: nan - mean_squared_error: nan - mean_absolute_error: nan"
     ]
    },
    {
     "name": "stderr",
     "output_type": "stream",
     "text": [
      "WARNING:root:Batch exception[Errno 2] No such file or directory: 'C:/earthquake/one-stats-embedding/em_21105.dill'\n",
      "WARNING:root:Batch exception[Errno 2] No such file or directory: 'C:/earthquake/one-stats-embedding/em_8929.dill'\n",
      "WARNING:root:Batch exception[Errno 2] No such file or directory: 'C:/earthquake/one-stats-embedding/em_7153.dill'\n",
      "WARNING:root:Batch exception[Errno 2] No such file or directory: 'C:/earthquake/one-stats-embedding/em_6977.dill'\n",
      "WARNING:root:Batch exception[Errno 2] No such file or directory: 'C:/earthquake/one-stats-embedding/em_15073.dill'\n",
      "WARNING:root:Batch exception[Errno 2] No such file or directory: 'C:/earthquake/one-stats-embedding/em_24449.dill'\n",
      "WARNING:root:Batch exception[Errno 2] No such file or directory: 'C:/earthquake/one-stats-embedding/em_11729.dill'\n",
      "WARNING:root:Batch exception[Errno 2] No such file or directory: 'C:/earthquake/one-stats-embedding/em_12417.dill'\n",
      "WARNING:root:Batch exception[Errno 2] No such file or directory: 'C:/earthquake/one-stats-embedding/em_5649.dill'\n",
      "WARNING:root:Batch exception[Errno 2] No such file or directory: 'C:/earthquake/one-stats-embedding/em_23745.dill'\n",
      "WARNING:root:Batch exception[Errno 2] No such file or directory: 'C:/earthquake/one-stats-embedding/em_9633.dill'\n"
     ]
    },
    {
     "name": "stdout",
     "output_type": "stream",
     "text": [
      "\b\b\b\b\b\b\b\b\b\b\b\b\b\b\b\b\b\b\b\b\b\b\b\b\b\b\b\b\b\b\b\b\b\b\b\b\b\b\b\b\b\b\b\b\b\b\b\b\b\b\b\b\b\b\b\b\b\b\b\b\b\b\b\b\b\b\b\b\b\b\b\b\b\b\b\b\b\b\b\b\b\b\b\b\b\b\b\b\b\b\b\b\b\b\b\b\b\b\b\b\b\b\b\b\b\b\b\b\b\b\b\b\b\b\b\b\b\r",
      " 258/1599 [===>..........................] - ETA: 6s - loss: nan - mean_squared_error: nan - mean_absolute_error: nan"
     ]
    },
    {
     "name": "stderr",
     "output_type": "stream",
     "text": [
      "WARNING:root:Batch exception[Errno 2] No such file or directory: 'C:/earthquake/one-stats-embedding/em_7985.dill'\n",
      "WARNING:root:Batch exception[Errno 2] No such file or directory: 'C:/earthquake/one-stats-embedding/em_913.dill'\n",
      "WARNING:root:Batch exception[Errno 2] No such file or directory: 'C:/earthquake/one-stats-embedding/em_10097.dill'\n",
      "WARNING:root:Batch exception[Errno 2] No such file or directory: 'C:/earthquake/one-stats-embedding/em_11873.dill'\n",
      "WARNING:root:Batch exception[Errno 2] No such file or directory: 'C:/earthquake/one-stats-embedding/em_22609.dill'\n",
      "WARNING:root:Batch exception[Errno 2] No such file or directory: 'C:/earthquake/one-stats-embedding/em_5569.dill'\n",
      "WARNING:root:Batch exception[Errno 2] No such file or directory: 'C:/earthquake/one-stats-embedding/em_21889.dill'\n",
      "WARNING:root:Batch exception[Errno 2] No such file or directory: 'C:/earthquake/one-stats-embedding/em_24833.dill'\n",
      "WARNING:root:Batch exception[Errno 2] No such file or directory: 'C:/earthquake/one-stats-embedding/em_8369.dill'\n",
      "WARNING:root:Batch exception[Errno 2] No such file or directory: 'C:/earthquake/one-stats-embedding/em_1217.dill'\n",
      "WARNING:root:Batch exception[Errno 2] No such file or directory: 'C:/earthquake/one-stats-embedding/em_10737.dill'\n"
     ]
    },
    {
     "name": "stdout",
     "output_type": "stream",
     "text": [
      "\b\b\b\b\b\b\b\b\b\b\b\b\b\b\b\b\b\b\b\b\b\b\b\b\b\b\b\b\b\b\b\b\b\b\b\b\b\b\b\b\b\b\b\b\b\b\b\b\b\b\b\b\b\b\b\b\b\b\b\b\b\b\b\b\b\b\b\b\b\b\b\b\b\b\b\b\b\b\b\b\b\b\b\b\b\b\b\b\b\b\b\b\b\b\b\b\b\b\b\b\b\b\b\b\b\b\b\b\b\b\b\b\b\b\b\b\b\r",
      " 269/1599 [====>.........................] - ETA: 6s - loss: nan - mean_squared_error: nan - mean_absolute_error: nan"
     ]
    },
    {
     "name": "stderr",
     "output_type": "stream",
     "text": [
      "WARNING:root:Batch exception[Errno 2] No such file or directory: 'C:/earthquake/one-stats-embedding/em_20529.dill'\n",
      "WARNING:root:Batch exception[Errno 2] No such file or directory: 'C:/earthquake/one-stats-embedding/em_7889.dill'\n",
      "WARNING:root:Batch exception[Errno 2] No such file or directory: 'C:/earthquake/one-stats-embedding/em_15569.dill'\n",
      "WARNING:root:Batch exception[Errno 2] No such file or directory: 'C:/earthquake/one-stats-embedding/em_23505.dill'\n",
      "WARNING:root:Batch exception[Errno 2] No such file or directory: 'C:/earthquake/one-stats-embedding/em_14961.dill'\n",
      "WARNING:root:Batch exception[Errno 2] No such file or directory: 'C:/earthquake/one-stats-embedding/em_22529.dill'\n",
      "WARNING:root:Batch exception[Errno 2] No such file or directory: 'C:/earthquake/one-stats-embedding/em_3649.dill'\n",
      "WARNING:root:Batch exception[Errno 2] No such file or directory: 'C:/earthquake/one-stats-embedding/em_24081.dill'\n",
      "WARNING:root:Batch exception[Errno 2] No such file or directory: 'C:/earthquake/one-stats-embedding/em_18913.dill'\n",
      "WARNING:root:Batch exception[Errno 2] No such file or directory: 'C:/earthquake/one-stats-embedding/em_10673.dill'\n",
      "WARNING:root:Batch exception[Errno 2] No such file or directory: 'C:/earthquake/one-stats-embedding/em_1121.dill'\n",
      "WARNING:root:Batch exception[Errno 2] No such file or directory: 'C:/earthquake/one-stats-embedding/em_15777.dill'\n"
     ]
    },
    {
     "name": "stdout",
     "output_type": "stream",
     "text": [
      "\b\b\b\b\b\b\b\b\b\b\b\b\b\b\b\b\b\b\b\b\b\b\b\b\b\b\b\b\b\b\b\b\b\b\b\b\b\b\b\b\b\b\b\b\b\b\b\b\b\b\b\b\b\b\b\b\b\b\b\b\b\b\b\b\b\b\b\b\b\b\b\b\b\b\b\b\b\b\b\b\b\b\b\b\b\b\b\b\b\b\b\b\b\b\b\b\b\b\b\b\b\b\b\b\b\b\b\b\b\b\b\b\b\b\b\b\b\r",
      " 281/1599 [====>.........................] - ETA: 6s - loss: nan - mean_squared_error: nan - mean_absolute_error: nan"
     ]
    },
    {
     "name": "stderr",
     "output_type": "stream",
     "text": [
      "WARNING:root:Batch exception[Errno 2] No such file or directory: 'C:/earthquake/one-stats-embedding/em_21937.dill'\n",
      "WARNING:root:Batch exception[Errno 2] No such file or directory: 'C:/earthquake/one-stats-embedding/em_16385.dill'\n",
      "WARNING:root:Batch exception[Errno 2] No such file or directory: 'C:/earthquake/one-stats-embedding/em_20097.dill'\n",
      "WARNING:root:Batch exception[Errno 2] No such file or directory: 'C:/earthquake/one-stats-embedding/em_2977.dill'\n",
      "WARNING:root:Batch exception[Errno 2] No such file or directory: 'C:/earthquake/one-stats-embedding/em_2417.dill'\n",
      "WARNING:root:Batch exception[Errno 2] No such file or directory: 'C:/earthquake/one-stats-embedding/em_12129.dill'\n",
      "WARNING:root:Batch exception[Errno 2] No such file or directory: 'C:/earthquake/one-stats-embedding/em_2225.dill'\n",
      "WARNING:root:Batch exception[Errno 2] No such file or directory: 'C:/earthquake/one-stats-embedding/em_14497.dill'\n",
      "WARNING:root:Batch exception[Errno 2] No such file or directory: 'C:/earthquake/one-stats-embedding/em_11345.dill'\n",
      "WARNING:root:Batch exception[Errno 2] No such file or directory: 'C:/earthquake/one-stats-embedding/em_16209.dill'\n",
      "WARNING:root:Batch exception[Errno 2] No such file or directory: 'C:/earthquake/one-stats-embedding/em_25185.dill'\n",
      "WARNING:root:Batch exception[Errno 2] No such file or directory: 'C:/earthquake/one-stats-embedding/em_5025.dill'\n"
     ]
    },
    {
     "name": "stdout",
     "output_type": "stream",
     "text": [
      "\b\b\b\b\b\b\b\b\b\b\b\b\b\b\b\b\b\b\b\b\b\b\b\b\b\b\b\b\b\b\b\b\b\b\b\b\b\b\b\b\b\b\b\b\b\b\b\b\b\b\b\b\b\b\b\b\b\b\b\b\b\b\b\b\b\b\b\b\b\b\b\b\b\b\b\b\b\b\b\b\b\b\b\b\b\b\b\b\b\b\b\b\b\b\b\b\b\b\b\b\b\b\b\b\b\b\b\b\b\b\b\b\b\b\b\b\b\r",
      " 293/1599 [====>.........................] - ETA: 6s - loss: nan - mean_squared_error: nan - mean_absolute_error: nan"
     ]
    },
    {
     "name": "stderr",
     "output_type": "stream",
     "text": [
      "WARNING:root:Batch exception[Errno 2] No such file or directory: 'C:/earthquake/one-stats-embedding/em_22705.dill'\n",
      "WARNING:root:Batch exception[Errno 2] No such file or directory: 'C:/earthquake/one-stats-embedding/em_19361.dill'\n",
      "WARNING:root:Batch exception[Errno 2] No such file or directory: 'C:/earthquake/one-stats-embedding/em_18993.dill'\n",
      "WARNING:root:Batch exception[Errno 2] No such file or directory: 'C:/earthquake/one-stats-embedding/em_21233.dill'\n",
      "WARNING:root:Batch exception[Errno 2] No such file or directory: 'C:/earthquake/one-stats-embedding/em_3249.dill'\n",
      "WARNING:root:Batch exception[Errno 2] No such file or directory: 'C:/earthquake/one-stats-embedding/em_17329.dill'\n",
      "WARNING:root:Batch exception[Errno 2] No such file or directory: 'C:/earthquake/one-stats-embedding/em_2017.dill'\n",
      "WARNING:root:Batch exception[Errno 2] No such file or directory: 'C:/earthquake/one-stats-embedding/em_7329.dill'\n",
      "WARNING:root:Batch exception[Errno 2] No such file or directory: 'C:/earthquake/one-stats-embedding/em_16577.dill'\n",
      "WARNING:root:Batch exception[Errno 2] No such file or directory: 'C:/earthquake/one-stats-embedding/em_14353.dill'\n",
      "WARNING:root:Batch exception[Errno 2] No such file or directory: 'C:/earthquake/one-stats-embedding/em_14097.dill'\n",
      "WARNING:root:Batch exception[Errno 2] No such file or directory: 'C:/earthquake/one-stats-embedding/em_9457.dill'\n"
     ]
    },
    {
     "name": "stdout",
     "output_type": "stream",
     "text": [
      "\b\b\b\b\b\b\b\b\b\b\b\b\b\b\b\b\b\b\b\b\b\b\b\b\b\b\b\b\b\b\b\b\b\b\b\b\b\b\b\b\b\b\b\b\b\b\b\b\b\b\b\b\b\b\b\b\b\b\b\b\b\b\b\b\b\b\b\b\b\b\b\b\b\b\b\b\b\b\b\b\b\b\b\b\b\b\b\b\b\b\b\b\b\b\b\b\b\b\b\b\b\b\b\b\b\b\b\b\b\b\b\b\b\b\b\b\b\r",
      " 305/1599 [====>.........................] - ETA: 6s - loss: nan - mean_squared_error: nan - mean_absolute_error: nan"
     ]
    },
    {
     "name": "stderr",
     "output_type": "stream",
     "text": [
      "WARNING:root:Batch exception[Errno 2] No such file or directory: 'C:/earthquake/one-stats-embedding/em_8657.dill'\n",
      "WARNING:root:Batch exception[Errno 2] No such file or directory: 'C:/earthquake/one-stats-embedding/em_13377.dill'\n",
      "WARNING:root:Batch exception[Errno 2] No such file or directory: 'C:/earthquake/one-stats-embedding/em_22929.dill'\n",
      "WARNING:root:Batch exception[Errno 2] No such file or directory: 'C:/earthquake/one-stats-embedding/em_23649.dill'\n",
      "WARNING:root:Batch exception[Errno 2] No such file or directory: 'C:/earthquake/one-stats-embedding/em_8113.dill'\n",
      "WARNING:root:Batch exception[Errno 2] No such file or directory: 'C:/earthquake/one-stats-embedding/em_23777.dill'\n",
      "WARNING:root:Batch exception[Errno 2] No such file or directory: 'C:/earthquake/one-stats-embedding/em_14625.dill'\n",
      "WARNING:root:Batch exception[Errno 2] No such file or directory: 'C:/earthquake/one-stats-embedding/em_9329.dill'\n",
      "WARNING:root:Batch exception[Errno 2] No such file or directory: 'C:/earthquake/one-stats-embedding/em_24753.dill'\n",
      "WARNING:root:Batch exception[Errno 2] No such file or directory: 'C:/earthquake/one-stats-embedding/em_17569.dill'\n",
      "WARNING:root:Batch exception[Errno 2] No such file or directory: 'C:/earthquake/one-stats-embedding/em_11185.dill'\n",
      "WARNING:root:Batch exception[Errno 2] No such file or directory: 'C:/earthquake/one-stats-embedding/em_22817.dill'\n"
     ]
    },
    {
     "name": "stdout",
     "output_type": "stream",
     "text": [
      "\b\b\b\b\b\b\b\b\b\b\b\b\b\b\b\b\b\b\b\b\b\b\b\b\b\b\b\b\b\b\b\b\b\b\b\b\b\b\b\b\b\b\b\b\b\b\b\b\b\b\b\b\b\b\b\b\b\b\b\b\b\b\b\b\b\b\b\b\b\b\b\b\b\b\b\b\b\b\b\b\b\b\b\b\b\b\b\b\b\b\b\b\b\b\b\b\b\b\b\b\b\b\b\b\b\b\b\b\b\b\b\b\b\b\b\b\b\r",
      " 317/1599 [====>.........................] - ETA: 6s - loss: nan - mean_squared_error: nan - mean_absolute_error: nan"
     ]
    },
    {
     "name": "stderr",
     "output_type": "stream",
     "text": [
      "WARNING:root:Batch exception[Errno 2] No such file or directory: 'C:/earthquake/one-stats-embedding/em_24849.dill'\n",
      "WARNING:root:Batch exception[Errno 2] No such file or directory: 'C:/earthquake/one-stats-embedding/em_12977.dill'\n",
      "WARNING:root:Batch exception[Errno 2] No such file or directory: 'C:/earthquake/one-stats-embedding/em_6705.dill'\n",
      "WARNING:root:Batch exception[Errno 2] No such file or directory: 'C:/earthquake/one-stats-embedding/em_16433.dill'\n",
      "WARNING:root:Batch exception[Errno 2] No such file or directory: 'C:/earthquake/one-stats-embedding/em_7137.dill'\n",
      "WARNING:root:Batch exception[Errno 2] No such file or directory: 'C:/earthquake/one-stats-embedding/em_10913.dill'\n",
      "WARNING:root:Batch exception[Errno 2] No such file or directory: 'C:/earthquake/one-stats-embedding/em_11537.dill'\n",
      "WARNING:root:Batch exception[Errno 2] No such file or directory: 'C:/earthquake/one-stats-embedding/em_5601.dill'\n",
      "WARNING:root:Batch exception[Errno 2] No such file or directory: 'C:/earthquake/one-stats-embedding/em_2273.dill'\n",
      "WARNING:root:Batch exception[Errno 2] No such file or directory: 'C:/earthquake/one-stats-embedding/em_6801.dill'\n",
      "WARNING:root:Batch exception[Errno 2] No such file or directory: 'C:/earthquake/one-stats-embedding/em_25489.dill'\n",
      "WARNING:root:Batch exception[Errno 2] No such file or directory: 'C:/earthquake/one-stats-embedding/em_817.dill'\n"
     ]
    },
    {
     "name": "stdout",
     "output_type": "stream",
     "text": [
      "\b\b\b\b\b\b\b\b\b\b\b\b\b\b\b\b\b\b\b\b\b\b\b\b\b\b\b\b\b\b\b\b\b\b\b\b\b\b\b\b\b\b\b\b\b\b\b\b\b\b\b\b\b\b\b\b\b\b\b\b\b\b\b\b\b\b\b\b\b\b\b\b\b\b\b\b\b\b\b\b\b\b\b\b\b\b\b\b\b\b\b\b\b\b\b\b\b\b\b\b\b\b\b\b\b\b\b\b\b\b\b\b\b\b\b\b\b\r",
      " 329/1599 [=====>........................] - ETA: 6s - loss: nan - mean_squared_error: nan - mean_absolute_error: nan"
     ]
    },
    {
     "name": "stderr",
     "output_type": "stream",
     "text": [
      "WARNING:root:Batch exception[Errno 2] No such file or directory: 'C:/earthquake/one-stats-embedding/em_5841.dill'\n",
      "WARNING:root:Batch exception[Errno 2] No such file or directory: 'C:/earthquake/one-stats-embedding/em_4833.dill'\n",
      "WARNING:root:Batch exception[Errno 2] No such file or directory: 'C:/earthquake/one-stats-embedding/em_21793.dill'\n",
      "WARNING:root:Batch exception[Errno 2] No such file or directory: 'C:/earthquake/one-stats-embedding/em_14305.dill'\n",
      "WARNING:root:Batch exception[Errno 2] No such file or directory: 'C:/earthquake/one-stats-embedding/em_14193.dill'\n",
      "WARNING:root:Batch exception[Errno 2] No such file or directory: 'C:/earthquake/one-stats-embedding/em_19761.dill'\n",
      "WARNING:root:Batch exception[Errno 2] No such file or directory: 'C:/earthquake/one-stats-embedding/em_17825.dill'\n",
      "WARNING:root:Batch exception[Errno 2] No such file or directory: 'C:/earthquake/one-stats-embedding/em_11585.dill'\n",
      "WARNING:root:Batch exception[Errno 2] No such file or directory: 'C:/earthquake/one-stats-embedding/em_14257.dill'\n",
      "WARNING:root:Batch exception[Errno 2] No such file or directory: 'C:/earthquake/one-stats-embedding/em_14449.dill'\n",
      "WARNING:root:Batch exception[Errno 2] No such file or directory: 'C:/earthquake/one-stats-embedding/em_10049.dill'\n",
      "WARNING:root:Batch exception[Errno 2] No such file or directory: 'C:/earthquake/one-stats-embedding/em_13201.dill'\n"
     ]
    },
    {
     "name": "stdout",
     "output_type": "stream",
     "text": [
      "\b\b\b\b\b\b\b\b\b\b\b\b\b\b\b\b\b\b\b\b\b\b\b\b\b\b\b\b\b\b\b\b\b\b\b\b\b\b\b\b\b\b\b\b\b\b\b\b\b\b\b\b\b\b\b\b\b\b\b\b\b\b\b\b\b\b\b\b\b\b\b\b\b\b\b\b\b\b\b\b\b\b\b\b\b\b\b\b\b\b\b\b\b\b\b\b\b\b\b\b\b\b\b\b\b\b\b\b\b\b\b\b\b\b\b\b\b\r",
      " 341/1599 [=====>........................] - ETA: 6s - loss: nan - mean_squared_error: nan - mean_absolute_error: nan"
     ]
    },
    {
     "name": "stderr",
     "output_type": "stream",
     "text": [
      "WARNING:root:Batch exception[Errno 2] No such file or directory: 'C:/earthquake/one-stats-embedding/em_3953.dill'\n",
      "WARNING:root:Batch exception[Errno 2] No such file or directory: 'C:/earthquake/one-stats-embedding/em_8705.dill'\n",
      "WARNING:root:Batch exception[Errno 2] No such file or directory: 'C:/earthquake/one-stats-embedding/em_10369.dill'\n",
      "WARNING:root:Batch exception[Errno 2] No such file or directory: 'C:/earthquake/one-stats-embedding/em_18161.dill'\n",
      "WARNING:root:Batch exception[Errno 2] No such file or directory: 'C:/earthquake/one-stats-embedding/em_19505.dill'\n",
      "WARNING:root:Batch exception[Errno 2] No such file or directory: 'C:/earthquake/one-stats-embedding/em_320.dill'\n",
      "WARNING:root:Batch exception[Errno 2] No such file or directory: 'C:/earthquake/one-stats-embedding/em_17265.dill'\n",
      "WARNING:root:Batch exception[Errno 2] No such file or directory: 'C:/earthquake/one-stats-embedding/em_9377.dill'\n",
      "WARNING:root:Batch exception[Errno 2] No such file or directory: 'C:/earthquake/one-stats-embedding/em_15281.dill'\n",
      "WARNING:root:Batch exception[Errno 2] No such file or directory: 'C:/earthquake/one-stats-embedding/em_5617.dill'\n",
      "WARNING:root:Batch exception[Errno 2] No such file or directory: 'C:/earthquake/one-stats-embedding/em_16289.dill'\n",
      "WARNING:root:Batch exception[Errno 2] No such file or directory: 'C:/earthquake/one-stats-embedding/em_15745.dill'\n"
     ]
    },
    {
     "name": "stdout",
     "output_type": "stream",
     "text": [
      "\b\b\b\b\b\b\b\b\b\b\b\b\b\b\b\b\b\b\b\b\b\b\b\b\b\b\b\b\b\b\b\b\b\b\b\b\b\b\b\b\b\b\b\b\b\b\b\b\b\b\b\b\b\b\b\b\b\b\b\b\b\b\b\b\b\b\b\b\b\b\b\b\b\b\b\b\b\b\b\b\b\b\b\b\b\b\b\b\b\b\b\b\b\b\b\b\b\b\b\b\b\b\b\b\b\b\b\b\b\b\b\b\b\b\b\b\b\r",
      " 353/1599 [=====>........................] - ETA: 5s - loss: nan - mean_squared_error: nan - mean_absolute_error: nan"
     ]
    },
    {
     "name": "stderr",
     "output_type": "stream",
     "text": [
      "WARNING:root:Batch exception[Errno 2] No such file or directory: 'C:/earthquake/one-stats-embedding/em_2065.dill'\n",
      "WARNING:root:Batch exception[Errno 2] No such file or directory: 'C:/earthquake/one-stats-embedding/em_17393.dill'\n",
      "WARNING:root:Batch exception[Errno 2] No such file or directory: 'C:/earthquake/one-stats-embedding/em_2193.dill'\n",
      "WARNING:root:Batch exception[Errno 2] No such file or directory: 'C:/earthquake/one-stats-embedding/em_11009.dill'\n",
      "WARNING:root:Batch exception[Errno 2] No such file or directory: 'C:/earthquake/one-stats-embedding/em_24369.dill'\n",
      "WARNING:root:Batch exception[Errno 2] No such file or directory: 'C:/earthquake/one-stats-embedding/em_9489.dill'\n",
      "WARNING:root:Batch exception[Errno 2] No such file or directory: 'C:/earthquake/one-stats-embedding/em_10465.dill'\n",
      "WARNING:root:Batch exception[Errno 2] No such file or directory: 'C:/earthquake/one-stats-embedding/em_18769.dill'\n",
      "WARNING:root:Batch exception[Errno 2] No such file or directory: 'C:/earthquake/one-stats-embedding/em_21297.dill'\n",
      "WARNING:root:Batch exception[Errno 2] No such file or directory: 'C:/earthquake/one-stats-embedding/em_11553.dill'\n",
      "WARNING:root:Batch exception[Errno 2] No such file or directory: 'C:/earthquake/one-stats-embedding/em_19889.dill'\n",
      "WARNING:root:Batch exception[Errno 2] No such file or directory: 'C:/earthquake/one-stats-embedding/em_24641.dill'\n"
     ]
    },
    {
     "name": "stdout",
     "output_type": "stream",
     "text": [
      "\b\b\b\b\b\b\b\b\b\b\b\b\b\b\b\b\b\b\b\b\b\b\b\b\b\b\b\b\b\b\b\b\b\b\b\b\b\b\b\b\b\b\b\b\b\b\b\b\b\b\b\b\b\b\b\b\b\b\b\b\b\b\b\b\b\b\b\b\b\b\b\b\b\b\b\b\b\b\b\b\b\b\b\b\b\b\b\b\b\b\b\b\b\b\b\b\b\b\b\b\b\b\b\b\b\b\b\b\b\b\b\b\b\b\b\b\b\r",
      " 365/1599 [=====>........................] - ETA: 5s - loss: nan - mean_squared_error: nan - mean_absolute_error: nan"
     ]
    },
    {
     "name": "stderr",
     "output_type": "stream",
     "text": [
      "WARNING:root:Batch exception[Errno 2] No such file or directory: 'C:/earthquake/one-stats-embedding/em_6593.dill'\n",
      "WARNING:root:Batch exception[Errno 2] No such file or directory: 'C:/earthquake/one-stats-embedding/em_3409.dill'\n",
      "WARNING:root:Batch exception[Errno 2] No such file or directory: 'C:/earthquake/one-stats-embedding/em_6769.dill'\n",
      "WARNING:root:Batch exception[Errno 2] No such file or directory: 'C:/earthquake/one-stats-embedding/em_12561.dill'\n",
      "WARNING:root:Batch exception[Errno 2] No such file or directory: 'C:/earthquake/one-stats-embedding/em_1009.dill'\n",
      "WARNING:root:Batch exception[Errno 2] No such file or directory: 'C:/earthquake/one-stats-embedding/em_22193.dill'\n",
      "WARNING:root:Batch exception[Errno 2] No such file or directory: 'C:/earthquake/one-stats-embedding/em_11457.dill'\n",
      "WARNING:root:Batch exception[Errno 2] No such file or directory: 'C:/earthquake/one-stats-embedding/em_13537.dill'\n",
      "WARNING:root:Batch exception[Errno 2] No such file or directory: 'C:/earthquake/one-stats-embedding/em_13681.dill'\n",
      "WARNING:root:Batch exception[Errno 2] No such file or directory: 'C:/earthquake/one-stats-embedding/em_16977.dill'\n",
      "WARNING:root:Batch exception[Errno 2] No such file or directory: 'C:/earthquake/one-stats-embedding/em_11105.dill'\n"
     ]
    },
    {
     "name": "stdout",
     "output_type": "stream",
     "text": [
      "\b\b\b\b\b\b\b\b\b\b\b\b\b\b\b\b\b\b\b\b\b\b\b\b\b\b\b\b\b\b\b\b\b\b\b\b\b\b\b\b\b\b\b\b\b\b\b\b\b\b\b\b\b\b\b\b\b\b\b\b\b\b\b\b\b\b\b\b\b\b\b\b\b\b\b\b\b\b\b\b\b\b\b\b\b\b\b\b\b\b\b\b\b\b\b\b\b\b\b\b\b\b\b\b\b\b\b\b\b\b\b\b\b\b\b\b\b\r",
      " 376/1599 [======>.......................] - ETA: 5s - loss: nan - mean_squared_error: nan - mean_absolute_error: nan"
     ]
    },
    {
     "name": "stderr",
     "output_type": "stream",
     "text": [
      "WARNING:root:Batch exception[Errno 2] No such file or directory: 'C:/earthquake/one-stats-embedding/em_18593.dill'\n",
      "WARNING:root:Batch exception[Errno 2] No such file or directory: 'C:/earthquake/one-stats-embedding/em_4193.dill'\n",
      "WARNING:root:Batch exception[Errno 2] No such file or directory: 'C:/earthquake/one-stats-embedding/em_15361.dill'\n",
      "WARNING:root:Batch exception[Errno 2] No such file or directory: 'C:/earthquake/one-stats-embedding/em_17105.dill'\n",
      "WARNING:root:Batch exception[Errno 2] No such file or directory: 'C:/earthquake/one-stats-embedding/em_16945.dill'\n",
      "WARNING:root:Batch exception[Errno 2] No such file or directory: 'C:/earthquake/one-stats-embedding/em_16369.dill'\n",
      "WARNING:root:Batch exception[Errno 2] No such file or directory: 'C:/earthquake/one-stats-embedding/em_5377.dill'\n",
      "WARNING:root:Batch exception[Errno 2] No such file or directory: 'C:/earthquake/one-stats-embedding/em_11233.dill'\n",
      "WARNING:root:Batch exception[Errno 2] No such file or directory: 'C:/earthquake/one-stats-embedding/em_19009.dill'\n",
      "WARNING:root:Batch exception[Errno 2] No such file or directory: 'C:/earthquake/one-stats-embedding/em_3121.dill'\n"
     ]
    },
    {
     "name": "stdout",
     "output_type": "stream",
     "text": [
      "\b\b\b\b\b\b\b\b\b\b\b\b\b\b\b\b\b\b\b\b\b\b\b\b\b\b\b\b\b\b\b\b\b\b\b\b\b\b\b\b\b\b\b\b\b\b\b\b\b\b\b\b\b\b\b\b\b\b\b\b\b\b\b\b\b\b\b\b\b\b\b\b\b\b\b\b\b\b\b\b\b\b\b\b\b\b\b\b\b\b\b\b\b\b\b\b\b\b\b\b\b\b\b\b\b\b\b\b\b\b\b\b\b\b\b\b\b\r",
      " 387/1599 [======>.......................] - ETA: 5s - loss: nan - mean_squared_error: nan - mean_absolute_error: nan"
     ]
    },
    {
     "name": "stderr",
     "output_type": "stream",
     "text": [
      "WARNING:root:Batch exception[Errno 2] No such file or directory: 'C:/earthquake/one-stats-embedding/em_14417.dill'\n",
      "WARNING:root:Batch exception[Errno 2] No such file or directory: 'C:/earthquake/one-stats-embedding/em_1297.dill'\n",
      "WARNING:root:Batch exception[Errno 2] No such file or directory: 'C:/earthquake/one-stats-embedding/em_13137.dill'\n",
      "WARNING:root:Batch exception[Errno 2] No such file or directory: 'C:/earthquake/one-stats-embedding/em_22737.dill'\n",
      "WARNING:root:Batch exception[Errno 2] No such file or directory: 'C:/earthquake/one-stats-embedding/em_18977.dill'\n",
      "WARNING:root:Batch exception[Errno 2] No such file or directory: 'C:/earthquake/one-stats-embedding/em_13233.dill'\n",
      "WARNING:root:Batch exception[Errno 2] No such file or directory: 'C:/earthquake/one-stats-embedding/em_19873.dill'\n",
      "WARNING:root:Batch exception[Errno 2] No such file or directory: 'C:/earthquake/one-stats-embedding/em_7249.dill'\n",
      "WARNING:root:Batch exception[Errno 2] No such file or directory: 'C:/earthquake/one-stats-embedding/em_17665.dill'\n",
      "WARNING:root:Batch exception[Errno 2] No such file or directory: 'C:/earthquake/one-stats-embedding/em_10321.dill'\n",
      "WARNING:root:Batch exception[Errno 2] No such file or directory: 'C:/earthquake/one-stats-embedding/em_1233.dill'\n"
     ]
    },
    {
     "name": "stdout",
     "output_type": "stream",
     "text": [
      "\b\b\b\b\b\b\b\b\b\b\b\b\b\b\b\b\b\b\b\b\b\b\b\b\b\b\b\b\b\b\b\b\b\b\b\b\b\b\b\b\b\b\b\b\b\b\b\b\b\b\b\b\b\b\b\b\b\b\b\b\b\b\b\b\b\b\b\b\b\b\b\b\b\b\b\b\b\b\b\b\b\b\b\b\b\b\b\b\b\b\b\b\b\b\b\b\b\b\b\b\b\b\b\b\b\b\b\b\b\b\b\b\b\b\b\b\b\r",
      " 398/1599 [======>.......................] - ETA: 5s - loss: nan - mean_squared_error: nan - mean_absolute_error: nan"
     ]
    },
    {
     "name": "stderr",
     "output_type": "stream",
     "text": [
      "WARNING:root:Batch exception[Errno 2] No such file or directory: 'C:/earthquake/one-stats-embedding/em_17249.dill'\n",
      "WARNING:root:Batch exception[Errno 2] No such file or directory: 'C:/earthquake/one-stats-embedding/em_19569.dill'\n",
      "WARNING:root:Batch exception[Errno 2] No such file or directory: 'C:/earthquake/one-stats-embedding/em_20545.dill'\n",
      "WARNING:root:Batch exception[Errno 2] No such file or directory: 'C:/earthquake/one-stats-embedding/em_15905.dill'\n",
      "WARNING:root:Batch exception[Errno 2] No such file or directory: 'C:/earthquake/one-stats-embedding/em_353.dill'\n",
      "WARNING:root:Batch exception[Errno 2] No such file or directory: 'C:/earthquake/one-stats-embedding/em_23265.dill'\n",
      "WARNING:root:Batch exception[Errno 2] No such file or directory: 'C:/earthquake/one-stats-embedding/em_12193.dill'\n",
      "WARNING:root:Batch exception[Errno 2] No such file or directory: 'C:/earthquake/one-stats-embedding/em_1809.dill'\n",
      "WARNING:root:Batch exception[Errno 2] No such file or directory: 'C:/earthquake/one-stats-embedding/em_12593.dill'\n",
      "WARNING:root:Batch exception[Errno 2] No such file or directory: 'C:/earthquake/one-stats-embedding/em_25073.dill'\n",
      "WARNING:root:Batch exception[Errno 2] No such file or directory: 'C:/earthquake/one-stats-embedding/em_17729.dill'\n"
     ]
    },
    {
     "name": "stdout",
     "output_type": "stream",
     "text": [
      "\b\b\b\b\b\b\b\b\b\b\b\b\b\b\b\b\b\b\b\b\b\b\b\b\b\b\b\b\b\b\b\b\b\b\b\b\b\b\b\b\b\b\b\b\b\b\b\b\b\b\b\b\b\b\b\b\b\b\b\b\b\b\b\b\b\b\b\b\b\b\b\b\b\b\b\b\b\b\b\b\b\b\b\b\b\b\b\b\b\b\b\b\b\b\b\b\b\b\b\b\b\b\b\b\b\b\b\b\b\b\b\b\b\b\b\b\b\r",
      " 409/1599 [======>.......................] - ETA: 5s - loss: nan - mean_squared_error: nan - mean_absolute_error: nan"
     ]
    },
    {
     "name": "stderr",
     "output_type": "stream",
     "text": [
      "WARNING:root:Batch exception[Errno 2] No such file or directory: 'C:/earthquake/one-stats-embedding/em_12049.dill'\n",
      "WARNING:root:Batch exception[Errno 2] No such file or directory: 'C:/earthquake/one-stats-embedding/em_3729.dill'\n",
      "WARNING:root:Batch exception[Errno 2] No such file or directory: 'C:/earthquake/one-stats-embedding/em_3057.dill'\n",
      "WARNING:root:Batch exception[Errno 2] No such file or directory: 'C:/earthquake/one-stats-embedding/em_21041.dill'\n",
      "WARNING:root:Batch exception[Errno 2] No such file or directory: 'C:/earthquake/one-stats-embedding/em_14801.dill'\n",
      "WARNING:root:Batch exception[Errno 2] No such file or directory: 'C:/earthquake/one-stats-embedding/em_23393.dill'\n",
      "WARNING:root:Batch exception[Errno 2] No such file or directory: 'C:/earthquake/one-stats-embedding/em_1921.dill'\n",
      "WARNING:root:Batch exception[Errno 2] No such file or directory: 'C:/earthquake/one-stats-embedding/em_4657.dill'\n",
      "WARNING:root:Batch exception[Errno 2] No such file or directory: 'C:/earthquake/one-stats-embedding/em_689.dill'\n",
      "WARNING:root:Batch exception[Errno 2] No such file or directory: 'C:/earthquake/one-stats-embedding/em_13953.dill'\n",
      "WARNING:root:Batch exception[Errno 2] No such file or directory: 'C:/earthquake/one-stats-embedding/em_19953.dill'\n"
     ]
    },
    {
     "name": "stdout",
     "output_type": "stream",
     "text": [
      "\b\b\b\b\b\b\b\b\b\b\b\b\b\b\b\b\b\b\b\b\b\b\b\b\b\b\b\b\b\b\b\b\b\b\b\b\b\b\b\b\b\b\b\b\b\b\b\b\b\b\b\b\b\b\b\b\b\b\b\b\b\b\b\b\b\b\b\b\b\b\b\b\b\b\b\b\b\b\b\b\b\b\b\b\b\b\b\b\b\b\b\b\b\b\b\b\b\b\b\b\b\b\b\b\b\b\b\b\b\b\b\b\b\b\b\b\b\r",
      " 420/1599 [======>.......................] - ETA: 5s - loss: nan - mean_squared_error: nan - mean_absolute_error: nan"
     ]
    },
    {
     "name": "stderr",
     "output_type": "stream",
     "text": [
      "WARNING:root:Batch exception[Errno 2] No such file or directory: 'C:/earthquake/one-stats-embedding/em_10129.dill'\n",
      "WARNING:root:Batch exception[Errno 2] No such file or directory: 'C:/earthquake/one-stats-embedding/em_16849.dill'\n",
      "WARNING:root:Batch exception[Errno 2] No such file or directory: 'C:/earthquake/one-stats-embedding/em_12721.dill'\n",
      "WARNING:root:Batch exception[Errno 2] No such file or directory: 'C:/earthquake/one-stats-embedding/em_15025.dill'\n",
      "WARNING:root:Batch exception[Errno 2] No such file or directory: 'C:/earthquake/one-stats-embedding/em_22545.dill'\n",
      "WARNING:root:Batch exception[Errno 2] No such file or directory: 'C:/earthquake/one-stats-embedding/em_14049.dill'\n",
      "WARNING:root:Batch exception[Errno 2] No such file or directory: 'C:/earthquake/one-stats-embedding/em_23633.dill'\n",
      "WARNING:root:Batch exception[Errno 2] No such file or directory: 'C:/earthquake/one-stats-embedding/em_17137.dill'\n",
      "WARNING:root:Batch exception[Errno 2] No such file or directory: 'C:/earthquake/one-stats-embedding/em_2833.dill'\n",
      "WARNING:root:Batch exception[Errno 2] No such file or directory: 'C:/earthquake/one-stats-embedding/em_609.dill'\n",
      "WARNING:root:Batch exception[Errno 2] No such file or directory: 'C:/earthquake/one-stats-embedding/em_19921.dill'\n"
     ]
    },
    {
     "name": "stdout",
     "output_type": "stream",
     "text": [
      "\b\b\b\b\b\b\b\b\b\b\b\b\b\b\b\b\b\b\b\b\b\b\b\b\b\b\b\b\b\b\b\b\b\b\b\b\b\b\b\b\b\b\b\b\b\b\b\b\b\b\b\b\b\b\b\b\b\b\b\b\b\b\b\b\b\b\b\b\b\b\b\b\b\b\b\b\b\b\b\b\b\b\b\b\b\b\b\b\b\b\b\b\b\b\b\b\b\b\b\b\b\b\b\b\b\b\b\b\b\b\b\b\b\b\b\b\b\r",
      " 431/1599 [=======>......................] - ETA: 5s - loss: nan - mean_squared_error: nan - mean_absolute_error: nan"
     ]
    },
    {
     "name": "stderr",
     "output_type": "stream",
     "text": [
      "WARNING:root:Batch exception[Errno 2] No such file or directory: 'C:/earthquake/one-stats-embedding/em_385.dill'\n",
      "WARNING:root:Batch exception[Errno 2] No such file or directory: 'C:/earthquake/one-stats-embedding/em_10353.dill'\n",
      "WARNING:root:Batch exception[Errno 2] No such file or directory: 'C:/earthquake/one-stats-embedding/em_12257.dill'\n",
      "WARNING:root:Batch exception[Errno 2] No such file or directory: 'C:/earthquake/one-stats-embedding/em_1505.dill'\n",
      "WARNING:root:Batch exception[Errno 2] No such file or directory: 'C:/earthquake/one-stats-embedding/em_1601.dill'\n",
      "WARNING:root:Batch exception[Errno 2] No such file or directory: 'C:/earthquake/one-stats-embedding/em_8401.dill'\n",
      "WARNING:root:Batch exception[Errno 2] No such file or directory: 'C:/earthquake/one-stats-embedding/em_7969.dill'\n",
      "WARNING:root:Batch exception[Errno 2] No such file or directory: 'C:/earthquake/one-stats-embedding/em_24609.dill'\n",
      "WARNING:root:Batch exception[Errno 2] No such file or directory: 'C:/earthquake/one-stats-embedding/em_9921.dill'\n",
      "WARNING:root:Batch exception[Errno 2] No such file or directory: 'C:/earthquake/one-stats-embedding/em_11073.dill'\n",
      "WARNING:root:Batch exception[Errno 2] No such file or directory: 'C:/earthquake/one-stats-embedding/em_5361.dill'\n"
     ]
    },
    {
     "name": "stdout",
     "output_type": "stream",
     "text": [
      "\b\b\b\b\b\b\b\b\b\b\b\b\b\b\b\b\b\b\b\b\b\b\b\b\b\b\b\b\b\b\b\b\b\b\b\b\b\b\b\b\b\b\b\b\b\b\b\b\b\b\b\b\b\b\b\b\b\b\b\b\b\b\b\b\b\b\b\b\b\b\b\b\b\b\b\b\b\b\b\b\b\b\b\b\b\b\b\b\b\b\b\b\b\b\b\b\b\b\b\b\b\b\b\b\b\b\b\b\b\b\b\b\b\b\b\b\b\r",
      " 442/1599 [=======>......................] - ETA: 5s - loss: nan - mean_squared_error: nan - mean_absolute_error: nan"
     ]
    },
    {
     "name": "stderr",
     "output_type": "stream",
     "text": [
      "WARNING:root:Batch exception[Errno 2] No such file or directory: 'C:/earthquake/one-stats-embedding/em_21457.dill'\n",
      "WARNING:root:Batch exception[Errno 2] No such file or directory: 'C:/earthquake/one-stats-embedding/em_14817.dill'\n",
      "WARNING:root:Batch exception[Errno 2] No such file or directory: 'C:/earthquake/one-stats-embedding/em_10849.dill'\n",
      "WARNING:root:Batch exception[Errno 2] No such file or directory: 'C:/earthquake/one-stats-embedding/em_10337.dill'\n",
      "WARNING:root:Batch exception[Errno 2] No such file or directory: 'C:/earthquake/one-stats-embedding/em_22417.dill'\n",
      "WARNING:root:Batch exception[Errno 2] No such file or directory: 'C:/earthquake/one-stats-embedding/em_6209.dill'\n",
      "WARNING:root:Batch exception[Errno 2] No such file or directory: 'C:/earthquake/one-stats-embedding/em_14401.dill'\n",
      "WARNING:root:Batch exception[Errno 2] No such file or directory: 'C:/earthquake/one-stats-embedding/em_7025.dill'\n",
      "WARNING:root:Batch exception[Errno 2] No such file or directory: 'C:/earthquake/one-stats-embedding/em_4081.dill'\n",
      "WARNING:root:Batch exception[Errno 2] No such file or directory: 'C:/earthquake/one-stats-embedding/em_11297.dill'\n",
      "WARNING:root:Batch exception[Errno 2] No such file or directory: 'C:/earthquake/one-stats-embedding/em_22049.dill'\n",
      "WARNING:root:Batch exception[Errno 2] No such file or directory: 'C:/earthquake/one-stats-embedding/em_20177.dill'\n"
     ]
    },
    {
     "name": "stdout",
     "output_type": "stream",
     "text": [
      "\b\b\b\b\b\b\b\b\b\b\b\b\b\b\b\b\b\b\b\b\b\b\b\b\b\b\b\b\b\b\b\b\b\b\b\b\b\b\b\b\b\b\b\b\b\b\b\b\b\b\b\b\b\b\b\b\b\b\b\b\b\b\b\b\b\b\b\b\b\b\b\b\b\b\b\b\b\b\b\b\b\b\b\b\b\b\b\b\b\b\b\b\b\b\b\b\b\b\b\b\b\b\b\b\b\b\b\b\b\b\b\b\b\b\b\b\b\r",
      " 454/1599 [=======>......................] - ETA: 5s - loss: nan - mean_squared_error: nan - mean_absolute_error: nan"
     ]
    },
    {
     "name": "stderr",
     "output_type": "stream",
     "text": [
      "WARNING:root:Batch exception[Errno 2] No such file or directory: 'C:/earthquake/one-stats-embedding/em_21281.dill'\n",
      "WARNING:root:Batch exception[Errno 2] No such file or directory: 'C:/earthquake/one-stats-embedding/em_25057.dill'\n",
      "WARNING:root:Batch exception[Errno 2] No such file or directory: 'C:/earthquake/one-stats-embedding/em_6049.dill'\n",
      "WARNING:root:Batch exception[Errno 2] No such file or directory: 'C:/earthquake/one-stats-embedding/em_12881.dill'\n",
      "WARNING:root:Batch exception[Errno 2] No such file or directory: 'C:/earthquake/one-stats-embedding/em_19681.dill'\n",
      "WARNING:root:Batch exception[Errno 2] No such file or directory: 'C:/earthquake/one-stats-embedding/em_20561.dill'\n",
      "WARNING:root:Batch exception[Errno 2] No such file or directory: 'C:/earthquake/one-stats-embedding/em_13073.dill'\n",
      "WARNING:root:Batch exception[Errno 2] No such file or directory: 'C:/earthquake/one-stats-embedding/em_23521.dill'\n",
      "WARNING:root:Batch exception[Errno 2] No such file or directory: 'C:/earthquake/one-stats-embedding/em_24209.dill'\n",
      "WARNING:root:Batch exception[Errno 2] No such file or directory: 'C:/earthquake/one-stats-embedding/em_2449.dill'\n",
      "WARNING:root:Batch exception[Errno 2] No such file or directory: 'C:/earthquake/one-stats-embedding/em_16881.dill'\n",
      "WARNING:root:Batch exception[Errno 2] No such file or directory: 'C:/earthquake/one-stats-embedding/em_10449.dill'\n"
     ]
    },
    {
     "name": "stdout",
     "output_type": "stream",
     "text": [
      "\b\b\b\b\b\b\b\b\b\b\b\b\b\b\b\b\b\b\b\b\b\b\b\b\b\b\b\b\b\b\b\b\b\b\b\b\b\b\b\b\b\b\b\b\b\b\b\b\b\b\b\b\b\b\b\b\b\b\b\b\b\b\b\b\b\b\b\b\b\b\b\b\b\b\b\b\b\b\b\b\b\b\b\b\b\b\b\b\b\b\b\b\b\b\b\b\b\b\b\b\b\b\b\b\b\b\b\b\b\b\b\b\b\b\b\b\b\r",
      " 466/1599 [=======>......................] - ETA: 5s - loss: nan - mean_squared_error: nan - mean_absolute_error: nan"
     ]
    },
    {
     "name": "stderr",
     "output_type": "stream",
     "text": [
      "WARNING:root:Batch exception[Errno 2] No such file or directory: 'C:/earthquake/one-stats-embedding/em_22769.dill'\n",
      "WARNING:root:Batch exception[Errno 2] No such file or directory: 'C:/earthquake/one-stats-embedding/em_23473.dill'\n",
      "WARNING:root:Batch exception[Errno 2] No such file or directory: 'C:/earthquake/one-stats-embedding/em_11937.dill'\n",
      "WARNING:root:Batch exception[Errno 2] No such file or directory: 'C:/earthquake/one-stats-embedding/em_15409.dill'\n",
      "WARNING:root:Batch exception[Errno 2] No such file or directory: 'C:/earthquake/one-stats-embedding/em_4513.dill'\n",
      "WARNING:root:Batch exception[Errno 2] No such file or directory: 'C:/earthquake/one-stats-embedding/em_13969.dill'\n",
      "WARNING:root:Batch exception[Errno 2] No such file or directory: 'C:/earthquake/one-stats-embedding/em_16033.dill'\n",
      "WARNING:root:Batch exception[Errno 2] No such file or directory: 'C:/earthquake/one-stats-embedding/em_20289.dill'\n",
      "WARNING:root:Batch exception[Errno 2] No such file or directory: 'C:/earthquake/one-stats-embedding/em_1105.dill'\n",
      "WARNING:root:Batch exception[Errno 2] No such file or directory: 'C:/earthquake/one-stats-embedding/em_9153.dill'\n",
      "WARNING:root:Batch exception[Errno 2] No such file or directory: 'C:/earthquake/one-stats-embedding/em_3377.dill'\n",
      "WARNING:root:Batch exception[Errno 2] No such file or directory: 'C:/earthquake/one-stats-embedding/em_7793.dill'\n"
     ]
    },
    {
     "name": "stdout",
     "output_type": "stream",
     "text": [
      "\b\b\b\b\b\b\b\b\b\b\b\b\b\b\b\b\b\b\b\b\b\b\b\b\b\b\b\b\b\b\b\b\b\b\b\b\b\b\b\b\b\b\b\b\b\b\b\b\b\b\b\b\b\b\b\b\b\b\b\b\b\b\b\b\b\b\b\b\b\b\b\b\b\b\b\b\b\b\b\b\b\b\b\b\b\b\b\b\b\b\b\b\b\b\b\b\b\b\b\b\b\b\b\b\b\b\b\b\b\b\b\b\b\b\b\b\b\r",
      " 478/1599 [=======>......................] - ETA: 5s - loss: nan - mean_squared_error: nan - mean_absolute_error: nan"
     ]
    },
    {
     "name": "stderr",
     "output_type": "stream",
     "text": [
      "WARNING:root:Batch exception[Errno 2] No such file or directory: 'C:/earthquake/one-stats-embedding/em_11153.dill'\n",
      "WARNING:root:Batch exception[Errno 2] No such file or directory: 'C:/earthquake/one-stats-embedding/em_8129.dill'\n",
      "WARNING:root:Batch exception[Errno 2] No such file or directory: 'C:/earthquake/one-stats-embedding/em_2881.dill'\n",
      "WARNING:root:Batch exception[Errno 2] No such file or directory: 'C:/earthquake/one-stats-embedding/em_7409.dill'\n",
      "WARNING:root:Batch exception[Errno 2] No such file or directory: 'C:/earthquake/one-stats-embedding/em_13825.dill'\n",
      "WARNING:root:Batch exception[Errno 2] No such file or directory: 'C:/earthquake/one-stats-embedding/em_1425.dill'\n",
      "WARNING:root:Batch exception[Errno 2] No such file or directory: 'C:/earthquake/one-stats-embedding/em_6833.dill'\n",
      "WARNING:root:Batch exception[Errno 2] No such file or directory: 'C:/earthquake/one-stats-embedding/em_11905.dill'\n",
      "WARNING:root:Batch exception[Errno 2] No such file or directory: 'C:/earthquake/one-stats-embedding/em_17905.dill'\n",
      "WARNING:root:Batch exception[Errno 2] No such file or directory: 'C:/earthquake/one-stats-embedding/em_13425.dill'\n",
      "WARNING:root:Batch exception[Errno 2] No such file or directory: 'C:/earthquake/one-stats-embedding/em_7521.dill'\n"
     ]
    },
    {
     "name": "stdout",
     "output_type": "stream",
     "text": [
      "\b\b\b\b\b\b\b\b\b\b\b\b\b\b\b\b\b\b\b\b\b\b\b\b\b\b\b\b\b\b\b\b\b\b\b\b\b\b\b\b\b\b\b\b\b\b\b\b\b\b\b\b\b\b\b\b\b\b\b\b\b\b\b\b\b\b\b\b\b\b\b\b\b\b\b\b\b\b\b\b\b\b\b\b\b\b\b\b\b\b\b\b\b\b\b\b\b\b\b\b\b\b\b\b\b\b\b\b\b\b\b\b\b\b\b\b\b\r",
      " 489/1599 [========>.....................] - ETA: 5s - loss: nan - mean_squared_error: nan - mean_absolute_error: nan"
     ]
    },
    {
     "name": "stderr",
     "output_type": "stream",
     "text": [
      "WARNING:root:Batch exception[Errno 2] No such file or directory: 'C:/earthquake/one-stats-embedding/em_15665.dill'\n",
      "WARNING:root:Batch exception[Errno 2] No such file or directory: 'C:/earthquake/one-stats-embedding/em_23377.dill'\n",
      "WARNING:root:Batch exception[Errno 2] No such file or directory: 'C:/earthquake/one-stats-embedding/em_14753.dill'\n",
      "WARNING:root:Batch exception[Errno 2] No such file or directory: 'C:/earthquake/one-stats-embedding/em_17921.dill'\n",
      "WARNING:root:Batch exception[Errno 2] No such file or directory: 'C:/earthquake/one-stats-embedding/em_10161.dill'\n",
      "WARNING:root:Batch exception[Errno 2] No such file or directory: 'C:/earthquake/one-stats-embedding/em_769.dill'\n",
      "WARNING:root:Batch exception[Errno 2] No such file or directory: 'C:/earthquake/one-stats-embedding/em_18305.dill'\n",
      "WARNING:root:Batch exception[Errno 2] No such file or directory: 'C:/earthquake/one-stats-embedding/em_24353.dill'\n",
      "WARNING:root:Batch exception[Errno 2] No such file or directory: 'C:/earthquake/one-stats-embedding/em_5297.dill'\n",
      "WARNING:root:Batch exception[Errno 2] No such file or directory: 'C:/earthquake/one-stats-embedding/em_22385.dill'\n",
      "WARNING:root:Batch exception[Errno 2] No such file or directory: 'C:/earthquake/one-stats-embedding/em_19137.dill'\n"
     ]
    },
    {
     "name": "stdout",
     "output_type": "stream",
     "text": [
      "\b\b\b\b\b\b\b\b\b\b\b\b\b\b\b\b\b\b\b\b\b\b\b\b\b\b\b\b\b\b\b\b\b\b\b\b\b\b\b\b\b\b\b\b\b\b\b\b\b\b\b\b\b\b\b\b\b\b\b\b\b\b\b\b\b\b\b\b\b\b\b\b\b\b\b\b\b\b\b\b\b\b\b\b\b\b\b\b\b\b\b\b\b\b\b\b\b\b\b\b\b\b\b\b\b\b\b\b\b\b\b\b\b\b\b\b\b\r",
      " 500/1599 [========>.....................] - ETA: 5s - loss: nan - mean_squared_error: nan - mean_absolute_error: nan"
     ]
    },
    {
     "name": "stderr",
     "output_type": "stream",
     "text": [
      "WARNING:root:Batch exception[Errno 2] No such file or directory: 'C:/earthquake/one-stats-embedding/em_11025.dill'\n",
      "WARNING:root:Batch exception[Errno 2] No such file or directory: 'C:/earthquake/one-stats-embedding/em_10993.dill'\n",
      "WARNING:root:Batch exception[Errno 2] No such file or directory: 'C:/earthquake/one-stats-embedding/em_2849.dill'\n",
      "WARNING:root:Batch exception[Errno 2] No such file or directory: 'C:/earthquake/one-stats-embedding/em_19393.dill'\n",
      "WARNING:root:Batch exception[Errno 2] No such file or directory: 'C:/earthquake/one-stats-embedding/em_20241.dill'\n",
      "WARNING:root:Batch exception[Errno 2] No such file or directory: 'C:/earthquake/one-stats-embedding/em_24993.dill'\n",
      "WARNING:root:Batch exception[Errno 2] No such file or directory: 'C:/earthquake/one-stats-embedding/em_5409.dill'\n",
      "WARNING:root:Batch exception[Errno 2] No such file or directory: 'C:/earthquake/one-stats-embedding/em_4481.dill'\n",
      "WARNING:root:Batch exception[Errno 2] No such file or directory: 'C:/earthquake/one-stats-embedding/em_23025.dill'\n",
      "WARNING:root:Batch exception[Errno 2] No such file or directory: 'C:/earthquake/one-stats-embedding/em_8385.dill'\n",
      "WARNING:root:Batch exception[Errno 2] No such file or directory: 'C:/earthquake/one-stats-embedding/em_21185.dill'\n",
      "WARNING:root:Batch exception[Errno 2] No such file or directory: 'C:/earthquake/one-stats-embedding/em_6561.dill'\n"
     ]
    },
    {
     "name": "stdout",
     "output_type": "stream",
     "text": [
      "\b\b\b\b\b\b\b\b\b\b\b\b\b\b\b\b\b\b\b\b\b\b\b\b\b\b\b\b\b\b\b\b\b\b\b\b\b\b\b\b\b\b\b\b\b\b\b\b\b\b\b\b\b\b\b\b\b\b\b\b\b\b\b\b\b\b\b\b\b\b\b\b\b\b\b\b\b\b\b\b\b\b\b\b\b\b\b\b\b\b\b\b\b\b\b\b\b\b\b\b\b\b\b\b\b\b\b\b\b\b\b\b\b\b\b\b\b\r",
      " 512/1599 [========>.....................] - ETA: 5s - loss: nan - mean_squared_error: nan - mean_absolute_error: nan"
     ]
    },
    {
     "name": "stderr",
     "output_type": "stream",
     "text": [
      "WARNING:root:Batch exception[Errno 2] No such file or directory: 'C:/earthquake/one-stats-embedding/em_19153.dill'\n",
      "WARNING:root:Batch exception[Errno 2] No such file or directory: 'C:/earthquake/one-stats-embedding/em_1521.dill'\n",
      "WARNING:root:Batch exception[Errno 2] No such file or directory: 'C:/earthquake/one-stats-embedding/em_25361.dill'\n",
      "WARNING:root:Batch exception[Errno 2] No such file or directory: 'C:/earthquake/one-stats-embedding/em_8097.dill'\n",
      "WARNING:root:Batch exception[Errno 2] No such file or directory: 'C:/earthquake/one-stats-embedding/em_7569.dill'\n",
      "WARNING:root:Batch exception[Errno 2] No such file or directory: 'C:/earthquake/one-stats-embedding/em_21169.dill'\n",
      "WARNING:root:Batch exception[Errno 2] No such file or directory: 'C:/earthquake/one-stats-embedding/em_20321.dill'\n",
      "WARNING:root:Batch exception[Errno 2] No such file or directory: 'C:/earthquake/one-stats-embedding/em_21217.dill'\n",
      "WARNING:root:Batch exception[Errno 2] No such file or directory: 'C:/earthquake/one-stats-embedding/em_13217.dill'\n",
      "WARNING:root:Batch exception[Errno 2] No such file or directory: 'C:/earthquake/one-stats-embedding/em_14225.dill'\n",
      "WARNING:root:Batch exception[Errno 2] No such file or directory: 'C:/earthquake/one-stats-embedding/em_4785.dill'\n",
      "WARNING:root:Batch exception[Errno 2] No such file or directory: 'C:/earthquake/one-stats-embedding/em_24737.dill'\n"
     ]
    },
    {
     "name": "stdout",
     "output_type": "stream",
     "text": [
      "\b\b\b\b\b\b\b\b\b\b\b\b\b\b\b\b\b\b\b\b\b\b\b\b\b\b\b\b\b\b\b\b\b\b\b\b\b\b\b\b\b\b\b\b\b\b\b\b\b\b\b\b\b\b\b\b\b\b\b\b\b\b\b\b\b\b\b\b\b\b\b\b\b\b\b\b\b\b\b\b\b\b\b\b\b\b\b\b\b\b\b\b\b\b\b\b\b\b\b\b\b\b\b\b\b\b\b\b\b\b\b\b\b\b\b\b\b\r",
      " 524/1599 [========>.....................] - ETA: 5s - loss: nan - mean_squared_error: nan - mean_absolute_error: nan"
     ]
    },
    {
     "name": "stderr",
     "output_type": "stream",
     "text": [
      "WARNING:root:Batch exception[Errno 2] No such file or directory: 'C:/earthquake/one-stats-embedding/em_15137.dill'\n",
      "WARNING:root:Batch exception[Errno 2] No such file or directory: 'C:/earthquake/one-stats-embedding/em_3153.dill'\n",
      "WARNING:root:Batch exception[Errno 2] No such file or directory: 'C:/earthquake/one-stats-embedding/em_7553.dill'\n",
      "WARNING:root:Batch exception[Errno 2] No such file or directory: 'C:/earthquake/one-stats-embedding/em_11649.dill'\n",
      "WARNING:root:Batch exception[Errno 2] No such file or directory: 'C:/earthquake/one-stats-embedding/em_25457.dill'\n",
      "WARNING:root:Batch exception[Errno 2] No such file or directory: 'C:/earthquake/one-stats-embedding/em_1249.dill'\n",
      "WARNING:root:Batch exception[Errno 2] No such file or directory: 'C:/earthquake/one-stats-embedding/em_19441.dill'\n",
      "WARNING:root:Batch exception[Errno 2] No such file or directory: 'C:/earthquake/one-stats-embedding/em_24113.dill'\n",
      "WARNING:root:Batch exception[Errno 2] No such file or directory: 'C:/earthquake/one-stats-embedding/em_5985.dill'\n",
      "WARNING:root:Batch exception[Errno 2] No such file or directory: 'C:/earthquake/one-stats-embedding/em_10689.dill'\n",
      "WARNING:root:Batch exception[Errno 2] No such file or directory: 'C:/earthquake/one-stats-embedding/em_14913.dill'\n",
      "WARNING:root:Batch exception[Errno 2] No such file or directory: 'C:/earthquake/one-stats-embedding/em_18561.dill'\n"
     ]
    },
    {
     "name": "stdout",
     "output_type": "stream",
     "text": [
      "\b\b\b\b\b\b\b\b\b\b\b\b\b\b\b\b\b\b\b\b\b\b\b\b\b\b\b\b\b\b\b\b\b\b\b\b\b\b\b\b\b\b\b\b\b\b\b\b\b\b\b\b\b\b\b\b\b\b\b\b\b\b\b\b\b\b\b\b\b\b\b\b\b\b\b\b\b\b\b\b\b\b\b\b\b\b\b\b\b\b\b\b\b\b\b\b\b\b\b\b\b\b\b\b\b\b\b\b\b\b\b\b\b\b\b\b\b\r",
      " 536/1599 [=========>....................] - ETA: 5s - loss: nan - mean_squared_error: nan - mean_absolute_error: nan"
     ]
    },
    {
     "name": "stderr",
     "output_type": "stream",
     "text": [
      "WARNING:root:Batch exception[Errno 2] No such file or directory: 'C:/earthquake/one-stats-embedding/em_10081.dill'\n",
      "WARNING:root:Batch exception[Errno 2] No such file or directory: 'C:/earthquake/one-stats-embedding/em_1041.dill'\n",
      "WARNING:root:Batch exception[Errno 2] No such file or directory: 'C:/earthquake/one-stats-embedding/em_8225.dill'\n",
      "WARNING:root:Batch exception[Errno 2] No such file or directory: 'C:/earthquake/one-stats-embedding/em_2737.dill'\n",
      "WARNING:root:Batch exception[Errno 2] No such file or directory: 'C:/earthquake/one-stats-embedding/em_16145.dill'\n",
      "WARNING:root:Batch exception[Errno 2] No such file or directory: 'C:/earthquake/one-stats-embedding/em_16817.dill'\n",
      "WARNING:root:Batch exception[Errno 2] No such file or directory: 'C:/earthquake/one-stats-embedding/em_12929.dill'\n",
      "WARNING:root:Batch exception[Errno 2] No such file or directory: 'C:/earthquake/one-stats-embedding/em_2545.dill'\n",
      "WARNING:root:Batch exception[Errno 2] No such file or directory: 'C:/earthquake/one-stats-embedding/em_13985.dill'\n",
      "WARNING:root:Batch exception[Errno 2] No such file or directory: 'C:/earthquake/one-stats-embedding/em_19473.dill'\n",
      "WARNING:root:Batch exception[Errno 2] No such file or directory: 'C:/earthquake/one-stats-embedding/em_10545.dill'\n"
     ]
    },
    {
     "name": "stdout",
     "output_type": "stream",
     "text": [
      "\b\b\b\b\b\b\b\b\b\b\b\b\b\b\b\b\b\b\b\b\b\b\b\b\b\b\b\b\b\b\b\b\b\b\b\b\b\b\b\b\b\b\b\b\b\b\b\b\b\b\b\b\b\b\b\b\b\b\b\b\b\b\b\b\b\b\b\b\b\b\b\b\b\b\b\b\b\b\b\b\b\b\b\b\b\b\b\b\b\b\b\b\b\b\b\b\b\b\b\b\b\b\b\b\b\b\b\b\b\b\b\b\b\b\b\b\b\r",
      " 547/1599 [=========>....................] - ETA: 4s - loss: nan - mean_squared_error: nan - mean_absolute_error: nan"
     ]
    },
    {
     "name": "stderr",
     "output_type": "stream",
     "text": [
      "WARNING:root:Batch exception[Errno 2] No such file or directory: 'C:/earthquake/one-stats-embedding/em_4561.dill'\n",
      "WARNING:root:Batch exception[Errno 2] No such file or directory: 'C:/earthquake/one-stats-embedding/em_11569.dill'\n",
      "WARNING:root:Batch exception[Errno 2] No such file or directory: 'C:/earthquake/one-stats-embedding/em_2609.dill'\n",
      "WARNING:root:Batch exception[Errno 2] No such file or directory: 'C:/earthquake/one-stats-embedding/em_1473.dill'\n",
      "WARNING:root:Batch exception[Errno 2] No such file or directory: 'C:/earthquake/one-stats-embedding/em_23185.dill'\n",
      "WARNING:root:Batch exception[Errno 2] No such file or directory: 'C:/earthquake/one-stats-embedding/em_7953.dill'\n",
      "WARNING:root:Batch exception[Errno 2] No such file or directory: 'C:/earthquake/one-stats-embedding/em_23153.dill'\n",
      "WARNING:root:Batch exception[Errno 2] No such file or directory: 'C:/earthquake/one-stats-embedding/em_8833.dill'\n",
      "WARNING:root:Batch exception[Errno 2] No such file or directory: 'C:/earthquake/one-stats-embedding/em_10641.dill'\n",
      "WARNING:root:Batch exception[Errno 2] No such file or directory: 'C:/earthquake/one-stats-embedding/em_14945.dill'\n",
      "WARNING:root:Batch exception[Errno 2] No such file or directory: 'C:/earthquake/one-stats-embedding/em_6897.dill'\n",
      "WARNING:root:Batch exception[Errno 2] No such file or directory: 'C:/earthquake/one-stats-embedding/em_21121.dill'\n"
     ]
    },
    {
     "name": "stdout",
     "output_type": "stream",
     "text": [
      "\b\b\b\b\b\b\b\b\b\b\b\b\b\b\b\b\b\b\b\b\b\b\b\b\b\b\b\b\b\b\b\b\b\b\b\b\b\b\b\b\b\b\b\b\b\b\b\b\b\b\b\b\b\b\b\b\b\b\b\b\b\b\b\b\b\b\b\b\b\b\b\b\b\b\b\b\b\b\b\b\b\b\b\b\b\b\b\b\b\b\b\b\b\b\b\b\b\b\b\b\b\b\b\b\b\b\b\b\b\b\b\b\b\b\b\b\b\r",
      " 559/1599 [=========>....................] - ETA: 4s - loss: nan - mean_squared_error: nan - mean_absolute_error: nan"
     ]
    },
    {
     "name": "stderr",
     "output_type": "stream",
     "text": [
      "WARNING:root:Batch exception[Errno 2] No such file or directory: 'C:/earthquake/one-stats-embedding/em_8801.dill'\n",
      "WARNING:root:Batch exception[Errno 2] No such file or directory: 'C:/earthquake/one-stats-embedding/em_6305.dill'\n",
      "WARNING:root:Batch exception[Errno 2] No such file or directory: 'C:/earthquake/one-stats-embedding/em_22097.dill'\n",
      "WARNING:root:Batch exception[Errno 2] No such file or directory: 'C:/earthquake/one-stats-embedding/em_23681.dill'\n",
      "WARNING:root:Batch exception[Errno 2] No such file or directory: 'C:/earthquake/one-stats-embedding/em_7169.dill'\n",
      "WARNING:root:Batch exception[Errno 2] No such file or directory: 'C:/earthquake/one-stats-embedding/em_20817.dill'\n",
      "WARNING:root:Batch exception[Errno 2] No such file or directory: 'C:/earthquake/one-stats-embedding/em_12913.dill'\n",
      "WARNING:root:Batch exception[Errno 2] No such file or directory: 'C:/earthquake/one-stats-embedding/em_19329.dill'\n",
      "WARNING:root:Batch exception[Errno 2] No such file or directory: 'C:/earthquake/one-stats-embedding/em_25169.dill'\n",
      "WARNING:root:Batch exception[Errno 2] No such file or directory: 'C:/earthquake/one-stats-embedding/em_1377.dill'\n",
      "WARNING:root:Batch exception[Errno 2] No such file or directory: 'C:/earthquake/one-stats-embedding/em_7233.dill'\n",
      "WARNING:root:Batch exception[Errno 2] No such file or directory: 'C:/earthquake/one-stats-embedding/em_8337.dill'\n"
     ]
    },
    {
     "name": "stdout",
     "output_type": "stream",
     "text": [
      "\b\b\b\b\b\b\b\b\b\b\b\b\b\b\b\b\b\b\b\b\b\b\b\b\b\b\b\b\b\b\b\b\b\b\b\b\b\b\b\b\b\b\b\b\b\b\b\b\b\b\b\b\b\b\b\b\b\b\b\b\b\b\b\b\b\b\b\b\b\b\b\b\b\b\b\b\b\b\b\b\b\b\b\b\b\b\b\b\b\b\b\b\b\b\b\b\b\b\b\b\b\b\b\b\b\b\b\b\b\b\b\b\b\b\b\b\b\r",
      " 571/1599 [=========>....................] - ETA: 4s - loss: nan - mean_squared_error: nan - mean_absolute_error: nan"
     ]
    },
    {
     "name": "stderr",
     "output_type": "stream",
     "text": [
      "WARNING:root:Batch exception[Errno 2] No such file or directory: 'C:/earthquake/one-stats-embedding/em_23713.dill'\n",
      "WARNING:root:Batch exception[Errno 2] No such file or directory: 'C:/earthquake/one-stats-embedding/em_13025.dill'\n",
      "WARNING:root:Batch exception[Errno 2] No such file or directory: 'C:/earthquake/one-stats-embedding/em_15553.dill'\n",
      "WARNING:root:Batch exception[Errno 2] No such file or directory: 'C:/earthquake/one-stats-embedding/em_7361.dill'\n",
      "WARNING:root:Batch exception[Errno 2] No such file or directory: 'C:/earthquake/one-stats-embedding/em_18817.dill'\n",
      "WARNING:root:Batch exception[Errno 2] No such file or directory: 'C:/earthquake/one-stats-embedding/em_14833.dill'\n",
      "WARNING:root:Batch exception[Errno 2] No such file or directory: 'C:/earthquake/one-stats-embedding/em_8593.dill'\n",
      "WARNING:root:Batch exception[Errno 2] No such file or directory: 'C:/earthquake/one-stats-embedding/em_7537.dill'\n",
      "WARNING:root:Batch exception[Errno 2] No such file or directory: 'C:/earthquake/one-stats-embedding/em_15249.dill'\n",
      "WARNING:root:Batch exception[Errno 2] No such file or directory: 'C:/earthquake/one-stats-embedding/em_19041.dill'\n",
      "WARNING:root:Batch exception[Errno 2] No such file or directory: 'C:/earthquake/one-stats-embedding/em_14545.dill'\n",
      "WARNING:root:Batch exception[Errno 2] No such file or directory: 'C:/earthquake/one-stats-embedding/em_13457.dill'\n"
     ]
    },
    {
     "name": "stdout",
     "output_type": "stream",
     "text": [
      "\b\b\b\b\b\b\b\b\b\b\b\b\b\b\b\b\b\b\b\b\b\b\b\b\b\b\b\b\b\b\b\b\b\b\b\b\b\b\b\b\b\b\b\b\b\b\b\b\b\b\b\b\b\b\b\b\b\b\b\b\b\b\b\b\b\b\b\b\b\b\b\b\b\b\b\b\b\b\b\b\b\b\b\b\b\b\b\b\b\b\b\b\b\b\b\b\b\b\b\b\b\b\b\b\b\b\b\b\b\b\b\b\b\b\b\b\b\r",
      " 583/1599 [=========>....................] - ETA: 4s - loss: nan - mean_squared_error: nan - mean_absolute_error: nan"
     ]
    },
    {
     "name": "stderr",
     "output_type": "stream",
     "text": [
      "WARNING:root:Batch exception[Errno 2] No such file or directory: 'C:/earthquake/one-stats-embedding/em_11281.dill'\n",
      "WARNING:root:Batch exception[Errno 2] No such file or directory: 'C:/earthquake/one-stats-embedding/em_7729.dill'\n",
      "WARNING:root:Batch exception[Errno 2] No such file or directory: 'C:/earthquake/one-stats-embedding/em_17345.dill'\n",
      "WARNING:root:Batch exception[Errno 2] No such file or directory: 'C:/earthquake/one-stats-embedding/em_2049.dill'\n",
      "WARNING:root:Batch exception[Errno 2] No such file or directory: 'C:/earthquake/one-stats-embedding/em_6177.dill'\n",
      "WARNING:root:Batch exception[Errno 2] No such file or directory: 'C:/earthquake/one-stats-embedding/em_14337.dill'\n",
      "WARNING:root:Batch exception[Errno 2] No such file or directory: 'C:/earthquake/one-stats-embedding/em_7281.dill'\n",
      "WARNING:root:Batch exception[Errno 2] No such file or directory: 'C:/earthquake/one-stats-embedding/em_18625.dill'\n",
      "WARNING:root:Batch exception[Errno 2] No such file or directory: 'C:/earthquake/one-stats-embedding/em_3585.dill'\n",
      "WARNING:root:Batch exception[Errno 2] No such file or directory: 'C:/earthquake/one-stats-embedding/em_337.dill'\n",
      "WARNING:root:Batch exception[Errno 2] No such file or directory: 'C:/earthquake/one-stats-embedding/em_15521.dill'\n"
     ]
    },
    {
     "name": "stdout",
     "output_type": "stream",
     "text": [
      "\b\b\b\b\b\b\b\b\b\b\b\b\b\b\b\b\b\b\b\b\b\b\b\b\b\b\b\b\b\b\b\b\b\b\b\b\b\b\b\b\b\b\b\b\b\b\b\b\b\b\b\b\b\b\b\b\b\b\b\b\b\b\b\b\b\b\b\b\b\b\b\b\b\b\b\b\b\b\b\b\b\b\b\b\b\b\b\b\b\b\b\b\b\b\b\b\b\b\b\b\b\b\b\b\b\b\b\b\b\b\b\b\b\b\b\b\b\r",
      " 594/1599 [==========>...................] - ETA: 4s - loss: nan - mean_squared_error: nan - mean_absolute_error: nan"
     ]
    },
    {
     "name": "stderr",
     "output_type": "stream",
     "text": [
      "WARNING:root:Batch exception[Errno 2] No such file or directory: 'C:/earthquake/one-stats-embedding/em_10385.dill'\n",
      "WARNING:root:Batch exception[Errno 2] No such file or directory: 'C:/earthquake/one-stats-embedding/em_5329.dill'\n",
      "WARNING:root:Batch exception[Errno 2] No such file or directory: 'C:/earthquake/one-stats-embedding/em_24929.dill'\n",
      "WARNING:root:Batch exception[Errno 2] No such file or directory: 'C:/earthquake/one-stats-embedding/em_13665.dill'\n",
      "WARNING:root:Batch exception[Errno 2] No such file or directory: 'C:/earthquake/one-stats-embedding/em_21025.dill'\n",
      "WARNING:root:Batch exception[Errno 2] No such file or directory: 'C:/earthquake/one-stats-embedding/em_465.dill'\n",
      "WARNING:root:Batch exception[Errno 2] No such file or directory: 'C:/earthquake/one-stats-embedding/em_5585.dill'\n",
      "WARNING:root:Batch exception[Errno 2] No such file or directory: 'C:/earthquake/one-stats-embedding/em_16273.dill'\n",
      "WARNING:root:Batch exception[Errno 2] No such file or directory: 'C:/earthquake/one-stats-embedding/em_15681.dill'\n",
      "WARNING:root:Batch exception[Errno 2] No such file or directory: 'C:/earthquake/one-stats-embedding/em_14641.dill'\n",
      "WARNING:root:Batch exception[Errno 2] No such file or directory: 'C:/earthquake/one-stats-embedding/em_513.dill'\n"
     ]
    },
    {
     "name": "stdout",
     "output_type": "stream",
     "text": [
      "\b\b\b\b\b\b\b\b\b\b\b\b\b\b\b\b\b\b\b\b\b\b\b\b\b\b\b\b\b\b\b\b\b\b\b\b\b\b\b\b\b\b\b\b\b\b\b\b\b\b\b\b\b\b\b\b\b\b\b\b\b\b\b\b\b\b\b\b\b\b\b\b\b\b\b\b\b\b\b\b\b\b\b\b\b\b\b\b\b\b\b\b\b\b\b\b\b\b\b\b\b\b\b\b\b\b\b\b\b\b\b\b\b\b\b\b\b\r",
      " 605/1599 [==========>...................] - ETA: 4s - loss: nan - mean_squared_error: nan - mean_absolute_error: nan"
     ]
    },
    {
     "name": "stderr",
     "output_type": "stream",
     "text": [
      "WARNING:root:Batch exception[Errno 2] No such file or directory: 'C:/earthquake/one-stats-embedding/em_23857.dill'\n",
      "WARNING:root:Batch exception[Errno 2] No such file or directory: 'C:/earthquake/one-stats-embedding/em_16529.dill'\n",
      "WARNING:root:Batch exception[Errno 2] No such file or directory: 'C:/earthquake/one-stats-embedding/em_14609.dill'\n",
      "WARNING:root:Batch exception[Errno 2] No such file or directory: 'C:/earthquake/one-stats-embedding/em_21761.dill'\n",
      "WARNING:root:Batch exception[Errno 2] No such file or directory: 'C:/earthquake/one-stats-embedding/em_2897.dill'\n",
      "WARNING:root:Batch exception[Errno 2] No such file or directory: 'C:/earthquake/one-stats-embedding/em_993.dill'\n",
      "WARNING:root:Batch exception[Errno 2] No such file or directory: 'C:/earthquake/one-stats-embedding/em_21345.dill'\n",
      "WARNING:root:Batch exception[Errno 2] No such file or directory: 'C:/earthquake/one-stats-embedding/em_19585.dill'\n"
     ]
    },
    {
     "name": "stdout",
     "output_type": "stream",
     "text": [
      "\b\b\b\b\b\b\b\b\b\b\b\b\b\b\b\b\b\b\b\b\b\b\b\b\b\b\b\b\b\b\b\b\b\b\b\b\b\b\b\b\b\b\b\b\b\b\b\b\b\b\b\b\b\b\b\b\b\b\b\b\b\b\b\b\b\b\b\b\b\b\b\b\b\b\b\b\b\b\b\b\b\b\b\b\b\b\b\b\b\b\b\b\b\b\b\b\b\b\b\b\b\b\b\b\b\b\b\b\b\b\b\b\b\b\b\b\b\r",
      " 613/1599 [==========>...................] - ETA: 4s - loss: nan - mean_squared_error: nan - mean_absolute_error: nan"
     ]
    },
    {
     "name": "stderr",
     "output_type": "stream",
     "text": [
      "WARNING:root:Batch exception[Errno 2] No such file or directory: 'C:/earthquake/one-stats-embedding/em_7921.dill'\n",
      "WARNING:root:Batch exception[Errno 2] No such file or directory: 'C:/earthquake/one-stats-embedding/em_19713.dill'\n",
      "WARNING:root:Batch exception[Errno 2] No such file or directory: 'C:/earthquake/one-stats-embedding/em_13729.dill'\n",
      "WARNING:root:Batch exception[Errno 2] No such file or directory: 'C:/earthquake/one-stats-embedding/em_21649.dill'\n",
      "WARNING:root:Batch exception[Errno 2] No such file or directory: 'C:/earthquake/one-stats-embedding/em_14993.dill'\n",
      "WARNING:root:Batch exception[Errno 2] No such file or directory: 'C:/earthquake/one-stats-embedding/em_3985.dill'\n",
      "WARNING:root:Batch exception[Errno 2] No such file or directory: 'C:/earthquake/one-stats-embedding/em_19633.dill'\n",
      "WARNING:root:Batch exception[Errno 2] No such file or directory: 'C:/earthquake/one-stats-embedding/em_18321.dill'\n",
      "WARNING:root:Batch exception[Errno 2] No such file or directory: 'C:/earthquake/one-stats-embedding/em_9809.dill'\n",
      "WARNING:root:Batch exception[Errno 2] No such file or directory: 'C:/earthquake/one-stats-embedding/em_25521.dill'\n"
     ]
    },
    {
     "name": "stdout",
     "output_type": "stream",
     "text": [
      "\b\b\b\b\b\b\b\b\b\b\b\b\b\b\b\b\b\b\b\b\b\b\b\b\b\b\b\b\b\b\b\b\b\b\b\b\b\b\b\b\b\b\b\b\b\b\b\b\b\b\b\b\b\b\b\b\b\b\b\b\b\b\b\b\b\b\b\b\b\b\b\b\b\b\b\b\b\b\b\b\b\b\b\b\b\b\b\b\b\b\b\b\b\b\b\b\b\b\b\b\b\b\b\b\b\b\b\b\b\b\b\b\b\b\b\b\b\r",
      " 623/1599 [==========>...................] - ETA: 4s - loss: nan - mean_squared_error: nan - mean_absolute_error: nan"
     ]
    },
    {
     "name": "stderr",
     "output_type": "stream",
     "text": [
      "WARNING:root:Batch exception[Errno 2] No such file or directory: 'C:/earthquake/one-stats-embedding/em_15617.dill'\n",
      "WARNING:root:Batch exception[Errno 2] No such file or directory: 'C:/earthquake/one-stats-embedding/em_24945.dill'\n",
      "WARNING:root:Batch exception[Errno 2] No such file or directory: 'C:/earthquake/one-stats-embedding/em_9217.dill'\n",
      "WARNING:root:Batch exception[Errno 2] No such file or directory: 'C:/earthquake/one-stats-embedding/em_8961.dill'\n",
      "WARNING:root:Batch exception[Errno 2] No such file or directory: 'C:/earthquake/one-stats-embedding/em_16049.dill'\n",
      "WARNING:root:Batch exception[Errno 2] No such file or directory: 'C:/earthquake/one-stats-embedding/em_19057.dill'\n",
      "WARNING:root:Batch exception[Errno 2] No such file or directory: 'C:/earthquake/one-stats-embedding/em_15473.dill'\n",
      "WARNING:root:Batch exception[Errno 2] No such file or directory: 'C:/earthquake/one-stats-embedding/em_9617.dill'\n",
      "WARNING:root:Batch exception[Errno 2] No such file or directory: 'C:/earthquake/one-stats-embedding/em_6529.dill'\n",
      "WARNING:root:Batch exception[Errno 2] No such file or directory: 'C:/earthquake/one-stats-embedding/em_15217.dill'\n"
     ]
    },
    {
     "name": "stdout",
     "output_type": "stream",
     "text": [
      "\b\b\b\b\b\b\b\b\b\b\b\b\b\b\b\b\b\b\b\b\b\b\b\b\b\b\b\b\b\b\b\b\b\b\b\b\b\b\b\b\b\b\b\b\b\b\b\b\b\b\b\b\b\b\b\b\b\b\b\b\b\b\b\b\b\b\b\b\b\b\b\b\b\b\b\b\b\b\b\b\b\b\b\b\b\b\b\b\b\b\b\b\b\b\b\b\b\b\b\b\b\b\b\b\b\b\b\b\b\b\b\b\b\b\b\b\b\r",
      " 633/1599 [==========>...................] - ETA: 4s - loss: nan - mean_squared_error: nan - mean_absolute_error: nan"
     ]
    },
    {
     "name": "stderr",
     "output_type": "stream",
     "text": [
      "WARNING:root:Batch exception[Errno 2] No such file or directory: 'C:/earthquake/one-stats-embedding/em_22369.dill'\n",
      "WARNING:root:Batch exception[Errno 2] No such file or directory: 'C:/earthquake/one-stats-embedding/em_14017.dill'\n",
      "WARNING:root:Batch exception[Errno 2] No such file or directory: 'C:/earthquake/one-stats-embedding/em_4705.dill'\n",
      "WARNING:root:Batch exception[Errno 2] No such file or directory: 'C:/earthquake/one-stats-embedding/em_20209.dill'\n",
      "WARNING:root:Batch exception[Errno 2] No such file or directory: 'C:/earthquake/one-stats-embedding/em_5313.dill'\n",
      "WARNING:root:Batch exception[Errno 2] No such file or directory: 'C:/earthquake/one-stats-embedding/em_23921.dill'\n",
      "WARNING:root:Batch exception[Errno 2] No such file or directory: 'C:/earthquake/one-stats-embedding/em_20449.dill'\n",
      "WARNING:root:Batch exception[Errno 2] No such file or directory: 'C:/earthquake/one-stats-embedding/em_6641.dill'\n",
      "WARNING:root:Batch exception[Errno 2] No such file or directory: 'C:/earthquake/one-stats-embedding/em_4401.dill'\n",
      "WARNING:root:Batch exception[Errno 2] No such file or directory: 'C:/earthquake/one-stats-embedding/em_11777.dill'\n"
     ]
    },
    {
     "name": "stdout",
     "output_type": "stream",
     "text": [
      "\b\b\b\b\b\b\b\b\b\b\b\b\b\b\b\b\b\b\b\b\b\b\b\b\b\b\b\b\b\b\b\b\b\b\b\b\b\b\b\b\b\b\b\b\b\b\b\b\b\b\b\b\b\b\b\b\b\b\b\b\b\b\b\b\b\b\b\b\b\b\b\b\b\b\b\b\b\b\b\b\b\b\b\b\b\b\b\b\b\b\b\b\b\b\b\b\b\b\b\b\b\b\b\b\b\b\b\b\b\b\b\b\b\b\b\b\b\r",
      " 643/1599 [===========>..................] - ETA: 4s - loss: nan - mean_squared_error: nan - mean_absolute_error: nan"
     ]
    },
    {
     "name": "stderr",
     "output_type": "stream",
     "text": [
      "WARNING:root:Batch exception[Errno 2] No such file or directory: 'C:/earthquake/one-stats-embedding/em_10657.dill'\n",
      "WARNING:root:Batch exception[Errno 2] No such file or directory: 'C:/earthquake/one-stats-embedding/em_3425.dill'\n",
      "WARNING:root:Batch exception[Errno 2] No such file or directory: 'C:/earthquake/one-stats-embedding/em_25377.dill'\n",
      "WARNING:root:Batch exception[Errno 2] No such file or directory: 'C:/earthquake/one-stats-embedding/em_2401.dill'\n",
      "WARNING:root:Batch exception[Errno 2] No such file or directory: 'C:/earthquake/one-stats-embedding/em_19937.dill'\n",
      "WARNING:root:Batch exception[Errno 2] No such file or directory: 'C:/earthquake/one-stats-embedding/em_9281.dill'\n",
      "WARNING:root:Batch exception[Errno 2] No such file or directory: 'C:/earthquake/one-stats-embedding/em_17089.dill'\n",
      "WARNING:root:Batch exception[Errno 2] No such file or directory: 'C:/earthquake/one-stats-embedding/em_11425.dill'\n",
      "WARNING:root:Batch exception[Errno 2] No such file or directory: 'C:/earthquake/one-stats-embedding/em_9073.dill'\n",
      "WARNING:root:Batch exception[Errno 2] No such file or directory: 'C:/earthquake/one-stats-embedding/em_13393.dill'\n"
     ]
    },
    {
     "name": "stdout",
     "output_type": "stream",
     "text": [
      "\b\b\b\b\b\b\b\b\b\b\b\b\b\b\b\b\b\b\b\b\b\b\b\b\b\b\b\b\b\b\b\b\b\b\b\b\b\b\b\b\b\b\b\b\b\b\b\b\b\b\b\b\b\b\b\b\b\b\b\b\b\b\b\b\b\b\b\b\b\b\b\b\b\b\b\b\b\b\b\b\b\b\b\b\b\b\b\b\b\b\b\b\b\b\b\b\b\b\b\b\b\b\b\b\b\b\b\b\b\b\b\b\b\b\b\b\b\r",
      " 653/1599 [===========>..................] - ETA: 4s - loss: nan - mean_squared_error: nan - mean_absolute_error: nan"
     ]
    },
    {
     "name": "stderr",
     "output_type": "stream",
     "text": [
      "WARNING:root:Batch exception[Errno 2] No such file or directory: 'C:/earthquake/one-stats-embedding/em_9137.dill'\n",
      "WARNING:root:Batch exception[Errno 2] No such file or directory: 'C:/earthquake/one-stats-embedding/em_3969.dill'\n",
      "WARNING:root:Batch exception[Errno 2] No such file or directory: 'C:/earthquake/one-stats-embedding/em_14929.dill'\n",
      "WARNING:root:Batch exception[Errno 2] No such file or directory: 'C:/earthquake/one-stats-embedding/em_7665.dill'\n",
      "WARNING:root:Batch exception[Errno 2] No such file or directory: 'C:/earthquake/one-stats-embedding/em_10977.dill'\n",
      "WARNING:root:Batch exception[Errno 2] No such file or directory: 'C:/earthquake/one-stats-embedding/em_19409.dill'\n",
      "WARNING:root:Batch exception[Errno 2] No such file or directory: 'C:/earthquake/one-stats-embedding/em_10577.dill'\n",
      "WARNING:root:Batch exception[Errno 2] No such file or directory: 'C:/earthquake/one-stats-embedding/em_881.dill'\n",
      "WARNING:root:Batch exception[Errno 2] No such file or directory: 'C:/earthquake/one-stats-embedding/em_4113.dill'\n",
      "WARNING:root:Batch exception[Errno 2] No such file or directory: 'C:/earthquake/one-stats-embedding/em_20049.dill'\n",
      "WARNING:root:Batch exception[Errno 2] No such file or directory: 'C:/earthquake/one-stats-embedding/em_18225.dill'\n"
     ]
    },
    {
     "name": "stdout",
     "output_type": "stream",
     "text": [
      "\b\b\b\b\b\b\b\b\b\b\b\b\b\b\b\b\b\b\b\b\b\b\b\b\b\b\b\b\b\b\b\b\b\b\b\b\b\b\b\b\b\b\b\b\b\b\b\b\b\b\b\b\b\b\b\b\b\b\b\b\b\b\b\b\b\b\b\b\b\b\b\b\b\b\b\b\b\b\b\b\b\b\b\b\b\b\b\b\b\b\b\b\b\b\b\b\b\b\b\b\b\b\b\b\b\b\b\b\b\b\b\b\b\b\b\b\b\r",
      " 664/1599 [===========>..................] - ETA: 4s - loss: nan - mean_squared_error: nan - mean_absolute_error: nan"
     ]
    },
    {
     "name": "stderr",
     "output_type": "stream",
     "text": [
      "WARNING:root:Batch exception[Errno 2] No such file or directory: 'C:/earthquake/one-stats-embedding/em_17025.dill'\n",
      "WARNING:root:Batch exception[Errno 2] No such file or directory: 'C:/earthquake/one-stats-embedding/em_8977.dill'\n",
      "WARNING:root:Batch exception[Errno 2] No such file or directory: 'C:/earthquake/one-stats-embedding/em_1313.dill'\n",
      "WARNING:root:Batch exception[Errno 2] No such file or directory: 'C:/earthquake/one-stats-embedding/em_22209.dill'\n",
      "WARNING:root:Batch exception[Errno 2] No such file or directory: 'C:/earthquake/one-stats-embedding/em_11441.dill'\n",
      "WARNING:root:Batch exception[Errno 2] No such file or directory: 'C:/earthquake/one-stats-embedding/em_14561.dill'\n",
      "WARNING:root:Batch exception[Errno 2] No such file or directory: 'C:/earthquake/one-stats-embedding/em_16865.dill'\n",
      "WARNING:root:Batch exception[Errno 2] No such file or directory: 'C:/earthquake/one-stats-embedding/em_22993.dill'\n",
      "WARNING:root:Batch exception[Errno 2] No such file or directory: 'C:/earthquake/one-stats-embedding/em_9249.dill'\n",
      "WARNING:root:Batch exception[Errno 2] No such file or directory: 'C:/earthquake/one-stats-embedding/em_3441.dill'\n",
      "WARNING:root:Batch exception[Errno 2] No such file or directory: 'C:/earthquake/one-stats-embedding/em_2673.dill'\n"
     ]
    },
    {
     "name": "stdout",
     "output_type": "stream",
     "text": [
      "\b\b\b\b\b\b\b\b\b\b\b\b\b\b\b\b\b\b\b\b\b\b\b\b\b\b\b\b\b\b\b\b\b\b\b\b\b\b\b\b\b\b\b\b\b\b\b\b\b\b\b\b\b\b\b\b\b\b\b\b\b\b\b\b\b\b\b\b\b\b\b\b\b\b\b\b\b\b\b\b\b\b\b\b\b\b\b\b\b\b\b\b\b\b\b\b\b\b\b\b\b\b\b\b\b\b\b\b\b\b\b\b\b\b\b\b\b\r",
      " 675/1599 [===========>..................] - ETA: 4s - loss: nan - mean_squared_error: nan - mean_absolute_error: nan"
     ]
    },
    {
     "name": "stderr",
     "output_type": "stream",
     "text": [
      "WARNING:root:Batch exception[Errno 2] No such file or directory: 'C:/earthquake/one-stats-embedding/em_24193.dill'\n",
      "WARNING:root:Batch exception[Errno 2] No such file or directory: 'C:/earthquake/one-stats-embedding/em_10513.dill'\n",
      "WARNING:root:Batch exception[Errno 2] No such file or directory: 'C:/earthquake/one-stats-embedding/em_1057.dill'\n",
      "WARNING:root:Batch exception[Errno 2] No such file or directory: 'C:/earthquake/one-stats-embedding/em_23905.dill'\n",
      "WARNING:root:Batch exception[Errno 2] No such file or directory: 'C:/earthquake/one-stats-embedding/em_22337.dill'\n",
      "WARNING:root:Batch exception[Errno 2] No such file or directory: 'C:/earthquake/one-stats-embedding/em_18865.dill'\n",
      "WARNING:root:Batch exception[Errno 2] No such file or directory: 'C:/earthquake/one-stats-embedding/em_6577.dill'\n",
      "WARNING:root:Batch exception[Errno 2] No such file or directory: 'C:/earthquake/one-stats-embedding/em_20033.dill'\n",
      "WARNING:root:Batch exception[Errno 2] No such file or directory: 'C:/earthquake/one-stats-embedding/em_23457.dill'\n",
      "WARNING:root:Batch exception[Errno 2] No such file or directory: 'C:/earthquake/one-stats-embedding/em_20385.dill'\n",
      "WARNING:root:Batch exception[Errno 2] No such file or directory: 'C:/earthquake/one-stats-embedding/em_9297.dill'\n"
     ]
    },
    {
     "name": "stdout",
     "output_type": "stream",
     "text": [
      "\b\b\b\b\b\b\b\b\b\b\b\b\b\b\b\b\b\b\b\b\b\b\b\b\b\b\b\b\b\b\b\b\b\b\b\b\b\b\b\b\b\b\b\b\b\b\b\b\b\b\b\b\b\b\b\b\b\b\b\b\b\b\b\b\b\b\b\b\b\b\b\b\b\b\b\b\b\b\b\b\b\b\b\b\b\b\b\b\b\b\b\b\b\b\b\b\b\b\b\b\b\b\b\b\b\b\b\b\b\b\b\b\b\b\b\b\b\r",
      " 686/1599 [===========>..................] - ETA: 4s - loss: nan - mean_squared_error: nan - mean_absolute_error: nan"
     ]
    },
    {
     "name": "stderr",
     "output_type": "stream",
     "text": [
      "WARNING:root:Batch exception[Errno 2] No such file or directory: 'C:/earthquake/one-stats-embedding/em_21329.dill'\n",
      "WARNING:root:Batch exception[Errno 2] No such file or directory: 'C:/earthquake/one-stats-embedding/em_4177.dill'\n",
      "WARNING:root:Batch exception[Errno 2] No such file or directory: 'C:/earthquake/one-stats-embedding/em_11057.dill'\n",
      "WARNING:root:Batch exception[Errno 2] No such file or directory: 'C:/earthquake/one-stats-embedding/em_8897.dill'\n",
      "WARNING:root:Batch exception[Errno 2] No such file or directory: 'C:/earthquake/one-stats-embedding/em_10113.dill'\n",
      "WARNING:root:Batch exception[Errno 2] No such file or directory: 'C:/earthquake/one-stats-embedding/em_5009.dill'\n",
      "WARNING:root:Batch exception[Errno 2] No such file or directory: 'C:/earthquake/one-stats-embedding/em_19985.dill'\n",
      "WARNING:root:Batch exception[Errno 2] No such file or directory: 'C:/earthquake/one-stats-embedding/em_12001.dill'\n",
      "WARNING:root:Batch exception[Errno 2] No such file or directory: 'C:/earthquake/one-stats-embedding/em_16897.dill'\n",
      "WARNING:root:Batch exception[Errno 2] No such file or directory: 'C:/earthquake/one-stats-embedding/em_12945.dill'\n",
      "WARNING:root:Batch exception[Errno 2] No such file or directory: 'C:/earthquake/one-stats-embedding/em_13713.dill'\n",
      "WARNING:root:Batch exception[Errno 2] No such file or directory: 'C:/earthquake/one-stats-embedding/em_6961.dill'\n"
     ]
    },
    {
     "name": "stdout",
     "output_type": "stream",
     "text": [
      "\b\b\b\b\b\b\b\b\b\b\b\b\b\b\b\b\b\b\b\b\b\b\b\b\b\b\b\b\b\b\b\b\b\b\b\b\b\b\b\b\b\b\b\b\b\b\b\b\b\b\b\b\b\b\b\b\b\b\b\b\b\b\b\b\b\b\b\b\b\b\b\b\b\b\b\b\b\b\b\b\b\b\b\b\b\b\b\b\b\b\b\b\b\b\b\b\b\b\b\b\b\b\b\b\b\b\b\b\b\b\b\b\b\b\b\b\b\r",
      " 698/1599 [============>.................] - ETA: 4s - loss: nan - mean_squared_error: nan - mean_absolute_error: nan"
     ]
    },
    {
     "name": "stderr",
     "output_type": "stream",
     "text": [
      "WARNING:root:Batch exception[Errno 2] No such file or directory: 'C:/earthquake/one-stats-embedding/em_8033.dill'\n",
      "WARNING:root:Batch exception[Errno 2] No such file or directory: 'C:/earthquake/one-stats-embedding/em_23601.dill'\n",
      "WARNING:root:Batch exception[Errno 2] No such file or directory: 'C:/earthquake/one-stats-embedding/em_23297.dill'\n",
      "WARNING:root:Batch exception[Errno 2] No such file or directory: 'C:/earthquake/one-stats-embedding/em_7585.dill'\n",
      "WARNING:root:Batch exception[Errno 2] No such file or directory: 'C:/earthquake/one-stats-embedding/em_7089.dill'\n",
      "WARNING:root:Batch exception[Errno 2] No such file or directory: 'C:/earthquake/one-stats-embedding/em_6001.dill'\n",
      "WARNING:root:Batch exception[Errno 2] No such file or directory: 'C:/earthquake/one-stats-embedding/em_19377.dill'\n",
      "WARNING:root:Batch exception[Errno 2] No such file or directory: 'C:/earthquake/one-stats-embedding/em_3041.dill'\n",
      "WARNING:root:Batch exception[Errno 2] No such file or directory: 'C:/earthquake/one-stats-embedding/em_19745.dill'\n",
      "WARNING:root:Batch exception[Errno 2] No such file or directory: 'C:/earthquake/one-stats-embedding/em_4225.dill'\n"
     ]
    },
    {
     "name": "stdout",
     "output_type": "stream",
     "text": [
      "\b\b\b\b\b\b\b\b\b\b\b\b\b\b\b\b\b\b\b\b\b\b\b\b\b\b\b\b\b\b\b\b\b\b\b\b\b\b\b\b\b\b\b\b\b\b\b\b\b\b\b\b\b\b\b\b\b\b\b\b\b\b\b\b\b\b\b\b\b\b\b\b\b\b\b\b\b\b\b\b\b\b\b\b\b\b\b\b\b\b\b\b\b\b\b\b\b\b\b\b\b\b\b\b\b\b\b\b\b\b\b\b\b\b\b\b\b\r",
      " 708/1599 [============>.................] - ETA: 4s - loss: nan - mean_squared_error: nan - mean_absolute_error: nan"
     ]
    },
    {
     "name": "stderr",
     "output_type": "stream",
     "text": [
      "WARNING:root:Batch exception[Errno 2] No such file or directory: 'C:/earthquake/one-stats-embedding/em_23105.dill'\n",
      "WARNING:root:Batch exception[Errno 2] No such file or directory: 'C:/earthquake/one-stats-embedding/em_25009.dill'\n",
      "WARNING:root:Batch exception[Errno 2] No such file or directory: 'C:/earthquake/one-stats-embedding/em_6129.dill'\n",
      "WARNING:root:Batch exception[Errno 2] No such file or directory: 'C:/earthquake/one-stats-embedding/em_18209.dill'\n",
      "WARNING:root:Batch exception[Errno 2] No such file or directory: 'C:/earthquake/one-stats-embedding/em_19313.dill'\n",
      "WARNING:root:Batch exception[Errno 2] No such file or directory: 'C:/earthquake/one-stats-embedding/em_11393.dill'\n",
      "WARNING:root:Batch exception[Errno 2] No such file or directory: 'C:/earthquake/one-stats-embedding/em_6993.dill'\n",
      "WARNING:root:Batch exception[Errno 2] No such file or directory: 'C:/earthquake/one-stats-embedding/em_641.dill'\n",
      "WARNING:root:Batch exception[Errno 2] No such file or directory: 'C:/earthquake/one-stats-embedding/em_10865.dill'\n",
      "WARNING:root:Batch exception[Errno 2] No such file or directory: 'C:/earthquake/one-stats-embedding/em_1361.dill'\n",
      "WARNING:root:Batch exception[Errno 2] No such file or directory: 'C:/earthquake/one-stats-embedding/em_9777.dill'\n"
     ]
    },
    {
     "name": "stdout",
     "output_type": "stream",
     "text": [
      "\b\b\b\b\b\b\b\b\b\b\b\b\b\b\b\b\b\b\b\b\b\b\b\b\b\b\b\b\b\b\b\b\b\b\b\b\b\b\b\b\b\b\b\b\b\b\b\b\b\b\b\b\b\b\b\b\b\b\b\b\b\b\b\b\b\b\b\b\b\b\b\b\b\b\b\b\b\b\b\b\b\b\b\b\b\b\b\b\b\b\b\b\b\b\b\b\b\b\b\b\b\b\b\b\b\b\b\b\b\b\b\b\b\b\b\b\b\r",
      " 719/1599 [============>.................] - ETA: 4s - loss: nan - mean_squared_error: nan - mean_absolute_error: nan"
     ]
    },
    {
     "name": "stderr",
     "output_type": "stream",
     "text": [
      "WARNING:root:Batch exception[Errno 2] No such file or directory: 'C:/earthquake/one-stats-embedding/em_945.dill'\n",
      "WARNING:root:Batch exception[Errno 2] No such file or directory: 'C:/earthquake/one-stats-embedding/em_11473.dill'\n",
      "WARNING:root:Batch exception[Errno 2] No such file or directory: 'C:/earthquake/one-stats-embedding/em_2465.dill'\n",
      "WARNING:root:Batch exception[Errno 2] No such file or directory: 'C:/earthquake/one-stats-embedding/em_8081.dill'\n",
      "WARNING:root:Batch exception[Errno 2] No such file or directory: 'C:/earthquake/one-stats-embedding/em_9201.dill'\n",
      "WARNING:root:Batch exception[Errno 2] No such file or directory: 'C:/earthquake/one-stats-embedding/em_6753.dill'\n",
      "WARNING:root:Batch exception[Errno 2] No such file or directory: 'C:/earthquake/one-stats-embedding/em_1857.dill'\n",
      "WARNING:root:Batch exception[Errno 2] No such file or directory: 'C:/earthquake/one-stats-embedding/em_24625.dill'\n",
      "WARNING:root:Batch exception[Errno 2] No such file or directory: 'C:/earthquake/one-stats-embedding/em_25249.dill'\n",
      "WARNING:root:Batch exception[Errno 2] No such file or directory: 'C:/earthquake/one-stats-embedding/em_849.dill'\n"
     ]
    },
    {
     "name": "stdout",
     "output_type": "stream",
     "text": [
      "\b\b\b\b\b\b\b\b\b\b\b\b\b\b\b\b\b\b\b\b\b\b\b\b\b\b\b\b\b\b\b\b\b\b\b\b\b\b\b\b\b\b\b\b\b\b\b\b\b\b\b\b\b\b\b\b\b\b\b\b\b\b\b\b\b\b\b\b\b\b\b\b\b\b\b\b\b\b\b\b\b\b\b\b\b\b\b\b\b\b\b\b\b\b\b\b\b\b\b\b\b\b\b\b\b\b\b\b\b\b\b\b\b\b\b\b\b\r",
      " 730/1599 [============>.................] - ETA: 4s - loss: nan - mean_squared_error: nan - mean_absolute_error: nan"
     ]
    },
    {
     "name": "stderr",
     "output_type": "stream",
     "text": [
      "WARNING:root:Batch exception[Errno 2] No such file or directory: 'C:/earthquake/one-stats-embedding/em_5393.dill'\n",
      "WARNING:root:Batch exception[Errno 2] No such file or directory: 'C:/earthquake/one-stats-embedding/em_22513.dill'\n",
      "WARNING:root:Batch exception[Errno 2] No such file or directory: 'C:/earthquake/one-stats-embedding/em_4721.dill'\n",
      "WARNING:root:Batch exception[Errno 2] No such file or directory: 'C:/earthquake/one-stats-embedding/em_16785.dill'\n",
      "WARNING:root:Batch exception[Errno 2] No such file or directory: 'C:/earthquake/one-stats-embedding/em_18401.dill'\n",
      "WARNING:root:Batch exception[Errno 2] No such file or directory: 'C:/earthquake/one-stats-embedding/em_3553.dill'\n",
      "WARNING:root:Batch exception[Errno 2] No such file or directory: 'C:/earthquake/one-stats-embedding/em_10497.dill'\n",
      "WARNING:root:Batch exception[Errno 2] No such file or directory: 'C:/earthquake/one-stats-embedding/em_14881.dill'\n",
      "WARNING:root:Batch exception[Errno 2] No such file or directory: 'C:/earthquake/one-stats-embedding/em_4977.dill'\n",
      "WARNING:root:Batch exception[Errno 2] No such file or directory: 'C:/earthquake/one-stats-embedding/em_6161.dill'\n",
      "WARNING:root:Batch exception[Errno 2] No such file or directory: 'C:/earthquake/one-stats-embedding/em_13569.dill'\n"
     ]
    },
    {
     "name": "stdout",
     "output_type": "stream",
     "text": [
      "\b\b\b\b\b\b\b\b\b\b\b\b\b\b\b\b\b\b\b\b\b\b\b\b\b\b\b\b\b\b\b\b\b\b\b\b\b\b\b\b\b\b\b\b\b\b\b\b\b\b\b\b\b\b\b\b\b\b\b\b\b\b\b\b\b\b\b\b\b\b\b\b\b\b\b\b\b\b\b\b\b\b\b\b\b\b\b\b\b\b\b\b\b\b\b\b\b\b\b\b\b\b\b\b\b\b\b\b\b\b\b\b\b\b\b\b\b\r",
      " 741/1599 [============>.................] - ETA: 4s - loss: nan - mean_squared_error: nan - mean_absolute_error: nan"
     ]
    },
    {
     "name": "stderr",
     "output_type": "stream",
     "text": [
      "WARNING:root:Batch exception[Errno 2] No such file or directory: 'C:/earthquake/one-stats-embedding/em_10305.dill'\n",
      "WARNING:root:Batch exception[Errno 2] No such file or directory: 'C:/earthquake/one-stats-embedding/em_15153.dill'\n",
      "WARNING:root:Batch exception[Errno 2] No such file or directory: 'C:/earthquake/one-stats-embedding/em_897.dill'\n",
      "WARNING:root:Batch exception[Errno 2] No such file or directory: 'C:/earthquake/one-stats-embedding/em_13265.dill'\n",
      "WARNING:root:Batch exception[Errno 2] No such file or directory: 'C:/earthquake/one-stats-embedding/em_17281.dill'\n",
      "WARNING:root:Batch exception[Errno 2] No such file or directory: 'C:/earthquake/one-stats-embedding/em_20113.dill'\n",
      "WARNING:root:Batch exception[Errno 2] No such file or directory: 'C:/earthquake/one-stats-embedding/em_6113.dill'\n",
      "WARNING:root:Batch exception[Errno 2] No such file or directory: 'C:/earthquake/one-stats-embedding/em_7121.dill'\n",
      "WARNING:root:Batch exception[Errno 2] No such file or directory: 'C:/earthquake/one-stats-embedding/em_3009.dill'\n",
      "WARNING:root:Batch exception[Errno 2] No such file or directory: 'C:/earthquake/one-stats-embedding/em_8673.dill'\n"
     ]
    },
    {
     "name": "stdout",
     "output_type": "stream",
     "text": [
      "\b\b\b\b\b\b\b\b\b\b\b\b\b\b\b\b\b\b\b\b\b\b\b\b\b\b\b\b\b\b\b\b\b\b\b\b\b\b\b\b\b\b\b\b\b\b\b\b\b\b\b\b\b\b\b\b\b\b\b\b\b\b\b\b\b\b\b\b\b\b\b\b\b\b\b\b\b\b\b\b\b\b\b\b\b\b\b\b\b\b\b\b\b\b\b\b\b\b\b\b\b\b\b\b\b\b\b\b\b\b\b\b\b\b\b\b\b\r",
      " 752/1599 [=============>................] - ETA: 4s - loss: nan - mean_squared_error: nan - mean_absolute_error: nan"
     ]
    },
    {
     "name": "stderr",
     "output_type": "stream",
     "text": [
      "WARNING:root:Batch exception[Errno 2] No such file or directory: 'C:/earthquake/one-stats-embedding/em_14689.dill'\n",
      "WARNING:root:Batch exception[Errno 2] No such file or directory: 'C:/earthquake/one-stats-embedding/em_5473.dill'\n",
      "WARNING:root:Batch exception[Errno 2] No such file or directory: 'C:/earthquake/one-stats-embedding/em_24769.dill'\n",
      "WARNING:root:Batch exception[Errno 2] No such file or directory: 'C:/earthquake/one-stats-embedding/em_4769.dill'\n",
      "WARNING:root:Batch exception[Errno 2] No such file or directory: 'C:/earthquake/one-stats-embedding/em_2865.dill'\n",
      "WARNING:root:Batch exception[Errno 2] No such file or directory: 'C:/earthquake/one-stats-embedding/em_24673.dill'\n",
      "WARNING:root:Batch exception[Errno 2] No such file or directory: 'C:/earthquake/one-stats-embedding/em_23121.dill'\n",
      "WARNING:root:Batch exception[Errno 2] No such file or directory: 'C:/earthquake/one-stats-embedding/em_15985.dill'\n",
      "WARNING:root:Batch exception[Errno 2] No such file or directory: 'C:/earthquake/one-stats-embedding/em_7697.dill'\n",
      "WARNING:root:Batch exception[Errno 2] No such file or directory: 'C:/earthquake/one-stats-embedding/em_14385.dill'\n"
     ]
    },
    {
     "name": "stdout",
     "output_type": "stream",
     "text": [
      "\b\b\b\b\b\b\b\b\b\b\b\b\b\b\b\b\b\b\b\b\b\b\b\b\b\b\b\b\b\b\b\b\b\b\b\b\b\b\b\b\b\b\b\b\b\b\b\b\b\b\b\b\b\b\b\b\b\b\b\b\b\b\b\b\b\b\b\b\b\b\b\b\b\b\b\b\b\b\b\b\b\b\b\b\b\b\b\b\b\b\b\b\b\b\b\b\b\b\b\b\b\b\b\b\b\b\b\b\b\b\b\b\b\b\b\b\b\r",
      " 762/1599 [=============>................] - ETA: 4s - loss: nan - mean_squared_error: nan - mean_absolute_error: nan"
     ]
    },
    {
     "name": "stderr",
     "output_type": "stream",
     "text": [
      "WARNING:root:Batch exception[Errno 2] No such file or directory: 'C:/earthquake/one-stats-embedding/em_3809.dill'\n",
      "WARNING:root:Batch exception[Errno 2] No such file or directory: 'C:/earthquake/one-stats-embedding/em_10721.dill'\n",
      "WARNING:root:Batch exception[Errno 2] No such file or directory: 'C:/earthquake/one-stats-embedding/em_13921.dill'\n",
      "WARNING:root:Batch exception[Errno 2] No such file or directory: 'C:/earthquake/one-stats-embedding/em_22161.dill'\n",
      "WARNING:root:Batch exception[Errno 2] No such file or directory: 'C:/earthquake/one-stats-embedding/em_23217.dill'\n",
      "WARNING:root:Batch exception[Errno 2] No such file or directory: 'C:/earthquake/one-stats-embedding/em_12753.dill'\n",
      "WARNING:root:Batch exception[Errno 2] No such file or directory: 'C:/earthquake/one-stats-embedding/em_16081.dill'\n",
      "WARNING:root:Batch exception[Errno 2] No such file or directory: 'C:/earthquake/one-stats-embedding/em_4865.dill'\n",
      "WARNING:root:Batch exception[Errno 2] No such file or directory: 'C:/earthquake/one-stats-embedding/em_1281.dill'\n",
      "WARNING:root:Batch exception[Errno 2] No such file or directory: 'C:/earthquake/one-stats-embedding/em_10929.dill'\n",
      "WARNING:root:Batch exception[Errno 2] No such file or directory: 'C:/earthquake/one-stats-embedding/em_1553.dill'\n"
     ]
    },
    {
     "name": "stdout",
     "output_type": "stream",
     "text": [
      "\b\b\b\b\b\b\b\b\b\b\b\b\b\b\b\b\b\b\b\b\b\b\b\b\b\b\b\b\b\b\b\b\b\b\b\b\b\b\b\b\b\b\b\b\b\b\b\b\b\b\b\b\b\b\b\b\b\b\b\b\b\b\b\b\b\b\b\b\b\b\b\b\b\b\b\b\b\b\b\b\b\b\b\b\b\b\b\b\b\b\b\b\b\b\b\b\b\b\b\b\b\b\b\b\b\b\b\b\b\b\b\b\b\b\b\b\b\r",
      " 773/1599 [=============>................] - ETA: 3s - loss: nan - mean_squared_error: nan - mean_absolute_error: nan"
     ]
    },
    {
     "name": "stderr",
     "output_type": "stream",
     "text": [
      "WARNING:root:Batch exception[Errno 2] No such file or directory: 'C:/earthquake/one-stats-embedding/em_23697.dill'\n",
      "WARNING:root:Batch exception[Errno 2] No such file or directory: 'C:/earthquake/one-stats-embedding/em_7073.dill'\n",
      "WARNING:root:Batch exception[Errno 2] No such file or directory: 'C:/earthquake/one-stats-embedding/em_2001.dill'\n",
      "WARNING:root:Batch exception[Errno 2] No such file or directory: 'C:/earthquake/one-stats-embedding/em_24881.dill'\n",
      "WARNING:root:Batch exception[Errno 2] No such file or directory: 'C:/earthquake/one-stats-embedding/em_2513.dill'\n",
      "WARNING:root:Batch exception[Errno 2] No such file or directory: 'C:/earthquake/one-stats-embedding/em_18465.dill'\n",
      "WARNING:root:Batch exception[Errno 2] No such file or directory: 'C:/earthquake/one-stats-embedding/em_15713.dill'\n",
      "WARNING:root:Batch exception[Errno 2] No such file or directory: 'C:/earthquake/one-stats-embedding/em_22673.dill'\n",
      "WARNING:root:Batch exception[Errno 2] No such file or directory: 'C:/earthquake/one-stats-embedding/em_11121.dill'\n",
      "WARNING:root:Batch exception[Errno 2] No such file or directory: 'C:/earthquake/one-stats-embedding/em_865.dill'\n",
      "WARNING:root:Batch exception[Errno 2] No such file or directory: 'C:/earthquake/one-stats-embedding/em_18129.dill'\n"
     ]
    },
    {
     "name": "stdout",
     "output_type": "stream",
     "text": [
      "\b\b\b\b\b\b\b\b\b\b\b\b\b\b\b\b\b\b\b\b\b\b\b\b\b\b\b\b\b\b\b\b\b\b\b\b\b\b\b\b\b\b\b\b\b\b\b\b\b\b\b\b\b\b\b\b\b\b\b\b\b\b\b\b\b\b\b\b\b\b\b\b\b\b\b\b\b\b\b\b\b\b\b\b\b\b\b\b\b\b\b\b\b\b\b\b\b\b\b\b\b\b\b\b\b\b\b\b\b\b\b\b\b\b\b\b\b\r",
      " 784/1599 [=============>................] - ETA: 3s - loss: nan - mean_squared_error: nan - mean_absolute_error: nan"
     ]
    },
    {
     "name": "stderr",
     "output_type": "stream",
     "text": [
      "WARNING:root:Batch exception[Errno 2] No such file or directory: 'C:/earthquake/one-stats-embedding/em_15937.dill'\n",
      "WARNING:root:Batch exception[Errno 2] No such file or directory: 'C:/earthquake/one-stats-embedding/em_23489.dill'\n",
      "WARNING:root:Batch exception[Errno 2] No such file or directory: 'C:/earthquake/one-stats-embedding/em_16801.dill'\n",
      "WARNING:root:Batch exception[Errno 2] No such file or directory: 'C:/earthquake/one-stats-embedding/em_5953.dill'\n",
      "WARNING:root:Batch exception[Errno 2] No such file or directory: 'C:/earthquake/one-stats-embedding/em_1969.dill'\n",
      "WARNING:root:Batch exception[Errno 2] No such file or directory: 'C:/earthquake/one-stats-embedding/em_23169.dill'\n",
      "WARNING:root:Batch exception[Errno 2] No such file or directory: 'C:/earthquake/one-stats-embedding/em_3169.dill'\n",
      "WARNING:root:Batch exception[Errno 2] No such file or directory: 'C:/earthquake/one-stats-embedding/em_16097.dill'\n",
      "WARNING:root:Batch exception[Errno 2] No such file or directory: 'C:/earthquake/one-stats-embedding/em_577.dill'\n",
      "WARNING:root:Batch exception[Errno 2] No such file or directory: 'C:/earthquake/one-stats-embedding/em_17185.dill'\n",
      "WARNING:root:Batch exception[Errno 2] No such file or directory: 'C:/earthquake/one-stats-embedding/em_20417.dill'\n"
     ]
    },
    {
     "name": "stdout",
     "output_type": "stream",
     "text": [
      "\b\b\b\b\b\b\b\b\b\b\b\b\b\b\b\b\b\b\b\b\b\b\b\b\b\b\b\b\b\b\b\b\b\b\b\b\b\b\b\b\b\b\b\b\b\b\b\b\b\b\b\b\b\b\b\b\b\b\b\b\b\b\b\b\b\b\b\b\b\b\b\b\b\b\b\b\b\b\b\b\b\b\b\b\b\b\b\b\b\b\b\b\b\b\b\b\b\b\b\b\b\b\b\b\b\b\b\b\b\b\b\b\b\b\b\b\b\r",
      " 795/1599 [=============>................] - ETA: 3s - loss: nan - mean_squared_error: nan - mean_absolute_error: nan"
     ]
    },
    {
     "name": "stderr",
     "output_type": "stream",
     "text": [
      "WARNING:root:Batch exception[Errno 2] No such file or directory: 'C:/earthquake/one-stats-embedding/em_21057.dill'\n",
      "WARNING:root:Batch exception[Errno 2] No such file or directory: 'C:/earthquake/one-stats-embedding/em_18785.dill'\n",
      "WARNING:root:Batch exception[Errno 2] No such file or directory: 'C:/earthquake/one-stats-embedding/em_13889.dill'\n",
      "WARNING:root:Batch exception[Errno 2] No such file or directory: 'C:/earthquake/one-stats-embedding/em_12017.dill'\n",
      "WARNING:root:Batch exception[Errno 2] No such file or directory: 'C:/earthquake/one-stats-embedding/em_21377.dill'\n",
      "WARNING:root:Batch exception[Errno 2] No such file or directory: 'C:/earthquake/one-stats-embedding/em_5873.dill'\n",
      "WARNING:root:Batch exception[Errno 2] No such file or directory: 'C:/earthquake/one-stats-embedding/em_24897.dill'\n",
      "WARNING:root:Batch exception[Errno 2] No such file or directory: 'C:/earthquake/one-stats-embedding/em_18721.dill'\n",
      "WARNING:root:Batch exception[Errno 2] No such file or directory: 'C:/earthquake/one-stats-embedding/em_1905.dill'\n",
      "WARNING:root:Batch exception[Errno 2] No such file or directory: 'C:/earthquake/one-stats-embedding/em_4305.dill'\n",
      "WARNING:root:Batch exception[Errno 2] No such file or directory: 'C:/earthquake/one-stats-embedding/em_5105.dill'\n"
     ]
    },
    {
     "name": "stdout",
     "output_type": "stream",
     "text": [
      "\b\b\b\b\b\b\b\b\b\b\b\b\b\b\b\b\b\b\b\b\b\b\b\b\b\b\b\b\b\b\b\b\b\b\b\b\b\b\b\b\b\b\b\b\b\b\b\b\b\b\b\b\b\b\b\b\b\b\b\b\b\b\b\b\b\b\b\b\b\b\b\b\b\b\b\b\b\b\b\b\b\b\b\b\b\b\b\b\b\b\b\b\b\b\b\b\b\b\b\b\b\b\b\b\b\b\b\b\b\b\b\b\b\b\b\b\b\r",
      " 806/1599 [==============>...............] - ETA: 3s - loss: nan - mean_squared_error: nan - mean_absolute_error: nan"
     ]
    },
    {
     "name": "stderr",
     "output_type": "stream",
     "text": [
      "WARNING:root:Batch exception[Errno 2] No such file or directory: 'C:/earthquake/one-stats-embedding/em_22833.dill'\n",
      "WARNING:root:Batch exception[Errno 2] No such file or directory: 'C:/earthquake/one-stats-embedding/em_6481.dill'\n",
      "WARNING:root:Batch exception[Errno 2] No such file or directory: 'C:/earthquake/one-stats-embedding/em_13105.dill'\n",
      "WARNING:root:Batch exception[Errno 2] No such file or directory: 'C:/earthquake/one-stats-embedding/em_11169.dill'\n",
      "WARNING:root:Batch exception[Errno 2] No such file or directory: 'C:/earthquake/one-stats-embedding/em_24417.dill'\n",
      "WARNING:root:Batch exception[Errno 2] No such file or directory: 'C:/earthquake/one-stats-embedding/em_7265.dill'\n",
      "WARNING:root:Batch exception[Errno 2] No such file or directory: 'C:/earthquake/one-stats-embedding/em_20705.dill'\n",
      "WARNING:root:Batch exception[Errno 2] No such file or directory: 'C:/earthquake/one-stats-embedding/em_19617.dill'\n",
      "WARNING:root:Batch exception[Errno 2] No such file or directory: 'C:/earthquake/one-stats-embedding/em_18001.dill'\n",
      "WARNING:root:Batch exception[Errno 2] No such file or directory: 'C:/earthquake/one-stats-embedding/em_2257.dill'\n"
     ]
    },
    {
     "name": "stdout",
     "output_type": "stream",
     "text": [
      "\b\b\b\b\b\b\b\b\b\b\b\b\b\b\b\b\b\b\b\b\b\b\b\b\b\b\b\b\b\b\b\b\b\b\b\b\b\b\b\b\b\b\b\b\b\b\b\b\b\b\b\b\b\b\b\b\b\b\b\b\b\b\b\b\b\b\b\b\b\b\b\b\b\b\b\b\b\b\b\b\b\b\b\b\b\b\b\b\b\b\b\b\b\b\b\b\b\b\b\b\b\b\b\b\b\b\b\b\b\b\b\b\b\b\b\b\b\r",
      " 816/1599 [==============>...............] - ETA: 3s - loss: nan - mean_squared_error: nan - mean_absolute_error: nan"
     ]
    },
    {
     "name": "stderr",
     "output_type": "stream",
     "text": [
      "WARNING:root:Batch exception[Errno 2] No such file or directory: 'C:/earthquake/one-stats-embedding/em_1201.dill'\n",
      "WARNING:root:Batch exception[Errno 2] No such file or directory: 'C:/earthquake/one-stats-embedding/em_15041.dill'\n",
      "WARNING:root:Batch exception[Errno 2] No such file or directory: 'C:/earthquake/one-stats-embedding/em_10945.dill'\n",
      "WARNING:root:Batch exception[Errno 2] No such file or directory: 'C:/earthquake/one-stats-embedding/em_9089.dill'\n",
      "WARNING:root:Batch exception[Errno 2] No such file or directory: 'C:/earthquake/one-stats-embedding/em_17809.dill'\n",
      "WARNING:root:Batch exception[Errno 2] No such file or directory: 'C:/earthquake/one-stats-embedding/em_3201.dill'\n",
      "WARNING:root:Batch exception[Errno 2] No such file or directory: 'C:/earthquake/one-stats-embedding/em_12465.dill'\n",
      "WARNING:root:Batch exception[Errno 2] No such file or directory: 'C:/earthquake/one-stats-embedding/em_19121.dill'\n",
      "WARNING:root:Batch exception[Errno 2] No such file or directory: 'C:/earthquake/one-stats-embedding/em_5857.dill'\n",
      "WARNING:root:Batch exception[Errno 2] No such file or directory: 'C:/earthquake/one-stats-embedding/em_25153.dill'\n"
     ]
    },
    {
     "name": "stdout",
     "output_type": "stream",
     "text": [
      "\b\b\b\b\b\b\b\b\b\b\b\b\b\b\b\b\b\b\b\b\b\b\b\b\b\b\b\b\b\b\b\b\b\b\b\b\b\b\b\b\b\b\b\b\b\b\b\b\b\b\b\b\b\b\b\b\b\b\b\b\b\b\b\b\b\b\b\b\b\b\b\b\b\b\b\b\b\b\b\b\b\b\b\b\b\b\b\b\b\b\b\b\b\b\b\b\b\b\b\b\b\b\b\b\b\b\b\b\b\b\b\b\b\b\b\b\b\r",
      " 827/1599 [==============>...............] - ETA: 3s - loss: nan - mean_squared_error: nan - mean_absolute_error: nan"
     ]
    },
    {
     "name": "stderr",
     "output_type": "stream",
     "text": [
      "WARNING:root:Batch exception[Errno 2] No such file or directory: 'C:/earthquake/one-stats-embedding/em_22625.dill'\n",
      "WARNING:root:Batch exception[Errno 2] No such file or directory: 'C:/earthquake/one-stats-embedding/em_10273.dill'\n",
      "WARNING:root:Batch exception[Errno 2] No such file or directory: 'C:/earthquake/one-stats-embedding/em_18241.dill'\n",
      "WARNING:root:Batch exception[Errno 2] No such file or directory: 'C:/earthquake/one-stats-embedding/em_3681.dill'\n",
      "WARNING:root:Batch exception[Errno 2] No such file or directory: 'C:/earthquake/one-stats-embedding/em_16769.dill'\n",
      "WARNING:root:Batch exception[Errno 2] No such file or directory: 'C:/earthquake/one-stats-embedding/em_6145.dill'\n",
      "WARNING:root:Batch exception[Errno 2] No such file or directory: 'C:/earthquake/one-stats-embedding/em_18369.dill'\n",
      "WARNING:root:Batch exception[Errno 2] No such file or directory: 'C:/earthquake/one-stats-embedding/em_3137.dill'\n",
      "WARNING:root:Batch exception[Errno 2] No such file or directory: 'C:/earthquake/one-stats-embedding/em_3521.dill'\n",
      "WARNING:root:Batch exception[Errno 2] No such file or directory: 'C:/earthquake/one-stats-embedding/em_22273.dill'\n"
     ]
    },
    {
     "name": "stdout",
     "output_type": "stream",
     "text": [
      "\b\b\b\b\b\b\b\b\b\b\b\b\b\b\b\b\b\b\b\b\b\b\b\b\b\b\b\b\b\b\b\b\b\b\b\b\b\b\b\b\b\b\b\b\b\b\b\b\b\b\b\b\b\b\b\b\b\b\b\b\b\b\b\b\b\b\b\b\b\b\b\b\b\b\b\b\b\b\b\b\b\b\b\b\b\b\b\b\b\b\b\b\b\b\b\b\b\b\b\b\b\b\b\b\b\b\b\b\b\b\b\b\b\b\b\b\b\r",
      " 838/1599 [==============>...............] - ETA: 3s - loss: nan - mean_squared_error: nan - mean_absolute_error: nan"
     ]
    },
    {
     "name": "stderr",
     "output_type": "stream",
     "text": [
      "WARNING:root:Batch exception[Errno 2] No such file or directory: 'C:/earthquake/one-stats-embedding/em_15009.dill'\n",
      "WARNING:root:Batch exception[Errno 2] No such file or directory: 'C:/earthquake/one-stats-embedding/em_14897.dill'\n",
      "WARNING:root:Batch exception[Errno 2] No such file or directory: 'C:/earthquake/one-stats-embedding/em_8193.dill'\n",
      "WARNING:root:Batch exception[Errno 2] No such file or directory: 'C:/earthquake/one-stats-embedding/em_7617.dill'\n",
      "WARNING:root:Batch exception[Errno 2] No such file or directory: 'C:/earthquake/one-stats-embedding/em_15297.dill'\n",
      "WARNING:root:Batch exception[Errno 2] No such file or directory: 'C:/earthquake/one-stats-embedding/em_25569.dill'\n",
      "WARNING:root:Batch exception[Errno 2] No such file or directory: 'C:/earthquake/one-stats-embedding/em_21953.dill'\n",
      "WARNING:root:Batch exception[Errno 2] No such file or directory: 'C:/earthquake/one-stats-embedding/em_15729.dill'\n",
      "WARNING:root:Batch exception[Errno 2] No such file or directory: 'C:/earthquake/one-stats-embedding/em_16001.dill'\n",
      "WARNING:root:Batch exception[Errno 2] No such file or directory: 'C:/earthquake/one-stats-embedding/em_5089.dill'\n",
      "WARNING:root:Batch exception[Errno 2] No such file or directory: 'C:/earthquake/one-stats-embedding/em_16513.dill'\n"
     ]
    },
    {
     "name": "stdout",
     "output_type": "stream",
     "text": [
      "\b\b\b\b\b\b\b\b\b\b\b\b\b\b\b\b\b\b\b\b\b\b\b\b\b\b\b\b\b\b\b\b\b\b\b\b\b\b\b\b\b\b\b\b\b\b\b\b\b\b\b\b\b\b\b\b\b\b\b\b\b\b\b\b\b\b\b\b\b\b\b\b\b\b\b\b\b\b\b\b\b\b\b\b\b\b\b\b\b\b\b\b\b\b\b\b\b\b\b\b\b\b\b\b\b\b\b\b\b\b\b\b\b\b\b\b\b\r",
      " 849/1599 [==============>...............] - ETA: 3s - loss: nan - mean_squared_error: nan - mean_absolute_error: nan"
     ]
    },
    {
     "name": "stderr",
     "output_type": "stream",
     "text": [
      "WARNING:root:Batch exception[Errno 2] No such file or directory: 'C:/earthquake/one-stats-embedding/em_7601.dill'\n",
      "WARNING:root:Batch exception[Errno 2] No such file or directory: 'C:/earthquake/one-stats-embedding/em_12769.dill'\n",
      "WARNING:root:Batch exception[Errno 2] No such file or directory: 'C:/earthquake/one-stats-embedding/em_2689.dill'\n",
      "WARNING:root:Batch exception[Errno 2] No such file or directory: 'C:/earthquake/one-stats-embedding/em_18193.dill'\n",
      "WARNING:root:Batch exception[Errno 2] No such file or directory: 'C:/earthquake/one-stats-embedding/em_11521.dill'\n",
      "WARNING:root:Batch exception[Errno 2] No such file or directory: 'C:/earthquake/one-stats-embedding/em_18577.dill'\n",
      "WARNING:root:Batch exception[Errno 2] No such file or directory: 'C:/earthquake/one-stats-embedding/em_13857.dill'\n",
      "WARNING:root:Batch exception[Errno 2] No such file or directory: 'C:/earthquake/one-stats-embedding/em_19345.dill'\n",
      "WARNING:root:Batch exception[Errno 2] No such file or directory: 'C:/earthquake/one-stats-embedding/em_6337.dill'\n",
      "WARNING:root:Batch exception[Errno 2] No such file or directory: 'C:/earthquake/one-stats-embedding/em_1345.dill'\n",
      "WARNING:root:Batch exception[Errno 2] No such file or directory: 'C:/earthquake/one-stats-embedding/em_5457.dill'\n",
      "WARNING:root:Batch exception[Errno 2] No such file or directory: 'C:/earthquake/one-stats-embedding/em_6673.dill'\n"
     ]
    },
    {
     "name": "stdout",
     "output_type": "stream",
     "text": [
      "\b\b\b\b\b\b\b\b\b\b\b\b\b\b\b\b\b\b\b\b\b\b\b\b\b\b\b\b\b\b\b\b\b\b\b\b\b\b\b\b\b\b\b\b\b\b\b\b\b\b\b\b\b\b\b\b\b\b\b\b\b\b\b\b\b\b\b\b\b\b\b\b\b\b\b\b\b\b\b\b\b\b\b\b\b\b\b\b\b\b\b\b\b\b\b\b\b\b\b\b\b\b\b\b\b\b\b\b\b\b\b\b\b\b\b\b\b\r",
      " 861/1599 [===============>..............] - ETA: 3s - loss: nan - mean_squared_error: nan - mean_absolute_error: nan"
     ]
    },
    {
     "name": "stderr",
     "output_type": "stream",
     "text": [
      "WARNING:root:Batch exception[Errno 2] No such file or directory: 'C:/earthquake/one-stats-embedding/em_9361.dill'\n",
      "WARNING:root:Batch exception[Errno 2] No such file or directory: 'C:/earthquake/one-stats-embedding/em_1793.dill'\n",
      "WARNING:root:Batch exception[Errno 2] No such file or directory: 'C:/earthquake/one-stats-embedding/em_14513.dill'\n",
      "WARNING:root:Batch exception[Errno 2] No such file or directory: 'C:/earthquake/one-stats-embedding/em_9041.dill'\n",
      "WARNING:root:Batch exception[Errno 2] No such file or directory: 'C:/earthquake/one-stats-embedding/em_24177.dill'\n",
      "WARNING:root:Batch exception[Errno 2] No such file or directory: 'C:/earthquake/one-stats-embedding/em_8353.dill'\n",
      "WARNING:root:Batch exception[Errno 2] No such file or directory: 'C:/earthquake/one-stats-embedding/em_18353.dill'\n",
      "WARNING:root:Batch exception[Errno 2] No such file or directory: 'C:/earthquake/one-stats-embedding/em_10625.dill'\n",
      "WARNING:root:Batch exception[Errno 2] No such file or directory: 'C:/earthquake/one-stats-embedding/em_6609.dill'\n",
      "WARNING:root:Batch exception[Errno 2] No such file or directory: 'C:/earthquake/one-stats-embedding/em_17473.dill'\n",
      "WARNING:root:Batch exception[Errno 2] No such file or directory: 'C:/earthquake/one-stats-embedding/em_3697.dill'\n",
      "WARNING:root:Batch exception[Errno 2] No such file or directory: 'C:/earthquake/one-stats-embedding/em_10753.dill'\n"
     ]
    },
    {
     "name": "stdout",
     "output_type": "stream",
     "text": [
      "\b\b\b\b\b\b\b\b\b\b\b\b\b\b\b\b\b\b\b\b\b\b\b\b\b\b\b\b\b\b\b\b\b\b\b\b\b\b\b\b\b\b\b\b\b\b\b\b\b\b\b\b\b\b\b\b\b\b\b\b\b\b\b\b\b\b\b\b\b\b\b\b\b\b\b\b\b\b\b\b\b\b\b\b\b\b\b\b\b\b\b\b\b\b\b\b\b\b\b\b\b\b\b\b\b\b\b\b\b\b\b\b\b\b\b\b\b\r",
      " 873/1599 [===============>..............] - ETA: 3s - loss: nan - mean_squared_error: nan - mean_absolute_error: nan"
     ]
    },
    {
     "name": "stderr",
     "output_type": "stream",
     "text": [
      "WARNING:root:Batch exception[Errno 2] No such file or directory: 'C:/earthquake/one-stats-embedding/em_22593.dill'\n",
      "WARNING:root:Batch exception[Errno 2] No such file or directory: 'C:/earthquake/one-stats-embedding/em_20145.dill'\n",
      "WARNING:root:Batch exception[Errno 2] No such file or directory: 'C:/earthquake/one-stats-embedding/em_12321.dill'\n",
      "WARNING:root:Batch exception[Errno 2] No such file or directory: 'C:/earthquake/one-stats-embedding/em_8913.dill'\n",
      "WARNING:root:Batch exception[Errno 2] No such file or directory: 'C:/earthquake/one-stats-embedding/em_23073.dill'\n",
      "WARNING:root:Batch exception[Errno 2] No such file or directory: 'C:/earthquake/one-stats-embedding/em_20017.dill'\n",
      "WARNING:root:Batch exception[Errno 2] No such file or directory: 'C:/earthquake/one-stats-embedding/em_24961.dill'\n",
      "WARNING:root:Batch exception[Errno 2] No such file or directory: 'C:/earthquake/one-stats-embedding/em_977.dill'\n",
      "WARNING:root:Batch exception[Errno 2] No such file or directory: 'C:/earthquake/one-stats-embedding/em_24337.dill'\n",
      "WARNING:root:Batch exception[Errno 2] No such file or directory: 'C:/earthquake/one-stats-embedding/em_16449.dill'\n",
      "WARNING:root:Batch exception[Errno 2] No such file or directory: 'C:/earthquake/one-stats-embedding/em_18849.dill'\n"
     ]
    },
    {
     "name": "stdout",
     "output_type": "stream",
     "text": [
      "\b\b\b\b\b\b\b\b\b\b\b\b\b\b\b\b\b\b\b\b\b\b\b\b\b\b\b\b\b\b\b\b\b\b\b\b\b\b\b\b\b\b\b\b\b\b\b\b\b\b\b\b\b\b\b\b\b\b\b\b\b\b\b\b\b\b\b\b\b\b\b\b\b\b\b\b\b\b\b\b\b\b\b\b\b\b\b\b\b\b\b\b\b\b\b\b\b\b\b\b\b\b\b\b\b\b\b\b\b\b\b\b\b\b\b\b\b\r",
      " 884/1599 [===============>..............] - ETA: 3s - loss: nan - mean_squared_error: nan - mean_absolute_error: nan"
     ]
    },
    {
     "name": "stderr",
     "output_type": "stream",
     "text": [
      "WARNING:root:Batch exception[Errno 2] No such file or directory: 'C:/earthquake/one-stats-embedding/em_25105.dill'\n",
      "WARNING:root:Batch exception[Errno 2] No such file or directory: 'C:/earthquake/one-stats-embedding/em_23665.dill'\n",
      "WARNING:root:Batch exception[Errno 2] No such file or directory: 'C:/earthquake/one-stats-embedding/em_13185.dill'\n",
      "WARNING:root:Batch exception[Errno 2] No such file or directory: 'C:/earthquake/one-stats-embedding/em_10033.dill'\n",
      "WARNING:root:Batch exception[Errno 2] No such file or directory: 'C:/earthquake/one-stats-embedding/em_4465.dill'\n",
      "WARNING:root:Batch exception[Errno 2] No such file or directory: 'C:/earthquake/one-stats-embedding/em_24561.dill'\n",
      "WARNING:root:Batch exception[Errno 2] No such file or directory: 'C:/earthquake/one-stats-embedding/em_8609.dill'\n",
      "WARNING:root:Batch exception[Errno 2] No such file or directory: 'C:/earthquake/one-stats-embedding/em_2129.dill'\n",
      "WARNING:root:Batch exception[Errno 2] No such file or directory: 'C:/earthquake/one-stats-embedding/em_5441.dill'\n",
      "WARNING:root:Batch exception[Errno 2] No such file or directory: 'C:/earthquake/one-stats-embedding/em_1441.dill'\n",
      "WARNING:root:Batch exception[Errno 2] No such file or directory: 'C:/earthquake/one-stats-embedding/em_6737.dill'\n"
     ]
    },
    {
     "name": "stdout",
     "output_type": "stream",
     "text": [
      "\b\b\b\b\b\b\b\b\b\b\b\b\b\b\b\b\b\b\b\b\b\b\b\b\b\b\b\b\b\b\b\b\b\b\b\b\b\b\b\b\b\b\b\b\b\b\b\b\b\b\b\b\b\b\b\b\b\b\b\b\b\b\b\b\b\b\b\b\b\b\b\b\b\b\b\b\b\b\b\b\b\b\b\b\b\b\b\b\b\b\b\b\b\b\b\b\b\b\b\b\b\b\b\b\b\b\b\b\b\b\b\b\b\b\b\b\b\r",
      " 895/1599 [===============>..............] - ETA: 3s - loss: nan - mean_squared_error: nan - mean_absolute_error: nan"
     ]
    },
    {
     "name": "stderr",
     "output_type": "stream",
     "text": [
      "WARNING:root:Batch exception[Errno 2] No such file or directory: 'C:/earthquake/one-stats-embedding/em_10609.dill'\n",
      "WARNING:root:Batch exception[Errno 2] No such file or directory: 'C:/earthquake/one-stats-embedding/em_4945.dill'\n",
      "WARNING:root:Batch exception[Errno 2] No such file or directory: 'C:/earthquake/one-stats-embedding/em_13905.dill'\n",
      "WARNING:root:Batch exception[Errno 2] No such file or directory: 'C:/earthquake/one-stats-embedding/em_3537.dill'\n",
      "WARNING:root:Batch exception[Errno 2] No such file or directory: 'C:/earthquake/one-stats-embedding/em_545.dill'\n",
      "WARNING:root:Batch exception[Errno 2] No such file or directory: 'C:/earthquake/one-stats-embedding/em_13745.dill'\n",
      "WARNING:root:Batch exception[Errno 2] No such file or directory: 'C:/earthquake/one-stats-embedding/em_8849.dill'\n",
      "WARNING:root:Batch exception[Errno 2] No such file or directory: 'C:/earthquake/one-stats-embedding/em_15313.dill'\n",
      "WARNING:root:Batch exception[Errno 2] No such file or directory: 'C:/earthquake/one-stats-embedding/em_9793.dill'\n",
      "WARNING:root:Batch exception[Errno 2] No such file or directory: 'C:/earthquake/one-stats-embedding/em_18257.dill'\n",
      "WARNING:root:Batch exception[Errno 2] No such file or directory: 'C:/earthquake/one-stats-embedding/em_7489.dill'\n",
      "WARNING:root:Batch exception[Errno 2] No such file or directory: 'C:/earthquake/one-stats-embedding/em_18033.dill'\n"
     ]
    },
    {
     "name": "stdout",
     "output_type": "stream",
     "text": [
      "\b\b\b\b\b\b\b\b\b\b\b\b\b\b\b\b\b\b\b\b\b\b\b\b\b\b\b\b\b\b\b\b\b\b\b\b\b\b\b\b\b\b\b\b\b\b\b\b\b\b\b\b\b\b\b\b\b\b\b\b\b\b\b\b\b\b\b\b\b\b\b\b\b\b\b\b\b\b\b\b\b\b\b\b\b\b\b\b\b\b\b\b\b\b\b\b\b\b\b\b\b\b\b\b\b\b\b\b\b\b\b\b\b\b\b\b\b\r",
      " 907/1599 [================>.............] - ETA: 3s - loss: nan - mean_squared_error: nan - mean_absolute_error: nan"
     ]
    },
    {
     "name": "stderr",
     "output_type": "stream",
     "text": [
      "WARNING:root:Batch exception[Errno 2] No such file or directory: 'C:/earthquake/one-stats-embedding/em_14593.dill'\n",
      "WARNING:root:Batch exception[Errno 2] No such file or directory: 'C:/earthquake/one-stats-embedding/em_19489.dill'\n",
      "WARNING:root:Batch exception[Errno 2] No such file or directory: 'C:/earthquake/one-stats-embedding/em_23425.dill'\n",
      "WARNING:root:Batch exception[Errno 2] No such file or directory: 'C:/earthquake/one-stats-embedding/em_14481.dill'\n",
      "WARNING:root:Batch exception[Errno 2] No such file or directory: 'C:/earthquake/one-stats-embedding/em_16337.dill'\n",
      "WARNING:root:Batch exception[Errno 2] No such file or directory: 'C:/earthquake/one-stats-embedding/em_18145.dill'\n",
      "WARNING:root:Batch exception[Errno 2] No such file or directory: 'C:/earthquake/one-stats-embedding/em_20353.dill'\n",
      "WARNING:root:Batch exception[Errno 2] No such file or directory: 'C:/earthquake/one-stats-embedding/em_1393.dill'\n",
      "WARNING:root:Batch exception[Errno 2] No such file or directory: 'C:/earthquake/one-stats-embedding/em_1537.dill'\n",
      "WARNING:root:Batch exception[Errno 2] No such file or directory: 'C:/earthquake/one-stats-embedding/em_19169.dill'\n",
      "WARNING:root:Batch exception[Errno 2] No such file or directory: 'C:/earthquake/one-stats-embedding/em_4529.dill'\n"
     ]
    },
    {
     "name": "stdout",
     "output_type": "stream",
     "text": [
      "\b\b\b\b\b\b\b\b\b\b\b\b\b\b\b\b\b\b\b\b\b\b\b\b\b\b\b\b\b\b\b\b\b\b\b\b\b\b\b\b\b\b\b\b\b\b\b\b\b\b\b\b\b\b\b\b\b\b\b\b\b\b\b\b\b\b\b\b\b\b\b\b\b\b\b\b\b\b\b\b\b\b\b\b\b\b\b\b\b\b\b\b\b\b\b\b\b\b\b\b\b\b\b\b\b\b\b\b\b\b\b\b\b\b\b\b\b\r",
      " 918/1599 [================>.............] - ETA: 3s - loss: nan - mean_squared_error: nan - mean_absolute_error: nan"
     ]
    },
    {
     "name": "stderr",
     "output_type": "stream",
     "text": [
      "WARNING:root:Batch exception[Errno 2] No such file or directory: 'C:/earthquake/one-stats-embedding/em_6945.dill'\n",
      "WARNING:root:Batch exception[Errno 2] No such file or directory: 'C:/earthquake/one-stats-embedding/em_13585.dill'\n",
      "WARNING:root:Batch exception[Errno 2] No such file or directory: 'C:/earthquake/one-stats-embedding/em_25345.dill'\n",
      "WARNING:root:Batch exception[Errno 2] No such file or directory: 'C:/earthquake/one-stats-embedding/em_5729.dill'\n",
      "WARNING:root:Batch exception[Errno 2] No such file or directory: 'C:/earthquake/one-stats-embedding/em_14977.dill'\n",
      "WARNING:root:Batch exception[Errno 2] No such file or directory: 'C:/earthquake/one-stats-embedding/em_5761.dill'\n",
      "WARNING:root:Batch exception[Errno 2] No such file or directory: 'C:/earthquake/one-stats-embedding/em_2769.dill'\n",
      "WARNING:root:Batch exception[Errno 2] No such file or directory: 'C:/earthquake/one-stats-embedding/em_21441.dill'\n",
      "WARNING:root:Batch exception[Errno 2] No such file or directory: 'C:/earthquake/one-stats-embedding/em_8513.dill'\n",
      "WARNING:root:Batch exception[Errno 2] No such file or directory: 'C:/earthquake/one-stats-embedding/em_22177.dill'\n",
      "WARNING:root:Batch exception[Errno 2] No such file or directory: 'C:/earthquake/one-stats-embedding/em_22721.dill'\n",
      "WARNING:root:Batch exception[Errno 2] No such file or directory: 'C:/earthquake/one-stats-embedding/em_24529.dill'\n"
     ]
    },
    {
     "name": "stdout",
     "output_type": "stream",
     "text": [
      "\b\b\b\b\b\b\b\b\b\b\b\b\b\b\b\b\b\b\b\b\b\b\b\b\b\b\b\b\b\b\b\b\b\b\b\b\b\b\b\b\b\b\b\b\b\b\b\b\b\b\b\b\b\b\b\b\b\b\b\b\b\b\b\b\b\b\b\b\b\b\b\b\b\b\b\b\b\b\b\b\b\b\b\b\b\b\b\b\b\b\b\b\b\b\b\b\b\b\b\b\b\b\b\b\b\b\b\b\b\b\b\b\b\b\b\b\b\r",
      " 930/1599 [================>.............] - ETA: 3s - loss: nan - mean_squared_error: nan - mean_absolute_error: nan"
     ]
    },
    {
     "name": "stderr",
     "output_type": "stream",
     "text": [
      "WARNING:root:Batch exception[Errno 2] No such file or directory: 'C:/earthquake/one-stats-embedding/em_17953.dill'\n",
      "WARNING:root:Batch exception[Errno 2] No such file or directory: 'C:/earthquake/one-stats-embedding/em_12145.dill'\n",
      "WARNING:root:Batch exception[Errno 2] No such file or directory: 'C:/earthquake/one-stats-embedding/em_8145.dill'\n",
      "WARNING:root:Batch exception[Errno 2] No such file or directory: 'C:/earthquake/one-stats-embedding/em_17745.dill'\n",
      "WARNING:root:Batch exception[Errno 2] No such file or directory: 'C:/earthquake/one-stats-embedding/em_7473.dill'\n",
      "WARNING:root:Batch exception[Errno 2] No such file or directory: 'C:/earthquake/one-stats-embedding/em_3713.dill'\n",
      "WARNING:root:Batch exception[Errno 2] No such file or directory: 'C:/earthquake/one-stats-embedding/em_1649.dill'\n",
      "WARNING:root:Batch exception[Errno 2] No such file or directory: 'C:/earthquake/one-stats-embedding/em_10289.dill'\n",
      "WARNING:root:Batch exception[Errno 2] No such file or directory: 'C:/earthquake/one-stats-embedding/em_17409.dill'\n",
      "WARNING:root:Batch exception[Errno 2] No such file or directory: 'C:/earthquake/one-stats-embedding/em_15185.dill'\n"
     ]
    },
    {
     "name": "stdout",
     "output_type": "stream",
     "text": [
      "\b\b\b\b\b\b\b\b\b\b\b\b\b\b\b\b\b\b\b\b\b\b\b\b\b\b\b\b\b\b\b\b\b\b\b\b\b\b\b\b\b\b\b\b\b\b\b\b\b\b\b\b\b\b\b\b\b\b\b\b\b\b\b\b\b\b\b\b\b\b\b\b\b\b\b\b\b\b\b\b\b\b\b\b\b\b\b\b\b\b\b\b\b\b\b\b\b\b\b\b\b\b\b\b\b\b\b\b\b\b\b\b\b\b\b\b\b\r",
      " 941/1599 [================>.............] - ETA: 3s - loss: nan - mean_squared_error: nan - mean_absolute_error: nan"
     ]
    },
    {
     "name": "stderr",
     "output_type": "stream",
     "text": [
      "WARNING:root:Batch exception[Errno 2] No such file or directory: 'C:/earthquake/one-stats-embedding/em_5665.dill'\n",
      "WARNING:root:Batch exception[Errno 2] No such file or directory: 'C:/earthquake/one-stats-embedding/em_13873.dill'\n",
      "WARNING:root:Batch exception[Errno 2] No such file or directory: 'C:/earthquake/one-stats-embedding/em_5345.dill'\n",
      "WARNING:root:Batch exception[Errno 2] No such file or directory: 'C:/earthquake/one-stats-embedding/em_9505.dill'\n",
      "WARNING:root:Batch exception[Errno 2] No such file or directory: 'C:/earthquake/one-stats-embedding/em_9761.dill'\n",
      "WARNING:root:Batch exception[Errno 2] No such file or directory: 'C:/earthquake/one-stats-embedding/em_12097.dill'\n",
      "WARNING:root:Batch exception[Errno 2] No such file or directory: 'C:/earthquake/one-stats-embedding/em_25201.dill'\n",
      "WARNING:root:Batch exception[Errno 2] No such file or directory: 'C:/earthquake/one-stats-embedding/em_16625.dill'\n",
      "WARNING:root:Batch exception[Errno 2] No such file or directory: 'C:/earthquake/one-stats-embedding/em_5969.dill'\n",
      "WARNING:root:Batch exception[Errno 2] No such file or directory: 'C:/earthquake/one-stats-embedding/em_737.dill'\n",
      "WARNING:root:Batch exception[Errno 2] No such file or directory: 'C:/earthquake/one-stats-embedding/em_20593.dill'\n"
     ]
    },
    {
     "name": "stdout",
     "output_type": "stream",
     "text": [
      "\b\b\b\b\b\b\b\b\b\b\b\b\b\b\b\b\b\b\b\b\b\b\b\b\b\b\b\b\b\b\b\b\b\b\b\b\b\b\b\b\b\b\b\b\b\b\b\b\b\b\b\b\b\b\b\b\b\b\b\b\b\b\b\b\b\b\b\b\b\b\b\b\b\b\b\b\b\b\b\b\b\b\b\b\b\b\b\b\b\b\b\b\b\b\b\b\b\b\b\b\b\b\b\b\b\b\b\b\b\b\b\b\b\b\b\b\b\r",
      " 952/1599 [================>.............] - ETA: 3s - loss: nan - mean_squared_error: nan - mean_absolute_error: nan"
     ]
    },
    {
     "name": "stderr",
     "output_type": "stream",
     "text": [
      "WARNING:root:Batch exception[Errno 2] No such file or directory: 'C:/earthquake/one-stats-embedding/em_7297.dill'\n",
      "WARNING:root:Batch exception[Errno 2] No such file or directory: 'C:/earthquake/one-stats-embedding/em_21361.dill'\n",
      "WARNING:root:Batch exception[Errno 2] No such file or directory: 'C:/earthquake/one-stats-embedding/em_16193.dill'\n",
      "WARNING:root:Batch exception[Errno 2] No such file or directory: 'C:/earthquake/one-stats-embedding/em_3329.dill'\n",
      "WARNING:root:Batch exception[Errno 2] No such file or directory: 'C:/earthquake/one-stats-embedding/em_20993.dill'\n",
      "WARNING:root:Batch exception[Errno 2] No such file or directory: 'C:/earthquake/one-stats-embedding/em_5553.dill'\n",
      "WARNING:root:Batch exception[Errno 2] No such file or directory: 'C:/earthquake/one-stats-embedding/em_2625.dill'\n",
      "WARNING:root:Batch exception[Errno 2] No such file or directory: 'C:/earthquake/one-stats-embedding/em_19793.dill'\n",
      "WARNING:root:Batch exception[Errno 2] No such file or directory: 'C:/earthquake/one-stats-embedding/em_7777.dill'\n",
      "WARNING:root:Batch exception[Errno 2] No such file or directory: 'C:/earthquake/one-stats-embedding/em_4897.dill'\n",
      "WARNING:root:Batch exception[Errno 2] No such file or directory: 'C:/earthquake/one-stats-embedding/em_17681.dill'\n"
     ]
    },
    {
     "name": "stdout",
     "output_type": "stream",
     "text": [
      "\b\b\b\b\b\b\b\b\b\b\b\b\b\b\b\b\b\b\b\b\b\b\b\b\b\b\b\b\b\b\b\b\b\b\b\b\b\b\b\b\b\b\b\b\b\b\b\b\b\b\b\b\b\b\b\b\b\b\b\b\b\b\b\b\b\b\b\b\b\b\b\b\b\b\b\b\b\b\b\b\b\b\b\b\b\b\b\b\b\b\b\b\b\b\b\b\b\b\b\b\b\b\b\b\b\b\b\b\b\b\b\b\b\b\b\b\b\r",
      " 963/1599 [=================>............] - ETA: 3s - loss: nan - mean_squared_error: nan - mean_absolute_error: nan"
     ]
    },
    {
     "name": "stderr",
     "output_type": "stream",
     "text": [
      "WARNING:root:Batch exception[Errno 2] No such file or directory: 'C:/earthquake/one-stats-embedding/em_21713.dill'\n",
      "WARNING:root:Batch exception[Errno 2] No such file or directory: 'C:/earthquake/one-stats-embedding/em_17377.dill'\n",
      "WARNING:root:Batch exception[Errno 2] No such file or directory: 'C:/earthquake/one-stats-embedding/em_2369.dill'\n",
      "WARNING:root:Batch exception[Errno 2] No such file or directory: 'C:/earthquake/one-stats-embedding/em_24577.dill'\n",
      "WARNING:root:Batch exception[Errno 2] No such file or directory: 'C:/earthquake/one-stats-embedding/em_16641.dill'\n",
      "WARNING:root:Batch exception[Errno 2] No such file or directory: 'C:/earthquake/one-stats-embedding/em_24817.dill'\n",
      "WARNING:root:Batch exception[Errno 2] No such file or directory: 'C:/earthquake/one-stats-embedding/em_21473.dill'\n",
      "WARNING:root:Batch exception[Errno 2] No such file or directory: 'C:/earthquake/one-stats-embedding/em_6785.dill'\n",
      "WARNING:root:Batch exception[Errno 2] No such file or directory: 'C:/earthquake/one-stats-embedding/em_21905.dill'\n",
      "WARNING:root:Batch exception[Errno 2] No such file or directory: 'C:/earthquake/one-stats-embedding/em_8065.dill'\n",
      "WARNING:root:Batch exception[Errno 2] No such file or directory: 'C:/earthquake/one-stats-embedding/em_21665.dill'\n"
     ]
    },
    {
     "name": "stdout",
     "output_type": "stream",
     "text": [
      "\b\b\b\b\b\b\b\b\b\b\b\b\b\b\b\b\b\b\b\b\b\b\b\b\b\b\b\b\b\b\b\b\b\b\b\b\b\b\b\b\b\b\b\b\b\b\b\b\b\b\b\b\b\b\b\b\b\b\b\b\b\b\b\b\b\b\b\b\b\b\b\b\b\b\b\b\b\b\b\b\b\b\b\b\b\b\b\b\b\b\b\b\b\b\b\b\b\b\b\b\b\b\b\b\b\b\b\b\b\b\b\b\b\b\b\b\b\r",
      " 974/1599 [=================>............] - ETA: 2s - loss: nan - mean_squared_error: nan - mean_absolute_error: nan"
     ]
    },
    {
     "name": "stderr",
     "output_type": "stream",
     "text": [
      "WARNING:root:Batch exception[Errno 2] No such file or directory: 'C:/earthquake/one-stats-embedding/em_12065.dill'\n",
      "WARNING:root:Batch exception[Errno 2] No such file or directory: 'C:/earthquake/one-stats-embedding/em_19265.dill'\n",
      "WARNING:root:Batch exception[Errno 2] No such file or directory: 'C:/earthquake/one-stats-embedding/em_9345.dill'\n",
      "WARNING:root:Batch exception[Errno 2] No such file or directory: 'C:/earthquake/one-stats-embedding/em_9521.dill'\n",
      "WARNING:root:Batch exception[Errno 2] No such file or directory: 'C:/earthquake/one-stats-embedding/em_16705.dill'\n",
      "WARNING:root:Batch exception[Errno 2] No such file or directory: 'C:/earthquake/one-stats-embedding/em_5521.dill'\n",
      "WARNING:root:Batch exception[Errno 2] No such file or directory: 'C:/earthquake/one-stats-embedding/em_13649.dill'\n",
      "WARNING:root:Batch exception[Errno 2] No such file or directory: 'C:/earthquake/one-stats-embedding/em_11361.dill'\n",
      "WARNING:root:Batch exception[Errno 2] No such file or directory: 'C:/earthquake/one-stats-embedding/em_25265.dill'\n",
      "WARNING:root:Batch exception[Errno 2] No such file or directory: 'C:/earthquake/one-stats-embedding/em_12225.dill'\n",
      "WARNING:root:Batch exception[Errno 2] No such file or directory: 'C:/earthquake/one-stats-embedding/em_13297.dill'\n",
      "WARNING:root:Batch exception[Errno 2] No such file or directory: 'C:/earthquake/one-stats-embedding/em_21265.dill'\n"
     ]
    },
    {
     "name": "stdout",
     "output_type": "stream",
     "text": [
      "\b\b\b\b\b\b\b\b\b\b\b\b\b\b\b\b\b\b\b\b\b\b\b\b\b\b\b\b\b\b\b\b\b\b\b\b\b\b\b\b\b\b\b\b\b\b\b\b\b\b\b\b\b\b\b\b\b\b\b\b\b\b\b\b\b\b\b\b\b\b\b\b\b\b\b\b\b\b\b\b\b\b\b\b\b\b\b\b\b\b\b\b\b\b\b\b\b\b\b\b\b\b\b\b\b\b\b\b\b\b\b\b\b\b\b\b\b\r",
      " 986/1599 [=================>............] - ETA: 2s - loss: nan - mean_squared_error: nan - mean_absolute_error: nan"
     ]
    },
    {
     "name": "stderr",
     "output_type": "stream",
     "text": [
      "WARNING:root:Batch exception[Errno 2] No such file or directory: 'C:/earthquake/one-stats-embedding/em_22225.dill'\n",
      "WARNING:root:Batch exception[Errno 2] No such file or directory: 'C:/earthquake/one-stats-embedding/em_20657.dill'\n",
      "WARNING:root:Batch exception[Errno 2] No such file or directory: 'C:/earthquake/one-stats-embedding/em_8737.dill'\n",
      "WARNING:root:Batch exception[Errno 2] No such file or directory: 'C:/earthquake/one-stats-embedding/em_10881.dill'\n",
      "WARNING:root:Batch exception[Errno 2] No such file or directory: 'C:/earthquake/one-stats-embedding/em_5169.dill'\n",
      "WARNING:root:Batch exception[Errno 2] No such file or directory: 'C:/earthquake/one-stats-embedding/em_8769.dill'\n",
      "WARNING:root:Batch exception[Errno 2] No such file or directory: 'C:/earthquake/one-stats-embedding/em_2289.dill'\n",
      "WARNING:root:Batch exception[Errno 2] No such file or directory: 'C:/earthquake/one-stats-embedding/em_7649.dill'\n",
      "WARNING:root:Batch exception[Errno 2] No such file or directory: 'C:/earthquake/one-stats-embedding/em_2801.dill'\n",
      "WARNING:root:Batch exception[Errno 2] No such file or directory: 'C:/earthquake/one-stats-embedding/em_20001.dill'\n",
      "WARNING:root:Batch exception[Errno 2] No such file or directory: 'C:/earthquake/one-stats-embedding/em_15857.dill'\n"
     ]
    },
    {
     "name": "stdout",
     "output_type": "stream",
     "text": [
      "\b\b\b\b\b\b\b\b\b\b\b\b\b\b\b\b\b\b\b\b\b\b\b\b\b\b\b\b\b\b\b\b\b\b\b\b\b\b\b\b\b\b\b\b\b\b\b\b\b\b\b\b\b\b\b\b\b\b\b\b\b\b\b\b\b\b\b\b\b\b\b\b\b\b\b\b\b\b\b\b\b\b\b\b\b\b\b\b\b\b\b\b\b\b\b\b\b\b\b\b\b\b\b\b\b\b\b\b\b\b\b\b\b\b\b\b\b\r",
      " 997/1599 [=================>............] - ETA: 2s - loss: nan - mean_squared_error: nan - mean_absolute_error: nan"
     ]
    },
    {
     "name": "stderr",
     "output_type": "stream",
     "text": [
      "WARNING:root:Batch exception[Errno 2] No such file or directory: 'C:/earthquake/one-stats-embedding/em_4449.dill'\n",
      "WARNING:root:Batch exception[Errno 2] No such file or directory: 'C:/earthquake/one-stats-embedding/em_24913.dill'\n",
      "WARNING:root:Batch exception[Errno 2] No such file or directory: 'C:/earthquake/one-stats-embedding/em_1953.dill'\n",
      "WARNING:root:Batch exception[Errno 2] No such file or directory: 'C:/earthquake/one-stats-embedding/em_5249.dill'\n",
      "WARNING:root:Batch exception[Errno 2] No such file or directory: 'C:/earthquake/one-stats-embedding/em_2337.dill'\n",
      "WARNING:root:Batch exception[Errno 2] No such file or directory: 'C:/earthquake/one-stats-embedding/em_6193.dill'\n",
      "WARNING:root:Batch exception[Errno 2] No such file or directory: 'C:/earthquake/one-stats-embedding/em_22497.dill'\n",
      "WARNING:root:Batch exception[Errno 2] No such file or directory: 'C:/earthquake/one-stats-embedding/em_6417.dill'\n",
      "WARNING:root:Batch exception[Errno 2] No such file or directory: 'C:/earthquake/one-stats-embedding/em_15201.dill'\n",
      "WARNING:root:Batch exception[Errno 2] No such file or directory: 'C:/earthquake/one-stats-embedding/em_24801.dill'\n",
      "WARNING:root:Batch exception[Errno 2] No such file or directory: 'C:/earthquake/one-stats-embedding/em_2481.dill'\n",
      "WARNING:root:Batch exception[Errno 2] No such file or directory: 'C:/earthquake/one-stats-embedding/em_12305.dill'\n"
     ]
    },
    {
     "name": "stdout",
     "output_type": "stream",
     "text": [
      "\b\b\b\b\b\b\b\b\b\b\b\b\b\b\b\b\b\b\b\b\b\b\b\b\b\b\b\b\b\b\b\b\b\b\b\b\b\b\b\b\b\b\b\b\b\b\b\b\b\b\b\b\b\b\b\b\b\b\b\b\b\b\b\b\b\b\b\b\b\b\b\b\b\b\b\b\b\b\b\b\b\b\b\b\b\b\b\b\b\b\b\b\b\b\b\b\b\b\b\b\b\b\b\b\b\b\b\b\b\b\b\b\b\b\b\b\b\r",
      "1009/1599 [=================>............] - ETA: 2s - loss: nan - mean_squared_error: nan - mean_absolute_error: nan"
     ]
    },
    {
     "name": "stderr",
     "output_type": "stream",
     "text": [
      "WARNING:root:Batch exception[Errno 2] No such file or directory: 'C:/earthquake/one-stats-embedding/em_1777.dill'\n",
      "WARNING:root:Batch exception[Errno 2] No such file or directory: 'C:/earthquake/one-stats-embedding/em_16913.dill'\n",
      "WARNING:root:Batch exception[Errno 2] No such file or directory: 'C:/earthquake/one-stats-embedding/em_24433.dill'\n",
      "WARNING:root:Batch exception[Errno 2] No such file or directory: 'C:/earthquake/one-stats-embedding/em_13505.dill'\n",
      "WARNING:root:Batch exception[Errno 2] No such file or directory: 'C:/earthquake/one-stats-embedding/em_11793.dill'\n",
      "WARNING:root:Batch exception[Errno 2] No such file or directory: 'C:/earthquake/one-stats-embedding/em_22289.dill'\n",
      "WARNING:root:Batch exception[Errno 2] No such file or directory: 'C:/earthquake/one-stats-embedding/em_8321.dill'\n",
      "WARNING:root:Batch exception[Errno 2] No such file or directory: 'C:/earthquake/one-stats-embedding/em_13361.dill'\n",
      "WARNING:root:Batch exception[Errno 2] No such file or directory: 'C:/earthquake/one-stats-embedding/em_5073.dill'\n",
      "WARNING:root:Batch exception[Errno 2] No such file or directory: 'C:/earthquake/one-stats-embedding/em_18881.dill'\n",
      "WARNING:root:Batch exception[Errno 2] No such file or directory: 'C:/earthquake/one-stats-embedding/em_6929.dill'\n"
     ]
    },
    {
     "name": "stdout",
     "output_type": "stream",
     "text": [
      "\b\b\b\b\b\b\b\b\b\b\b\b\b\b\b\b\b\b\b\b\b\b\b\b\b\b\b\b\b\b\b\b\b\b\b\b\b\b\b\b\b\b\b\b\b\b\b\b\b\b\b\b\b\b\b\b\b\b\b\b\b\b\b\b\b\b\b\b\b\b\b\b\b\b\b\b\b\b\b\b\b\b\b\b\b\b\b\b\b\b\b\b\b\b\b\b\b\b\b\b\b\b\b\b\b\b\b\b\b\b\b\b\b\b\b\b\b\r",
      "1021/1599 [==================>...........] - ETA: 2s - loss: nan - mean_squared_error: nan - mean_absolute_error: nan"
     ]
    },
    {
     "name": "stderr",
     "output_type": "stream",
     "text": [
      "WARNING:root:Batch exception[Errno 2] No such file or directory: 'C:/earthquake/one-stats-embedding/em_25425.dill'\n",
      "WARNING:root:Batch exception[Errno 2] No such file or directory: 'C:/earthquake/one-stats-embedding/em_9841.dill'\n",
      "WARNING:root:Batch exception[Errno 2] No such file or directory: 'C:/earthquake/one-stats-embedding/em_19857.dill'\n",
      "WARNING:root:Batch exception[Errno 2] No such file or directory: 'C:/earthquake/one-stats-embedding/em_15921.dill'\n",
      "WARNING:root:Batch exception[Errno 2] No such file or directory: 'C:/earthquake/one-stats-embedding/em_8721.dill'\n",
      "WARNING:root:Batch exception[Errno 2] No such file or directory: 'C:/earthquake/one-stats-embedding/em_16673.dill'\n",
      "WARNING:root:Batch exception[Errno 2] No such file or directory: 'C:/earthquake/one-stats-embedding/em_22129.dill'\n",
      "WARNING:root:Batch exception[Errno 2] No such file or directory: 'C:/earthquake/one-stats-embedding/em_10769.dill'\n",
      "WARNING:root:Batch exception[Errno 2] No such file or directory: 'C:/earthquake/one-stats-embedding/em_21729.dill'\n",
      "WARNING:root:Batch exception[Errno 2] No such file or directory: 'C:/earthquake/one-stats-embedding/em_16481.dill'\n",
      "WARNING:root:Batch exception[Errno 2] No such file or directory: 'C:/earthquake/one-stats-embedding/em_9169.dill'\n"
     ]
    },
    {
     "name": "stdout",
     "output_type": "stream",
     "text": [
      "\b\b\b\b\b\b\b\b\b\b\b\b\b\b\b\b\b\b\b\b\b\b\b\b\b\b\b\b\b\b\b\b\b\b\b\b\b\b\b\b\b\b\b\b\b\b\b\b\b\b\b\b\b\b\b\b\b\b\b\b\b\b\b\b\b\b\b\b\b\b\b\b\b\b\b\b\b\b\b\b\b\b\b\b\b\b\b\b\b\b\b\b\b\b\b\b\b\b\b\b\b\b\b\b\b\b\b\b\b\b\b\b\b\b\b\b\b\r",
      "1032/1599 [==================>...........] - ETA: 2s - loss: nan - mean_squared_error: nan - mean_absolute_error: nan"
     ]
    },
    {
     "name": "stderr",
     "output_type": "stream",
     "text": [
      "WARNING:root:Batch exception[Errno 2] No such file or directory: 'C:/earthquake/one-stats-embedding/em_8017.dill'\n",
      "WARNING:root:Batch exception[Errno 2] No such file or directory: 'C:/earthquake/one-stats-embedding/em_6721.dill'\n",
      "WARNING:root:Batch exception[Errno 2] No such file or directory: 'C:/earthquake/one-stats-embedding/em_18961.dill'\n",
      "WARNING:root:Batch exception[Errno 2] No such file or directory: 'C:/earthquake/one-stats-embedding/em_6865.dill'\n",
      "WARNING:root:Batch exception[Errno 2] No such file or directory: 'C:/earthquake/one-stats-embedding/em_15873.dill'\n",
      "WARNING:root:Batch exception[Errno 2] No such file or directory: 'C:/earthquake/one-stats-embedding/em_4385.dill'\n",
      "WARNING:root:Batch exception[Errno 2] No such file or directory: 'C:/earthquake/one-stats-embedding/em_8881.dill'\n",
      "WARNING:root:Batch exception[Errno 2] No such file or directory: 'C:/earthquake/one-stats-embedding/em_23729.dill'\n",
      "WARNING:root:Batch exception[Errno 2] No such file or directory: 'C:/earthquake/one-stats-embedding/em_12209.dill'\n"
     ]
    },
    {
     "name": "stdout",
     "output_type": "stream",
     "text": [
      "\b\b\b\b\b\b\b\b\b\b\b\b\b\b\b\b\b\b\b\b\b\b\b\b\b\b\b\b\b\b\b\b\b\b\b\b\b\b\b\b\b\b\b\b\b\b\b\b\b\b\b\b\b\b\b\b\b\b\b\b\b\b\b\b\b\b\b\b\b\b\b\b\b\b\b\b\b\b\b\b\b\b\b\b\b\b\b\b\b\b\b\b\b\b\b\b\b\b\b\b\b\b\b\b\b\b\b\b\b\b\b\b\b\b\b\b\b\r",
      "1042/1599 [==================>...........] - ETA: 2s - loss: nan - mean_squared_error: nan - mean_absolute_error: nan"
     ]
    },
    {
     "name": "stderr",
     "output_type": "stream",
     "text": [
      "WARNING:root:Batch exception[Errno 2] No such file or directory: 'C:/earthquake/one-stats-embedding/em_4881.dill'\n",
      "WARNING:root:Batch exception[Errno 2] No such file or directory: 'C:/earthquake/one-stats-embedding/em_3793.dill'\n",
      "WARNING:root:Batch exception[Errno 2] No such file or directory: 'C:/earthquake/one-stats-embedding/em_3089.dill'\n",
      "WARNING:root:Batch exception[Errno 2] No such file or directory: 'C:/earthquake/one-stats-embedding/em_4049.dill'\n",
      "WARNING:root:Batch exception[Errno 2] No such file or directory: 'C:/earthquake/one-stats-embedding/em_4289.dill'\n",
      "WARNING:root:Batch exception[Errno 2] No such file or directory: 'C:/earthquake/one-stats-embedding/em_3025.dill'\n",
      "WARNING:root:Batch exception[Errno 2] No such file or directory: 'C:/earthquake/one-stats-embedding/em_15761.dill'\n",
      "WARNING:root:Batch exception[Errno 2] No such file or directory: 'C:/earthquake/one-stats-embedding/em_9665.dill'\n",
      "WARNING:root:Batch exception[Errno 2] No such file or directory: 'C:/earthquake/one-stats-embedding/em_21633.dill'\n",
      "WARNING:root:Batch exception[Errno 2] No such file or directory: 'C:/earthquake/one-stats-embedding/em_497.dill'\n",
      "WARNING:root:Batch exception[Errno 2] No such file or directory: 'C:/earthquake/one-stats-embedding/em_9393.dill'\n",
      "WARNING:root:Batch exception[Errno 2] No such file or directory: 'C:/earthquake/one-stats-embedding/em_4209.dill'\n"
     ]
    },
    {
     "name": "stdout",
     "output_type": "stream",
     "text": [
      "\b\b\b\b\b\b\b\b\b\b\b\b\b\b\b\b\b\b\b\b\b\b\b\b\b\b\b\b\b\b\b\b\b\b\b\b\b\b\b\b\b\b\b\b\b\b\b\b\b\b\b\b\b\b\b\b\b\b\b\b\b\b\b\b\b\b\b\b\b\b\b\b\b\b\b\b\b\b\b\b\b\b\b\b\b\b\b\b\b\b\b\b\b\b\b\b\b\b\b\b\b\b\b\b\b\b\b\b\b\b\b\b\b\b\b\b\b\r",
      "1054/1599 [==================>...........] - ETA: 2s - loss: nan - mean_squared_error: nan - mean_absolute_error: nan"
     ]
    },
    {
     "name": "stderr",
     "output_type": "stream",
     "text": [
      "WARNING:root:Batch exception[Errno 2] No such file or directory: 'C:/earthquake/one-stats-embedding/em_17937.dill'\n",
      "WARNING:root:Batch exception[Errno 2] No such file or directory: 'C:/earthquake/one-stats-embedding/em_4353.dill'\n",
      "WARNING:root:Batch exception[Errno 2] No such file or directory: 'C:/earthquake/one-stats-embedding/em_11681.dill'\n",
      "WARNING:root:Batch exception[Errno 2] No such file or directory: 'C:/earthquake/one-stats-embedding/em_18065.dill'\n",
      "WARNING:root:Batch exception[Errno 2] No such file or directory: 'C:/earthquake/one-stats-embedding/em_18049.dill'\n",
      "WARNING:root:Batch exception[Errno 2] No such file or directory: 'C:/earthquake/one-stats-embedding/em_2145.dill'\n",
      "WARNING:root:Batch exception[Errno 2] No such file or directory: 'C:/earthquake/one-stats-embedding/em_9121.dill'\n",
      "WARNING:root:Batch exception[Errno 2] No such file or directory: 'C:/earthquake/one-stats-embedding/em_16241.dill'\n",
      "WARNING:root:Batch exception[Errno 2] No such file or directory: 'C:/earthquake/one-stats-embedding/em_17649.dill'\n",
      "WARNING:root:Batch exception[Errno 2] No such file or directory: 'C:/earthquake/one-stats-embedding/em_14737.dill'\n",
      "WARNING:root:Batch exception[Errno 2] No such file or directory: 'C:/earthquake/one-stats-embedding/em_17585.dill'\n"
     ]
    },
    {
     "name": "stdout",
     "output_type": "stream",
     "text": [
      "\b\b\b\b\b\b\b\b\b\b\b\b\b\b\b\b\b\b\b\b\b\b\b\b\b\b\b\b\b\b\b\b\b\b\b\b\b\b\b\b\b\b\b\b\b\b\b\b\b\b\b\b\b\b\b\b\b\b\b\b\b\b\b\b\b\b\b\b\b\b\b\b\b\b\b\b\b\b\b\b\b\b\b\b\b\b\b\b\b\b\b\b\b\b\b\b\b\b\b\b\b\b\b\b\b\b\b\b\b\b\b\b\b\b\b\b\b\r",
      "1065/1599 [==================>...........] - ETA: 2s - loss: nan - mean_squared_error: nan - mean_absolute_error: nan"
     ]
    },
    {
     "name": "stderr",
     "output_type": "stream",
     "text": [
      "WARNING:root:Batch exception[Errno 2] No such file or directory: 'C:/earthquake/one-stats-embedding/em_21601.dill'\n",
      "WARNING:root:Batch exception[Errno 2] No such file or directory: 'C:/earthquake/one-stats-embedding/em_13793.dill'\n",
      "WARNING:root:Batch exception[Errno 2] No such file or directory: 'C:/earthquake/one-stats-embedding/em_7873.dill'\n",
      "WARNING:root:Batch exception[Errno 2] No such file or directory: 'C:/earthquake/one-stats-embedding/em_24401.dill'\n",
      "WARNING:root:Batch exception[Errno 2] No such file or directory: 'C:/earthquake/one-stats-embedding/em_7377.dill'\n",
      "WARNING:root:Batch exception[Errno 2] No such file or directory: 'C:/earthquake/one-stats-embedding/em_23233.dill'\n",
      "WARNING:root:Batch exception[Errno 2] No such file or directory: 'C:/earthquake/one-stats-embedding/em_3297.dill'\n",
      "WARNING:root:Batch exception[Errno 2] No such file or directory: 'C:/earthquake/one-stats-embedding/em_1585.dill'\n",
      "WARNING:root:Batch exception[Errno 2] No such file or directory: 'C:/earthquake/one-stats-embedding/em_2177.dill'\n",
      "WARNING:root:Batch exception[Errno 2] No such file or directory: 'C:/earthquake/one-stats-embedding/em_5281.dill'\n",
      "WARNING:root:Batch exception[Errno 2] No such file or directory: 'C:/earthquake/one-stats-embedding/em_8577.dill'\n",
      "WARNING:root:Batch exception[Errno 2] No such file or directory: 'C:/earthquake/one-stats-embedding/em_8241.dill'\n"
     ]
    },
    {
     "name": "stdout",
     "output_type": "stream",
     "text": [
      "\b\b\b\b\b\b\b\b\b\b\b\b\b\b\b\b\b\b\b\b\b\b\b\b\b\b\b\b\b\b\b\b\b\b\b\b\b\b\b\b\b\b\b\b\b\b\b\b\b\b\b\b\b\b\b\b\b\b\b\b\b\b\b\b\b\b\b\b\b\b\b\b\b\b\b\b\b\b\b\b\b\b\b\b\b\b\b\b\b\b\b\b\b\b\b\b\b\b\b\b\b\b\b\b\b\b\b\b\b\b\b\b\b\b\b\b\b\r",
      "1077/1599 [===================>..........] - ETA: 2s - loss: nan - mean_squared_error: nan - mean_absolute_error: nan"
     ]
    },
    {
     "name": "stderr",
     "output_type": "stream",
     "text": [
      "WARNING:root:Batch exception[Errno 2] No such file or directory: 'C:/earthquake/one-stats-embedding/em_3361.dill'\n",
      "WARNING:root:Batch exception[Errno 2] No such file or directory: 'C:/earthquake/one-stats-embedding/em_19729.dill'\n",
      "WARNING:root:Batch exception[Errno 2] No such file or directory: 'C:/earthquake/one-stats-embedding/em_15649.dill'\n",
      "WARNING:root:Batch exception[Errno 2] No such file or directory: 'C:/earthquake/one-stats-embedding/em_14129.dill'\n",
      "WARNING:root:Batch exception[Errno 2] No such file or directory: 'C:/earthquake/one-stats-embedding/em_721.dill'\n",
      "WARNING:root:Batch exception[Errno 2] No such file or directory: 'C:/earthquake/one-stats-embedding/em_16225.dill'\n",
      "WARNING:root:Batch exception[Errno 2] No such file or directory: 'C:/earthquake/one-stats-embedding/em_2241.dill'\n",
      "WARNING:root:Batch exception[Errno 2] No such file or directory: 'C:/earthquake/one-stats-embedding/em_17761.dill'\n",
      "WARNING:root:Batch exception[Errno 2] No such file or directory: 'C:/earthquake/one-stats-embedding/em_7393.dill'\n",
      "WARNING:root:Batch exception[Errno 2] No such file or directory: 'C:/earthquake/one-stats-embedding/em_6545.dill'\n",
      "WARNING:root:Batch exception[Errno 2] No such file or directory: 'C:/earthquake/one-stats-embedding/em_4001.dill'\n"
     ]
    },
    {
     "name": "stdout",
     "output_type": "stream",
     "text": [
      "\b\b\b\b\b\b\b\b\b\b\b\b\b\b\b\b\b\b\b\b\b\b\b\b\b\b\b\b\b\b\b\b\b\b\b\b\b\b\b\b\b\b\b\b\b\b\b\b\b\b\b\b\b\b\b\b\b\b\b\b\b\b\b\b\b\b\b\b\b\b\b\b\b\b\b\b\b\b\b\b\b\b\b\b\b\b\b\b\b\b\b\b\b\b\b\b\b\b\b\b\b\b\b\b\b\b\b\b\b\b\b\b\b\b\b\b\b\r",
      "1088/1599 [===================>..........] - ETA: 2s - loss: nan - mean_squared_error: nan - mean_absolute_error: nan"
     ]
    },
    {
     "name": "stderr",
     "output_type": "stream",
     "text": [
      "WARNING:root:Batch exception[Errno 2] No such file or directory: 'C:/earthquake/one-stats-embedding/em_1185.dill'\n",
      "WARNING:root:Batch exception[Errno 2] No such file or directory: 'C:/earthquake/one-stats-embedding/em_25409.dill'\n",
      "WARNING:root:Batch exception[Errno 2] No such file or directory: 'C:/earthquake/one-stats-embedding/em_21009.dill'\n",
      "WARNING:root:Batch exception[Errno 2] No such file or directory: 'C:/earthquake/one-stats-embedding/em_13169.dill'\n",
      "WARNING:root:Batch exception[Errno 2] No such file or directory: 'C:/earthquake/one-stats-embedding/em_11329.dill'\n",
      "WARNING:root:Batch exception[Errno 2] No such file or directory: 'C:/earthquake/one-stats-embedding/em_2577.dill'\n",
      "WARNING:root:Batch exception[Errno 2] No such file or directory: 'C:/earthquake/one-stats-embedding/em_6273.dill'\n",
      "WARNING:root:Batch exception[Errno 2] No such file or directory: 'C:/earthquake/one-stats-embedding/em_4801.dill'\n",
      "WARNING:root:Batch exception[Errno 2] No such file or directory: 'C:/earthquake/one-stats-embedding/em_20577.dill'\n",
      "WARNING:root:Batch exception[Errno 2] No such file or directory: 'C:/earthquake/one-stats-embedding/em_13041.dill'\n"
     ]
    },
    {
     "name": "stdout",
     "output_type": "stream",
     "text": [
      "\b\b\b\b\b\b\b\b\b\b\b\b\b\b\b\b\b\b\b\b\b\b\b\b\b\b\b\b\b\b\b\b\b\b\b\b\b\b\b\b\b\b\b\b\b\b\b\b\b\b\b\b\b\b\b\b\b\b\b\b\b\b\b\b\b\b\b\b\b\b\b\b\b\b\b\b\b\b\b\b\b\b\b\b\b\b\b\b\b\b\b\b\b\b\b\b\b\b\b\b\b\b\b\b\b\b\b\b\b\b\b\b\b\b\b\b\b\r",
      "1099/1599 [===================>..........] - ETA: 2s - loss: nan - mean_squared_error: nan - mean_absolute_error: nan"
     ]
    },
    {
     "name": "stderr",
     "output_type": "stream",
     "text": [
      "WARNING:root:Batch exception[Errno 2] No such file or directory: 'C:/earthquake/one-stats-embedding/em_24289.dill'\n",
      "WARNING:root:Batch exception[Errno 2] No such file or directory: 'C:/earthquake/one-stats-embedding/em_2593.dill'\n",
      "WARNING:root:Batch exception[Errno 2] No such file or directory: 'C:/earthquake/one-stats-embedding/em_23825.dill'\n",
      "WARNING:root:Batch exception[Errno 2] No such file or directory: 'C:/earthquake/one-stats-embedding/em_2785.dill'\n",
      "WARNING:root:Batch exception[Errno 2] No such file or directory: 'C:/earthquake/one-stats-embedding/em_21537.dill'\n",
      "WARNING:root:Batch exception[Errno 2] No such file or directory: 'C:/earthquake/one-stats-embedding/em_4433.dill'\n",
      "WARNING:root:Batch exception[Errno 2] No such file or directory: 'C:/earthquake/one-stats-embedding/em_4593.dill'\n",
      "WARNING:root:Batch exception[Errno 2] No such file or directory: 'C:/earthquake/one-stats-embedding/em_20513.dill'\n",
      "WARNING:root:Batch exception[Errno 2] No such file or directory: 'C:/earthquake/one-stats-embedding/em_17969.dill'\n",
      "WARNING:root:Batch exception[Errno 2] No such file or directory: 'C:/earthquake/one-stats-embedding/em_10481.dill'\n",
      "WARNING:root:Batch exception[Errno 2] No such file or directory: 'C:/earthquake/one-stats-embedding/em_6289.dill'\n",
      "WARNING:root:Batch exception[Errno 2] No such file or directory: 'C:/earthquake/one-stats-embedding/em_20273.dill'\n"
     ]
    },
    {
     "name": "stdout",
     "output_type": "stream",
     "text": [
      "\b\b\b\b\b\b\b\b\b\b\b\b\b\b\b\b\b\b\b\b\b\b\b\b\b\b\b\b\b\b\b\b\b\b\b\b\b\b\b\b\b\b\b\b\b\b\b\b\b\b\b\b\b\b\b\b\b\b\b\b\b\b\b\b\b\b\b\b\b\b\b\b\b\b\b\b\b\b\b\b\b\b\b\b\b\b\b\b\b\b\b\b\b\b\b\b\b\b\b\b\b\b\b\b\b\b\b\b\b\b\b\b\b\b\b\b\b\r",
      "1111/1599 [===================>..........] - ETA: 2s - loss: nan - mean_squared_error: nan - mean_absolute_error: nan"
     ]
    },
    {
     "name": "stderr",
     "output_type": "stream",
     "text": [
      "WARNING:root:Batch exception[Errno 2] No such file or directory: 'C:/earthquake/one-stats-embedding/em_23873.dill'\n",
      "WARNING:root:Batch exception[Errno 2] No such file or directory: 'C:/earthquake/one-stats-embedding/em_2081.dill'\n",
      "WARNING:root:Batch exception[Errno 2] No such file or directory: 'C:/earthquake/one-stats-embedding/em_14113.dill'\n",
      "WARNING:root:Batch exception[Errno 2] No such file or directory: 'C:/earthquake/one-stats-embedding/em_1937.dill'\n",
      "WARNING:root:Batch exception[Errno 2] No such file or directory: 'C:/earthquake/one-stats-embedding/em_10561.dill'\n",
      "WARNING:root:Batch exception[Errno 2] No such file or directory: 'C:/earthquake/one-stats-embedding/em_12497.dill'\n",
      "WARNING:root:Batch exception[Errno 2] No such file or directory: 'C:/earthquake/one-stats-embedding/em_21489.dill'\n",
      "WARNING:root:Batch exception[Errno 2] No such file or directory: 'C:/earthquake/one-stats-embedding/em_961.dill'\n",
      "WARNING:root:Batch exception[Errno 2] No such file or directory: 'C:/earthquake/one-stats-embedding/em_18273.dill'\n",
      "WARNING:root:Batch exception[Errno 2] No such file or directory: 'C:/earthquake/one-stats-embedding/em_20193.dill'\n",
      "WARNING:root:Batch exception[Errno 2] No such file or directory: 'C:/earthquake/one-stats-embedding/em_6849.dill'\n"
     ]
    },
    {
     "name": "stdout",
     "output_type": "stream",
     "text": [
      "\b\b\b\b\b\b\b\b\b\b\b\b\b\b\b\b\b\b\b\b\b\b\b\b\b\b\b\b\b\b\b\b\b\b\b\b\b\b\b\b\b\b\b\b\b\b\b\b\b\b\b\b\b\b\b\b\b\b\b\b\b\b\b\b\b\b\b\b\b\b\b\b\b\b\b\b\b\b\b\b\b\b\b\b\b\b\b\b\b\b\b\b\b\b\b\b\b\b\b\b\b\b\b\b\b\b\b\b\b\b\b\b\b\b\b\b\b\r",
      "1123/1599 [====================>.........] - ETA: 2s - loss: nan - mean_squared_error: nan - mean_absolute_error: nan"
     ]
    },
    {
     "name": "stderr",
     "output_type": "stream",
     "text": [
      "WARNING:root:Batch exception[Errno 2] No such file or directory: 'C:/earthquake/one-stats-embedding/em_16497.dill'\n",
      "WARNING:root:Batch exception[Errno 2] No such file or directory: 'C:/earthquake/one-stats-embedding/em_24865.dill'\n",
      "WARNING:root:Batch exception[Errno 2] No such file or directory: 'C:/earthquake/one-stats-embedding/em_9905.dill'\n",
      "WARNING:root:Batch exception[Errno 2] No such file or directory: 'C:/earthquake/one-stats-embedding/em_17313.dill'\n",
      "WARNING:root:Batch exception[Errno 2] No such file or directory: 'C:/earthquake/one-stats-embedding/em_8865.dill'\n",
      "WARNING:root:Batch exception[Errno 2] No such file or directory: 'C:/earthquake/one-stats-embedding/em_13553.dill'\n",
      "WARNING:root:Batch exception[Errno 2] No such file or directory: 'C:/earthquake/one-stats-embedding/em_25281.dill'\n",
      "WARNING:root:Batch exception[Errno 2] No such file or directory: 'C:/earthquake/one-stats-embedding/em_11089.dill'\n",
      "WARNING:root:Batch exception[Errno 2] No such file or directory: 'C:/earthquake/one-stats-embedding/em_481.dill'\n"
     ]
    },
    {
     "name": "stdout",
     "output_type": "stream",
     "text": [
      "\b\b\b\b\b\b\b\b\b\b\b\b\b\b\b\b\b\b\b\b\b\b\b\b\b\b\b\b\b\b\b\b\b\b\b\b\b\b\b\b\b\b\b\b\b\b\b\b\b\b\b\b\b\b\b\b\b\b\b\b\b\b\b\b\b\b\b\b\b\b\b\b\b\b\b\b\b\b\b\b\b\b\b\b\b\b\b\b\b\b\b\b\b\b\b\b\b\b\b\b\b\b\b\b\b\b\b\b\b\b\b\b\b\b\b\b\b\r",
      "1132/1599 [====================>.........] - ETA: 2s - loss: nan - mean_squared_error: nan - mean_absolute_error: nan"
     ]
    },
    {
     "name": "stderr",
     "output_type": "stream",
     "text": [
      "WARNING:root:Batch exception[Errno 2] No such file or directory: 'C:/earthquake/one-stats-embedding/em_8305.dill'\n",
      "WARNING:root:Batch exception[Errno 2] No such file or directory: 'C:/earthquake/one-stats-embedding/em_18689.dill'\n",
      "WARNING:root:Batch exception[Errno 2] No such file or directory: 'C:/earthquake/one-stats-embedding/em_4961.dill'\n",
      "WARNING:root:Batch exception[Errno 2] No such file or directory: 'C:/earthquake/one-stats-embedding/em_8049.dill'\n",
      "WARNING:root:Batch exception[Errno 2] No such file or directory: 'C:/earthquake/one-stats-embedding/em_22305.dill'\n",
      "WARNING:root:Batch exception[Errno 2] No such file or directory: 'C:/earthquake/one-stats-embedding/em_11505.dill'\n",
      "WARNING:root:Batch exception[Errno 2] No such file or directory: 'C:/earthquake/one-stats-embedding/em_21809.dill'\n",
      "WARNING:root:Batch exception[Errno 2] No such file or directory: 'C:/earthquake/one-stats-embedding/em_9681.dill'\n",
      "WARNING:root:Batch exception[Errno 2] No such file or directory: 'C:/earthquake/one-stats-embedding/em_9233.dill'\n"
     ]
    },
    {
     "name": "stdout",
     "output_type": "stream",
     "text": [
      "\b\b\b\b\b\b\b\b\b\b\b\b\b\b\b\b\b\b\b\b\b\b\b\b\b\b\b\b\b\b\b\b\b\b\b\b\b\b\b\b\b\b\b\b\b\b\b\b\b\b\b\b\b\b\b\b\b\b\b\b\b\b\b\b\b\b\b\b\b\b\b\b\b\b\b\b\b\b\b\b\b\b\b\b\b\b\b\b\b\b\b\b\b\b\b\b\b\b\b\b\b\b\b\b\b\b\b\b\b\b\b\b\b\b\b\b\b\r",
      "1141/1599 [====================>.........] - ETA: 2s - loss: nan - mean_squared_error: nan - mean_absolute_error: nan"
     ]
    },
    {
     "name": "stderr",
     "output_type": "stream",
     "text": [
      "WARNING:root:Batch exception[Errno 2] No such file or directory: 'C:/earthquake/one-stats-embedding/em_13281.dill'\n",
      "WARNING:root:Batch exception[Errno 2] No such file or directory: 'C:/earthquake/one-stats-embedding/em_11889.dill'\n",
      "WARNING:root:Batch exception[Errno 2] No such file or directory: 'C:/earthquake/one-stats-embedding/em_11377.dill'\n",
      "WARNING:root:Batch exception[Errno 2] No such file or directory: 'C:/earthquake/one-stats-embedding/em_4017.dill'\n",
      "WARNING:root:Batch exception[Errno 2] No such file or directory: 'C:/earthquake/one-stats-embedding/em_14321.dill'\n",
      "WARNING:root:Batch exception[Errno 2] No such file or directory: 'C:/earthquake/one-stats-embedding/em_7041.dill'\n",
      "WARNING:root:Batch exception[Errno 2] No such file or directory: 'C:/earthquake/one-stats-embedding/em_8945.dill'\n",
      "WARNING:root:Batch exception[Errno 2] No such file or directory: 'C:/earthquake/one-stats-embedding/em_3633.dill'\n"
     ]
    },
    {
     "name": "stdout",
     "output_type": "stream",
     "text": [
      "\b\b\b\b\b\b\b\b\b\b\b\b\b\b\b\b\b\b\b\b\b\b\b\b\b\b\b\b\b\b\b\b\b\b\b\b\b\b\b\b\b\b\b\b\b\b\b\b\b\b\b\b\b\b\b\b\b\b\b\b\b\b\b\b\b\b\b\b\b\b\b\b\b\b\b\b\b\b\b\b\b\b\b\b\b\b\b\b\b\b\b\b\b\b\b\b\b\b\b\b\b\b\b\b\b\b\b\b\b\b\b\b\b\b\b\b\b\r",
      "1150/1599 [====================>.........] - ETA: 2s - loss: nan - mean_squared_error: nan - mean_absolute_error: nan"
     ]
    },
    {
     "name": "stderr",
     "output_type": "stream",
     "text": [
      "WARNING:root:Batch exception[Errno 2] No such file or directory: 'C:/earthquake/one-stats-embedding/em_22241.dill'\n",
      "WARNING:root:Batch exception[Errno 2] No such file or directory: 'C:/earthquake/one-stats-embedding/em_15121.dill'\n",
      "WARNING:root:Batch exception[Errno 2] No such file or directory: 'C:/earthquake/one-stats-embedding/em_14209.dill'\n",
      "WARNING:root:Batch exception[Errno 2] No such file or directory: 'C:/earthquake/one-stats-embedding/em_6497.dill'\n",
      "WARNING:root:Batch exception[Errno 2] No such file or directory: 'C:/earthquake/one-stats-embedding/em_7761.dill'\n",
      "WARNING:root:Batch exception[Errno 2] No such file or directory: 'C:/earthquake/one-stats-embedding/em_21313.dill'\n",
      "WARNING:root:Batch exception[Errno 2] No such file or directory: 'C:/earthquake/one-stats-embedding/em_17441.dill'\n",
      "WARNING:root:Batch exception[Errno 2] No such file or directory: 'C:/earthquake/one-stats-embedding/em_15505.dill'\n"
     ]
    },
    {
     "name": "stdout",
     "output_type": "stream",
     "text": [
      "\b\b\b\b\b\b\b\b\b\b\b\b\b\b\b\b\b\b\b\b\b\b\b\b\b\b\b\b\b\b\b\b\b\b\b\b\b\b\b\b\b\b\b\b\b\b\b\b\b\b\b\b\b\b\b\b\b\b\b\b\b\b\b\b\b\b\b\b\b\b\b\b\b\b\b\b\b\b\b\b\b\b\b\b\b\b\b\b\b\b\b\b\b\b\b\b\b\b\b\b\b\b\b\b\b\b\b\b\b\b\b\b\b\b\b\b\b\r",
      "1159/1599 [====================>.........] - ETA: 2s - loss: nan - mean_squared_error: nan - mean_absolute_error: nan"
     ]
    },
    {
     "name": "stderr",
     "output_type": "stream",
     "text": [
      "WARNING:root:Batch exception[Errno 2] No such file or directory: 'C:/earthquake/one-stats-embedding/em_15953.dill'\n",
      "WARNING:root:Batch exception[Errno 2] No such file or directory: 'C:/earthquake/one-stats-embedding/em_21777.dill'\n",
      "WARNING:root:Batch exception[Errno 2] No such file or directory: 'C:/earthquake/one-stats-embedding/em_17297.dill'\n",
      "WARNING:root:Batch exception[Errno 2] No such file or directory: 'C:/earthquake/one-stats-embedding/em_8641.dill'\n",
      "WARNING:root:Batch exception[Errno 2] No such file or directory: 'C:/earthquake/one-stats-embedding/em_23793.dill'\n",
      "WARNING:root:Batch exception[Errno 2] No such file or directory: 'C:/earthquake/one-stats-embedding/em_8001.dill'\n",
      "WARNING:root:Batch exception[Errno 2] No such file or directory: 'C:/earthquake/one-stats-embedding/em_3073.dill'\n",
      "WARNING:root:Batch exception[Errno 2] No such file or directory: 'C:/earthquake/one-stats-embedding/em_12481.dill'\n",
      "WARNING:root:Batch exception[Errno 2] No such file or directory: 'C:/earthquake/one-stats-embedding/em_22321.dill'\n",
      "WARNING:root:Batch exception[Errno 2] No such file or directory: 'C:/earthquake/one-stats-embedding/em_4993.dill'\n",
      "WARNING:root:Batch exception[Errno 2] No such file or directory: 'C:/earthquake/one-stats-embedding/em_20785.dill'\n"
     ]
    },
    {
     "name": "stdout",
     "output_type": "stream",
     "text": [
      "\b\b\b\b\b\b\b\b\b\b\b\b\b\b\b\b\b\b\b\b\b\b\b\b\b\b\b\b\b\b\b\b\b\b\b\b\b\b\b\b\b\b\b\b\b\b\b\b\b\b\b\b\b\b\b\b\b\b\b\b\b\b\b\b\b\b\b\b\b\b\b\b\b\b\b\b\b\b\b\b\b\b\b\b\b\b\b\b\b\b\b\b\b\b\b\b\b\b\b\b\b\b\b\b\b\b\b\b\b\b\b\b\b\b\b\b\b\r",
      "1170/1599 [====================>.........] - ETA: 2s - loss: nan - mean_squared_error: nan - mean_absolute_error: nan"
     ]
    },
    {
     "name": "stderr",
     "output_type": "stream",
     "text": [
      "WARNING:root:Batch exception[Errno 2] No such file or directory: 'C:/earthquake/one-stats-embedding/em_15889.dill'\n",
      "WARNING:root:Batch exception[Errno 2] No such file or directory: 'C:/earthquake/one-stats-embedding/em_9185.dill'\n",
      "WARNING:root:Batch exception[Errno 2] No such file or directory: 'C:/earthquake/one-stats-embedding/em_24145.dill'\n",
      "WARNING:root:Batch exception[Errno 2] No such file or directory: 'C:/earthquake/one-stats-embedding/em_25025.dill'\n",
      "WARNING:root:Batch exception[Errno 2] No such file or directory: 'C:/earthquake/one-stats-embedding/em_19089.dill'\n",
      "WARNING:root:Batch exception[Errno 2] No such file or directory: 'C:/earthquake/one-stats-embedding/em_5793.dill'\n",
      "WARNING:root:Batch exception[Errno 2] No such file or directory: 'C:/earthquake/one-stats-embedding/em_20625.dill'\n",
      "WARNING:root:Batch exception[Errno 2] No such file or directory: 'C:/earthquake/one-stats-embedding/em_14705.dill'\n",
      "WARNING:root:Batch exception[Errno 2] No such file or directory: 'C:/earthquake/one-stats-embedding/em_8561.dill'\n",
      "WARNING:root:Batch exception[Errno 2] No such file or directory: 'C:/earthquake/one-stats-embedding/em_13121.dill'\n",
      "WARNING:root:Batch exception[Errno 2] No such file or directory: 'C:/earthquake/one-stats-embedding/em_21921.dill'\n"
     ]
    },
    {
     "name": "stdout",
     "output_type": "stream",
     "text": [
      "\b\b\b\b\b\b\b\b\b\b\b\b\b\b\b\b\b\b\b\b\b\b\b\b\b\b\b\b\b\b\b\b\b\b\b\b\b\b\b\b\b\b\b\b\b\b\b\b\b\b\b\b\b\b\b\b\b\b\b\b\b\b\b\b\b\b\b\b\b\b\b\b\b\b\b\b\b\b\b\b\b\b\b\b\b\b\b\b\b\b\b\b\b\b\b\b\b\b\b\b\b\b\b\b\b\b\b\b\b\b\b\b\b\b\b\b\b\r",
      "1181/1599 [=====================>........] - ETA: 2s - loss: nan - mean_squared_error: nan - mean_absolute_error: nan"
     ]
    },
    {
     "name": "stderr",
     "output_type": "stream",
     "text": [
      "WARNING:root:Batch exception[Errno 2] No such file or directory: 'C:/earthquake/one-stats-embedding/em_11217.dill'\n",
      "WARNING:root:Batch exception[Errno 2] No such file or directory: 'C:/earthquake/one-stats-embedding/em_2529.dill'\n",
      "WARNING:root:Batch exception[Errno 2] No such file or directory: 'C:/earthquake/one-stats-embedding/em_5889.dill'\n",
      "WARNING:root:Batch exception[Errno 2] No such file or directory: 'C:/earthquake/one-stats-embedding/em_20369.dill'\n",
      "WARNING:root:Batch exception[Errno 2] No such file or directory: 'C:/earthquake/one-stats-embedding/em_3937.dill'\n",
      "WARNING:root:Batch exception[Errno 2] No such file or directory: 'C:/earthquake/one-stats-embedding/em_13697.dill'\n",
      "WARNING:root:Batch exception[Errno 2] No such file or directory: 'C:/earthquake/one-stats-embedding/em_10001.dill'\n",
      "WARNING:root:Batch exception[Errno 2] No such file or directory: 'C:/earthquake/one-stats-embedding/em_7185.dill'\n",
      "WARNING:root:Batch exception[Errno 2] No such file or directory: 'C:/earthquake/one-stats-embedding/em_9729.dill'\n",
      "WARNING:root:Batch exception[Errno 2] No such file or directory: 'C:/earthquake/one-stats-embedding/em_12081.dill'\n",
      "WARNING:root:Batch exception[Errno 2] No such file or directory: 'C:/earthquake/one-stats-embedding/em_833.dill'\n"
     ]
    },
    {
     "name": "stdout",
     "output_type": "stream",
     "text": [
      "\b\b\b\b\b\b\b\b\b\b\b\b\b\b\b\b\b\b\b\b\b\b\b\b\b\b\b\b\b\b\b\b\b\b\b\b\b\b\b\b\b\b\b\b\b\b\b\b\b\b\b\b\b\b\b\b\b\b\b\b\b\b\b\b\b\b\b\b\b\b\b\b\b\b\b\b\b\b\b\b\b\b\b\b\b\b\b\b\b\b\b\b\b\b\b\b\b\b\b\b\b\b\b\b\b\b\b\b\b\b\b\b\b\b\b\b\b\r",
      "1192/1599 [=====================>........] - ETA: 1s - loss: nan - mean_squared_error: nan - mean_absolute_error: nan"
     ]
    },
    {
     "name": "stderr",
     "output_type": "stream",
     "text": [
      "WARNING:root:Batch exception[Errno 2] No such file or directory: 'C:/earthquake/one-stats-embedding/em_4737.dill'\n",
      "WARNING:root:Batch exception[Errno 2] No such file or directory: 'C:/earthquake/one-stats-embedding/em_8753.dill'\n",
      "WARNING:root:Batch exception[Errno 2] No such file or directory: 'C:/earthquake/one-stats-embedding/em_5905.dill'\n",
      "WARNING:root:Batch exception[Errno 2] No such file or directory: 'C:/earthquake/one-stats-embedding/em_433.dill'\n",
      "WARNING:root:Batch exception[Errno 2] No such file or directory: 'C:/earthquake/one-stats-embedding/em_20913.dill'\n",
      "WARNING:root:Batch exception[Errno 2] No such file or directory: 'C:/earthquake/one-stats-embedding/em_21249.dill'\n",
      "WARNING:root:Batch exception[Errno 2] No such file or directory: 'C:/earthquake/one-stats-embedding/em_15265.dill'\n",
      "WARNING:root:Batch exception[Errno 2] No such file or directory: 'C:/earthquake/one-stats-embedding/em_4577.dill'\n",
      "WARNING:root:Batch exception[Errno 2] No such file or directory: 'C:/earthquake/one-stats-embedding/em_17857.dill'\n",
      "WARNING:root:Batch exception[Errno 2] No such file or directory: 'C:/earthquake/one-stats-embedding/em_20065.dill'\n",
      "WARNING:root:Batch exception[Errno 2] No such file or directory: 'C:/earthquake/one-stats-embedding/em_9425.dill'\n"
     ]
    },
    {
     "name": "stdout",
     "output_type": "stream",
     "text": [
      "\b\b\b\b\b\b\b\b\b\b\b\b\b\b\b\b\b\b\b\b\b\b\b\b\b\b\b\b\b\b\b\b\b\b\b\b\b\b\b\b\b\b\b\b\b\b\b\b\b\b\b\b\b\b\b\b\b\b\b\b\b\b\b\b\b\b\b\b\b\b\b\b\b\b\b\b\b\b\b\b\b\b\b\b\b\b\b\b\b\b\b\b\b\b\b\b\b\b\b\b\b\b\b\b\b\b\b\b\b\b\b\b\b\b\b\b\b\r",
      "1203/1599 [=====================>........] - ETA: 1s - loss: nan - mean_squared_error: nan - mean_absolute_error: nan"
     ]
    },
    {
     "name": "stderr",
     "output_type": "stream",
     "text": [
      "WARNING:root:Batch exception[Errno 2] No such file or directory: 'C:/earthquake/one-stats-embedding/em_21201.dill'\n",
      "WARNING:root:Batch exception[Errno 2] No such file or directory: 'C:/earthquake/one-stats-embedding/em_23617.dill'\n",
      "WARNING:root:Batch exception[Errno 2] No such file or directory: 'C:/earthquake/one-stats-embedding/em_2097.dill'\n",
      "WARNING:root:Batch exception[Errno 2] No such file or directory: 'C:/earthquake/one-stats-embedding/em_11633.dill'\n",
      "WARNING:root:Batch exception[Errno 2] No such file or directory: 'C:/earthquake/one-stats-embedding/em_16305.dill'\n",
      "WARNING:root:Batch exception[Errno 2] No such file or directory: 'C:/earthquake/one-stats-embedding/em_22449.dill'\n",
      "WARNING:root:Batch exception[Errno 2] No such file or directory: 'C:/earthquake/one-stats-embedding/em_14081.dill'\n",
      "WARNING:root:Batch exception[Errno 2] No such file or directory: 'C:/earthquake/one-stats-embedding/em_7937.dill'\n",
      "WARNING:root:Batch exception[Errno 2] No such file or directory: 'C:/earthquake/one-stats-embedding/em_25473.dill'\n"
     ]
    },
    {
     "name": "stdout",
     "output_type": "stream",
     "text": [
      "\b\b\b\b\b\b\b\b\b\b\b\b\b\b\b\b\b\b\b\b\b\b\b\b\b\b\b\b\b\b\b\b\b\b\b\b\b\b\b\b\b\b\b\b\b\b\b\b\b\b\b\b\b\b\b\b\b\b\b\b\b\b\b\b\b\b\b\b\b\b\b\b\b\b\b\b\b\b\b\b\b\b\b\b\b\b\b\b\b\b\b\b\b\b\b\b\b\b\b\b\b\b\b\b\b\b\b\b\b\b\b\b\b\b\b\b\b\r",
      "1213/1599 [=====================>........] - ETA: 1s - loss: nan - mean_squared_error: nan - mean_absolute_error: nan"
     ]
    },
    {
     "name": "stderr",
     "output_type": "stream",
     "text": [
      "WARNING:root:Batch exception[Errno 2] No such file or directory: 'C:/earthquake/one-stats-embedding/em_11665.dill'\n",
      "WARNING:root:Batch exception[Errno 2] No such file or directory: 'C:/earthquake/one-stats-embedding/em_17537.dill'\n",
      "WARNING:root:Batch exception[Errno 2] No such file or directory: 'C:/earthquake/one-stats-embedding/em_561.dill'\n",
      "WARNING:root:Batch exception[Errno 2] No such file or directory: 'C:/earthquake/one-stats-embedding/em_2561.dill'\n",
      "WARNING:root:Batch exception[Errno 2] No such file or directory: 'C:/earthquake/one-stats-embedding/em_3905.dill'\n",
      "WARNING:root:Batch exception[Errno 2] No such file or directory: 'C:/earthquake/one-stats-embedding/em_19969.dill'\n",
      "WARNING:root:Batch exception[Errno 2] No such file or directory: 'C:/earthquake/one-stats-embedding/em_11697.dill'\n",
      "WARNING:root:Batch exception[Errno 2] No such file or directory: 'C:/earthquake/one-stats-embedding/em_16993.dill'\n",
      "WARNING:root:Batch exception[Errno 2] No such file or directory: 'C:/earthquake/one-stats-embedding/em_22561.dill'\n",
      "WARNING:root:Batch exception[Errno 2] No such file or directory: 'C:/earthquake/one-stats-embedding/em_7425.dill'\n",
      "WARNING:root:Batch exception[Errno 2] No such file or directory: 'C:/earthquake/one-stats-embedding/em_10801.dill'\n"
     ]
    },
    {
     "name": "stdout",
     "output_type": "stream",
     "text": [
      "\b\b\b\b\b\b\b\b\b\b\b\b\b\b\b\b\b\b\b\b\b\b\b\b\b\b\b\b\b\b\b\b\b\b\b\b\b\b\b\b\b\b\b\b\b\b\b\b\b\b\b\b\b\b\b\b\b\b\b\b\b\b\b\b\b\b\b\b\b\b\b\b\b\b\b\b\b\b\b\b\b\b\b\b\b\b\b\b\b\b\b\b\b\b\b\b\b\b\b\b\b\b\b\b\b\b\b\b\b\b\b\b\b\b\b\b\b\r",
      "1224/1599 [=====================>........] - ETA: 1s - loss: nan - mean_squared_error: nan - mean_absolute_error: nan"
     ]
    },
    {
     "name": "stderr",
     "output_type": "stream",
     "text": [
      "WARNING:root:Batch exception[Errno 2] No such file or directory: 'C:/earthquake/one-stats-embedding/em_19665.dill'\n",
      "WARNING:root:Batch exception[Errno 2] No such file or directory: 'C:/earthquake/one-stats-embedding/em_24513.dill'\n",
      "WARNING:root:Batch exception[Errno 2] No such file or directory: 'C:/earthquake/one-stats-embedding/em_24593.dill'\n",
      "WARNING:root:Batch exception[Errno 2] No such file or directory: 'C:/earthquake/one-stats-embedding/em_11249.dill'\n",
      "WARNING:root:Batch exception[Errno 2] No such file or directory: 'C:/earthquake/one-stats-embedding/em_19825.dill'\n",
      "WARNING:root:Batch exception[Errno 2] No such file or directory: 'C:/earthquake/one-stats-embedding/em_7057.dill'\n",
      "WARNING:root:Batch exception[Errno 2] No such file or directory: 'C:/earthquake/one-stats-embedding/em_22865.dill'\n",
      "WARNING:root:Batch exception[Errno 2] No such file or directory: 'C:/earthquake/one-stats-embedding/em_13313.dill'\n",
      "WARNING:root:Batch exception[Errno 2] No such file or directory: 'C:/earthquake/one-stats-embedding/em_9697.dill'\n",
      "WARNING:root:Batch exception[Errno 2] No such file or directory: 'C:/earthquake/one-stats-embedding/em_22961.dill'\n"
     ]
    },
    {
     "name": "stdout",
     "output_type": "stream",
     "text": [
      "\b\b\b\b\b\b\b\b\b\b\b\b\b\b\b\b\b\b\b\b\b\b\b\b\b\b\b\b\b\b\b\b\b\b\b\b\b\b\b\b\b\b\b\b\b\b\b\b\b\b\b\b\b\b\b\b\b\b\b\b\b\b\b\b\b\b\b\b\b\b\b\b\b\b\b\b\b\b\b\b\b\b\b\b\b\b\b\b\b\b\b\b\b\b\b\b\b\b\b\b\b\b\b\b\b\b\b\b\b\b\b\b\b\b\b\b\b\r",
      "1234/1599 [======================>.......] - ETA: 1s - loss: nan - mean_squared_error: nan - mean_absolute_error: nan"
     ]
    },
    {
     "name": "stderr",
     "output_type": "stream",
     "text": [
      "WARNING:root:Batch exception[Errno 2] No such file or directory: 'C:/earthquake/one-stats-embedding/em_25137.dill'\n",
      "WARNING:root:Batch exception[Errno 2] No such file or directory: 'C:/earthquake/one-stats-embedding/em_5633.dill'\n",
      "WARNING:root:Batch exception[Errno 2] No such file or directory: 'C:/earthquake/one-stats-embedding/em_17793.dill'\n",
      "WARNING:root:Batch exception[Errno 2] No such file or directory: 'C:/earthquake/one-stats-embedding/em_16065.dill'\n",
      "WARNING:root:Batch exception[Errno 2] No such file or directory: 'C:/earthquake/one-stats-embedding/em_11489.dill'\n",
      "WARNING:root:Batch exception[Errno 2] No such file or directory: 'C:/earthquake/one-stats-embedding/em_21409.dill'\n",
      "WARNING:root:Batch exception[Errno 2] No such file or directory: 'C:/earthquake/one-stats-embedding/em_11601.dill'\n",
      "WARNING:root:Batch exception[Errno 2] No such file or directory: 'C:/earthquake/one-stats-embedding/em_5041.dill'\n",
      "WARNING:root:Batch exception[Errno 2] No such file or directory: 'C:/earthquake/one-stats-embedding/em_23889.dill'\n",
      "WARNING:root:Batch exception[Errno 2] No such file or directory: 'C:/earthquake/one-stats-embedding/em_9585.dill'\n",
      "WARNING:root:Batch exception[Errno 2] No such file or directory: 'C:/earthquake/one-stats-embedding/em_10065.dill'\n",
      "WARNING:root:Batch exception[Errno 2] No such file or directory: 'C:/earthquake/one-stats-embedding/em_10177.dill'\n"
     ]
    },
    {
     "name": "stdout",
     "output_type": "stream",
     "text": [
      "\b\b\b\b\b\b\b\b\b\b\b\b\b\b\b\b\b\b\b\b\b\b\b\b\b\b\b\b\b\b\b\b\b\b\b\b\b\b\b\b\b\b\b\b\b\b\b\b\b\b\b\b\b\b\b\b\b\b\b\b\b\b\b\b\b\b\b\b\b\b\b\b\b\b\b\b\b\b\b\b\b\b\b\b\b\b\b\b\b\b\b\b\b\b\b\b\b\b\b\b\b\b\b\b\b\b\b\b\b\b\b\b\b\b\b\b\b\r",
      "1246/1599 [======================>.......] - ETA: 1s - loss: nan - mean_squared_error: nan - mean_absolute_error: nan"
     ]
    },
    {
     "name": "stderr",
     "output_type": "stream",
     "text": [
      "WARNING:root:Batch exception[Errno 2] No such file or directory: 'C:/earthquake/one-stats-embedding/em_10225.dill'\n",
      "WARNING:root:Batch exception[Errno 2] No such file or directory: 'C:/earthquake/one-stats-embedding/em_18337.dill'\n",
      "WARNING:root:Batch exception[Errno 2] No such file or directory: 'C:/earthquake/one-stats-embedding/em_22017.dill'\n",
      "WARNING:root:Batch exception[Errno 2] No such file or directory: 'C:/earthquake/one-stats-embedding/em_12545.dill'\n",
      "WARNING:root:Batch exception[Errno 2] No such file or directory: 'C:/earthquake/one-stats-embedding/em_24321.dill'\n",
      "WARNING:root:Batch exception[Errno 2] No such file or directory: 'C:/earthquake/one-stats-embedding/em_14033.dill'\n",
      "WARNING:root:Batch exception[Errno 2] No such file or directory: 'C:/earthquake/one-stats-embedding/em_5937.dill'\n",
      "WARNING:root:Batch exception[Errno 2] No such file or directory: 'C:/earthquake/one-stats-embedding/em_17777.dill'\n",
      "WARNING:root:Batch exception[Errno 2] No such file or directory: 'C:/earthquake/one-stats-embedding/em_7825.dill'\n",
      "WARNING:root:Batch exception[Errno 2] No such file or directory: 'C:/earthquake/one-stats-embedding/em_11921.dill'\n",
      "WARNING:root:Batch exception[Errno 2] No such file or directory: 'C:/earthquake/one-stats-embedding/em_12961.dill'\n"
     ]
    },
    {
     "name": "stdout",
     "output_type": "stream",
     "text": [
      "\b\b\b\b\b\b\b\b\b\b\b\b\b\b\b\b\b\b\b\b\b\b\b\b\b\b\b\b\b\b\b\b\b\b\b\b\b\b\b\b\b\b\b\b\b\b\b\b\b\b\b\b\b\b\b\b\b\b\b\b\b\b\b\b\b\b\b\b\b\b\b\b\b\b\b\b\b\b\b\b\b\b\b\b\b\b\b\b\b\b\b\b\b\b\b\b\b\b\b\b\b\b\b\b\b\b\b\b\b\b\b\b\b\b\b\b\b\r",
      "1257/1599 [======================>.......] - ETA: 1s - loss: nan - mean_squared_error: nan - mean_absolute_error: nan"
     ]
    },
    {
     "name": "stderr",
     "output_type": "stream",
     "text": [
      "WARNING:root:Batch exception[Errno 2] No such file or directory: 'C:/earthquake/one-stats-embedding/em_5777.dill'\n",
      "WARNING:root:Batch exception[Errno 2] No such file or directory: 'C:/earthquake/one-stats-embedding/em_8545.dill'\n",
      "WARNING:root:Batch exception[Errno 2] No such file or directory: 'C:/earthquake/one-stats-embedding/em_22641.dill'\n",
      "WARNING:root:Batch exception[Errno 2] No such file or directory: 'C:/earthquake/one-stats-embedding/em_17169.dill'\n",
      "WARNING:root:Batch exception[Errno 2] No such file or directory: 'C:/earthquake/one-stats-embedding/em_16017.dill'\n",
      "WARNING:root:Batch exception[Errno 2] No such file or directory: 'C:/earthquake/one-stats-embedding/em_2305.dill'\n",
      "WARNING:root:Batch exception[Errno 2] No such file or directory: 'C:/earthquake/one-stats-embedding/em_5137.dill'\n",
      "WARNING:root:Batch exception[Errno 2] No such file or directory: 'C:/earthquake/one-stats-embedding/em_18113.dill'\n",
      "WARNING:root:Batch exception[Errno 2] No such file or directory: 'C:/earthquake/one-stats-embedding/em_10401.dill'\n",
      "WARNING:root:Batch exception[Errno 2] No such file or directory: 'C:/earthquake/one-stats-embedding/em_24481.dill'\n"
     ]
    },
    {
     "name": "stdout",
     "output_type": "stream",
     "text": [
      "\b\b\b\b\b\b\b\b\b\b\b\b\b\b\b\b\b\b\b\b\b\b\b\b\b\b\b\b\b\b\b\b\b\b\b\b\b\b\b\b\b\b\b\b\b\b\b\b\b\b\b\b\b\b\b\b\b\b\b\b\b\b\b\b\b\b\b\b\b\b\b\b\b\b\b\b\b\b\b\b\b\b\b\b\b\b\b\b\b\b\b\b\b\b\b\b\b\b\b\b\b\b\b\b\b\b\b\b\b\b\b\b\b\b\b\b\b\r",
      "1267/1599 [======================>.......] - ETA: 1s - loss: nan - mean_squared_error: nan - mean_absolute_error: nan"
     ]
    },
    {
     "name": "stderr",
     "output_type": "stream",
     "text": [
      "WARNING:root:Batch exception[Errno 2] No such file or directory: 'C:/earthquake/one-stats-embedding/em_20465.dill'\n",
      "WARNING:root:Batch exception[Errno 2] No such file or directory: 'C:/earthquake/one-stats-embedding/em_13521.dill'\n",
      "WARNING:root:Batch exception[Errno 2] No such file or directory: 'C:/earthquake/one-stats-embedding/em_9313.dill'\n",
      "WARNING:root:Batch exception[Errno 2] No such file or directory: 'C:/earthquake/one-stats-embedding/em_17601.dill'\n",
      "WARNING:root:Batch exception[Errno 2] No such file or directory: 'C:/earthquake/one-stats-embedding/em_18609.dill'\n",
      "WARNING:root:Batch exception[Errno 2] No such file or directory: 'C:/earthquake/one-stats-embedding/em_2497.dill'\n",
      "WARNING:root:Batch exception[Errno 2] No such file or directory: 'C:/earthquake/one-stats-embedding/em_25441.dill'\n",
      "WARNING:root:Batch exception[Errno 2] No such file or directory: 'C:/earthquake/one-stats-embedding/em_10897.dill'\n",
      "WARNING:root:Batch exception[Errno 2] No such file or directory: 'C:/earthquake/one-stats-embedding/em_14673.dill'\n",
      "WARNING:root:Batch exception[Errno 2] No such file or directory: 'C:/earthquake/one-stats-embedding/em_10241.dill'\n",
      "WARNING:root:Batch exception[Errno 2] No such file or directory: 'C:/earthquake/one-stats-embedding/em_14721.dill'\n",
      "WARNING:root:Batch exception[Errno 2] No such file or directory: 'C:/earthquake/one-stats-embedding/em_20961.dill'\n"
     ]
    },
    {
     "name": "stdout",
     "output_type": "stream",
     "text": [
      "\b\b\b\b\b\b\b\b\b\b\b\b\b\b\b\b\b\b\b\b\b\b\b\b\b\b\b\b\b\b\b\b\b\b\b\b\b\b\b\b\b\b\b\b\b\b\b\b\b\b\b\b\b\b\b\b\b\b\b\b\b\b\b\b\b\b\b\b\b\b\b\b\b\b\b\b\b\b\b\b\b\b\b\b\b\b\b\b\b\b\b\b\b\b\b\b\b\b\b\b\b\b\b\b\b\b\b\b\b\b\b\b\b\b\b\b\b\r",
      "1279/1599 [======================>.......] - ETA: 1s - loss: nan - mean_squared_error: nan - mean_absolute_error: nan"
     ]
    },
    {
     "name": "stderr",
     "output_type": "stream",
     "text": [
      "WARNING:root:Batch exception[Errno 2] No such file or directory: 'C:/earthquake/one-stats-embedding/em_9441.dill'\n",
      "WARNING:root:Batch exception[Errno 2] No such file or directory: 'C:/earthquake/one-stats-embedding/em_324.dill'\n",
      "WARNING:root:Batch exception[Errno 2] No such file or directory: 'C:/earthquake/one-stats-embedding/em_5921.dill'\n",
      "WARNING:root:Batch exception[Errno 2] No such file or directory: 'C:/earthquake/one-stats-embedding/em_14865.dill'\n",
      "WARNING:root:Batch exception[Errno 2] No such file or directory: 'C:/earthquake/one-stats-embedding/em_1873.dill'\n",
      "WARNING:root:Batch exception[Errno 2] No such file or directory: 'C:/earthquake/one-stats-embedding/em_18289.dill'\n",
      "WARNING:root:Batch exception[Errno 2] No such file or directory: 'C:/earthquake/one-stats-embedding/em_1745.dill'\n",
      "WARNING:root:Batch exception[Errno 2] No such file or directory: 'C:/earthquake/one-stats-embedding/em_7713.dill'\n",
      "WARNING:root:Batch exception[Errno 2] No such file or directory: 'C:/earthquake/one-stats-embedding/em_15809.dill'\n",
      "WARNING:root:Batch exception[Errno 2] No such file or directory: 'C:/earthquake/one-stats-embedding/em_8529.dill'\n",
      "WARNING:root:Batch exception[Errno 2] No such file or directory: 'C:/earthquake/one-stats-embedding/em_2961.dill'\n"
     ]
    },
    {
     "name": "stdout",
     "output_type": "stream",
     "text": [
      "\b\b\b\b\b\b\b\b\b\b\b\b\b\b\b\b\b\b\b\b\b\b\b\b\b\b\b\b\b\b\b\b\b\b\b\b\b\b\b\b\b\b\b\b\b\b\b\b\b\b\b\b\b\b\b\b\b\b\b\b\b\b\b\b\b\b\b\b\b\b\b\b\b\b\b\b\b\b\b\b\b\b\b\b\b\b\b\b\b\b\b\b\b\b\b\b\b\b\b\b\b\b\b\b\b\b\b\b\b\b\b\b\b\b\b\b\b\r",
      "1290/1599 [=======================>......] - ETA: 1s - loss: nan - mean_squared_error: nan - mean_absolute_error: nan"
     ]
    },
    {
     "name": "stderr",
     "output_type": "stream",
     "text": [
      "WARNING:root:Batch exception[Errno 2] No such file or directory: 'C:/earthquake/one-stats-embedding/em_15537.dill'\n",
      "WARNING:root:Batch exception[Errno 2] No such file or directory: 'C:/earthquake/one-stats-embedding/em_15489.dill'\n",
      "WARNING:root:Batch exception[Errno 2] No such file or directory: 'C:/earthquake/one-stats-embedding/em_7313.dill'\n",
      "WARNING:root:Batch exception[Errno 2] No such file or directory: 'C:/earthquake/one-stats-embedding/em_9713.dill'\n",
      "WARNING:root:Batch exception[Errno 2] No such file or directory: 'C:/earthquake/one-stats-embedding/em_19537.dill'\n",
      "WARNING:root:Batch exception[Errno 2] No such file or directory: 'C:/earthquake/one-stats-embedding/em_2033.dill'\n",
      "WARNING:root:Batch exception[Errno 2] No such file or directory: 'C:/earthquake/one-stats-embedding/em_9889.dill'\n",
      "WARNING:root:Batch exception[Errno 2] No such file or directory: 'C:/earthquake/one-stats-embedding/em_14161.dill'\n",
      "WARNING:root:Batch exception[Errno 2] No such file or directory: 'C:/earthquake/one-stats-embedding/em_25505.dill'\n",
      "WARNING:root:Batch exception[Errno 2] No such file or directory: 'C:/earthquake/one-stats-embedding/em_11809.dill'\n",
      "WARNING:root:Batch exception[Errno 2] No such file or directory: 'C:/earthquake/one-stats-embedding/em_1089.dill'\n",
      "WARNING:root:Batch exception[Errno 2] No such file or directory: 'C:/earthquake/one-stats-embedding/em_9937.dill'\n"
     ]
    },
    {
     "name": "stdout",
     "output_type": "stream",
     "text": [
      "\b\b\b\b\b\b\b\b\b\b\b\b\b\b\b\b\b\b\b\b\b\b\b\b\b\b\b\b\b\b\b\b\b\b\b\b\b\b\b\b\b\b\b\b\b\b\b\b\b\b\b\b\b\b\b\b\b\b\b\b\b\b\b\b\b\b\b\b\b\b\b\b\b\b\b\b\b\b\b\b\b\b\b\b\b\b\b\b\b\b\b\b\b\b\b\b\b\b\b\b\b\b\b\b\b\b\b\b\b\b\b\b\b\b\b\b\b\r",
      "1302/1599 [=======================>......] - ETA: 1s - loss: nan - mean_squared_error: nan - mean_absolute_error: nan"
     ]
    },
    {
     "name": "stderr",
     "output_type": "stream",
     "text": [
      "WARNING:root:Batch exception[Errno 2] No such file or directory: 'C:/earthquake/one-stats-embedding/em_12033.dill'\n",
      "WARNING:root:Batch exception[Errno 2] No such file or directory: 'C:/earthquake/one-stats-embedding/em_2657.dill'\n",
      "WARNING:root:Batch exception[Errno 2] No such file or directory: 'C:/earthquake/one-stats-embedding/em_20865.dill'\n",
      "WARNING:root:Batch exception[Errno 2] No such file or directory: 'C:/earthquake/one-stats-embedding/em_16961.dill'\n",
      "WARNING:root:Batch exception[Errno 2] No such file or directory: 'C:/earthquake/one-stats-embedding/em_7905.dill'\n",
      "WARNING:root:Batch exception[Errno 2] No such file or directory: 'C:/earthquake/one-stats-embedding/em_23761.dill'\n",
      "WARNING:root:Batch exception[Errno 2] No such file or directory: 'C:/earthquake/one-stats-embedding/em_24689.dill'\n",
      "WARNING:root:Batch exception[Errno 2] No such file or directory: 'C:/earthquake/one-stats-embedding/em_4161.dill'\n",
      "WARNING:root:Batch exception[Errno 2] No such file or directory: 'C:/earthquake/one-stats-embedding/em_17153.dill'\n",
      "WARNING:root:Batch exception[Errno 2] No such file or directory: 'C:/earthquake/one-stats-embedding/em_13329.dill'\n",
      "WARNING:root:Batch exception[Errno 2] No such file or directory: 'C:/earthquake/one-stats-embedding/em_22353.dill'\n"
     ]
    },
    {
     "name": "stdout",
     "output_type": "stream",
     "text": [
      "\b\b\b\b\b\b\b\b\b\b\b\b\b\b\b\b\b\b\b\b\b\b\b\b\b\b\b\b\b\b\b\b\b\b\b\b\b\b\b\b\b\b\b\b\b\b\b\b\b\b\b\b\b\b\b\b\b\b\b\b\b\b\b\b\b\b\b\b\b\b\b\b\b\b\b\b\b\b\b\b\b\b\b\b\b\b\b\b\b\b\b\b\b\b\b\b\b\b\b\b\b\b\b\b\b\b\b\b\b\b\b\b\b\b\b\b\b\r",
      "1313/1599 [=======================>......] - ETA: 1s - loss: nan - mean_squared_error: nan - mean_absolute_error: nan"
     ]
    },
    {
     "name": "stderr",
     "output_type": "stream",
     "text": [
      "WARNING:root:Batch exception[Errno 2] No such file or directory: 'C:/earthquake/one-stats-embedding/em_20945.dill'\n",
      "WARNING:root:Batch exception[Errno 2] No such file or directory: 'C:/earthquake/one-stats-embedding/em_24465.dill'\n",
      "WARNING:root:Batch exception[Errno 2] No such file or directory: 'C:/earthquake/one-stats-embedding/em_11041.dill'\n",
      "WARNING:root:Batch exception[Errno 2] No such file or directory: 'C:/earthquake/one-stats-embedding/em_20897.dill'\n",
      "WARNING:root:Batch exception[Errno 2] No such file or directory: 'C:/earthquake/one-stats-embedding/em_16657.dill'\n",
      "WARNING:root:Batch exception[Errno 2] No such file or directory: 'C:/earthquake/one-stats-embedding/em_369.dill'\n",
      "WARNING:root:Batch exception[Errno 2] No such file or directory: 'C:/earthquake/one-stats-embedding/em_4929.dill'\n",
      "WARNING:root:Batch exception[Errno 2] No such file or directory: 'C:/earthquake/one-stats-embedding/em_21873.dill'\n",
      "WARNING:root:Batch exception[Errno 2] No such file or directory: 'C:/earthquake/one-stats-embedding/em_1729.dill'\n"
     ]
    },
    {
     "name": "stdout",
     "output_type": "stream",
     "text": [
      "\b\b\b\b\b\b\b\b\b\b\b\b\b\b\b\b\b\b\b\b\b\b\b\b\b\b\b\b\b\b\b\b\b\b\b\b\b\b\b\b\b\b\b\b\b\b\b\b\b\b\b\b\b\b\b\b\b\b\b\b\b\b\b\b\b\b\b\b\b\b\b\b\b\b\b\b\b\b\b\b\b\b\b\b\b\b\b\b\b\b\b\b\b\b\b\b\b\b\b\b\b\b\b\b\b\b\b\b\b\b\b\b\b\b\b\b\b\r",
      "1323/1599 [=======================>......] - ETA: 1s - loss: nan - mean_squared_error: nan - mean_absolute_error: nan"
     ]
    },
    {
     "name": "stderr",
     "output_type": "stream",
     "text": [
      "WARNING:root:Batch exception[Errno 2] No such file or directory: 'C:/earthquake/one-stats-embedding/em_20337.dill'\n",
      "WARNING:root:Batch exception[Errno 2] No such file or directory: 'C:/earthquake/one-stats-embedding/em_14849.dill'\n",
      "WARNING:root:Batch exception[Errno 2] No such file or directory: 'C:/earthquake/one-stats-embedding/em_23585.dill'\n",
      "WARNING:root:Batch exception[Errno 2] No such file or directory: 'C:/earthquake/one-stats-embedding/em_21073.dill'\n",
      "WARNING:root:Batch exception[Errno 2] No such file or directory: 'C:/earthquake/one-stats-embedding/em_1265.dill'\n",
      "WARNING:root:Batch exception[Errno 2] No such file or directory: 'C:/earthquake/one-stats-embedding/em_22481.dill'\n",
      "WARNING:root:Batch exception[Errno 2] No such file or directory: 'C:/earthquake/one-stats-embedding/em_6401.dill'\n",
      "WARNING:root:Batch exception[Errno 2] No such file or directory: 'C:/earthquake/one-stats-embedding/em_5537.dill'\n",
      "WARNING:root:Batch exception[Errno 2] No such file or directory: 'C:/earthquake/one-stats-embedding/em_6353.dill'\n",
      "WARNING:root:Batch exception[Errno 2] No such file or directory: 'C:/earthquake/one-stats-embedding/em_24273.dill'\n",
      "WARNING:root:Batch exception[Errno 2] No such file or directory: 'C:/earthquake/one-stats-embedding/em_23969.dill'\n"
     ]
    },
    {
     "name": "stdout",
     "output_type": "stream",
     "text": [
      "\b\b\b\b\b\b\b\b\b\b\b\b\b\b\b\b\b\b\b\b\b\b\b\b\b\b\b\b\b\b\b\b\b\b\b\b\b\b\b\b\b\b\b\b\b\b\b\b\b\b\b\b\b\b\b\b\b\b\b\b\b\b\b\b\b\b\b\b\b\b\b\b\b\b\b\b\b\b\b\b\b\b\b\b\b\b\b\b\b\b\b\b\b\b\b\b\b\b\b\b\b\b\b\b\b\b\b\b\b\b\b\b\b\b\b\b\b\r",
      "1334/1599 [========================>.....] - ETA: 1s - loss: nan - mean_squared_error: nan - mean_absolute_error: nan"
     ]
    },
    {
     "name": "stderr",
     "output_type": "stream",
     "text": [
      "WARNING:root:Batch exception[Errno 2] No such file or directory: 'C:/earthquake/one-stats-embedding/em_19809.dill'\n",
      "WARNING:root:Batch exception[Errno 2] No such file or directory: 'C:/earthquake/one-stats-embedding/em_449.dill'\n",
      "WARNING:root:Batch exception[Errno 2] No such file or directory: 'C:/earthquake/one-stats-embedding/em_23041.dill'\n",
      "WARNING:root:Batch exception[Errno 2] No such file or directory: 'C:/earthquake/one-stats-embedding/em_7457.dill'\n",
      "WARNING:root:Batch exception[Errno 2] No such file or directory: 'C:/earthquake/one-stats-embedding/em_2945.dill'\n",
      "WARNING:root:Batch exception[Errno 2] No such file or directory: 'C:/earthquake/one-stats-embedding/em_15793.dill'\n",
      "WARNING:root:Batch exception[Errno 2] No such file or directory: 'C:/earthquake/one-stats-embedding/em_16129.dill'\n",
      "WARNING:root:Batch exception[Errno 2] No such file or directory: 'C:/earthquake/one-stats-embedding/em_23137.dill'\n",
      "WARNING:root:Batch exception[Errno 2] No such file or directory: 'C:/earthquake/one-stats-embedding/em_753.dill'\n",
      "WARNING:root:Batch exception[Errno 2] No such file or directory: 'C:/earthquake/one-stats-embedding/em_22081.dill'\n",
      "WARNING:root:Batch exception[Errno 2] No such file or directory: 'C:/earthquake/one-stats-embedding/em_25537.dill'\n"
     ]
    },
    {
     "name": "stdout",
     "output_type": "stream",
     "text": [
      "\b\b\b\b\b\b\b\b\b\b\b\b\b\b\b\b\b\b\b\b\b\b\b\b\b\b\b\b\b\b\b\b\b\b\b\b\b\b\b\b\b\b\b\b\b\b\b\b\b\b\b\b\b\b\b\b\b\b\b\b\b\b\b\b\b\b\b\b\b\b\b\b\b\b\b\b\b\b\b\b\b\b\b\b\b\b\b\b\b\b\b\b\b\b\b\b\b\b\b\b\b\b\b\b\b\b\b\b\b\b\b\b\b\b\b\b\b\r",
      "1345/1599 [========================>.....] - ETA: 1s - loss: nan - mean_squared_error: nan - mean_absolute_error: nan"
     ]
    },
    {
     "name": "stderr",
     "output_type": "stream",
     "text": [
      "WARNING:root:Batch exception[Errno 2] No such file or directory: 'C:/earthquake/one-stats-embedding/em_20689.dill'\n",
      "WARNING:root:Batch exception[Errno 2] No such file or directory: 'C:/earthquake/one-stats-embedding/em_17361.dill'\n",
      "WARNING:root:Batch exception[Errno 2] No such file or directory: 'C:/earthquake/one-stats-embedding/em_4321.dill'\n",
      "WARNING:root:Batch exception[Errno 2] No such file or directory: 'C:/earthquake/one-stats-embedding/em_21825.dill'\n",
      "WARNING:root:Batch exception[Errno 2] No such file or directory: 'C:/earthquake/one-stats-embedding/em_15425.dill'\n",
      "WARNING:root:Batch exception[Errno 2] No such file or directory: 'C:/earthquake/one-stats-embedding/em_17697.dill'\n",
      "WARNING:root:Batch exception[Errno 2] No such file or directory: 'C:/earthquake/one-stats-embedding/em_18497.dill'\n",
      "WARNING:root:Batch exception[Errno 2] No such file or directory: 'C:/earthquake/one-stats-embedding/em_10817.dill'\n",
      "WARNING:root:Batch exception[Errno 2] No such file or directory: 'C:/earthquake/one-stats-embedding/em_13153.dill'\n",
      "WARNING:root:Batch exception[Errno 2] No such file or directory: 'C:/earthquake/one-stats-embedding/em_15057.dill'\n",
      "WARNING:root:Batch exception[Errno 2] No such file or directory: 'C:/earthquake/one-stats-embedding/em_18705.dill'\n"
     ]
    },
    {
     "name": "stdout",
     "output_type": "stream",
     "text": [
      "\b\b\b\b\b\b\b\b\b\b\b\b\b\b\b\b\b\b\b\b\b\b\b\b\b\b\b\b\b\b\b\b\b\b\b\b\b\b\b\b\b\b\b\b\b\b\b\b\b\b\b\b\b\b\b\b\b\b\b\b\b\b\b\b\b\b\b\b\b\b\b\b\b\b\b\b\b\b\b\b\b\b\b\b\b\b\b\b\b\b\b\b\b\b\b\b\b\b\b\b\b\b\b\b\b\b\b\b\b\b\b\b\b\b\b\b\b\r",
      "1356/1599 [========================>.....] - ETA: 1s - loss: nan - mean_squared_error: nan - mean_absolute_error: nan"
     ]
    },
    {
     "name": "stderr",
     "output_type": "stream",
     "text": [
      "WARNING:root:Batch exception[Errno 2] No such file or directory: 'C:/earthquake/one-stats-embedding/em_5809.dill'\n",
      "WARNING:root:Batch exception[Errno 2] No such file or directory: 'C:/earthquake/one-stats-embedding/em_14433.dill'\n",
      "WARNING:root:Batch exception[Errno 2] No such file or directory: 'C:/earthquake/one-stats-embedding/em_8481.dill'\n",
      "WARNING:root:Batch exception[Errno 2] No such file or directory: 'C:/earthquake/one-stats-embedding/em_22577.dill'\n",
      "WARNING:root:Batch exception[Errno 2] No such file or directory: 'C:/earthquake/one-stats-embedding/em_10017.dill'\n",
      "WARNING:root:Batch exception[Errno 2] No such file or directory: 'C:/earthquake/one-stats-embedding/em_3889.dill'\n",
      "WARNING:root:Batch exception[Errno 2] No such file or directory: 'C:/earthquake/one-stats-embedding/em_6449.dill'\n",
      "WARNING:root:Batch exception[Errno 2] No such file or directory: 'C:/earthquake/one-stats-embedding/em_13057.dill'\n",
      "WARNING:root:Batch exception[Errno 2] No such file or directory: 'C:/earthquake/one-stats-embedding/em_13841.dill'\n",
      "WARNING:root:Batch exception[Errno 2] No such file or directory: 'C:/earthquake/one-stats-embedding/em_23809.dill'\n",
      "WARNING:root:Batch exception[Errno 2] No such file or directory: 'C:/earthquake/one-stats-embedding/em_1025.dill'\n"
     ]
    },
    {
     "name": "stdout",
     "output_type": "stream",
     "text": [
      "\b\b\b\b\b\b\b\b\b\b\b\b\b\b\b\b\b\b\b\b\b\b\b\b\b\b\b\b\b\b\b\b\b\b\b\b\b\b\b\b\b\b\b\b\b\b\b\b\b\b\b\b\b\b\b\b\b\b\b\b\b\b\b\b\b\b\b\b\b\b\b\b\b\b\b\b\b\b\b\b\b\b\b\b\b\b\b\b\b\b\b\b\b\b\b\b\b\b\b\b\b\b\b\b\b\b\b\b\b\b\b\b\b\b\b\b\b\r",
      "1367/1599 [========================>.....] - ETA: 1s - loss: nan - mean_squared_error: nan - mean_absolute_error: nan"
     ]
    },
    {
     "name": "stderr",
     "output_type": "stream",
     "text": [
      "WARNING:root:Batch exception[Errno 2] No such file or directory: 'C:/earthquake/one-stats-embedding/em_9537.dill'\n",
      "WARNING:root:Batch exception[Errno 2] No such file or directory: 'C:/earthquake/one-stats-embedding/em_4497.dill'\n",
      "WARNING:root:Batch exception[Errno 2] No such file or directory: 'C:/earthquake/one-stats-embedding/em_1697.dill'\n",
      "WARNING:root:Batch exception[Errno 2] No such file or directory: 'C:/earthquake/one-stats-embedding/em_3217.dill'\n",
      "WARNING:root:Batch exception[Errno 2] No such file or directory: 'C:/earthquake/one-stats-embedding/em_22849.dill'\n",
      "WARNING:root:Batch exception[Errno 2] No such file or directory: 'C:/earthquake/one-stats-embedding/em_11265.dill'\n",
      "WARNING:root:Batch exception[Errno 2] No such file or directory: 'C:/earthquake/one-stats-embedding/em_16737.dill'\n",
      "WARNING:root:Batch exception[Errno 2] No such file or directory: 'C:/earthquake/one-stats-embedding/em_9473.dill'\n",
      "WARNING:root:Batch exception[Errno 2] No such file or directory: 'C:/earthquake/one-stats-embedding/em_17489.dill'\n",
      "WARNING:root:Batch exception[Errno 2] No such file or directory: 'C:/earthquake/one-stats-embedding/em_18753.dill'\n",
      "WARNING:root:Batch exception[Errno 2] No such file or directory: 'C:/earthquake/one-stats-embedding/em_12705.dill'\n"
     ]
    },
    {
     "name": "stdout",
     "output_type": "stream",
     "text": [
      "\b\b\b\b\b\b\b\b\b\b\b\b\b\b\b\b\b\b\b\b\b\b\b\b\b\b\b\b\b\b\b\b\b\b\b\b\b\b\b\b\b\b\b\b\b\b\b\b\b\b\b\b\b\b\b\b\b\b\b\b\b\b\b\b\b\b\b\b\b\b\b\b\b\b\b\b\b\b\b\b\b\b\b\b\b\b\b\b\b\b\b\b\b\b\b\b\b\b\b\b\b\b\b\b\b\b\b\b\b\b\b\b\b\b\b\b\b\r",
      "1378/1599 [========================>.....] - ETA: 1s - loss: nan - mean_squared_error: nan - mean_absolute_error: nan"
     ]
    },
    {
     "name": "stderr",
     "output_type": "stream",
     "text": [
      "WARNING:root:Batch exception[Errno 2] No such file or directory: 'C:/earthquake/one-stats-embedding/em_14465.dill'\n",
      "WARNING:root:Batch exception[Errno 2] No such file or directory: 'C:/earthquake/one-stats-embedding/em_17457.dill'\n",
      "WARNING:root:Batch exception[Errno 2] No such file or directory: 'C:/earthquake/one-stats-embedding/em_15969.dill'\n",
      "WARNING:root:Batch exception[Errno 2] No such file or directory: 'C:/earthquake/one-stats-embedding/em_18177.dill'\n",
      "WARNING:root:Batch exception[Errno 2] No such file or directory: 'C:/earthquake/one-stats-embedding/em_7809.dill'\n",
      "WARNING:root:Batch exception[Errno 2] No such file or directory: 'C:/earthquake/one-stats-embedding/em_25393.dill'\n",
      "WARNING:root:Batch exception[Errno 2] No such file or directory: 'C:/earthquake/one-stats-embedding/em_9649.dill'\n",
      "WARNING:root:Batch exception[Errno 2] No such file or directory: 'C:/earthquake/one-stats-embedding/em_19777.dill'\n",
      "WARNING:root:Batch exception[Errno 2] No such file or directory: 'C:/earthquake/one-stats-embedding/em_10209.dill'\n",
      "WARNING:root:Batch exception[Errno 2] No such file or directory: 'C:/earthquake/one-stats-embedding/em_801.dill'\n",
      "WARNING:root:Batch exception[Errno 2] No such file or directory: 'C:/earthquake/one-stats-embedding/em_16177.dill'\n"
     ]
    },
    {
     "name": "stdout",
     "output_type": "stream",
     "text": [
      "\b\b\b\b\b\b\b\b\b\b\b\b\b\b\b\b\b\b\b\b\b\b\b\b\b\b\b\b\b\b\b\b\b\b\b\b\b\b\b\b\b\b\b\b\b\b\b\b\b\b\b\b\b\b\b\b\b\b\b\b\b\b\b\b\b\b\b\b\b\b\b\b\b\b\b\b\b\b\b\b\b\b\b\b\b\b\b\b\b\b\b\b\b\b\b\b\b\b\b\b\b\b\b\b\b\b\b\b\b\b\b\b\b\b\b\b\b\r",
      "1389/1599 [=========================>....] - ETA: 1s - loss: nan - mean_squared_error: nan - mean_absolute_error: nan"
     ]
    },
    {
     "name": "stderr",
     "output_type": "stream",
     "text": [
      "WARNING:root:Batch exception[Errno 2] No such file or directory: 'C:/earthquake/one-stats-embedding/em_20721.dill'\n",
      "WARNING:root:Batch exception[Errno 2] No such file or directory: 'C:/earthquake/one-stats-embedding/em_17233.dill'\n",
      "WARNING:root:Batch exception[Errno 2] No such file or directory: 'C:/earthquake/one-stats-embedding/em_2753.dill'\n",
      "WARNING:root:Batch exception[Errno 2] No such file or directory: 'C:/earthquake/one-stats-embedding/em_13249.dill'\n",
      "WARNING:root:Batch exception[Errno 2] No such file or directory: 'C:/earthquake/one-stats-embedding/em_10961.dill'\n",
      "WARNING:root:Batch exception[Errno 2] No such file or directory: 'C:/earthquake/one-stats-embedding/em_8257.dill'\n",
      "WARNING:root:Batch exception[Errno 2] No such file or directory: 'C:/earthquake/one-stats-embedding/em_13473.dill'\n",
      "WARNING:root:Batch exception[Errno 2] No such file or directory: 'C:/earthquake/one-stats-embedding/em_16929.dill'\n",
      "WARNING:root:Batch exception[Errno 2] No such file or directory: 'C:/earthquake/one-stats-embedding/em_14769.dill'\n",
      "WARNING:root:Batch exception[Errno 2] No such file or directory: 'C:/earthquake/one-stats-embedding/em_25041.dill'\n",
      "WARNING:root:Batch exception[Errno 2] No such file or directory: 'C:/earthquake/one-stats-embedding/em_3489.dill'\n",
      "WARNING:root:Batch exception[Errno 2] No such file or directory: 'C:/earthquake/one-stats-embedding/em_401.dill'\n"
     ]
    },
    {
     "name": "stdout",
     "output_type": "stream",
     "text": [
      "\b\b\b\b\b\b\b\b\b\b\b\b\b\b\b\b\b\b\b\b\b\b\b\b\b\b\b\b\b\b\b\b\b\b\b\b\b\b\b\b\b\b\b\b\b\b\b\b\b\b\b\b\b\b\b\b\b\b\b\b\b\b\b\b\b\b\b\b\b\b\b\b\b\b\b\b\b\b\b\b\b\b\b\b\b\b\b\b\b\b\b\b\b\b\b\b\b\b\b\b\b\b\b\b\b\b\b\b\b\b\b\b\b\b\b\b\b\r",
      "1401/1599 [=========================>....] - ETA: 0s - loss: nan - mean_squared_error: nan - mean_absolute_error: nan"
     ]
    },
    {
     "name": "stderr",
     "output_type": "stream",
     "text": [
      "WARNING:root:Batch exception[Errno 2] No such file or directory: 'C:/earthquake/one-stats-embedding/em_22945.dill'\n",
      "WARNING:root:Batch exception[Errno 2] No such file or directory: 'C:/earthquake/one-stats-embedding/em_673.dill'\n",
      "WARNING:root:Batch exception[Errno 2] No such file or directory: 'C:/earthquake/one-stats-embedding/em_6241.dill'\n",
      "WARNING:root:Batch exception[Errno 2] No such file or directory: 'C:/earthquake/one-stats-embedding/em_13089.dill'\n",
      "WARNING:root:Batch exception[Errno 2] No such file or directory: 'C:/earthquake/one-stats-embedding/em_25329.dill'\n",
      "WARNING:root:Batch exception[Errno 2] No such file or directory: 'C:/earthquake/one-stats-embedding/em_3825.dill'\n",
      "WARNING:root:Batch exception[Errno 2] No such file or directory: 'C:/earthquake/one-stats-embedding/em_19553.dill'\n",
      "WARNING:root:Batch exception[Errno 2] No such file or directory: 'C:/earthquake/one-stats-embedding/em_11985.dill'\n",
      "WARNING:root:Batch exception[Errno 2] No such file or directory: 'C:/earthquake/one-stats-embedding/em_25553.dill'\n",
      "WARNING:root:Batch exception[Errno 2] No such file or directory: 'C:/earthquake/one-stats-embedding/em_23841.dill'\n"
     ]
    },
    {
     "name": "stdout",
     "output_type": "stream",
     "text": [
      "\b\b\b\b\b\b\b\b\b\b\b\b\b\b\b\b\b\b\b\b\b\b\b\b\b\b\b\b\b\b\b\b\b\b\b\b\b\b\b\b\b\b\b\b\b\b\b\b\b\b\b\b\b\b\b\b\b\b\b\b\b\b\b\b\b\b\b\b\b\b\b\b\b\b\b\b\b\b\b\b\b\b\b\b\b\b\b\b\b\b\b\b\b\b\b\b\b\b\b\b\b\b\b\b\b\b\b\b\b\b\b\b\b\b\b\b\b\r",
      "1411/1599 [=========================>....] - ETA: 0s - loss: nan - mean_squared_error: nan - mean_absolute_error: nan"
     ]
    },
    {
     "name": "stderr",
     "output_type": "stream",
     "text": [
      "WARNING:root:Batch exception[Errno 2] No such file or directory: 'C:/earthquake/one-stats-embedding/em_18481.dill'\n",
      "WARNING:root:Batch exception[Errno 2] No such file or directory: 'C:/earthquake/one-stats-embedding/em_9569.dill'\n",
      "WARNING:root:Batch exception[Errno 2] No such file or directory: 'C:/earthquake/one-stats-embedding/em_3841.dill'\n",
      "WARNING:root:Batch exception[Errno 2] No such file or directory: 'C:/earthquake/one-stats-embedding/em_4641.dill'\n",
      "WARNING:root:Batch exception[Errno 2] No such file or directory: 'C:/earthquake/one-stats-embedding/em_1073.dill'\n",
      "WARNING:root:Batch exception[Errno 2] No such file or directory: 'C:/earthquake/one-stats-embedding/em_11761.dill'\n",
      "WARNING:root:Batch exception[Errno 2] No such file or directory: 'C:/earthquake/one-stats-embedding/em_22753.dill'\n",
      "WARNING:root:Batch exception[Errno 2] No such file or directory: 'C:/earthquake/one-stats-embedding/em_20769.dill'\n",
      "WARNING:root:Batch exception[Errno 2] No such file or directory: 'C:/earthquake/one-stats-embedding/em_8785.dill'\n",
      "WARNING:root:Batch exception[Errno 2] No such file or directory: 'C:/earthquake/one-stats-embedding/em_1569.dill'\n"
     ]
    },
    {
     "name": "stdout",
     "output_type": "stream",
     "text": [
      "\b\b\b\b\b\b\b\b\b\b\b\b\b\b\b\b\b\b\b\b\b\b\b\b\b\b\b\b\b\b\b\b\b\b\b\b\b\b\b\b\b\b\b\b\b\b\b\b\b\b\b\b\b\b\b\b\b\b\b\b\b\b\b\b\b\b\b\b\b\b\b\b\b\b\b\b\b\b\b\b\b\b\b\b\b\b\b\b\b\b\b\b\b\b\b\b\b\b\b\b\b\b\b\b\b\b\b\b\b\b\b\b\b\b\b\b\b\r",
      "1422/1599 [=========================>....] - ETA: 0s - loss: nan - mean_squared_error: nan - mean_absolute_error: nan"
     ]
    },
    {
     "name": "stderr",
     "output_type": "stream",
     "text": [
      "WARNING:root:Batch exception[Errno 2] No such file or directory: 'C:/earthquake/one-stats-embedding/em_19201.dill'\n",
      "WARNING:root:Batch exception[Errno 2] No such file or directory: 'C:/earthquake/one-stats-embedding/em_2113.dill'\n",
      "WARNING:root:Batch exception[Errno 2] No such file or directory: 'C:/earthquake/one-stats-embedding/em_18385.dill'\n",
      "WARNING:root:Batch exception[Errno 2] No such file or directory: 'C:/earthquake/one-stats-embedding/em_17617.dill'\n",
      "WARNING:root:Batch exception[Errno 2] No such file or directory: 'C:/earthquake/one-stats-embedding/em_8417.dill'\n",
      "WARNING:root:Batch exception[Errno 2] No such file or directory: 'C:/earthquake/one-stats-embedding/em_6913.dill'\n",
      "WARNING:root:Batch exception[Errno 2] No such file or directory: 'C:/earthquake/one-stats-embedding/em_14177.dill'\n",
      "WARNING:root:Batch exception[Errno 2] No such file or directory: 'C:/earthquake/one-stats-embedding/em_22785.dill'\n",
      "WARNING:root:Batch exception[Errno 2] No such file or directory: 'C:/earthquake/one-stats-embedding/em_3921.dill'\n",
      "WARNING:root:Batch exception[Errno 2] No such file or directory: 'C:/earthquake/one-stats-embedding/em_15089.dill'\n",
      "WARNING:root:Batch exception[Errno 2] No such file or directory: 'C:/earthquake/one-stats-embedding/em_5201.dill'\n"
     ]
    },
    {
     "name": "stdout",
     "output_type": "stream",
     "text": [
      "\b\b\b\b\b\b\b\b\b\b\b\b\b\b\b\b\b\b\b\b\b\b\b\b\b\b\b\b\b\b\b\b\b\b\b\b\b\b\b\b\b\b\b\b\b\b\b\b\b\b\b\b\b\b\b\b\b\b\b\b\b\b\b\b\b\b\b\b\b\b\b\b\b\b\b\b\b\b\b\b\b\b\b\b\b\b\b\b\b\b\b\b\b\b\b\b\b\b\b\b\b\b\b\b\b\b\b\b\b\b\b\b\b\b\b\b\b\r",
      "1433/1599 [=========================>....] - ETA: 0s - loss: nan - mean_squared_error: nan - mean_absolute_error: nan"
     ]
    },
    {
     "name": "stderr",
     "output_type": "stream",
     "text": [
      "WARNING:root:Batch exception[Errno 2] No such file or directory: 'C:/earthquake/one-stats-embedding/em_785.dill'\n",
      "WARNING:root:Batch exception[Errno 2] No such file or directory: 'C:/earthquake/one-stats-embedding/em_18641.dill'\n",
      "WARNING:root:Batch exception[Errno 2] No such file or directory: 'C:/earthquake/one-stats-embedding/em_7345.dill'\n",
      "WARNING:root:Batch exception[Errno 2] No such file or directory: 'C:/earthquake/one-stats-embedding/em_1137.dill'\n",
      "WARNING:root:Batch exception[Errno 2] No such file or directory: 'C:/earthquake/one-stats-embedding/em_19649.dill'\n",
      "WARNING:root:Batch exception[Errno 2] No such file or directory: 'C:/earthquake/one-stats-embedding/em_10145.dill'\n",
      "WARNING:root:Batch exception[Errno 2] No such file or directory: 'C:/earthquake/one-stats-embedding/em_19249.dill'\n",
      "WARNING:root:Batch exception[Errno 2] No such file or directory: 'C:/earthquake/one-stats-embedding/em_22401.dill'\n",
      "WARNING:root:Batch exception[Errno 2] No such file or directory: 'C:/earthquake/one-stats-embedding/em_8689.dill'\n",
      "WARNING:root:Batch exception[Errno 2] No such file or directory: 'C:/earthquake/one-stats-embedding/em_3857.dill'\n",
      "WARNING:root:Batch exception[Errno 2] No such file or directory: 'C:/earthquake/one-stats-embedding/em_1617.dill'\n"
     ]
    },
    {
     "name": "stdout",
     "output_type": "stream",
     "text": [
      "\b\b\b\b\b\b\b\b\b\b\b\b\b\b\b\b\b\b\b\b\b\b\b\b\b\b\b\b\b\b\b\b\b\b\b\b\b\b\b\b\b\b\b\b\b\b\b\b\b\b\b\b\b\b\b\b\b\b\b\b\b\b\b\b\b\b\b\b\b\b\b\b\b\b\b\b\b\b\b\b\b\b\b\b\b\b\b\b\b\b\b\b\b\b\b\b\b\b\b\b\b\b\b\b\b\b\b\b\b\b\b\b\b\b\b\b\b\r",
      "1444/1599 [==========================>...] - ETA: 0s - loss: nan - mean_squared_error: nan - mean_absolute_error: nan"
     ]
    },
    {
     "name": "stderr",
     "output_type": "stream",
     "text": [
      "WARNING:root:Batch exception[Errno 2] No such file or directory: 'C:/earthquake/one-stats-embedding/em_2641.dill'\n",
      "WARNING:root:Batch exception[Errno 2] No such file or directory: 'C:/earthquake/one-stats-embedding/em_14065.dill'\n",
      "WARNING:root:Batch exception[Errno 2] No such file or directory: 'C:/earthquake/one-stats-embedding/em_14369.dill'\n",
      "WARNING:root:Batch exception[Errno 2] No such file or directory: 'C:/earthquake/one-stats-embedding/em_6817.dill'\n",
      "WARNING:root:Batch exception[Errno 2] No such file or directory: 'C:/earthquake/one-stats-embedding/em_12273.dill'\n",
      "WARNING:root:Batch exception[Errno 2] No such file or directory: 'C:/earthquake/one-stats-embedding/em_3569.dill'\n",
      "WARNING:root:Batch exception[Errno 2] No such file or directory: 'C:/earthquake/one-stats-embedding/em_12817.dill'\n",
      "WARNING:root:Batch exception[Errno 2] No such file or directory: 'C:/earthquake/one-stats-embedding/em_15105.dill'\n",
      "WARNING:root:Batch exception[Errno 2] No such file or directory: 'C:/earthquake/one-stats-embedding/em_10529.dill'\n",
      "WARNING:root:Batch exception[Errno 2] No such file or directory: 'C:/earthquake/one-stats-embedding/em_5153.dill'\n"
     ]
    },
    {
     "name": "stdout",
     "output_type": "stream",
     "text": [
      "\b\b\b\b\b\b\b\b\b\b\b\b\b\b\b\b\b\b\b\b\b\b\b\b\b\b\b\b\b\b\b\b\b\b\b\b\b\b\b\b\b\b\b\b\b\b\b\b\b\b\b\b\b\b\b\b\b\b\b\b\b\b\b\b\b\b\b\b\b\b\b\b\b\b\b\b\b\b\b\b\b\b\b\b\b\b\b\b\b\b\b\b\b\b\b\b\b\b\b\b\b\b\b\b\b\b\b\b\b\b\b\b\b\b\b\b\b\r",
      "1454/1599 [==========================>...] - ETA: 0s - loss: nan - mean_squared_error: nan - mean_absolute_error: nan"
     ]
    },
    {
     "name": "stderr",
     "output_type": "stream",
     "text": [
      "WARNING:root:Batch exception[Errno 2] No such file or directory: 'C:/earthquake/one-stats-embedding/em_657.dill'\n",
      "WARNING:root:Batch exception[Errno 2] No such file or directory: 'C:/earthquake/one-stats-embedding/em_3745.dill'\n",
      "WARNING:root:Batch exception[Errno 2] No such file or directory: 'C:/earthquake/one-stats-embedding/em_22897.dill'\n",
      "WARNING:root:Batch exception[Errno 2] No such file or directory: 'C:/earthquake/one-stats-embedding/em_18417.dill'\n",
      "WARNING:root:Batch exception[Errno 2] No such file or directory: 'C:/earthquake/one-stats-embedding/em_23313.dill'\n",
      "WARNING:root:Batch exception[Errno 2] No such file or directory: 'C:/earthquake/one-stats-embedding/em_19297.dill'\n",
      "WARNING:root:Batch exception[Errno 2] No such file or directory: 'C:/earthquake/one-stats-embedding/em_13601.dill'\n",
      "WARNING:root:Batch exception[Errno 2] No such file or directory: 'C:/earthquake/one-stats-embedding/em_1665.dill'\n",
      "WARNING:root:Batch exception[Errno 2] No such file or directory: 'C:/earthquake/one-stats-embedding/em_25313.dill'\n",
      "WARNING:root:Batch exception[Errno 2] No such file or directory: 'C:/earthquake/one-stats-embedding/em_1489.dill'\n",
      "WARNING:root:Batch exception[Errno 2] No such file or directory: 'C:/earthquake/one-stats-embedding/em_16545.dill'\n",
      "WARNING:root:Batch exception[Errno 2] No such file or directory: 'C:/earthquake/one-stats-embedding/em_1985.dill'\n"
     ]
    },
    {
     "name": "stdout",
     "output_type": "stream",
     "text": [
      "\b\b\b\b\b\b\b\b\b\b\b\b\b\b\b\b\b\b\b\b\b\b\b\b\b\b\b\b\b\b\b\b\b\b\b\b\b\b\b\b\b\b\b\b\b\b\b\b\b\b\b\b\b\b\b\b\b\b\b\b\b\b\b\b\b\b\b\b\b\b\b\b\b\b\b\b\b\b\b\b\b\b\b\b\b\b\b\b\b\b\b\b\b\b\b\b\b\b\b\b\b\b\b\b\b\b\b\b\b\b\b\b\b\b\b\b\b\r",
      "1466/1599 [==========================>...] - ETA: 0s - loss: nan - mean_squared_error: nan - mean_absolute_error: nan"
     ]
    },
    {
     "name": "stderr",
     "output_type": "stream",
     "text": [
      "WARNING:root:Batch exception[Errno 2] No such file or directory: 'C:/earthquake/one-stats-embedding/em_19425.dill'\n",
      "WARNING:root:Batch exception[Errno 2] No such file or directory: 'C:/earthquake/one-stats-embedding/em_20929.dill'\n",
      "WARNING:root:Batch exception[Errno 2] No such file or directory: 'C:/earthquake/one-stats-embedding/em_16609.dill'\n",
      "WARNING:root:Batch exception[Errno 2] No such file or directory: 'C:/earthquake/one-stats-embedding/em_9553.dill'\n",
      "WARNING:root:Batch exception[Errno 2] No such file or directory: 'C:/earthquake/one-stats-embedding/em_4241.dill'\n",
      "WARNING:root:Batch exception[Errno 2] No such file or directory: 'C:/earthquake/one-stats-embedding/em_8273.dill'\n",
      "WARNING:root:Batch exception[Errno 2] No such file or directory: 'C:/earthquake/one-stats-embedding/em_2817.dill'\n",
      "WARNING:root:Batch exception[Errno 2] No such file or directory: 'C:/earthquake/one-stats-embedding/em_12113.dill'\n",
      "WARNING:root:Batch exception[Errno 2] No such file or directory: 'C:/earthquake/one-stats-embedding/em_6017.dill'\n",
      "WARNING:root:Batch exception[Errno 2] No such file or directory: 'C:/earthquake/one-stats-embedding/em_15697.dill'\n",
      "WARNING:root:Batch exception[Errno 2] No such file or directory: 'C:/earthquake/one-stats-embedding/em_17553.dill'\n",
      "WARNING:root:Batch exception[Errno 2] No such file or directory: 'C:/earthquake/one-stats-embedding/em_21745.dill'\n"
     ]
    },
    {
     "name": "stdout",
     "output_type": "stream",
     "text": [
      "\b\b\b\b\b\b\b\b\b\b\b\b\b\b\b\b\b\b\b\b\b\b\b\b\b\b\b\b\b\b\b\b\b\b\b\b\b\b\b\b\b\b\b\b\b\b\b\b\b\b\b\b\b\b\b\b\b\b\b\b\b\b\b\b\b\b\b\b\b\b\b\b\b\b\b\b\b\b\b\b\b\b\b\b\b\b\b\b\b\b\b\b\b\b\b\b\b\b\b\b\b\b\b\b\b\b\b\b\b\b\b\b\b\b\b\b\b\r",
      "1478/1599 [==========================>...] - ETA: 0s - loss: nan - mean_squared_error: nan - mean_absolute_error: nan"
     ]
    },
    {
     "name": "stderr",
     "output_type": "stream",
     "text": [
      "WARNING:root:Batch exception[Errno 2] No such file or directory: 'C:/earthquake/one-stats-embedding/em_23057.dill'\n",
      "WARNING:root:Batch exception[Errno 2] No such file or directory: 'C:/earthquake/one-stats-embedding/em_15601.dill'\n",
      "WARNING:root:Batch exception[Errno 2] No such file or directory: 'C:/earthquake/one-stats-embedding/em_24385.dill'\n",
      "WARNING:root:Batch exception[Errno 2] No such file or directory: 'C:/earthquake/one-stats-embedding/em_3505.dill'\n",
      "WARNING:root:Batch exception[Errno 2] No such file or directory: 'C:/earthquake/one-stats-embedding/em_2209.dill'\n",
      "WARNING:root:Batch exception[Errno 2] No such file or directory: 'C:/earthquake/one-stats-embedding/em_3185.dill'\n",
      "WARNING:root:Batch exception[Errno 2] No such file or directory: 'C:/earthquake/one-stats-embedding/em_5713.dill'\n",
      "WARNING:root:Batch exception[Errno 2] No such file or directory: 'C:/earthquake/one-stats-embedding/em_18433.dill'\n",
      "WARNING:root:Batch exception[Errno 2] No such file or directory: 'C:/earthquake/one-stats-embedding/em_18449.dill'\n",
      "WARNING:root:Batch exception[Errno 2] No such file or directory: 'C:/earthquake/one-stats-embedding/em_15585.dill'\n",
      "WARNING:root:Batch exception[Errno 2] No such file or directory: 'C:/earthquake/one-stats-embedding/em_4689.dill'\n",
      "WARNING:root:Batch exception[Errno 2] No such file or directory: 'C:/earthquake/one-stats-embedding/em_23329.dill'\n"
     ]
    },
    {
     "name": "stdout",
     "output_type": "stream",
     "text": [
      "\b\b\b\b\b\b\b\b\b\b\b\b\b\b\b\b\b\b\b\b\b\b\b\b\b\b\b\b\b\b\b\b\b\b\b\b\b\b\b\b\b\b\b\b\b\b\b\b\b\b\b\b\b\b\b\b\b\b\b\b\b\b\b\b\b\b\b\b\b\b\b\b\b\b\b\b\b\b\b\b\b\b\b\b\b\b\b\b\b\b\b\b\b\b\b\b\b\b\b\b\b\b\b\b\b\b\b\b\b\b\b\b\b\b\b\b\b\r",
      "1490/1599 [==========================>...] - ETA: 0s - loss: nan - mean_squared_error: nan - mean_absolute_error: nan"
     ]
    },
    {
     "name": "stderr",
     "output_type": "stream",
     "text": [
      "WARNING:root:Batch exception[Errno 2] No such file or directory: 'C:/earthquake/one-stats-embedding/em_13409.dill'\n",
      "WARNING:root:Batch exception[Errno 2] No such file or directory: 'C:/earthquake/one-stats-embedding/em_16321.dill'\n",
      "WARNING:root:Batch exception[Errno 2] No such file or directory: 'C:/earthquake/one-stats-embedding/em_25233.dill'\n",
      "WARNING:root:Batch exception[Errno 2] No such file or directory: 'C:/earthquake/one-stats-embedding/em_22145.dill'\n",
      "WARNING:root:Batch exception[Errno 2] No such file or directory: 'C:/earthquake/one-stats-embedding/em_23441.dill'\n",
      "WARNING:root:Batch exception[Errno 2] No such file or directory: 'C:/earthquake/one-stats-embedding/em_7633.dill'\n",
      "WARNING:root:Batch exception[Errno 2] No such file or directory: 'C:/earthquake/one-stats-embedding/em_16721.dill'\n",
      "WARNING:root:Batch exception[Errno 2] No such file or directory: 'C:/earthquake/one-stats-embedding/em_1761.dill'\n",
      "WARNING:root:Batch exception[Errno 2] No such file or directory: 'C:/earthquake/one-stats-embedding/em_19841.dill'\n",
      "WARNING:root:Batch exception[Errno 2] No such file or directory: 'C:/earthquake/one-stats-embedding/em_23009.dill'\n",
      "WARNING:root:Batch exception[Errno 2] No such file or directory: 'C:/earthquake/one-stats-embedding/em_20497.dill'\n"
     ]
    },
    {
     "name": "stdout",
     "output_type": "stream",
     "text": [
      "\b\b\b\b\b\b\b\b\b\b\b\b\b\b\b\b\b\b\b\b\b\b\b\b\b\b\b\b\b\b\b\b\b\b\b\b\b\b\b\b\b\b\b\b\b\b\b\b\b\b\b\b\b\b\b\b\b\b\b\b\b\b\b\b\b\b\b\b\b\b\b\b\b\b\b\b\b\b\b\b\b\b\b\b\b\b\b\b\b\b\b\b\b\b\b\b\b\b\b\b\b\b\b\b\b\b\b\b\b\b\b\b\b\b\b\b\b\r",
      "1501/1599 [===========================>..] - ETA: 0s - loss: nan - mean_squared_error: nan - mean_absolute_error: nan"
     ]
    },
    {
     "name": "stderr",
     "output_type": "stream",
     "text": [
      "WARNING:root:Batch exception[Errno 2] No such file or directory: 'C:/earthquake/one-stats-embedding/em_21841.dill'\n",
      "WARNING:root:Batch exception[Errno 2] No such file or directory: 'C:/earthquake/one-stats-embedding/em_12385.dill'\n",
      "WARNING:root:Batch exception[Errno 2] No such file or directory: 'C:/earthquake/one-stats-embedding/em_13009.dill'\n",
      "WARNING:root:Batch exception[Errno 2] No such file or directory: 'C:/earthquake/one-stats-embedding/em_21521.dill'\n",
      "WARNING:root:Batch exception[Errno 2] No such file or directory: 'C:/earthquake/one-stats-embedding/em_3601.dill'\n",
      "WARNING:root:Batch exception[Errno 2] No such file or directory: 'C:/earthquake/one-stats-embedding/em_705.dill'\n",
      "WARNING:root:Batch exception[Errno 2] No such file or directory: 'C:/earthquake/one-stats-embedding/em_24785.dill'\n",
      "WARNING:root:Batch exception[Errno 2] No such file or directory: 'C:/earthquake/one-stats-embedding/em_17425.dill'\n",
      "WARNING:root:Batch exception[Errno 2] No such file or directory: 'C:/earthquake/one-stats-embedding/em_2705.dill'\n",
      "WARNING:root:Batch exception[Errno 2] No such file or directory: 'C:/earthquake/one-stats-embedding/em_3393.dill'\n",
      "WARNING:root:Batch exception[Errno 2] No such file or directory: 'C:/earthquake/one-stats-embedding/em_22001.dill'\n",
      "WARNING:root:Batch exception[Errno 2] No such file or directory: 'C:/earthquake/one-stats-embedding/em_24161.dill'\n"
     ]
    },
    {
     "name": "stdout",
     "output_type": "stream",
     "text": [
      "\b\b\b\b\b\b\b\b\b\b\b\b\b\b\b\b\b\b\b\b\b\b\b\b\b\b\b\b\b\b\b\b\b\b\b\b\b\b\b\b\b\b\b\b\b\b\b\b\b\b\b\b\b\b\b\b\b\b\b\b\b\b\b\b\b\b\b\b\b\b\b\b\b\b\b\b\b\b\b\b\b\b\b\b\b\b\b\b\b\b\b\b\b\b\b\b\b\b\b\b\b\b\b\b\b\b\b\b\b\b\b\b\b\b\b\b\b\r",
      "1513/1599 [===========================>..] - ETA: 0s - loss: nan - mean_squared_error: nan - mean_absolute_error: nan"
     ]
    },
    {
     "name": "stderr",
     "output_type": "stream",
     "text": [
      "WARNING:root:Batch exception[Errno 2] No such file or directory: 'C:/earthquake/one-stats-embedding/em_15633.dill'\n",
      "WARNING:root:Batch exception[Errno 2] No such file or directory: 'C:/earthquake/one-stats-embedding/em_22465.dill'\n",
      "WARNING:root:Batch exception[Errno 2] No such file or directory: 'C:/earthquake/one-stats-embedding/em_16161.dill'\n",
      "WARNING:root:Batch exception[Errno 2] No such file or directory: 'C:/earthquake/one-stats-embedding/em_24129.dill'\n",
      "WARNING:root:Batch exception[Errno 2] No such file or directory: 'C:/earthquake/one-stats-embedding/em_21585.dill'\n",
      "WARNING:root:Batch exception[Errno 2] No such file or directory: 'C:/earthquake/one-stats-embedding/em_12897.dill'\n",
      "WARNING:root:Batch exception[Errno 2] No such file or directory: 'C:/earthquake/one-stats-embedding/em_16257.dill'\n",
      "WARNING:root:Batch exception[Errno 2] No such file or directory: 'C:/earthquake/one-stats-embedding/em_12433.dill'\n",
      "WARNING:root:Batch exception[Errno 2] No such file or directory: 'C:/earthquake/one-stats-embedding/em_16417.dill'\n",
      "WARNING:root:Batch exception[Errno 2] No such file or directory: 'C:/earthquake/one-stats-embedding/em_6225.dill'\n",
      "WARNING:root:Batch exception[Errno 2] No such file or directory: 'C:/earthquake/one-stats-embedding/em_13489.dill'\n",
      "WARNING:root:Batch exception[Errno 2] No such file or directory: 'C:/earthquake/one-stats-embedding/em_3617.dill'\n"
     ]
    },
    {
     "name": "stdout",
     "output_type": "stream",
     "text": [
      "\b\b\b\b\b\b\b\b\b\b\b\b\b\b\b\b\b\b\b\b\b\b\b\b\b\b\b\b\b\b\b\b\b\b\b\b\b\b\b\b\b\b\b\b\b\b\b\b\b\b\b\b\b\b\b\b\b\b\b\b\b\b\b\b\b\b\b\b\b\b\b\b\b\b\b\b\b\b\b\b\b\b\b\b\b\b\b\b\b\b\b\b\b\b\b\b\b\b\b\b\b\b\b\b\b\b\b\b\b\b\b\b\b\b\b\b\b\r",
      "1525/1599 [===========================>..] - ETA: 0s - loss: nan - mean_squared_error: nan - mean_absolute_error: nan"
     ]
    },
    {
     "name": "stderr",
     "output_type": "stream",
     "text": [
      "WARNING:root:Batch exception[Errno 2] No such file or directory: 'C:/earthquake/one-stats-embedding/em_12641.dill'\n",
      "WARNING:root:Batch exception[Errno 2] No such file or directory: 'C:/earthquake/one-stats-embedding/em_15377.dill'\n",
      "WARNING:root:Batch exception[Errno 2] No such file or directory: 'C:/earthquake/one-stats-embedding/em_16561.dill'\n",
      "WARNING:root:Batch exception[Errno 2] No such file or directory: 'C:/earthquake/one-stats-embedding/em_20305.dill'\n",
      "WARNING:root:Batch exception[Errno 2] No such file or directory: 'C:/earthquake/one-stats-embedding/em_6465.dill'\n",
      "WARNING:root:Batch exception[Errno 2] No such file or directory: 'C:/earthquake/one-stats-embedding/em_25121.dill'\n",
      "WARNING:root:Batch exception[Errno 2] No such file or directory: 'C:/earthquake/one-stats-embedding/em_16401.dill'\n",
      "WARNING:root:Batch exception[Errno 2] No such file or directory: 'C:/earthquake/one-stats-embedding/em_10433.dill'\n",
      "WARNING:root:Batch exception[Errno 2] No such file or directory: 'C:/earthquake/one-stats-embedding/em_11953.dill'\n",
      "WARNING:root:Batch exception[Errno 2] No such file or directory: 'C:/earthquake/one-stats-embedding/em_24545.dill'\n",
      "WARNING:root:Batch exception[Errno 2] No such file or directory: 'C:/earthquake/one-stats-embedding/em_12529.dill'\n"
     ]
    },
    {
     "name": "stdout",
     "output_type": "stream",
     "text": [
      "\b\b\b\b\b\b\b\b\b\b\b\b\b\b\b\b\b\b\b\b\b\b\b\b\b\b\b\b\b\b\b\b\b\b\b\b\b\b\b\b\b\b\b\b\b\b\b\b\b\b\b\b\b\b\b\b\b\b\b\b\b\b\b\b\b\b\b\b\b\b\b\b\b\b\b\b\b\b\b\b\b\b\b\b\b\b\b\b\b\b\b\b\b\b\b\b\b\b\b\b\b\b\b\b\b\b\b\b\b\b\b\b\b\b\b\b\b\r",
      "1536/1599 [===========================>..] - ETA: 0s - loss: nan - mean_squared_error: nan - mean_absolute_error: nan"
     ]
    },
    {
     "name": "stderr",
     "output_type": "stream",
     "text": [
      "WARNING:root:Batch exception[Errno 2] No such file or directory: 'C:/earthquake/one-stats-embedding/em_21505.dill'\n",
      "WARNING:root:Batch exception[Errno 2] No such file or directory: 'C:/earthquake/one-stats-embedding/em_15441.dill'\n",
      "WARNING:root:Batch exception[Errno 2] No such file or directory: 'C:/earthquake/one-stats-embedding/em_16465.dill'\n",
      "WARNING:root:Batch exception[Errno 2] No such file or directory: 'C:/earthquake/one-stats-embedding/em_10833.dill'\n",
      "WARNING:root:Batch exception[Errno 2] No such file or directory: 'C:/earthquake/one-stats-embedding/em_20481.dill'\n",
      "WARNING:root:Batch exception[Errno 2] No such file or directory: 'C:/earthquake/one-stats-embedding/em_4913.dill'\n"
     ]
    },
    {
     "ename": "KeyboardInterrupt",
     "evalue": "",
     "output_type": "error",
     "traceback": [
      "\u001b[1;31m---------------------------------------------------------------------------\u001b[0m",
      "\u001b[1;31mKeyboardInterrupt\u001b[0m                         Traceback (most recent call last)",
      "\u001b[1;32m<ipython-input-14-bf4f12717007>\u001b[0m in \u001b[0;36m<module>\u001b[1;34m()\u001b[0m\n\u001b[0;32m      8\u001b[0m                     \u001b[0mmax_q_size\u001b[0m \u001b[1;33m=\u001b[0m \u001b[1;36m10\u001b[0m\u001b[1;33m,\u001b[0m\u001b[1;33m\u001b[0m\u001b[0m\n\u001b[0;32m      9\u001b[0m                     \u001b[0msteps_per_epoch\u001b[0m \u001b[1;33m=\u001b[0m \u001b[0mtrainGenerator\u001b[0m\u001b[1;33m.\u001b[0m\u001b[0m__len__\u001b[0m\u001b[1;33m(\u001b[0m\u001b[1;33m)\u001b[0m\u001b[1;33m,\u001b[0m\u001b[1;33m\u001b[0m\u001b[0m\n\u001b[1;32m---> 10\u001b[1;33m                     \u001b[0mcallbacks\u001b[0m \u001b[1;33m=\u001b[0m \u001b[1;33m[\u001b[0m\u001b[0mlivePlotKeras\u001b[0m\u001b[1;33m]\u001b[0m\u001b[1;33m\u001b[0m\u001b[0m\n\u001b[0m\u001b[0;32m     11\u001b[0m                    )\n",
      "\u001b[1;32mD:\\ProgramData\\Anaconda3\\envs\\tf\\lib\\site-packages\\keras\\legacy\\interfaces.py\u001b[0m in \u001b[0;36mwrapper\u001b[1;34m(*args, **kwargs)\u001b[0m\n\u001b[0;32m     89\u001b[0m                 warnings.warn('Update your `' + object_name + '` call to the ' +\n\u001b[0;32m     90\u001b[0m                               'Keras 2 API: ' + signature, stacklevel=2)\n\u001b[1;32m---> 91\u001b[1;33m             \u001b[1;32mreturn\u001b[0m \u001b[0mfunc\u001b[0m\u001b[1;33m(\u001b[0m\u001b[1;33m*\u001b[0m\u001b[0margs\u001b[0m\u001b[1;33m,\u001b[0m \u001b[1;33m**\u001b[0m\u001b[0mkwargs\u001b[0m\u001b[1;33m)\u001b[0m\u001b[1;33m\u001b[0m\u001b[0m\n\u001b[0m\u001b[0;32m     92\u001b[0m         \u001b[0mwrapper\u001b[0m\u001b[1;33m.\u001b[0m\u001b[0m_original_function\u001b[0m \u001b[1;33m=\u001b[0m \u001b[0mfunc\u001b[0m\u001b[1;33m\u001b[0m\u001b[0m\n\u001b[0;32m     93\u001b[0m         \u001b[1;32mreturn\u001b[0m \u001b[0mwrapper\u001b[0m\u001b[1;33m\u001b[0m\u001b[0m\n",
      "\u001b[1;32mD:\\ProgramData\\Anaconda3\\envs\\tf\\lib\\site-packages\\keras\\engine\\training.py\u001b[0m in \u001b[0;36mfit_generator\u001b[1;34m(self, generator, steps_per_epoch, epochs, verbose, callbacks, validation_data, validation_steps, class_weight, max_queue_size, workers, use_multiprocessing, shuffle, initial_epoch)\u001b[0m\n\u001b[0;32m   1416\u001b[0m             \u001b[0muse_multiprocessing\u001b[0m\u001b[1;33m=\u001b[0m\u001b[0muse_multiprocessing\u001b[0m\u001b[1;33m,\u001b[0m\u001b[1;33m\u001b[0m\u001b[0m\n\u001b[0;32m   1417\u001b[0m             \u001b[0mshuffle\u001b[0m\u001b[1;33m=\u001b[0m\u001b[0mshuffle\u001b[0m\u001b[1;33m,\u001b[0m\u001b[1;33m\u001b[0m\u001b[0m\n\u001b[1;32m-> 1418\u001b[1;33m             initial_epoch=initial_epoch)\n\u001b[0m\u001b[0;32m   1419\u001b[0m \u001b[1;33m\u001b[0m\u001b[0m\n\u001b[0;32m   1420\u001b[0m     \u001b[1;33m@\u001b[0m\u001b[0minterfaces\u001b[0m\u001b[1;33m.\u001b[0m\u001b[0mlegacy_generator_methods_support\u001b[0m\u001b[1;33m\u001b[0m\u001b[0m\n",
      "\u001b[1;32mD:\\ProgramData\\Anaconda3\\envs\\tf\\lib\\site-packages\\keras\\engine\\training_generator.py\u001b[0m in \u001b[0;36mfit_generator\u001b[1;34m(model, generator, steps_per_epoch, epochs, verbose, callbacks, validation_data, validation_steps, class_weight, max_queue_size, workers, use_multiprocessing, shuffle, initial_epoch)\u001b[0m\n\u001b[0;32m    215\u001b[0m                 outs = model.train_on_batch(x, y,\n\u001b[0;32m    216\u001b[0m                                             \u001b[0msample_weight\u001b[0m\u001b[1;33m=\u001b[0m\u001b[0msample_weight\u001b[0m\u001b[1;33m,\u001b[0m\u001b[1;33m\u001b[0m\u001b[0m\n\u001b[1;32m--> 217\u001b[1;33m                                             class_weight=class_weight)\n\u001b[0m\u001b[0;32m    218\u001b[0m \u001b[1;33m\u001b[0m\u001b[0m\n\u001b[0;32m    219\u001b[0m                 \u001b[0mouts\u001b[0m \u001b[1;33m=\u001b[0m \u001b[0mto_list\u001b[0m\u001b[1;33m(\u001b[0m\u001b[0mouts\u001b[0m\u001b[1;33m)\u001b[0m\u001b[1;33m\u001b[0m\u001b[0m\n",
      "\u001b[1;32mD:\\ProgramData\\Anaconda3\\envs\\tf\\lib\\site-packages\\keras\\engine\\training.py\u001b[0m in \u001b[0;36mtrain_on_batch\u001b[1;34m(self, x, y, sample_weight, class_weight)\u001b[0m\n\u001b[0;32m   1215\u001b[0m             \u001b[0mins\u001b[0m \u001b[1;33m=\u001b[0m \u001b[0mx\u001b[0m \u001b[1;33m+\u001b[0m \u001b[0my\u001b[0m \u001b[1;33m+\u001b[0m \u001b[0msample_weights\u001b[0m\u001b[1;33m\u001b[0m\u001b[0m\n\u001b[0;32m   1216\u001b[0m         \u001b[0mself\u001b[0m\u001b[1;33m.\u001b[0m\u001b[0m_make_train_function\u001b[0m\u001b[1;33m(\u001b[0m\u001b[1;33m)\u001b[0m\u001b[1;33m\u001b[0m\u001b[0m\n\u001b[1;32m-> 1217\u001b[1;33m         \u001b[0moutputs\u001b[0m \u001b[1;33m=\u001b[0m \u001b[0mself\u001b[0m\u001b[1;33m.\u001b[0m\u001b[0mtrain_function\u001b[0m\u001b[1;33m(\u001b[0m\u001b[0mins\u001b[0m\u001b[1;33m)\u001b[0m\u001b[1;33m\u001b[0m\u001b[0m\n\u001b[0m\u001b[0;32m   1218\u001b[0m         \u001b[1;32mreturn\u001b[0m \u001b[0munpack_singleton\u001b[0m\u001b[1;33m(\u001b[0m\u001b[0moutputs\u001b[0m\u001b[1;33m)\u001b[0m\u001b[1;33m\u001b[0m\u001b[0m\n\u001b[0;32m   1219\u001b[0m \u001b[1;33m\u001b[0m\u001b[0m\n",
      "\u001b[1;32mD:\\ProgramData\\Anaconda3\\envs\\tf\\lib\\site-packages\\keras\\backend\\tensorflow_backend.py\u001b[0m in \u001b[0;36m__call__\u001b[1;34m(self, inputs)\u001b[0m\n\u001b[0;32m   2713\u001b[0m                 \u001b[1;32mreturn\u001b[0m \u001b[0mself\u001b[0m\u001b[1;33m.\u001b[0m\u001b[0m_legacy_call\u001b[0m\u001b[1;33m(\u001b[0m\u001b[0minputs\u001b[0m\u001b[1;33m)\u001b[0m\u001b[1;33m\u001b[0m\u001b[0m\n\u001b[0;32m   2714\u001b[0m \u001b[1;33m\u001b[0m\u001b[0m\n\u001b[1;32m-> 2715\u001b[1;33m             \u001b[1;32mreturn\u001b[0m \u001b[0mself\u001b[0m\u001b[1;33m.\u001b[0m\u001b[0m_call\u001b[0m\u001b[1;33m(\u001b[0m\u001b[0minputs\u001b[0m\u001b[1;33m)\u001b[0m\u001b[1;33m\u001b[0m\u001b[0m\n\u001b[0m\u001b[0;32m   2716\u001b[0m         \u001b[1;32melse\u001b[0m\u001b[1;33m:\u001b[0m\u001b[1;33m\u001b[0m\u001b[0m\n\u001b[0;32m   2717\u001b[0m             \u001b[1;32mif\u001b[0m \u001b[0mpy_any\u001b[0m\u001b[1;33m(\u001b[0m\u001b[0mis_tensor\u001b[0m\u001b[1;33m(\u001b[0m\u001b[0mx\u001b[0m\u001b[1;33m)\u001b[0m \u001b[1;32mfor\u001b[0m \u001b[0mx\u001b[0m \u001b[1;32min\u001b[0m \u001b[0minputs\u001b[0m\u001b[1;33m)\u001b[0m\u001b[1;33m:\u001b[0m\u001b[1;33m\u001b[0m\u001b[0m\n",
      "\u001b[1;32mD:\\ProgramData\\Anaconda3\\envs\\tf\\lib\\site-packages\\keras\\backend\\tensorflow_backend.py\u001b[0m in \u001b[0;36m_call\u001b[1;34m(self, inputs)\u001b[0m\n\u001b[0;32m   2673\u001b[0m             \u001b[0mfetched\u001b[0m \u001b[1;33m=\u001b[0m \u001b[0mself\u001b[0m\u001b[1;33m.\u001b[0m\u001b[0m_callable_fn\u001b[0m\u001b[1;33m(\u001b[0m\u001b[1;33m*\u001b[0m\u001b[0marray_vals\u001b[0m\u001b[1;33m,\u001b[0m \u001b[0mrun_metadata\u001b[0m\u001b[1;33m=\u001b[0m\u001b[0mself\u001b[0m\u001b[1;33m.\u001b[0m\u001b[0mrun_metadata\u001b[0m\u001b[1;33m)\u001b[0m\u001b[1;33m\u001b[0m\u001b[0m\n\u001b[0;32m   2674\u001b[0m         \u001b[1;32melse\u001b[0m\u001b[1;33m:\u001b[0m\u001b[1;33m\u001b[0m\u001b[0m\n\u001b[1;32m-> 2675\u001b[1;33m             \u001b[0mfetched\u001b[0m \u001b[1;33m=\u001b[0m \u001b[0mself\u001b[0m\u001b[1;33m.\u001b[0m\u001b[0m_callable_fn\u001b[0m\u001b[1;33m(\u001b[0m\u001b[1;33m*\u001b[0m\u001b[0marray_vals\u001b[0m\u001b[1;33m)\u001b[0m\u001b[1;33m\u001b[0m\u001b[0m\n\u001b[0m\u001b[0;32m   2676\u001b[0m         \u001b[1;32mreturn\u001b[0m \u001b[0mfetched\u001b[0m\u001b[1;33m[\u001b[0m\u001b[1;33m:\u001b[0m\u001b[0mlen\u001b[0m\u001b[1;33m(\u001b[0m\u001b[0mself\u001b[0m\u001b[1;33m.\u001b[0m\u001b[0moutputs\u001b[0m\u001b[1;33m)\u001b[0m\u001b[1;33m]\u001b[0m\u001b[1;33m\u001b[0m\u001b[0m\n\u001b[0;32m   2677\u001b[0m \u001b[1;33m\u001b[0m\u001b[0m\n",
      "\u001b[1;32mD:\\ProgramData\\Anaconda3\\envs\\tf\\lib\\site-packages\\tensorflow\\python\\client\\session.py\u001b[0m in \u001b[0;36m__call__\u001b[1;34m(self, *args, **kwargs)\u001b[0m\n\u001b[0;32m   1437\u001b[0m           ret = tf_session.TF_SessionRunCallable(\n\u001b[0;32m   1438\u001b[0m               \u001b[0mself\u001b[0m\u001b[1;33m.\u001b[0m\u001b[0m_session\u001b[0m\u001b[1;33m.\u001b[0m\u001b[0m_session\u001b[0m\u001b[1;33m,\u001b[0m \u001b[0mself\u001b[0m\u001b[1;33m.\u001b[0m\u001b[0m_handle\u001b[0m\u001b[1;33m,\u001b[0m \u001b[0margs\u001b[0m\u001b[1;33m,\u001b[0m \u001b[0mstatus\u001b[0m\u001b[1;33m,\u001b[0m\u001b[1;33m\u001b[0m\u001b[0m\n\u001b[1;32m-> 1439\u001b[1;33m               run_metadata_ptr)\n\u001b[0m\u001b[0;32m   1440\u001b[0m         \u001b[1;32mif\u001b[0m \u001b[0mrun_metadata\u001b[0m\u001b[1;33m:\u001b[0m\u001b[1;33m\u001b[0m\u001b[0m\n\u001b[0;32m   1441\u001b[0m           \u001b[0mproto_data\u001b[0m \u001b[1;33m=\u001b[0m \u001b[0mtf_session\u001b[0m\u001b[1;33m.\u001b[0m\u001b[0mTF_GetBuffer\u001b[0m\u001b[1;33m(\u001b[0m\u001b[0mrun_metadata_ptr\u001b[0m\u001b[1;33m)\u001b[0m\u001b[1;33m\u001b[0m\u001b[0m\n",
      "\u001b[1;31mKeyboardInterrupt\u001b[0m: "
     ]
    }
   ],
   "source": [
    "np.seterr(invalid='ignore')\n",
    "np.warnings.filterwarnings('ignore')\n",
    "history = model.fit_generator( generator=trainGenerator,\n",
    "                    use_multiprocessing=False, \n",
    "                    workers=2, \n",
    "                    initial_epoch = 0,\n",
    "                    epochs=12,\n",
    "                    max_q_size = 10,\n",
    "                    steps_per_epoch = trainGenerator.__len__(),\n",
    "                    callbacks = [livePlotKeras]\n",
    "                   )"
   ]
  },
  {
   "cell_type": "code",
   "execution_count": null,
   "metadata": {},
   "outputs": [],
   "source": [
    "aBatch = trainGenerator.__getitem__(0)"
   ]
  },
  {
   "cell_type": "code",
   "execution_count": null,
   "metadata": {},
   "outputs": [],
   "source": [
    "os.getcwd()"
   ]
  },
  {
   "cell_type": "code",
   "execution_count": null,
   "metadata": {},
   "outputs": [],
   "source": []
  }
 ],
 "metadata": {
  "kernelspec": {
   "display_name": "Python 3",
   "language": "python",
   "name": "python3"
  },
  "language_info": {
   "codemirror_mode": {
    "name": "ipython",
    "version": 3
   },
   "file_extension": ".py",
   "mimetype": "text/x-python",
   "name": "python",
   "nbconvert_exporter": "python",
   "pygments_lexer": "ipython3",
   "version": "3.6.6"
  }
 },
 "nbformat": 4,
 "nbformat_minor": 2
}
