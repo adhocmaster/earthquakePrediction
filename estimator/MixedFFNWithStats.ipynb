{
 "cells": [
  {
   "cell_type": "code",
   "execution_count": 1,
   "metadata": {},
   "outputs": [
    {
     "name": "stdout",
     "output_type": "stream",
     "text": [
      "current working dirF:\\myProjects\\tfKeras\\UCSC\\CMPS242\\earthquake\n"
     ]
    }
   ],
   "source": [
    "exec(open(\"inc_notebook.py\").read())"
   ]
  },
  {
   "cell_type": "code",
   "execution_count": 2,
   "metadata": {},
   "outputs": [
    {
     "name": "stderr",
     "output_type": "stream",
     "text": [
      "Using TensorFlow backend.\n",
      "WARNING:root:Limiting GPU to 0.8. Increase it in initKeras.py. Next is available GPUs\n",
      "WARNING:root:['/job:localhost/replica:0/task:0/device:GPU:0']\n"
     ]
    }
   ],
   "source": [
    "import logging, sys, math,os\n",
    "exec(open(\"estimator/initKeras.py\").read())\n"
   ]
  },
  {
   "cell_type": "code",
   "execution_count": 3,
   "metadata": {},
   "outputs": [],
   "source": [
    "from matplotlib import pyplot as plt\n",
    "%matplotlib inline\n",
    "import seaborn as sns\n",
    "sns.set(style=\"darkgrid\")"
   ]
  },
  {
   "cell_type": "code",
   "execution_count": 4,
   "metadata": {},
   "outputs": [
    {
     "name": "stderr",
     "output_type": "stream",
     "text": [
      "WARNING:root:MultipleBinDataGenerator loaded\n",
      "D:\\ProgramData\\Anaconda3\\envs\\tf\\lib\\site-packages\\sklearn\\base.py:251: UserWarning: Trying to unpickle estimator RobustScaler from version 0.20.2 when using version 0.20.0. This might lead to breaking code or invalid results. Use at your own risk.\n",
      "  UserWarning)\n",
      "WARNING:root:shuffling: False\n"
     ]
    }
   ],
   "source": [
    "if sys.modules.get( 'library.MultipleBinDataGenerator', False ) != False :\n",
    "    del sys.modules['library.MultipleBinDataGenerator'] \n",
    "if sys.modules.get( 'MultipleBinDataGenerator', False ) != False :\n",
    "    del sys.modules['MultipleBinDataGenerator'] \n",
    "from library.MultipleBinDataGenerator import *\n",
    "\n",
    "logging.warning( \"MultipleBinDataGenerator loaded\" )\n",
    "\n",
    "trainGenerator = MultipleBinDataGenerator(batch_size=16, windowSize = 36, stride = 6)"
   ]
  },
  {
   "cell_type": "code",
   "execution_count": 5,
   "metadata": {},
   "outputs": [
    {
     "name": "stderr",
     "output_type": "stream",
     "text": [
      "WARNING:root:LivePlotKeras loaded\n"
     ]
    }
   ],
   "source": [
    "\n",
    "if sys.modules.get( 'library.LivePlotKeras', False ) != False :\n",
    "    del sys.modules['library.LivePlotKeras'] \n",
    "if sys.modules.get( 'LivePlotKeras', False ) != False :\n",
    "    del sys.modules['LivePlotKeras'] \n",
    "from library.LivePlotKeras import *\n",
    "\n",
    "logging.warning( \"LivePlotKeras loaded\" )\n",
    "\n",
    "livePlotKeras = LivePlotKeras()"
   ]
  },
  {
   "cell_type": "code",
   "execution_count": 6,
   "metadata": {},
   "outputs": [
    {
     "name": "stderr",
     "output_type": "stream",
     "text": [
      "WARNING:root:EstimatorIO loaded\n"
     ]
    }
   ],
   "source": [
    "if sys.modules.get( 'estimator.EstimatorIO', False ) != False :\n",
    "    del sys.modules['estimator.EstimatorIO'] \n",
    "if sys.modules.get( 'EstimatorIO', False ) != False :\n",
    "    del sys.modules['EstimatorIO'] \n",
    "from estimator.EstimatorIO import *\n",
    "\n",
    "logging.warning( \"EstimatorIO loaded\" )\n",
    "\n",
    "estimatorIO = EstimatorIO()"
   ]
  },
  {
   "cell_type": "code",
   "execution_count": 7,
   "metadata": {},
   "outputs": [
    {
     "data": {
      "text/plain": [
       "1599"
      ]
     },
     "execution_count": 7,
     "metadata": {},
     "output_type": "execute_result"
    }
   ],
   "source": [
    "trainGenerator.__len__()"
   ]
  },
  {
   "cell_type": "code",
   "execution_count": 8,
   "metadata": {},
   "outputs": [],
   "source": [
    "model_input = layers.Input( shape = ( 15 + 6 * 27 + 2 + 15+ 3 * 27,  ) )"
   ]
  },
  {
   "cell_type": "code",
   "execution_count": 9,
   "metadata": {},
   "outputs": [
    {
     "name": "stdout",
     "output_type": "stream",
     "text": [
      "_________________________________________________________________\n",
      "Layer (type)                 Output Shape              Param #   \n",
      "=================================================================\n",
      "input_1 (InputLayer)         (None, 275)               0         \n",
      "_________________________________________________________________\n",
      "dense_1 (Dense)              (None, 64)                17664     \n",
      "_________________________________________________________________\n",
      "leaky_re_lu_1 (LeakyReLU)    (None, 64)                0         \n",
      "_________________________________________________________________\n",
      "dense_2 (Dense)              (None, 32)                2080      \n",
      "_________________________________________________________________\n",
      "leaky_re_lu_2 (LeakyReLU)    (None, 32)                0         \n",
      "_________________________________________________________________\n",
      "dense_3 (Dense)              (None, 48)                1584      \n",
      "_________________________________________________________________\n",
      "leaky_re_lu_3 (LeakyReLU)    (None, 48)                0         \n",
      "_________________________________________________________________\n",
      "dropout_1 (Dropout)          (None, 48)                0         \n",
      "_________________________________________________________________\n",
      "dense_4 (Dense)              (None, 8)                 392       \n",
      "_________________________________________________________________\n",
      "leaky_re_lu_4 (LeakyReLU)    (None, 8)                 0         \n",
      "_________________________________________________________________\n",
      "dense_5 (Dense)              (None, 1)                 9         \n",
      "=================================================================\n",
      "Total params: 21,729\n",
      "Trainable params: 21,729\n",
      "Non-trainable params: 0\n",
      "_________________________________________________________________\n"
     ]
    }
   ],
   "source": [
    "x = layers.Dense(64)(model_input)\n",
    "x = layers.LeakyReLU(alpha=0.1)(x)\n",
    "x = layers.Dense(32)(x)\n",
    "x = layers.LeakyReLU(alpha=0.1)(x)\n",
    "\n",
    "x = layers.Dense(48)(x)\n",
    "x = layers.LeakyReLU(alpha=0.1)(x)\n",
    "x = layers.Dropout(0.2)(x)\n",
    "\n",
    "x = layers.Dense(8)(x)\n",
    "x = layers.LeakyReLU(alpha=0.1)(x)\n",
    "\n",
    "x = layers.Dense(1, activation=activations.relu)(x)\n",
    "\n",
    "model = models.Model(model_input, x, name = \"TinyFFN\")\n",
    "model.summary()"
   ]
  },
  {
   "cell_type": "code",
   "execution_count": 10,
   "metadata": {},
   "outputs": [],
   "source": [
    "model.compile(optimizer=optimizers.Adam(lr=0.001),\n",
    "             loss = losses.MSE,\n",
    "             metrics = [metrics.MSE, metrics.MAE])"
   ]
  },
  {
   "cell_type": "code",
   "execution_count": 11,
   "metadata": {},
   "outputs": [],
   "source": [
    "sys.path.remove(str(projectFolder))\n",
    "os.chdir(currentFolder)"
   ]
  },
  {
   "cell_type": "code",
   "execution_count": null,
   "metadata": {},
   "outputs": [
    {
     "data": {
      "image/png": "[encoded data removed]",
      "text/plain": [
       "<Figure size 1440x720 with 1 Axes>"
      ]
     },
     "metadata": {},
     "output_type": "display_data"
    },
    {
     "name": "stdout",
     "output_type": "stream",
     "text": [
      "Epoch 25/50\n",
      " 936/1599 [================>.............] - ETA: 3s - loss: 8.2060 - mean_squared_error: 8.2060 - mean_absolute_error: 2.2381"
     ]
    }
   ],
   "source": [
    "np.seterr(invalid='ignore')\n",
    "np.warnings.filterwarnings('ignore')\n",
    "history = model.fit_generator( generator=trainGenerator,\n",
    "                    use_multiprocessing=False, \n",
    "                    workers=2, \n",
    "                    initial_epoch = 0,\n",
    "                    epochs=50,\n",
    "                    max_q_size = 10,\n",
    "                    steps_per_epoch = trainGenerator.__len__(),\n",
    "                    callbacks = [livePlotKeras]\n",
    "                   )"
   ]
  },
  {
   "cell_type": "code",
   "execution_count": null,
   "metadata": {},
   "outputs": [],
   "source": [
    "estimatorIO.save(model, model.name)"
   ]
  },
  {
   "cell_type": "code",
   "execution_count": null,
   "metadata": {},
   "outputs": [],
   "source": []
  }
 ],
 "metadata": {
  "kernelspec": {
   "display_name": "Python 3",
   "language": "python",
   "name": "python3"
  },
  "language_info": {
   "codemirror_mode": {
    "name": "ipython",
    "version": 3
   },
   "file_extension": ".py",
   "mimetype": "text/x-python",
   "name": "python",
   "nbconvert_exporter": "python",
   "pygments_lexer": "ipython3",
   "version": "3.6.6"
  }
 },
 "nbformat": 4,
 "nbformat_minor": 2
}
