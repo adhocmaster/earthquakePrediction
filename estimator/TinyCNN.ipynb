{
 "cells": [
  {
   "cell_type": "code",
   "execution_count": 1,
   "metadata": {},
   "outputs": [],
   "source": [
    "import logging, sys, math\n",
    "import logging, sys, math,os\n",
    "\n",
    "currentFolder = os.path.abspath('')\n",
    "try:\n",
    "    sys.path.remove(str(currentFolder))\n",
    "except ValueError: # Already removed\n",
    "    pass\n",
    "\n",
    "projectFolder = '/home/exx/muktadir/earthquakePrediction/'\n",
    "projectFolder = 'F:/myProjects/tfKeras/UCSC/CMPS242/earthquake/'\n",
    "sys.path.append(str(projectFolder))"
   ]
  },
  {
   "cell_type": "code",
   "execution_count": 2,
   "metadata": {},
   "outputs": [
    {
     "name": "stderr",
     "output_type": "stream",
     "text": [
      "Using TensorFlow backend.\n",
      "WARNING:root:Limiting GPU to 0.8. Increase it in initKeras.py. Next is available GPUs\n",
      "WARNING:root:['/job:localhost/replica:0/task:0/device:GPU:0']\n"
     ]
    }
   ],
   "source": [
    "exec(open(\"initKeras.py\").read())"
   ]
  },
  {
   "cell_type": "code",
   "execution_count": 58,
   "metadata": {},
   "outputs": [
    {
     "name": "stderr",
     "output_type": "stream",
     "text": [
      "WARNING:root:SingleBinDataGenerator loaded\n"
     ]
    }
   ],
   "source": [
    "if sys.modules.get( 'library.SingleBinDataGenerator', False ) != False :\n",
    "    del sys.modules['library.SingleBinDataGenerator'] \n",
    "if sys.modules.get( 'SingleBinDataGenerator', False ) != False :\n",
    "    del sys.modules['SingleBinDataGenerator'] \n",
    "from library.SingleBinDataGenerator import *\n",
    "\n",
    "logging.warning( \"SingleBinDataGenerator loaded\" )\n",
    "\n",
    "trainGenerator = SingleBinDataGenerator(numBins = 100000, shuffle=False)\n",
    "validationGenerator = SingleBinDataGenerator(startBinId = 100001, numBins = 10000, shuffle=False)\n"
   ]
  },
  {
   "cell_type": "code",
   "execution_count": 63,
   "metadata": {},
   "outputs": [
    {
     "name": "stderr",
     "output_type": "stream",
     "text": [
      "WARNING:root:LivePlotKeras loaded\n"
     ]
    }
   ],
   "source": [
    "from matplotlib import pyplot as plt\n",
    "%matplotlib inline\n",
    "import seaborn as sns\n",
    "sns.set(style=\"darkgrid\")\n",
    "\n",
    "if sys.modules.get( 'library.LivePlotKeras', False ) != False :\n",
    "    del sys.modules['library.LivePlotKeras'] \n",
    "if sys.modules.get( 'LivePlotKeras', False ) != False :\n",
    "    del sys.modules['LivePlotKeras'] \n",
    "from library.LivePlotKeras import *\n",
    "\n",
    "logging.warning( \"LivePlotKeras loaded\" )\n",
    "\n",
    "livePlotKeras = LivePlotKeras()"
   ]
  },
  {
   "cell_type": "code",
   "execution_count": 64,
   "metadata": {},
   "outputs": [],
   "source": [
    "\n",
    "batch_size = 32\n",
    "train_steps = int(100000 / batch_size)\n",
    "validation_steps = int(10000 / batch_size)"
   ]
  },
  {
   "cell_type": "code",
   "execution_count": 65,
   "metadata": {},
   "outputs": [
    {
     "name": "stdout",
     "output_type": "stream",
     "text": [
      "_________________________________________________________________\n",
      "Layer (type)                 Output Shape              Param #   \n",
      "=================================================================\n",
      "input_4 (InputLayer)         (None, 64, 64, 1)         0         \n",
      "_________________________________________________________________\n",
      "conv2d_7 (Conv2D)            (None, 64, 64, 64)        1664      \n",
      "_________________________________________________________________\n",
      "dropout_4 (Dropout)          (None, 64, 64, 64)        0         \n",
      "_________________________________________________________________\n",
      "conv2d_8 (Conv2D)            (None, 64, 64, 32)        18464     \n",
      "_________________________________________________________________\n",
      "dropout_5 (Dropout)          (None, 64, 64, 32)        0         \n",
      "_________________________________________________________________\n",
      "conv2d_9 (Conv2D)            (None, 64, 64, 16)        4624      \n",
      "_________________________________________________________________\n",
      "flatten_3 (Flatten)          (None, 65536)             0         \n",
      "_________________________________________________________________\n",
      "dense_4 (Dense)              (None, 1)                 65537     \n",
      "=================================================================\n",
      "Total params: 90,289\n",
      "Trainable params: 90,289\n",
      "Non-trainable params: 0\n",
      "_________________________________________________________________\n"
     ]
    }
   ],
   "source": [
    "model_input = layers.Input( shape = ( 64, 64, 1 ) )\n",
    "x = layers.Conv2D(64, \n",
    "        kernel_size = (5,5), \n",
    "        activation = activations.relu,\n",
    "        padding = 'same'\n",
    "        )(model_input)\n",
    "x = layers.Dropout(0.2)(x)\n",
    "x = layers.Conv2D(32, kernel_size=(3,3), activation=activations.relu, padding='same')(x)\n",
    "x = layers.Dropout(0.2)(x)\n",
    "x = layers.Conv2D(16, kernel_size=(3,3), activation=activations.relu, padding='same')(x)\n",
    "x = layers.Flatten()(x)\n",
    "x = layers.Dense(1)(x)\n",
    "\n",
    "model = models.Model(model_input, x, name = \"TinyCNN\")\n",
    "model.summary()"
   ]
  },
  {
   "cell_type": "code",
   "execution_count": 66,
   "metadata": {},
   "outputs": [],
   "source": [
    "model.compile(optimizer=optimizers.Adam(lr=0.001),\n",
    "             loss = losses.MSE,\n",
    "             metrics = [metrics.MSE, metrics.MAE])"
   ]
  },
  {
   "cell_type": "code",
   "execution_count": null,
   "metadata": {},
   "outputs": [
    {
     "name": "stderr",
     "output_type": "stream",
     "text": [
      "D:\\ProgramData\\Anaconda3\\envs\\tf\\lib\\site-packages\\ipykernel_launcher.py:10: UserWarning: Update your `fit_generator` call to the Keras 2 API: `fit_generator(generator=<library.S..., validation_data=<library.S..., use_multiprocessing=True, workers=2, initial_epoch=0, epochs=20, steps_per_epoch=3125, validation_steps=312, callbacks=[<library...., max_queue_size=100)`\n",
      "  # Remove the CWD from sys.path while we load stuff.\n"
     ]
    },
    {
     "name": "stdout",
     "output_type": "stream",
     "text": [
      "Epoch 1/20\n",
      "2789/3125 [=========================>....] - ETA: 10s - loss: 15.4960 - mean_squared_error: 15.4960 - mean_absolute_error: 3.2335"
     ]
    }
   ],
   "source": [
    "history = model.fit_generator( generator=trainGenerator,\n",
    "                    validation_data = trainGenerator,\n",
    "                    use_multiprocessing=True, \n",
    "                    workers=2, \n",
    "                    initial_epoch = 0,\n",
    "                    epochs=20,\n",
    "                    max_q_size = 100,\n",
    "                    steps_per_epoch = train_steps,\n",
    "                    validation_steps = validation_steps,\n",
    "                    callbacks = [livePlotKeras]\n",
    "                   )"
   ]
  },
  {
   "cell_type": "code",
   "execution_count": 56,
   "metadata": {},
   "outputs": [],
   "source": []
  },
  {
   "cell_type": "code",
   "execution_count": null,
   "metadata": {},
   "outputs": [],
   "source": [
    "trainError = history.history['mean_squared_error']\n",
    "validationError = history.history['val_mean_squared_error']\n",
    "n = list(range(len(trainError)))\n",
    "ax = sns.lineplot(n, y=trainError, estimator = None, label = \"train\" )\n",
    "ax = sns.lineplot(n, y=validationError, estimator = None, label = \"validation\" )"
   ]
  },
  {
   "cell_type": "code",
   "execution_count": null,
   "metadata": {},
   "outputs": [],
   "source": [
    "trainError"
   ]
  },
  {
   "cell_type": "code",
   "execution_count": null,
   "metadata": {},
   "outputs": [],
   "source": []
  }
 ],
 "metadata": {
  "kernelspec": {
   "display_name": "Python 3",
   "language": "python",
   "name": "python3"
  },
  "language_info": {
   "codemirror_mode": {
    "name": "ipython",
    "version": 3
   },
   "file_extension": ".py",
   "mimetype": "text/x-python",
   "name": "python",
   "nbconvert_exporter": "python",
   "pygments_lexer": "ipython3",
   "version": "3.6.6"
  }
 },
 "nbformat": 4,
 "nbformat_minor": 2
}
