{
 "cells": [
  {
   "cell_type": "code",
   "execution_count": 7,
   "metadata": {},
   "outputs": [
    {
     "ename": "FileNotFoundError",
     "evalue": "[Errno 2] No such file or directory: 'inc_notebook.py'",
     "output_type": "error",
     "traceback": [
      "\u001b[1;31m---------------------------------------------------------------------------\u001b[0m",
      "\u001b[1;31mFileNotFoundError\u001b[0m                         Traceback (most recent call last)",
      "\u001b[1;32m<ipython-input-7-1c0d2b829ef1>\u001b[0m in \u001b[0;36m<module>\u001b[1;34m()\u001b[0m\n\u001b[1;32m----> 1\u001b[1;33m \u001b[0mexec\u001b[0m\u001b[1;33m(\u001b[0m\u001b[0mopen\u001b[0m\u001b[1;33m(\u001b[0m\u001b[1;34m\"inc_notebook.py\"\u001b[0m\u001b[1;33m)\u001b[0m\u001b[1;33m.\u001b[0m\u001b[0mread\u001b[0m\u001b[1;33m(\u001b[0m\u001b[1;33m)\u001b[0m\u001b[1;33m)\u001b[0m\u001b[1;33m\u001b[0m\u001b[0m\n\u001b[0m",
      "\u001b[1;31mFileNotFoundError\u001b[0m: [Errno 2] No such file or directory: 'inc_notebook.py'"
     ]
    }
   ],
   "source": [
    "exec(open(\"inc_notebook.py\").read())"
   ]
  },
  {
   "cell_type": "code",
   "execution_count": null,
   "metadata": {},
   "outputs": [],
   "source": [
    "import logging, sys, math,os\n",
    "exec(open(\"estimator/initKeras.py\").read())"
   ]
  },
  {
   "cell_type": "code",
   "execution_count": 8,
   "metadata": {},
   "outputs": [],
   "source": [
    "from matplotlib import pyplot as plt\n",
    "%matplotlib inline\n",
    "import seaborn as sns\n",
    "sns.set(style=\"darkgrid\")"
   ]
  },
  {
   "cell_type": "code",
   "execution_count": 31,
   "metadata": {},
   "outputs": [
    {
     "name": "stderr",
     "output_type": "stream",
     "text": [
      "WARNING:root:EstimatorIO loaded\n",
      "WARNING:root:OneStatsGeneratorForTestPos loaded\n",
      "D:\\ProgramData\\Anaconda3\\envs\\tf\\lib\\site-packages\\sklearn\\base.py:251: UserWarning: Trying to unpickle estimator RobustScaler from version 0.20.2 when using version 0.20.0. This might lead to breaking code or invalid results. Use at your own risk.\n",
      "  UserWarning)\n"
     ]
    }
   ],
   "source": [
    "if sys.modules.get( 'estimator.EstimatorIO', False ) != False :\n",
    "    del sys.modules['estimator.EstimatorIO'] \n",
    "if sys.modules.get( 'EstimatorIO', False ) != False :\n",
    "    del sys.modules['EstimatorIO'] \n",
    "from estimator.EstimatorIO import *\n",
    "\n",
    "logging.warning( \"EstimatorIO loaded\" )\n",
    "\n",
    "estimatorIO = EstimatorIO()\n",
    "\n",
    "if sys.modules.get( 'library', False ) != False :\n",
    "    del sys.modules['library'] \n",
    "    \n",
    "if sys.modules.get( 'library.OneStatsGeneratorForTestPos', False ) != False :\n",
    "    del sys.modules['library.OneStatsGeneratorForTestPos'] \n",
    "if sys.modules.get( 'OneStatsGeneratorForTestPos', False ) != False :\n",
    "    del sys.modules['OneStatsGeneratorForTestPos'] \n",
    "from library.OneStatsGeneratorForTestPos import *  \n",
    "logging.warning( \"OneStatsGeneratorForTestPos loaded\" )\n",
    "\n",
    "generator = OneStatsGeneratorForTestPos()\n"
   ]
  },
  {
   "cell_type": "code",
   "execution_count": 32,
   "metadata": {},
   "outputs": [],
   "source": [
    "trainModel = estimatorIO.loadTrainKerasModel('TinyFFN')\n",
    "testModel = estimatorIO.loadTestKerasModel('TinyFFN')"
   ]
  },
  {
   "cell_type": "code",
   "execution_count": 95,
   "metadata": {},
   "outputs": [
    {
     "name": "stderr",
     "output_type": "stream",
     "text": [
      "WARNING:root:encountered exception while reading embedding #34113: [Errno 2] No such file or directory: 'C:/earthquake/one-stats-test-embedding/em_34113.dill'. Sliently progressing\n"
     ]
    }
   ],
   "source": [
    "import pandas as pd\n",
    "output = pd.read_csv('F:/myProjects/cmps242/earthquake/data/sample_submission.csv')\n",
    "dic = {}\n",
    "for testName, batch in generator.batchesByFile():\n",
    "#     print(f'test: {testName}')\n",
    "#     print(trainModel.predict(batch, batch_size=generator.numberOfEmbeddingPerFile))\n",
    "    pred = trainModel.predict(batch, batch_size=generator.numberOfEmbeddingPerFile)\n",
    "    dic[testName] = pred\n",
    "#     print( output.index[output['seg_id'] == testName])\n",
    "    output.at[output.index[output['seg_id'] == testName], 'time_to_failure'] = np.median(pred)\n",
    "    "
   ]
  },
  {
   "cell_type": "code",
   "execution_count": 98,
   "metadata": {},
   "outputs": [],
   "source": [
    "output.to_csv('F:/myProjects/cmps242/earthquake/data/sample_submission2.csv', index=False)"
   ]
  },
  {
   "cell_type": "code",
   "execution_count": 44,
   "metadata": {},
   "outputs": [],
   "source": [
    "testIds=[]\n",
    "mean=[]\n",
    "median=[]\n",
    "maximum=[]\n",
    "minimum=[]\n",
    "for testName, predictions in dic.items():\n",
    "    testIds.append(testName)\n",
    "    mean.append(predictions.mean())\n",
    "    median.append(np.median(predictions))\n",
    "    maximum.append(np.max(predictions))\n",
    "    minimum.append(np.min(predictions))\n"
   ]
  },
  {
   "cell_type": "code",
   "execution_count": 54,
   "metadata": {},
   "outputs": [],
   "source": [
    "outputDf = pd.DataFrame({'seg_id': testIds, 'mean': mean, 'median': median, 'maximum': maximum, 'minimum': minimum})"
   ]
  },
  {
   "cell_type": "code",
   "execution_count": 57,
   "metadata": {},
   "outputs": [
    {
     "data": {
      "text/html": [
       "<div>\n",
       "<style scoped>\n",
       "    .dataframe tbody tr th:only-of-type {\n",
       "        vertical-align: middle;\n",
       "    }\n",
       "\n",
       "    .dataframe tbody tr th {\n",
       "        vertical-align: top;\n",
       "    }\n",
       "\n",
       "    .dataframe thead th {\n",
       "        text-align: right;\n",
       "    }\n",
       "</style>\n",
       "<table border=\"1\" class=\"dataframe\">\n",
       "  <thead>\n",
       "    <tr style=\"text-align: right;\">\n",
       "      <th></th>\n",
       "      <th>seg_id</th>\n",
       "      <th>mean</th>\n",
       "      <th>median</th>\n",
       "      <th>maximum</th>\n",
       "      <th>minimum</th>\n",
       "    </tr>\n",
       "  </thead>\n",
       "  <tbody>\n",
       "    <tr>\n",
       "      <th>2619</th>\n",
       "      <td>seg_ff4236</td>\n",
       "      <td>6.881995</td>\n",
       "      <td>6.406823</td>\n",
       "      <td>12.512607</td>\n",
       "      <td>1.317240</td>\n",
       "    </tr>\n",
       "    <tr>\n",
       "      <th>2620</th>\n",
       "      <td>seg_ff7478</td>\n",
       "      <td>7.257835</td>\n",
       "      <td>7.889874</td>\n",
       "      <td>13.229629</td>\n",
       "      <td>0.000000</td>\n",
       "    </tr>\n",
       "    <tr>\n",
       "      <th>2621</th>\n",
       "      <td>seg_ff79d9</td>\n",
       "      <td>5.339462</td>\n",
       "      <td>4.555268</td>\n",
       "      <td>12.721969</td>\n",
       "      <td>0.000000</td>\n",
       "    </tr>\n",
       "    <tr>\n",
       "      <th>2622</th>\n",
       "      <td>seg_ffbd6a</td>\n",
       "      <td>5.652420</td>\n",
       "      <td>4.061804</td>\n",
       "      <td>11.426235</td>\n",
       "      <td>0.000000</td>\n",
       "    </tr>\n",
       "    <tr>\n",
       "      <th>2623</th>\n",
       "      <td>seg_ffe7cc</td>\n",
       "      <td>10.513198</td>\n",
       "      <td>11.201499</td>\n",
       "      <td>12.952996</td>\n",
       "      <td>2.995433</td>\n",
       "    </tr>\n",
       "  </tbody>\n",
       "</table>\n",
       "</div>"
      ],
      "text/plain": [
       "          seg_id       mean     median    maximum   minimum\n",
       "2619  seg_ff4236   6.881995   6.406823  12.512607  1.317240\n",
       "2620  seg_ff7478   7.257835   7.889874  13.229629  0.000000\n",
       "2621  seg_ff79d9   5.339462   4.555268  12.721969  0.000000\n",
       "2622  seg_ffbd6a   5.652420   4.061804  11.426235  0.000000\n",
       "2623  seg_ffe7cc  10.513198  11.201499  12.952996  2.995433"
      ]
     },
     "execution_count": 57,
     "metadata": {},
     "output_type": "execute_result"
    }
   ],
   "source": [
    "outputDf.tail()"
   ]
  },
  {
   "cell_type": "code",
   "execution_count": 56,
   "metadata": {},
   "outputs": [
    {
     "data": {
      "text/html": [
       "<div>\n",
       "<style scoped>\n",
       "    .dataframe tbody tr th:only-of-type {\n",
       "        vertical-align: middle;\n",
       "    }\n",
       "\n",
       "    .dataframe tbody tr th {\n",
       "        vertical-align: top;\n",
       "    }\n",
       "\n",
       "    .dataframe thead th {\n",
       "        text-align: right;\n",
       "    }\n",
       "</style>\n",
       "<table border=\"1\" class=\"dataframe\">\n",
       "  <thead>\n",
       "    <tr style=\"text-align: right;\">\n",
       "      <th></th>\n",
       "      <th>mean</th>\n",
       "      <th>median</th>\n",
       "      <th>maximum</th>\n",
       "      <th>minimum</th>\n",
       "    </tr>\n",
       "  </thead>\n",
       "  <tbody>\n",
       "    <tr>\n",
       "      <th>count</th>\n",
       "      <td>2624.000000</td>\n",
       "      <td>2624.000000</td>\n",
       "      <td>2624.000000</td>\n",
       "      <td>2624.000000</td>\n",
       "    </tr>\n",
       "    <tr>\n",
       "      <th>mean</th>\n",
       "      <td>7.327166</td>\n",
       "      <td>7.860127</td>\n",
       "      <td>12.230526</td>\n",
       "      <td>0.846505</td>\n",
       "    </tr>\n",
       "    <tr>\n",
       "      <th>std</th>\n",
       "      <td>1.886268</td>\n",
       "      <td>2.769908</td>\n",
       "      <td>1.071163</td>\n",
       "      <td>1.404504</td>\n",
       "    </tr>\n",
       "    <tr>\n",
       "      <th>min</th>\n",
       "      <td>0.997812</td>\n",
       "      <td>0.000000</td>\n",
       "      <td>3.694298</td>\n",
       "      <td>0.000000</td>\n",
       "    </tr>\n",
       "    <tr>\n",
       "      <th>25%</th>\n",
       "      <td>5.979414</td>\n",
       "      <td>5.617494</td>\n",
       "      <td>11.465412</td>\n",
       "      <td>0.000000</td>\n",
       "    </tr>\n",
       "    <tr>\n",
       "      <th>50%</th>\n",
       "      <td>7.169943</td>\n",
       "      <td>8.365703</td>\n",
       "      <td>12.311387</td>\n",
       "      <td>0.000000</td>\n",
       "    </tr>\n",
       "    <tr>\n",
       "      <th>75%</th>\n",
       "      <td>8.625362</td>\n",
       "      <td>10.037295</td>\n",
       "      <td>13.067025</td>\n",
       "      <td>1.507380</td>\n",
       "    </tr>\n",
       "    <tr>\n",
       "      <th>max</th>\n",
       "      <td>12.950901</td>\n",
       "      <td>13.730661</td>\n",
       "      <td>15.134165</td>\n",
       "      <td>10.163391</td>\n",
       "    </tr>\n",
       "  </tbody>\n",
       "</table>\n",
       "</div>"
      ],
      "text/plain": [
       "              mean       median      maximum      minimum\n",
       "count  2624.000000  2624.000000  2624.000000  2624.000000\n",
       "mean      7.327166     7.860127    12.230526     0.846505\n",
       "std       1.886268     2.769908     1.071163     1.404504\n",
       "min       0.997812     0.000000     3.694298     0.000000\n",
       "25%       5.979414     5.617494    11.465412     0.000000\n",
       "50%       7.169943     8.365703    12.311387     0.000000\n",
       "75%       8.625362    10.037295    13.067025     1.507380\n",
       "max      12.950901    13.730661    15.134165    10.163391"
      ]
     },
     "execution_count": 56,
     "metadata": {},
     "output_type": "execute_result"
    }
   ],
   "source": [
    "outputDf.describe()"
   ]
  },
  {
   "cell_type": "code",
   "execution_count": 71,
   "metadata": {},
   "outputs": [
    {
     "data": {
      "text/plain": [
       "seg_id     3\n",
       "mean       3\n",
       "median     3\n",
       "maximum    3\n",
       "minimum    3\n",
       "dtype: int64"
      ]
     },
     "execution_count": 71,
     "metadata": {},
     "output_type": "execute_result"
    }
   ],
   "source": [
    "outputDf[outputDf['median'] < .001].count()"
   ]
  },
  {
   "cell_type": "code",
   "execution_count": 68,
   "metadata": {},
   "outputs": [
    {
     "data": {
      "text/plain": [
       "seg_id     3\n",
       "mean       3\n",
       "median     3\n",
       "maximum    3\n",
       "minimum    3\n",
       "dtype: int64"
      ]
     },
     "execution_count": 68,
     "metadata": {},
     "output_type": "execute_result"
    }
   ],
   "source": [
    "outputDf[outputDf['mean'] < 2].count()"
   ]
  },
  {
   "cell_type": "code",
   "execution_count": 63,
   "metadata": {},
   "outputs": [
    {
     "data": {
      "text/plain": [
       "seg_id     0\n",
       "mean       0\n",
       "median     0\n",
       "maximum    0\n",
       "minimum    0\n",
       "dtype: int64"
      ]
     },
     "execution_count": 63,
     "metadata": {},
     "output_type": "execute_result"
    }
   ],
   "source": [
    "outputDf[outputDf['maximum'] < .1].count()"
   ]
  },
  {
   "cell_type": "code",
   "execution_count": 64,
   "metadata": {},
   "outputs": [
    {
     "data": {
      "text/plain": [
       "seg_id     1578\n",
       "mean       1578\n",
       "median     1578\n",
       "maximum    1578\n",
       "minimum    1578\n",
       "dtype: int64"
      ]
     },
     "execution_count": 64,
     "metadata": {},
     "output_type": "execute_result"
    }
   ],
   "source": [
    "outputDf[outputDf['minimum'] < .1].count()"
   ]
  },
  {
   "cell_type": "code",
   "execution_count": 65,
   "metadata": {},
   "outputs": [
    {
     "data": {
      "text/plain": [
       "2624"
      ]
     },
     "execution_count": 65,
     "metadata": {},
     "output_type": "execute_result"
    }
   ],
   "source": [
    "len(outputDf)"
   ]
  },
  {
   "cell_type": "code",
   "execution_count": 77,
   "metadata": {},
   "outputs": [
    {
     "data": {
      "text/html": [
       "<div>\n",
       "<style scoped>\n",
       "    .dataframe tbody tr th:only-of-type {\n",
       "        vertical-align: middle;\n",
       "    }\n",
       "\n",
       "    .dataframe tbody tr th {\n",
       "        vertical-align: top;\n",
       "    }\n",
       "\n",
       "    .dataframe thead th {\n",
       "        text-align: right;\n",
       "    }\n",
       "</style>\n",
       "<table border=\"1\" class=\"dataframe\">\n",
       "  <thead>\n",
       "    <tr style=\"text-align: right;\">\n",
       "      <th></th>\n",
       "      <th>seg_id</th>\n",
       "      <th>time_to_failure</th>\n",
       "    </tr>\n",
       "  </thead>\n",
       "  <tbody>\n",
       "    <tr>\n",
       "      <th>0</th>\n",
       "      <td>seg_00030f</td>\n",
       "      <td>0</td>\n",
       "    </tr>\n",
       "    <tr>\n",
       "      <th>1</th>\n",
       "      <td>seg_0012b5</td>\n",
       "      <td>0</td>\n",
       "    </tr>\n",
       "    <tr>\n",
       "      <th>2</th>\n",
       "      <td>seg_00184e</td>\n",
       "      <td>0</td>\n",
       "    </tr>\n",
       "    <tr>\n",
       "      <th>3</th>\n",
       "      <td>seg_003339</td>\n",
       "      <td>0</td>\n",
       "    </tr>\n",
       "    <tr>\n",
       "      <th>4</th>\n",
       "      <td>seg_0042cc</td>\n",
       "      <td>0</td>\n",
       "    </tr>\n",
       "  </tbody>\n",
       "</table>\n",
       "</div>"
      ],
      "text/plain": [
       "       seg_id  time_to_failure\n",
       "0  seg_00030f                0\n",
       "1  seg_0012b5                0\n",
       "2  seg_00184e                0\n",
       "3  seg_003339                0\n",
       "4  seg_0042cc                0"
      ]
     },
     "execution_count": 77,
     "metadata": {},
     "output_type": "execute_result"
    }
   ],
   "source": [
    "output.head()"
   ]
  },
  {
   "cell_type": "code",
   "execution_count": 93,
   "metadata": {},
   "outputs": [
    {
     "data": {
      "text/plain": [
       "Int64Index([2], dtype='int64')"
      ]
     },
     "execution_count": 93,
     "metadata": {},
     "output_type": "execute_result"
    }
   ],
   "source": [
    "output.index[output['seg_id'] == 'seg_00184e']"
   ]
  },
  {
   "cell_type": "code",
   "execution_count": 87,
   "metadata": {},
   "outputs": [],
   "source": [
    "output.at[2, 'time_to_failure'] = 100"
   ]
  },
  {
   "cell_type": "code",
   "execution_count": 88,
   "metadata": {},
   "outputs": [
    {
     "data": {
      "text/plain": [
       "seg_id             seg_00184e\n",
       "time_to_failure           100\n",
       "Name: 2, dtype: object"
      ]
     },
     "execution_count": 88,
     "metadata": {},
     "output_type": "execute_result"
    }
   ],
   "source": [
    "output.iloc[2]"
   ]
  },
  {
   "cell_type": "code",
   "execution_count": null,
   "metadata": {},
   "outputs": [],
   "source": []
  }
 ],
 "metadata": {
  "kernelspec": {
   "display_name": "Python 3",
   "language": "python",
   "name": "python3"
  },
  "language_info": {
   "codemirror_mode": {
    "name": "ipython",
    "version": 3
   },
   "file_extension": ".py",
   "mimetype": "text/x-python",
   "name": "python",
   "nbconvert_exporter": "python",
   "pygments_lexer": "ipython3",
   "version": "3.6.6"
  }
 },
 "nbformat": 4,
 "nbformat_minor": 2
}
