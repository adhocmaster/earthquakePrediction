{
 "cells": [
  {
   "cell_type": "code",
   "execution_count": 1,
   "metadata": {},
   "outputs": [],
   "source": [
    "import numpy as np\n",
    "import logging, sys, math"
   ]
  },
  {
   "cell_type": "code",
   "execution_count": 7,
   "metadata": {},
   "outputs": [
    {
     "name": "stderr",
     "output_type": "stream",
     "text": [
      "WARNING:root:Bin loaded\n",
      "WARNING:root:BinIO loaded\n",
      "WARNING:root:BinProcessor loaded\n",
      "WARNING:root:BinNormalizer loaded\n"
     ]
    }
   ],
   "source": [
    "if sys.modules.get( 'library', False ) != False :\n",
    "    del sys.modules['library'] \n",
    "    \n",
    "if sys.modules.get( 'library.Bin', False ) != False :\n",
    "    del sys.modules['library.Bin'] \n",
    "if sys.modules.get( 'Bin', False ) != False :\n",
    "    del sys.modules['Bin'] \n",
    "from library.Bin import *  \n",
    "logging.warning( \"Bin loaded\" )\n",
    "\n",
    "if sys.modules.get( 'library.BinIO', False ) != False :\n",
    "    del sys.modules['library.BinIO'] \n",
    "if sys.modules.get( 'BinIO', False ) != False :\n",
    "    del sys.modules['BinIO'] \n",
    "from library.BinIO import *\n",
    "logging.warning( \"BinIO loaded\" )\n",
    "binIo = BinIO()\n",
    "if sys.modules.get( 'library.BinProcessor', False ) != False :\n",
    "    del sys.modules['library.BinProcessor'] \n",
    "if sys.modules.get( 'BinProcessor', False ) != False :\n",
    "    del sys.modules['BinProcessor'] \n",
    "from library.BinProcessor import *\n",
    "logging.warning( \"BinProcessor loaded\" )\n",
    "binProcessor = BinProcessor()\n",
    "\n",
    "if sys.modules.get( 'library.BinNormalizer', False ) != False :\n",
    "    del sys.modules['library.BinNormalizer'] \n",
    "if sys.modules.get( 'BinNormalizer', False ) != False :\n",
    "    del sys.modules['BinNormalizer'] \n",
    "from library.BinNormalizer import *\n",
    "\n",
    "logging.warning( \"BinNormalizer loaded\" )\n",
    "\n",
    "binNormalizer = BinNormalizer(min=0, max=5500)"
   ]
  },
  {
   "cell_type": "code",
   "execution_count": 10,
   "metadata": {},
   "outputs": [
    {
     "name": "stdout",
     "output_type": "stream",
     "text": [
      "processed 2000th bin\n",
      "processed 4000th bin\n",
      "processed 6000th bin\n",
      "processed 8000th bin\n",
      "processed 10000th bin\n",
      "processed 12000th bin\n",
      "processed 14000th bin\n",
      "processed 16000th bin\n",
      "processed 18000th bin\n",
      "processed 20000th bin\n",
      "processed 22000th bin\n",
      "processed 24000th bin\n",
      "processed 26000th bin\n",
      "processed 28000th bin\n",
      "processed 30000th bin\n",
      "processed 32000th bin\n",
      "processed 34000th bin\n",
      "processed 36000th bin\n",
      "processed 38000th bin\n",
      "processed 40000th bin\n",
      "processed 42000th bin\n",
      "processed 44000th bin\n",
      "processed 46000th bin\n",
      "processed 48000th bin\n",
      "processed 50000th bin\n",
      "processed 52000th bin\n",
      "processed 54000th bin\n",
      "processed 56000th bin\n",
      "processed 58000th bin\n",
      "processed 60000th bin\n",
      "processed 62000th bin\n",
      "processed 64000th bin\n",
      "processed 66000th bin\n",
      "processed 68000th bin\n",
      "processed 70000th bin\n",
      "processed 72000th bin\n",
      "processed 74000th bin\n",
      "processed 76000th bin\n",
      "processed 78000th bin\n",
      "processed 80000th bin\n",
      "processed 82000th bin\n",
      "processed 84000th bin\n",
      "processed 86000th bin\n",
      "processed 88000th bin\n",
      "processed 90000th bin\n",
      "processed 92000th bin\n",
      "processed 94000th bin\n",
      "processed 96000th bin\n",
      "processed 98000th bin\n",
      "processed 100000th bin\n",
      "processed 102000th bin\n",
      "processed 104000th bin\n",
      "processed 106000th bin\n",
      "processed 108000th bin\n",
      "processed 110000th bin\n",
      "processed 112000th bin\n",
      "processed 114000th bin\n",
      "processed 116000th bin\n",
      "processed 118000th bin\n",
      "processed 120000th bin\n",
      "processed 122000th bin\n",
      "processed 124000th bin\n",
      "processed 126000th bin\n",
      "processed 128000th bin\n",
      "processed 130000th bin\n",
      "processed 132000th bin\n",
      "processed 134000th bin\n",
      "processed 136000th bin\n",
      "processed 138000th bin\n",
      "processed 140000th bin\n",
      "processed 142000th bin\n",
      "processed 144000th bin\n",
      "processed 146000th bin\n",
      "processed 148000th bin\n",
      "processed 150000th bin\n",
      "processed 152000th bin\n"
     ]
    }
   ],
   "source": [
    "binNormalizer.createNormalizedBins(binType='pos')"
   ]
  },
  {
   "cell_type": "code",
   "execution_count": 6,
   "metadata": {},
   "outputs": [],
   "source": [
    "aBin = binIo.readBinById(1, binType='nor')"
   ]
  },
  {
   "cell_type": "code",
   "execution_count": 8,
   "metadata": {},
   "outputs": [],
   "source": [
    "stats = binProcessor.getBinStats(aBin)"
   ]
  },
  {
   "cell_type": "code",
   "execution_count": 9,
   "metadata": {},
   "outputs": [
    {
     "data": {
      "text/plain": [
       "{'mean': 0.0020022644022644025,\n",
       " 'var': 5.61531582065401e-06,\n",
       " 'median': 0.0012727272727272728,\n",
       " 'skewness': 2.830740149792267,\n",
       " 'kurtosis': 10.047862649936532,\n",
       " 'max': 0.01890909090909091,\n",
       " 'min': 0.0,\n",
       " 'dif_max_min': 0.01890909090909091,\n",
       " 'dif_median_mean': -0.0007295371295371297}"
      ]
     },
     "execution_count": 9,
     "metadata": {},
     "output_type": "execute_result"
    }
   ],
   "source": [
    "stats"
   ]
  },
  {
   "cell_type": "code",
   "execution_count": null,
   "metadata": {},
   "outputs": [],
   "source": []
  }
 ],
 "metadata": {
  "kernelspec": {
   "display_name": "Python 3",
   "language": "python",
   "name": "python3"
  },
  "language_info": {
   "codemirror_mode": {
    "name": "ipython",
    "version": 3
   },
   "file_extension": ".py",
   "mimetype": "text/x-python",
   "name": "python",
   "nbconvert_exporter": "python",
   "pygments_lexer": "ipython3",
   "version": "3.6.6"
  }
 },
 "nbformat": 4,
 "nbformat_minor": 2
}
