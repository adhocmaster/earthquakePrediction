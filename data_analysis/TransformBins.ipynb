{
 "cells": [
  {
   "cell_type": "code",
   "execution_count": 1,
   "metadata": {},
   "outputs": [
    {
     "name": "stdout",
     "output_type": "stream",
     "text": [
      "Using matplotlib backend: Qt5Agg\n"
     ]
    }
   ],
   "source": [
    "import numpy as np\n",
    "import pandas as pd\n",
    "pd.set_option(\"display.precision\", 20)\n",
    "import logging, sys, math\n",
    "from importlib import reload\n",
    "import matplotlib.pyplot as plt\n",
    "%matplotlib auto\n",
    "import seaborn as sns\n",
    "sns.set(style=\"darkgrid\")\n"
   ]
  },
  {
   "cell_type": "code",
   "execution_count": 2,
   "metadata": {},
   "outputs": [
    {
     "name": "stderr",
     "output_type": "stream",
     "text": [
      "WARNING:root:Bin loaded\n",
      "WARNING:root:BinTransformer loaded\n"
     ]
    }
   ],
   "source": [
    "if sys.modules.get( 'library', False ) != False :\n",
    "    del sys.modules['library'] \n",
    "    \n",
    "if sys.modules.get( 'library.Bin', False ) != False :\n",
    "    del sys.modules['library.Bin'] \n",
    "if sys.modules.get( 'Bin', False ) != False :\n",
    "    del sys.modules['Bin'] \n",
    "from library.Bin import *  \n",
    "logging.warning( \"Bin loaded\" )\n",
    "\n",
    "if sys.modules.get( 'library.BinTransformer', False ) != False :\n",
    "    del sys.modules['library.BinTransformer'] \n",
    "if sys.modules.get( 'BinTransformer', False ) != False :\n",
    "    del sys.modules['BinTransformer'] \n",
    "from library.BinTransformer import *\n",
    "\n",
    "logging.warning( \"BinTransformer loaded\" )\n",
    "\n",
    "binTransformer = BinTransformer()"
   ]
  },
  {
   "cell_type": "code",
   "execution_count": 3,
   "metadata": {},
   "outputs": [
    {
     "name": "stdout",
     "output_type": "stream",
     "text": [
      "processed 2000th positive bin\n",
      "processed 4000th positive bin\n",
      "processed 6000th positive bin\n",
      "processed 8000th positive bin\n",
      "processed 10000th positive bin\n",
      "processed 12000th positive bin\n",
      "processed 14000th positive bin\n",
      "processed 16000th positive bin\n",
      "processed 18000th positive bin\n",
      "processed 20000th positive bin\n",
      "processed 22000th positive bin\n",
      "processed 24000th positive bin\n",
      "processed 26000th positive bin\n",
      "processed 28000th positive bin\n",
      "processed 30000th positive bin\n",
      "processed 32000th positive bin\n",
      "processed 34000th positive bin\n",
      "processed 36000th positive bin\n",
      "processed 38000th positive bin\n",
      "processed 40000th positive bin\n",
      "processed 42000th positive bin\n",
      "processed 44000th positive bin\n",
      "processed 46000th positive bin\n",
      "processed 48000th positive bin\n",
      "processed 50000th positive bin\n",
      "processed 52000th positive bin\n",
      "processed 54000th positive bin\n",
      "processed 56000th positive bin\n",
      "processed 58000th positive bin\n",
      "processed 60000th positive bin\n",
      "processed 62000th positive bin\n",
      "processed 64000th positive bin\n",
      "processed 66000th positive bin\n",
      "processed 68000th positive bin\n",
      "processed 70000th positive bin\n",
      "processed 72000th positive bin\n",
      "processed 74000th positive bin\n",
      "processed 76000th positive bin\n",
      "processed 78000th positive bin\n",
      "processed 80000th positive bin\n",
      "processed 82000th positive bin\n",
      "processed 84000th positive bin\n",
      "processed 86000th positive bin\n",
      "processed 88000th positive bin\n",
      "processed 90000th positive bin\n",
      "processed 92000th positive bin\n",
      "processed 94000th positive bin\n",
      "processed 96000th positive bin\n",
      "processed 98000th positive bin\n",
      "processed 100000th positive bin\n",
      "processed 102000th positive bin\n",
      "processed 104000th positive bin\n",
      "processed 106000th positive bin\n",
      "processed 108000th positive bin\n",
      "processed 110000th positive bin\n",
      "processed 112000th positive bin\n",
      "processed 114000th positive bin\n",
      "processed 116000th positive bin\n",
      "processed 118000th positive bin\n",
      "processed 120000th positive bin\n",
      "processed 122000th positive bin\n",
      "processed 124000th positive bin\n",
      "processed 126000th positive bin\n",
      "processed 128000th positive bin\n",
      "processed 130000th positive bin\n",
      "processed 132000th positive bin\n",
      "processed 134000th positive bin\n",
      "processed 136000th positive bin\n",
      "processed 138000th positive bin\n",
      "processed 140000th positive bin\n",
      "processed 142000th positive bin\n",
      "processed 144000th positive bin\n",
      "processed 146000th positive bin\n",
      "processed 148000th positive bin\n",
      "processed 150000th positive bin\n",
      "processed 152000th positive bin\n"
     ]
    }
   ],
   "source": [
    "binTransformer.createPositiveBins()"
   ]
  },
  {
   "cell_type": "code",
   "execution_count": 6,
   "metadata": {},
   "outputs": [],
   "source": [
    "b = binTransformer.readPositiveBinById(3)"
   ]
  },
  {
   "cell_type": "code",
   "execution_count": 7,
   "metadata": {},
   "outputs": [
    {
     "data": {
      "text/plain": [
       "Bin(binId=3, ttf=1.4669954798, data=array([ 2,  4,  1, ...,  3,  3, 10], dtype=int16), quakeIndex=-1, trIndexStart=8191)"
      ]
     },
     "execution_count": 7,
     "metadata": {},
     "output_type": "execute_result"
    }
   ],
   "source": [
    "b"
   ]
  },
  {
   "cell_type": "code",
   "execution_count": 26,
   "metadata": {},
   "outputs": [],
   "source": [
    "dim=(2,2)"
   ]
  },
  {
   "cell_type": "code",
   "execution_count": null,
   "metadata": {},
   "outputs": [],
   "source": []
  },
  {
   "cell_type": "code",
   "execution_count": 32,
   "metadata": {},
   "outputs": [],
   "source": [
    "X = np.empty((32, *dim, 1))"
   ]
  },
  {
   "cell_type": "code",
   "execution_count": 28,
   "metadata": {},
   "outputs": [
    {
     "data": {
      "text/plain": [
       "(32, 2, 2, 1)"
      ]
     },
     "execution_count": 28,
     "metadata": {},
     "output_type": "execute_result"
    }
   ],
   "source": [
    "X.shape"
   ]
  },
  {
   "cell_type": "code",
   "execution_count": 37,
   "metadata": {},
   "outputs": [],
   "source": [
    "x = np.array([[[1],[2]], \n",
    "                  [[1],[2]]])"
   ]
  },
  {
   "cell_type": "code",
   "execution_count": 43,
   "metadata": {},
   "outputs": [
    {
     "data": {
      "text/plain": [
       "array([[[1.],\n",
       "        [2.]],\n",
       "\n",
       "       [[1.],\n",
       "        [2.]]])"
      ]
     },
     "execution_count": 43,
     "metadata": {},
     "output_type": "execute_result"
    }
   ],
   "source": [
    "X[1]"
   ]
  },
  {
   "cell_type": "code",
   "execution_count": 38,
   "metadata": {},
   "outputs": [
    {
     "data": {
      "text/plain": [
       "array([[[1],\n",
       "        [2]],\n",
       "\n",
       "       [[1],\n",
       "        [2]]])"
      ]
     },
     "execution_count": 38,
     "metadata": {},
     "output_type": "execute_result"
    }
   ],
   "source": [
    "x"
   ]
  },
  {
   "cell_type": "code",
   "execution_count": 42,
   "metadata": {},
   "outputs": [],
   "source": [
    "X[1,] = x"
   ]
  },
  {
   "cell_type": "code",
   "execution_count": null,
   "metadata": {},
   "outputs": [],
   "source": []
  }
 ],
 "metadata": {
  "kernelspec": {
   "display_name": "Python 3",
   "language": "python",
   "name": "python3"
  },
  "language_info": {
   "codemirror_mode": {
    "name": "ipython",
    "version": 3
   },
   "file_extension": ".py",
   "mimetype": "text/x-python",
   "name": "python",
   "nbconvert_exporter": "python",
   "pygments_lexer": "ipython3",
   "version": "3.6.3"
  }
 },
 "nbformat": 4,
 "nbformat_minor": 2
}
