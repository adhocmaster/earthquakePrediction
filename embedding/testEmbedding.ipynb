{
 "cells": [
  {
   "cell_type": "code",
   "execution_count": 4,
   "metadata": {},
   "outputs": [],
   "source": [
    "import logging, sys, math\n",
    "import logging, sys, math,os\n",
    "\n",
    "currentFolder = os.path.abspath('')\n",
    "try:\n",
    "    sys.path.remove(str(currentFolder))\n",
    "except ValueError: # Already removed\n",
    "    pass\n",
    "\n",
    "projectFolder = '/home/exx/muktadir/earthquakePrediction/'\n",
    "projectFolder = 'F:/myProjects/tfKeras/UCSC/CMPS242/earthquake/'\n",
    "sys.path.append(str(projectFolder))"
   ]
  },
  {
   "cell_type": "code",
   "execution_count": 21,
   "metadata": {},
   "outputs": [
    {
     "name": "stderr",
     "output_type": "stream",
     "text": [
      "WARNING:root:BinEmbedding loaded\n"
     ]
    }
   ],
   "source": [
    "if sys.modules.get( 'embedding', False ) != False :\n",
    "    del sys.modules['embedding'] \n",
    "if sys.modules.get( 'embedding.BinEmbedding', False ) != False :\n",
    "    del sys.modules['embedding.BinEmbedding'] \n",
    "from embedding.BinEmbedding import *\n",
    "\n",
    "logging.warning( \"BinEmbedding loaded\" )\n",
    "\n",
    "binEmbedding = BinEmbedding(4096)"
   ]
  },
  {
   "cell_type": "code",
   "execution_count": 13,
   "metadata": {},
   "outputs": [
    {
     "name": "stderr",
     "output_type": "stream",
     "text": [
      "WARNING:root:BinIO loaded\n"
     ]
    }
   ],
   "source": [
    "\n",
    "if sys.modules.get( 'data_analysis.library.BinIO', False ) != False :\n",
    "    del sys.modules['data_analysis.library.BinIO'] \n",
    "if sys.modules.get( 'BinIO', False ) != False :\n",
    "    del sys.modules['BinIO'] \n",
    "from data_analysis.library.BinIO import *\n",
    "\n",
    "logging.warning( \"BinIO loaded\" )\n",
    "\n",
    "binIO = BinIO()"
   ]
  },
  {
   "cell_type": "code",
   "execution_count": 14,
   "metadata": {},
   "outputs": [],
   "source": [
    "aBin = binIO.readBinById(1, 'nor')"
   ]
  },
  {
   "cell_type": "code",
   "execution_count": 15,
   "metadata": {},
   "outputs": [],
   "source": [
    "x = binEmbedding.fromBin(aBin)"
   ]
  },
  {
   "cell_type": "code",
   "execution_count": 16,
   "metadata": {},
   "outputs": [
    {
     "data": {
      "text/plain": [
       "4095"
      ]
     },
     "execution_count": 16,
     "metadata": {},
     "output_type": "execute_result"
    }
   ],
   "source": [
    "len(aBin.data)"
   ]
  },
  {
   "cell_type": "code",
   "execution_count": 10,
   "metadata": {},
   "outputs": [
    {
     "data": {
      "text/plain": [
       "64"
      ]
     },
     "execution_count": 10,
     "metadata": {},
     "output_type": "execute_result"
    }
   ],
   "source": [
    "len(x)"
   ]
  },
  {
   "cell_type": "code",
   "execution_count": 11,
   "metadata": {},
   "outputs": [
    {
     "data": {
      "text/plain": [
       "(64, 64, 1)"
      ]
     },
     "execution_count": 11,
     "metadata": {},
     "output_type": "execute_result"
    }
   ],
   "source": [
    "x.shape"
   ]
  },
  {
   "cell_type": "code",
   "execution_count": null,
   "metadata": {},
   "outputs": [],
   "source": []
  }
 ],
 "metadata": {
  "kernelspec": {
   "display_name": "Python 3",
   "language": "python",
   "name": "python3"
  },
  "language_info": {
   "codemirror_mode": {
    "name": "ipython",
    "version": 3
   },
   "file_extension": ".py",
   "mimetype": "text/x-python",
   "name": "python",
   "nbconvert_exporter": "python",
   "pygments_lexer": "ipython3",
   "version": "3.6.6"
  }
 },
 "nbformat": 4,
 "nbformat_minor": 2
}
