{
 "cells": [
  {
   "cell_type": "code",
   "execution_count": 1,
   "metadata": {},
   "outputs": [
    {
     "name": "stdout",
     "output_type": "stream",
     "text": [
      "current working dirF:\\myProjects\\tfKeras\\UCSC\\CMPS242\\earthquake\n"
     ]
    }
   ],
   "source": [
    "exec(open(\"inc_notebook.py\").read())"
   ]
  },
  {
   "cell_type": "code",
   "execution_count": 2,
   "metadata": {},
   "outputs": [
    {
     "name": "stderr",
     "output_type": "stream",
     "text": [
      "Using TensorFlow backend.\n",
      "WARNING:root:Limiting GPU to 0.8. Increase it in initKeras.py. Next is available GPUs\n",
      "WARNING:root:['/job:localhost/replica:0/task:0/device:GPU:0']\n"
     ]
    }
   ],
   "source": [
    "import logging, sys, math,os\n",
    "exec(open(\"./estimator/initKeras.py\").read())\n"
   ]
  },
  {
   "cell_type": "code",
   "execution_count": 3,
   "metadata": {},
   "outputs": [
    {
     "name": "stderr",
     "output_type": "stream",
     "text": [
      "WARNING:root:MultipleBinDataGenerator loaded\n",
      "D:\\ProgramData\\Anaconda3\\envs\\tf\\lib\\site-packages\\sklearn\\base.py:251: UserWarning: Trying to unpickle estimator RobustScaler from version 0.20.2 when using version 0.20.0. This might lead to breaking code or invalid results. Use at your own risk.\n",
      "  UserWarning)\n",
      "WARNING:root:shuffling: False\n"
     ]
    }
   ],
   "source": [
    "if sys.modules.get( 'library.MultipleBinDataGenerator', False ) != False :\n",
    "    del sys.modules['library.MultipleBinDataGenerator'] \n",
    "if sys.modules.get( 'MultipleBinDataGenerator', False ) != False :\n",
    "    del sys.modules['MultipleBinDataGenerator'] \n",
    "from library.MultipleBinDataGenerator import *\n",
    "\n",
    "logging.warning( \"MultipleBinDataGenerator loaded\" )\n",
    "\n",
    "trainGenerator = MultipleBinDataGenerator(batch_size=16, windowSize = 36, stride = 6)"
   ]
  },
  {
   "cell_type": "code",
   "execution_count": 14,
   "metadata": {},
   "outputs": [
    {
     "name": "stderr",
     "output_type": "stream",
     "text": [
      "WARNING:root:Batch bin exception. Might be safe to continue. [Errno 2] No such file or directory: 'C:/earthquake/pos-bins/pos_bin_153585.dill'\n",
      "WARNING:root:Batch bin exception. Might be safe to continue. [Errno 2] No such file or directory: 'C:/earthquake/pos-bins/pos_bin_153586.dill'\n",
      "WARNING:root:Batch bin exception. Might be safe to continue. [Errno 2] No such file or directory: 'C:/earthquake/pos-bins/pos_bin_153587.dill'\n",
      "WARNING:root:Batch bin exception. Might be safe to continue. [Errno 2] No such file or directory: 'C:/earthquake/pos-bins/pos_bin_153588.dill'\n",
      "WARNING:root:Batch bin exception. Might be safe to continue. [Errno 2] No such file or directory: 'C:/earthquake/pos-bins/pos_bin_153585.dill'\n",
      "WARNING:root:Batch bin exception. Might be safe to continue. [Errno 2] No such file or directory: 'C:/earthquake/pos-bins/pos_bin_153586.dill'\n",
      "WARNING:root:Batch bin exception. Might be safe to continue. [Errno 2] No such file or directory: 'C:/earthquake/pos-bins/pos_bin_153587.dill'\n",
      "WARNING:root:Batch bin exception. Might be safe to continue. [Errno 2] No such file or directory: 'C:/earthquake/pos-bins/pos_bin_153588.dill'\n",
      "WARNING:root:Batch bin exception. Might be safe to continue. [Errno 2] No such file or directory: 'C:/earthquake/pos-bins/pos_bin_153589.dill'\n",
      "WARNING:root:Batch bin exception. Might be safe to continue. [Errno 2] No such file or directory: 'C:/earthquake/pos-bins/pos_bin_153590.dill'\n",
      "WARNING:root:Batch bin exception. Might be safe to continue. [Errno 2] No such file or directory: 'C:/earthquake/pos-bins/pos_bin_153591.dill'\n",
      "WARNING:root:Batch bin exception. Might be safe to continue. [Errno 2] No such file or directory: 'C:/earthquake/pos-bins/pos_bin_153592.dill'\n",
      "WARNING:root:Batch bin exception. Might be safe to continue. [Errno 2] No such file or directory: 'C:/earthquake/pos-bins/pos_bin_153593.dill'\n",
      "WARNING:root:Batch bin exception. Might be safe to continue. [Errno 2] No such file or directory: 'C:/earthquake/pos-bins/pos_bin_153594.dill'\n",
      "WARNING:root:Batch bin exception. Might be safe to continue. [Errno 2] No such file or directory: 'C:/earthquake/pos-bins/pos_bin_153585.dill'\n",
      "WARNING:root:Batch bin exception. Might be safe to continue. [Errno 2] No such file or directory: 'C:/earthquake/pos-bins/pos_bin_153586.dill'\n",
      "WARNING:root:Batch bin exception. Might be safe to continue. [Errno 2] No such file or directory: 'C:/earthquake/pos-bins/pos_bin_153587.dill'\n",
      "WARNING:root:Batch bin exception. Might be safe to continue. [Errno 2] No such file or directory: 'C:/earthquake/pos-bins/pos_bin_153588.dill'\n",
      "WARNING:root:Batch bin exception. Might be safe to continue. [Errno 2] No such file or directory: 'C:/earthquake/pos-bins/pos_bin_153589.dill'\n",
      "WARNING:root:Batch bin exception. Might be safe to continue. [Errno 2] No such file or directory: 'C:/earthquake/pos-bins/pos_bin_153590.dill'\n",
      "WARNING:root:Batch bin exception. Might be safe to continue. [Errno 2] No such file or directory: 'C:/earthquake/pos-bins/pos_bin_153591.dill'\n",
      "WARNING:root:Batch bin exception. Might be safe to continue. [Errno 2] No such file or directory: 'C:/earthquake/pos-bins/pos_bin_153592.dill'\n",
      "WARNING:root:Batch bin exception. Might be safe to continue. [Errno 2] No such file or directory: 'C:/earthquake/pos-bins/pos_bin_153593.dill'\n",
      "WARNING:root:Batch bin exception. Might be safe to continue. [Errno 2] No such file or directory: 'C:/earthquake/pos-bins/pos_bin_153594.dill'\n",
      "WARNING:root:Batch bin exception. Might be safe to continue. [Errno 2] No such file or directory: 'C:/earthquake/pos-bins/pos_bin_153595.dill'\n",
      "WARNING:root:Batch bin exception. Might be safe to continue. [Errno 2] No such file or directory: 'C:/earthquake/pos-bins/pos_bin_153596.dill'\n",
      "WARNING:root:Batch bin exception. Might be safe to continue. [Errno 2] No such file or directory: 'C:/earthquake/pos-bins/pos_bin_153597.dill'\n",
      "WARNING:root:Batch bin exception. Might be safe to continue. [Errno 2] No such file or directory: 'C:/earthquake/pos-bins/pos_bin_153598.dill'\n",
      "WARNING:root:Batch bin exception. Might be safe to continue. [Errno 2] No such file or directory: 'C:/earthquake/pos-bins/pos_bin_153599.dill'\n",
      "WARNING:root:Batch bin exception. Might be safe to continue. [Errno 2] No such file or directory: 'C:/earthquake/pos-bins/pos_bin_153600.dill'\n",
      "WARNING:root:Batch bin exception. Might be safe to continue. [Errno 2] No such file or directory: 'C:/earthquake/pos-bins/pos_bin_153585.dill'\n",
      "WARNING:root:Batch bin exception. Might be safe to continue. [Errno 2] No such file or directory: 'C:/earthquake/pos-bins/pos_bin_153586.dill'\n",
      "WARNING:root:Batch bin exception. Might be safe to continue. [Errno 2] No such file or directory: 'C:/earthquake/pos-bins/pos_bin_153587.dill'\n",
      "WARNING:root:Batch bin exception. Might be safe to continue. [Errno 2] No such file or directory: 'C:/earthquake/pos-bins/pos_bin_153588.dill'\n",
      "WARNING:root:Batch bin exception. Might be safe to continue. [Errno 2] No such file or directory: 'C:/earthquake/pos-bins/pos_bin_153589.dill'\n",
      "WARNING:root:Batch bin exception. Might be safe to continue. [Errno 2] No such file or directory: 'C:/earthquake/pos-bins/pos_bin_153590.dill'\n",
      "WARNING:root:Batch bin exception. Might be safe to continue. [Errno 2] No such file or directory: 'C:/earthquake/pos-bins/pos_bin_153591.dill'\n",
      "WARNING:root:Batch bin exception. Might be safe to continue. [Errno 2] No such file or directory: 'C:/earthquake/pos-bins/pos_bin_153592.dill'\n",
      "WARNING:root:Batch bin exception. Might be safe to continue. [Errno 2] No such file or directory: 'C:/earthquake/pos-bins/pos_bin_153593.dill'\n",
      "WARNING:root:Batch bin exception. Might be safe to continue. [Errno 2] No such file or directory: 'C:/earthquake/pos-bins/pos_bin_153594.dill'\n",
      "WARNING:root:Batch bin exception. Might be safe to continue. [Errno 2] No such file or directory: 'C:/earthquake/pos-bins/pos_bin_153595.dill'\n",
      "WARNING:root:Batch bin exception. Might be safe to continue. [Errno 2] No such file or directory: 'C:/earthquake/pos-bins/pos_bin_153596.dill'\n",
      "WARNING:root:Batch bin exception. Might be safe to continue. [Errno 2] No such file or directory: 'C:/earthquake/pos-bins/pos_bin_153597.dill'\n",
      "WARNING:root:Batch bin exception. Might be safe to continue. [Errno 2] No such file or directory: 'C:/earthquake/pos-bins/pos_bin_153598.dill'\n",
      "WARNING:root:Batch bin exception. Might be safe to continue. [Errno 2] No such file or directory: 'C:/earthquake/pos-bins/pos_bin_153599.dill'\n",
      "WARNING:root:Batch bin exception. Might be safe to continue. [Errno 2] No such file or directory: 'C:/earthquake/pos-bins/pos_bin_153600.dill'\n",
      "WARNING:root:Batch bin exception. Might be safe to continue. [Errno 2] No such file or directory: 'C:/earthquake/pos-bins/pos_bin_153601.dill'\n",
      "WARNING:root:Batch bin exception. Might be safe to continue. [Errno 2] No such file or directory: 'C:/earthquake/pos-bins/pos_bin_153602.dill'\n",
      "WARNING:root:Batch bin exception. Might be safe to continue. [Errno 2] No such file or directory: 'C:/earthquake/pos-bins/pos_bin_153603.dill'\n",
      "WARNING:root:Batch bin exception. Might be safe to continue. [Errno 2] No such file or directory: 'C:/earthquake/pos-bins/pos_bin_153604.dill'\n",
      "WARNING:root:Batch bin exception. Might be safe to continue. [Errno 2] No such file or directory: 'C:/earthquake/pos-bins/pos_bin_153605.dill'\n",
      "WARNING:root:Batch bin exception. Might be safe to continue. [Errno 2] No such file or directory: 'C:/earthquake/pos-bins/pos_bin_153606.dill'\n",
      "WARNING:root:Batch bin exception. Might be safe to continue. [Errno 2] No such file or directory: 'C:/earthquake/pos-bins/pos_bin_153585.dill'\n",
      "WARNING:root:Batch bin exception. Might be safe to continue. [Errno 2] No such file or directory: 'C:/earthquake/pos-bins/pos_bin_153586.dill'\n",
      "WARNING:root:Batch bin exception. Might be safe to continue. [Errno 2] No such file or directory: 'C:/earthquake/pos-bins/pos_bin_153587.dill'\n",
      "WARNING:root:Batch bin exception. Might be safe to continue. [Errno 2] No such file or directory: 'C:/earthquake/pos-bins/pos_bin_153588.dill'\n",
      "WARNING:root:Batch bin exception. Might be safe to continue. [Errno 2] No such file or directory: 'C:/earthquake/pos-bins/pos_bin_153589.dill'\n",
      "WARNING:root:Batch bin exception. Might be safe to continue. [Errno 2] No such file or directory: 'C:/earthquake/pos-bins/pos_bin_153590.dill'\n"
     ]
    },
    {
     "name": "stderr",
     "output_type": "stream",
     "text": [
      "WARNING:root:Batch bin exception. Might be safe to continue. [Errno 2] No such file or directory: 'C:/earthquake/pos-bins/pos_bin_153591.dill'\n",
      "WARNING:root:Batch bin exception. Might be safe to continue. [Errno 2] No such file or directory: 'C:/earthquake/pos-bins/pos_bin_153592.dill'\n",
      "WARNING:root:Batch bin exception. Might be safe to continue. [Errno 2] No such file or directory: 'C:/earthquake/pos-bins/pos_bin_153593.dill'\n",
      "WARNING:root:Batch bin exception. Might be safe to continue. [Errno 2] No such file or directory: 'C:/earthquake/pos-bins/pos_bin_153594.dill'\n",
      "WARNING:root:Batch bin exception. Might be safe to continue. [Errno 2] No such file or directory: 'C:/earthquake/pos-bins/pos_bin_153595.dill'\n",
      "WARNING:root:Batch bin exception. Might be safe to continue. [Errno 2] No such file or directory: 'C:/earthquake/pos-bins/pos_bin_153596.dill'\n",
      "WARNING:root:Batch bin exception. Might be safe to continue. [Errno 2] No such file or directory: 'C:/earthquake/pos-bins/pos_bin_153597.dill'\n",
      "WARNING:root:Batch bin exception. Might be safe to continue. [Errno 2] No such file or directory: 'C:/earthquake/pos-bins/pos_bin_153598.dill'\n",
      "WARNING:root:Batch bin exception. Might be safe to continue. [Errno 2] No such file or directory: 'C:/earthquake/pos-bins/pos_bin_153599.dill'\n",
      "WARNING:root:Batch bin exception. Might be safe to continue. [Errno 2] No such file or directory: 'C:/earthquake/pos-bins/pos_bin_153600.dill'\n",
      "WARNING:root:Batch bin exception. Might be safe to continue. [Errno 2] No such file or directory: 'C:/earthquake/pos-bins/pos_bin_153601.dill'\n",
      "WARNING:root:Batch bin exception. Might be safe to continue. [Errno 2] No such file or directory: 'C:/earthquake/pos-bins/pos_bin_153602.dill'\n",
      "WARNING:root:Batch bin exception. Might be safe to continue. [Errno 2] No such file or directory: 'C:/earthquake/pos-bins/pos_bin_153603.dill'\n",
      "WARNING:root:Batch bin exception. Might be safe to continue. [Errno 2] No such file or directory: 'C:/earthquake/pos-bins/pos_bin_153604.dill'\n",
      "WARNING:root:Batch bin exception. Might be safe to continue. [Errno 2] No such file or directory: 'C:/earthquake/pos-bins/pos_bin_153605.dill'\n",
      "WARNING:root:Batch bin exception. Might be safe to continue. [Errno 2] No such file or directory: 'C:/earthquake/pos-bins/pos_bin_153606.dill'\n",
      "WARNING:root:Batch bin exception. Might be safe to continue. [Errno 2] No such file or directory: 'C:/earthquake/pos-bins/pos_bin_153607.dill'\n",
      "WARNING:root:Batch bin exception. Might be safe to continue. [Errno 2] No such file or directory: 'C:/earthquake/pos-bins/pos_bin_153608.dill'\n",
      "WARNING:root:Batch bin exception. Might be safe to continue. [Errno 2] No such file or directory: 'C:/earthquake/pos-bins/pos_bin_153609.dill'\n",
      "WARNING:root:Batch bin exception. Might be safe to continue. [Errno 2] No such file or directory: 'C:/earthquake/pos-bins/pos_bin_153610.dill'\n",
      "WARNING:root:Batch bin exception. Might be safe to continue. [Errno 2] No such file or directory: 'C:/earthquake/pos-bins/pos_bin_153611.dill'\n",
      "WARNING:root:Batch bin exception. Might be safe to continue. [Errno 2] No such file or directory: 'C:/earthquake/pos-bins/pos_bin_153612.dill'\n"
     ]
    }
   ],
   "source": [
    "trainGenerator.cacheEmbeddingByBatch( startEmbeddingId=1)"
   ]
  },
  {
   "cell_type": "code",
   "execution_count": 15,
   "metadata": {},
   "outputs": [],
   "source": [
    "X, y = trainGenerator.__getitem__(0)"
   ]
  },
  {
   "cell_type": "code",
   "execution_count": 16,
   "metadata": {},
   "outputs": [
    {
     "data": {
      "text/plain": [
       "(16, 275)"
      ]
     },
     "execution_count": 16,
     "metadata": {},
     "output_type": "execute_result"
    }
   ],
   "source": [
    "X.shape"
   ]
  },
  {
   "cell_type": "code",
   "execution_count": 17,
   "metadata": {},
   "outputs": [
    {
     "data": {
      "text/plain": [
       "(16,)"
      ]
     },
     "execution_count": 17,
     "metadata": {},
     "output_type": "execute_result"
    }
   ],
   "source": [
    "y.shape"
   ]
  },
  {
   "cell_type": "code",
   "execution_count": 18,
   "metadata": {},
   "outputs": [
    {
     "data": {
      "text/plain": [
       "0"
      ]
     },
     "execution_count": 18,
     "metadata": {},
     "output_type": "execute_result"
    }
   ],
   "source": [
    "nanIndices = np.isnan(X[1])\n",
    "np.sum(nanIndices == True)"
   ]
  },
  {
   "cell_type": "code",
   "execution_count": 19,
   "metadata": {},
   "outputs": [
    {
     "data": {
      "text/plain": [
       "(array([], dtype=int64),)"
      ]
     },
     "execution_count": 19,
     "metadata": {},
     "output_type": "execute_result"
    }
   ],
   "source": [
    "np.where(nanIndices)"
   ]
  },
  {
   "cell_type": "code",
   "execution_count": 20,
   "metadata": {},
   "outputs": [],
   "source": [
    "x = X[1][np.isnan(X[1])]"
   ]
  },
  {
   "cell_type": "code",
   "execution_count": 21,
   "metadata": {},
   "outputs": [
    {
     "data": {
      "text/plain": [
       "(0,)"
      ]
     },
     "execution_count": 21,
     "metadata": {},
     "output_type": "execute_result"
    }
   ],
   "source": [
    "x.shape"
   ]
  },
  {
   "cell_type": "code",
   "execution_count": null,
   "metadata": {},
   "outputs": [],
   "source": []
  },
  {
   "cell_type": "code",
   "execution_count": null,
   "metadata": {},
   "outputs": [],
   "source": []
  }
 ],
 "metadata": {
  "kernelspec": {
   "display_name": "Python 3",
   "language": "python",
   "name": "python3"
  },
  "language_info": {
   "codemirror_mode": {
    "name": "ipython",
    "version": 3
   },
   "file_extension": ".py",
   "mimetype": "text/x-python",
   "name": "python",
   "nbconvert_exporter": "python",
   "pygments_lexer": "ipython3",
   "version": "3.6.6"
  }
 },
 "nbformat": 4,
 "nbformat_minor": 2
}
