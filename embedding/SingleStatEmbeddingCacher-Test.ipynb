{
 "cells": [
  {
   "cell_type": "code",
   "execution_count": 1,
   "metadata": {},
   "outputs": [
    {
     "name": "stdout",
     "output_type": "stream",
     "text": [
      "current working dirF:\\myProjects\\tfKeras\\UCSC\\CMPS242\\earthquake\n"
     ]
    }
   ],
   "source": [
    "exec(open(\"inc_notebook.py\").read())"
   ]
  },
  {
   "cell_type": "code",
   "execution_count": 2,
   "metadata": {},
   "outputs": [
    {
     "name": "stderr",
     "output_type": "stream",
     "text": [
      "Using TensorFlow backend.\n",
      "WARNING:root:Limiting GPU to 0.8. Increase it in initKeras.py. Next is available GPUs\n",
      "WARNING:root:['/job:localhost/replica:0/task:0/device:GPU:0']\n"
     ]
    }
   ],
   "source": [
    "import logging, sys, math,os\n",
    "exec(open(\"./estimator/initKeras.py\").read())\n"
   ]
  },
  {
   "cell_type": "code",
   "execution_count": 27,
   "metadata": {},
   "outputs": [
    {
     "name": "stderr",
     "output_type": "stream",
     "text": [
      "WARNING:root:OneStatsGeneratorForTestPos loaded\n",
      "D:\\ProgramData\\Anaconda3\\envs\\tf\\lib\\site-packages\\sklearn\\base.py:251: UserWarning: Trying to unpickle estimator RobustScaler from version 0.20.2 when using version 0.20.0. This might lead to breaking code or invalid results. Use at your own risk.\n",
      "  UserWarning)\n"
     ]
    }
   ],
   "source": [
    "if sys.modules.get( 'library', False ) != False :\n",
    "    del sys.modules['library'] \n",
    "    \n",
    "if sys.modules.get( 'library.EmbeddingStatsGeneratorForTestPos', False ) != False :\n",
    "    del sys.modules['library.EmbeddingStatsGeneratorForTestPos'] \n",
    "if sys.modules.get( 'EmbeddingStatsGeneratorForTestPos', False ) != False :\n",
    "    del sys.modules['EmbeddingStatsGeneratorForTestPos'] \n",
    "from library.EmbeddingStatsGeneratorForTestPos import *  \n",
    "logging.warning( \"EmbeddingStatsGeneratorForTestPos loaded\" )\n",
    "\n",
    "generator = EmbeddingStatsGeneratorForTestPos(embeddingType = 'one-stats-test', binsPerEmbedding = 36)\n"
   ]
  },
  {
   "cell_type": "code",
   "execution_count": 28,
   "metadata": {},
   "outputs": [
    {
     "name": "stdout",
     "output_type": "stream",
     "text": [
      "processed 100 files\n",
      "generated 1300 embeddings\n",
      "processed 200 files\n",
      "generated 2600 embeddings\n",
      "processed 300 files\n",
      "generated 3900 embeddings\n",
      "processed 400 files\n",
      "generated 5200 embeddings\n",
      "processed 500 files\n",
      "generated 6500 embeddings\n",
      "processed 600 files\n",
      "generated 7800 embeddings\n",
      "processed 700 files\n",
      "generated 9100 embeddings\n",
      "processed 800 files\n",
      "generated 10400 embeddings\n",
      "processed 900 files\n",
      "generated 11700 embeddings\n",
      "processed 1000 files\n",
      "generated 13000 embeddings\n",
      "processed 1100 files\n",
      "generated 14300 embeddings\n",
      "processed 1200 files\n",
      "generated 15600 embeddings\n",
      "processed 1300 files\n",
      "generated 16900 embeddings\n",
      "processed 1400 files\n",
      "generated 18200 embeddings\n",
      "processed 1500 files\n",
      "generated 19500 embeddings\n",
      "processed 1600 files\n",
      "generated 20800 embeddings\n",
      "processed 1700 files\n",
      "generated 22100 embeddings\n",
      "processed 1800 files\n",
      "generated 23400 embeddings\n",
      "processed 1900 files\n",
      "generated 24700 embeddings\n",
      "processed 2000 files\n",
      "generated 26000 embeddings\n",
      "processed 2100 files\n",
      "generated 27300 embeddings\n",
      "processed 2200 files\n",
      "generated 28600 embeddings\n",
      "processed 2300 files\n",
      "generated 29900 embeddings\n",
      "processed 2400 files\n",
      "generated 31200 embeddings\n",
      "processed 2500 files\n",
      "generated 32500 embeddings\n",
      "processed 2600 files\n",
      "generated 33800 embeddings\n",
      "generated 34112 embeddings\n"
     ]
    }
   ],
   "source": [
    "#generator.createEmbeddingsFromPath('C:/earthquake/test/seg_00a37e.csv')\n",
    "generator.generateEmbeddings()"
   ]
  },
  {
   "cell_type": "code",
   "execution_count": 29,
   "metadata": {},
   "outputs": [
    {
     "data": {
      "text/plain": [
       "34112"
      ]
     },
     "execution_count": 29,
     "metadata": {},
     "output_type": "execute_result"
    }
   ],
   "source": [
    "generator.lastEmbeddingId"
   ]
  },
  {
   "cell_type": "code",
   "execution_count": null,
   "metadata": {},
   "outputs": [],
   "source": []
  }
 ],
 "metadata": {
  "kernelspec": {
   "display_name": "Python 3",
   "language": "python",
   "name": "python3"
  },
  "language_info": {
   "codemirror_mode": {
    "name": "ipython",
    "version": 3
   },
   "file_extension": ".py",
   "mimetype": "text/x-python",
   "name": "python",
   "nbconvert_exporter": "python",
   "pygments_lexer": "ipython3",
   "version": "3.6.6"
  }
 },
 "nbformat": 4,
 "nbformat_minor": 2
}
