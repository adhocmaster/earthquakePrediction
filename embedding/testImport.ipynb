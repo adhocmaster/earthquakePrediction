{
 "cells": [
  {
   "cell_type": "code",
   "execution_count": 4,
   "metadata": {},
   "outputs": [
    {
     "data": {
      "text/plain": [
       "\"\\n# fix import path\\nfrom pathlib import Path,os \\ncurrentFolder = os.path.abspath('')\\nfile = Path(currentFolder).resolve()\\nparent, root = file.parent, file.parents[1]\\nsys.path.append(str(parent))\\n\\n# Additionally remove the current file's directory from sys.path\\ntry:\\n    sys.path.remove(str(currentFolder))\\nexcept ValueError: # Already removed\\n    pass\\n\""
      ]
     },
     "execution_count": 4,
     "metadata": {},
     "output_type": "execute_result"
    }
   ],
   "source": [
    "import logging, sys, math,os\n",
    "\n",
    "currentFolder = os.path.abspath('')\n",
    "try:\n",
    "    sys.path.remove(str(currentFolder))\n",
    "except ValueError: # Already removed\n",
    "    pass\n",
    "\n",
    "projectFolder = '/home/exx/muktadir/earthquakePrediction/'\n",
    "sys.path.append(str(projectFolder))\n",
    "\n",
    "\"\"\"\n",
    "# fix import path\n",
    "from pathlib import Path,os \n",
    "currentFolder = os.path.abspath('')\n",
    "file = Path(currentFolder).resolve()\n",
    "parent, root = file.parent, file.parents[1]\n",
    "sys.path.append(str(parent))\n",
    "\n",
    "# Additionally remove the current file's directory from sys.path\n",
    "try:\n",
    "    sys.path.remove(str(currentFolder))\n",
    "except ValueError: # Already removed\n",
    "    pass\n",
    "\"\"\""
   ]
  },
  {
   "cell_type": "code",
   "execution_count": 5,
   "metadata": {},
   "outputs": [
    {
     "name": "stderr",
     "output_type": "stream",
     "text": [
      "WARNING:root:EarthQuakeDataGenerator loaded\n"
     ]
    }
   ],
   "source": [
    "if sys.modules.get( 'library', False ) != False :\n",
    "    del sys.modules['library'] \n",
    "if sys.modules.get( 'library.EarthQuakeDataGenerator', False ) != False :\n",
    "    del sys.modules['library.EarthQuakeDataGenerator'] \n",
    "if sys.modules.get( 'EarthQuakeDataGenerator', False ) != False :\n",
    "    del sys.modules['EarthQuakeDataGenerator'] \n",
    "from library.EarthQuakeDataGenerator import *  \n",
    "logging.warning( \"EarthQuakeDataGenerator loaded\" )"
   ]
  },
  {
   "cell_type": "code",
   "execution_count": null,
   "metadata": {},
   "outputs": [],
   "source": []
  }
 ],
 "metadata": {
  "kernelspec": {
   "display_name": "Python 3",
   "language": "python",
   "name": "python3"
  },
  "language_info": {
   "codemirror_mode": {
    "name": "ipython",
    "version": 3
   },
   "file_extension": ".py",
   "mimetype": "text/x-python",
   "name": "python",
   "nbconvert_exporter": "python",
   "pygments_lexer": "ipython3",
   "version": "3.6.6"
  }
 },
 "nbformat": 4,
 "nbformat_minor": 2
}
