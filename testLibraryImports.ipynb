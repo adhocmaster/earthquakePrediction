{
 "cells": [
  {
   "cell_type": "code",
   "execution_count": 2,
   "metadata": {},
   "outputs": [],
   "source": [
    "import logging, sys, math"
   ]
  },
  {
   "cell_type": "code",
   "execution_count": 4,
   "metadata": {},
   "outputs": [
    {
     "name": "stderr",
     "output_type": "stream",
     "text": [
      "Using TensorFlow backend.\n",
      "WARNING:root:EarthQuakeDataGenerator loaded\n",
      "WARNING:root:BinEmbedding loaded\n"
     ]
    }
   ],
   "source": [
    "if sys.modules.get( 'library', False ) != False :\n",
    "    del sys.modules['library'] \n",
    "if sys.modules.get( 'library.EarthQuakeDataGenerator', False ) != False :\n",
    "    del sys.modules['library.EarthQuakeDataGenerator'] \n",
    "if sys.modules.get( 'EarthQuakeDataGenerator', False ) != False :\n",
    "    del sys.modules['EarthQuakeDataGenerator'] \n",
    "from library.EarthQuakeDataGenerator import *  \n",
    "logging.warning( \"EarthQuakeDataGenerator loaded\" )\n",
    "\n",
    "if sys.modules.get( 'Embedding', False ) != False :\n",
    "    del sys.modules['Embedding'] \n",
    "if sys.modules.get( 'Embedding.BinEmbedding', False ) != False :\n",
    "    del sys.modules['Embedding.BinEmbedding'] \n",
    "if sys.modules.get( 'BinEmbedding', False ) != False :\n",
    "    del sys.modules['BinEmbedding'] \n",
    "from Embedding.BinEmbedding import *  \n",
    "logging.warning( \"BinEmbedding loaded\" )"
   ]
  },
  {
   "cell_type": "code",
   "execution_count": null,
   "metadata": {},
   "outputs": [],
   "source": []
  }
 ],
 "metadata": {
  "kernelspec": {
   "display_name": "Python 3",
   "language": "python",
   "name": "python3"
  },
  "language_info": {
   "codemirror_mode": {
    "name": "ipython",
    "version": 3
   },
   "file_extension": ".py",
   "mimetype": "text/x-python",
   "name": "python",
   "nbconvert_exporter": "python",
   "pygments_lexer": "ipython3",
   "version": "3.6.6"
  }
 },
 "nbformat": 4,
 "nbformat_minor": 2
}
